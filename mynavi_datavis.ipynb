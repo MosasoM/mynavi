{
 "cells": [
  {
   "cell_type": "code",
   "execution_count": 305,
   "metadata": {},
   "outputs": [],
   "source": [
    "import matplotlib.pyplot as plt\n",
    "import seaborn as sns\n",
    "import numpy as np\n",
    "import pandas as pd\n",
    "import numpy as np\n",
    "from scipy import stats as st\n",
    "import re\n",
    "from sklearn.preprocessing import OneHotEncoder\n",
    "from scipy.stats import probplot\n",
    "from scipy.stats import shapiro"
   ]
  },
  {
   "cell_type": "code",
   "execution_count": 2,
   "metadata": {},
   "outputs": [],
   "source": [
    "train = pd.read_csv(\"train.csv\")\n",
    "test = pd.read_csv(\"test.csv\")"
   ]
  },
  {
   "cell_type": "code",
   "execution_count": 8,
   "metadata": {},
   "outputs": [
    {
     "data": {
      "text/plain": [
       "Index(['id', '賃料', '所在地', 'アクセス', '間取り', '築年数', '方角', '面積', '所在階', 'バス・トイレ',\n",
       "       'キッチン', '放送・通信', '室内設備', '駐車場', '周辺環境', '建物構造', '契約期間'],\n",
       "      dtype='object')"
      ]
     },
     "execution_count": 8,
     "metadata": {},
     "output_type": "execute_result"
    }
   ],
   "source": [
    "train.columns"
   ]
  },
  {
   "cell_type": "code",
   "execution_count": 7,
   "metadata": {},
   "outputs": [
    {
     "data": {
      "text/html": [
       "<div>\n",
       "<style scoped>\n",
       "    .dataframe tbody tr th:only-of-type {\n",
       "        vertical-align: middle;\n",
       "    }\n",
       "\n",
       "    .dataframe tbody tr th {\n",
       "        vertical-align: top;\n",
       "    }\n",
       "\n",
       "    .dataframe thead th {\n",
       "        text-align: right;\n",
       "    }\n",
       "</style>\n",
       "<table border=\"1\" class=\"dataframe\">\n",
       "  <thead>\n",
       "    <tr style=\"text-align: right;\">\n",
       "      <th></th>\n",
       "      <th>id</th>\n",
       "      <th>賃料</th>\n",
       "    </tr>\n",
       "  </thead>\n",
       "  <tbody>\n",
       "    <tr>\n",
       "      <th>count</th>\n",
       "      <td>31470.000000</td>\n",
       "      <td>3.147000e+04</td>\n",
       "    </tr>\n",
       "    <tr>\n",
       "      <th>mean</th>\n",
       "      <td>15735.500000</td>\n",
       "      <td>1.182903e+05</td>\n",
       "    </tr>\n",
       "    <tr>\n",
       "      <th>std</th>\n",
       "      <td>9084.750822</td>\n",
       "      <td>7.374880e+04</td>\n",
       "    </tr>\n",
       "    <tr>\n",
       "      <th>min</th>\n",
       "      <td>1.000000</td>\n",
       "      <td>2.500000e+04</td>\n",
       "    </tr>\n",
       "    <tr>\n",
       "      <th>25%</th>\n",
       "      <td>7868.250000</td>\n",
       "      <td>7.600000e+04</td>\n",
       "    </tr>\n",
       "    <tr>\n",
       "      <th>50%</th>\n",
       "      <td>15735.500000</td>\n",
       "      <td>1.020000e+05</td>\n",
       "    </tr>\n",
       "    <tr>\n",
       "      <th>75%</th>\n",
       "      <td>23602.750000</td>\n",
       "      <td>1.360000e+05</td>\n",
       "    </tr>\n",
       "    <tr>\n",
       "      <th>max</th>\n",
       "      <td>31470.000000</td>\n",
       "      <td>2.500000e+06</td>\n",
       "    </tr>\n",
       "  </tbody>\n",
       "</table>\n",
       "</div>"
      ],
      "text/plain": [
       "                 id            賃料\n",
       "count  31470.000000  3.147000e+04\n",
       "mean   15735.500000  1.182903e+05\n",
       "std     9084.750822  7.374880e+04\n",
       "min        1.000000  2.500000e+04\n",
       "25%     7868.250000  7.600000e+04\n",
       "50%    15735.500000  1.020000e+05\n",
       "75%    23602.750000  1.360000e+05\n",
       "max    31470.000000  2.500000e+06"
      ]
     },
     "execution_count": 7,
     "metadata": {},
     "output_type": "execute_result"
    }
   ],
   "source": [
    "train.describe()"
   ]
  },
  {
   "cell_type": "code",
   "execution_count": 6,
   "metadata": {},
   "outputs": [
    {
     "data": {
      "text/html": [
       "<div>\n",
       "<style scoped>\n",
       "    .dataframe tbody tr th:only-of-type {\n",
       "        vertical-align: middle;\n",
       "    }\n",
       "\n",
       "    .dataframe tbody tr th {\n",
       "        vertical-align: top;\n",
       "    }\n",
       "\n",
       "    .dataframe thead th {\n",
       "        text-align: right;\n",
       "    }\n",
       "</style>\n",
       "<table border=\"1\" class=\"dataframe\">\n",
       "  <thead>\n",
       "    <tr style=\"text-align: right;\">\n",
       "      <th></th>\n",
       "      <th>id</th>\n",
       "      <th>賃料</th>\n",
       "      <th>所在地</th>\n",
       "      <th>アクセス</th>\n",
       "      <th>間取り</th>\n",
       "      <th>築年数</th>\n",
       "      <th>方角</th>\n",
       "      <th>面積</th>\n",
       "      <th>所在階</th>\n",
       "      <th>バス・トイレ</th>\n",
       "      <th>キッチン</th>\n",
       "      <th>放送・通信</th>\n",
       "      <th>室内設備</th>\n",
       "      <th>駐車場</th>\n",
       "      <th>周辺環境</th>\n",
       "      <th>建物構造</th>\n",
       "      <th>契約期間</th>\n",
       "    </tr>\n",
       "  </thead>\n",
       "  <tbody>\n",
       "    <tr>\n",
       "      <th>0</th>\n",
       "      <td>1</td>\n",
       "      <td>75000</td>\n",
       "      <td>東京都北区滝野川３丁目</td>\n",
       "      <td>都営三田線\\t西巣鴨駅\\t徒歩4分\\t\\t埼京線\\t板橋駅\\t徒歩14分\\t\\t都電荒川線\\...</td>\n",
       "      <td>1K</td>\n",
       "      <td>9年9ヶ月</td>\n",
       "      <td>南東</td>\n",
       "      <td>20.01m2</td>\n",
       "      <td>1階／12階建</td>\n",
       "      <td>専用バス／\\t専用トイレ／\\tバス・トイレ別／\\tシャワー／\\t浴室乾燥機\\t／\\t温水洗浄便座</td>\n",
       "      <td>ガスコンロ／\\tコンロ2口／\\tシステムキッチン\\t／\\t給湯</td>\n",
       "      <td>インターネット対応／\\tCATV／\\tCSアンテナ／\\tBSアンテナ</td>\n",
       "      <td>エアコン付\\tシューズボックス／\\tバルコニー／\\tフローリング／\\t室内洗濯機置場／\\t敷...</td>\n",
       "      <td>駐輪場\\t空有</td>\n",
       "      <td>【小学校】 495m\\t【大学】 461m\\t【小学校】 962m\\t【公園】 1103m\\...</td>\n",
       "      <td>RC（鉄筋コンクリート）</td>\n",
       "      <td>2年間</td>\n",
       "    </tr>\n",
       "    <tr>\n",
       "      <th>1</th>\n",
       "      <td>2</td>\n",
       "      <td>76000</td>\n",
       "      <td>東京都中央区月島３丁目</td>\n",
       "      <td>都営大江戸線\\t勝どき駅\\t徒歩5分\\t\\t有楽町線\\t月島駅\\t徒歩9分\\t\\t日比谷線\\...</td>\n",
       "      <td>1R</td>\n",
       "      <td>44年10ヶ月</td>\n",
       "      <td>NaN</td>\n",
       "      <td>16.5m2</td>\n",
       "      <td>5階／10階建</td>\n",
       "      <td>専用トイレ／\\tシャワー／\\t温水洗浄便座</td>\n",
       "      <td>ガスコンロ／\\tシステムキッチン\\t／\\t給湯</td>\n",
       "      <td>インターネット対応</td>\n",
       "      <td>エアコン付\\tシューズボックス／\\tバルコニー／\\tフローリング／\\t室内洗濯機置場／\\t敷...</td>\n",
       "      <td>駐輪場\\t空有\\t駐車場\\t無\\tバイク置き場\\t無</td>\n",
       "      <td>【スーパー】 1283m</td>\n",
       "      <td>鉄骨造</td>\n",
       "      <td>2年間</td>\n",
       "    </tr>\n",
       "    <tr>\n",
       "      <th>2</th>\n",
       "      <td>3</td>\n",
       "      <td>110000</td>\n",
       "      <td>東京都渋谷区笹塚２丁目</td>\n",
       "      <td>京王線\\t笹塚駅\\t徒歩6分\\t\\t京王線\\t代田橋駅\\t徒歩7分\\t\\t京王線\\t明大前駅...</td>\n",
       "      <td>1K</td>\n",
       "      <td>8年6ヶ月</td>\n",
       "      <td>南</td>\n",
       "      <td>22.05m2</td>\n",
       "      <td>12階／15階建</td>\n",
       "      <td>専用バス／\\t専用トイレ／\\tバス・トイレ別／\\tシャワー／\\t浴室乾燥機\\t／\\t温水洗浄...</td>\n",
       "      <td>ガスコンロ／\\tコンロ2口／\\tシステムキッチン\\t／\\t給湯</td>\n",
       "      <td>インターネット対応／\\t光ファイバー／\\tCSアンテナ／\\tBSアンテナ</td>\n",
       "      <td>エアコン付\\tウォークインクローゼット\\tシューズボックス／\\tバルコニー／\\tフローリング...</td>\n",
       "      <td>駐輪場\\t空有\\tバイク置き場\\t空有\\t駐車場\\t近隣\\t30,000円(税込)\\t距離100m</td>\n",
       "      <td>【スーパー】 89m\\t【コンビニ】 184m\\t【コンビニ】 392m\\t【スーパー】 492m</td>\n",
       "      <td>RC（鉄筋コンクリート）</td>\n",
       "      <td>2年間</td>\n",
       "    </tr>\n",
       "    <tr>\n",
       "      <th>3</th>\n",
       "      <td>4</td>\n",
       "      <td>150000</td>\n",
       "      <td>東京都杉並区高円寺南２丁目23-2</td>\n",
       "      <td>総武線・中央線（各停）\\t高円寺駅\\t徒歩9分\\t\\t丸ノ内線(池袋－荻窪)\\t新高円寺駅\\...</td>\n",
       "      <td>2LDK</td>\n",
       "      <td>29年4ヶ月</td>\n",
       "      <td>南</td>\n",
       "      <td>60.48m2</td>\n",
       "      <td>3階／4階建</td>\n",
       "      <td>専用バス／\\t専用トイレ／\\tバス・トイレ別／\\tシャワー／\\t温水洗浄便座／\\t洗面台独立</td>\n",
       "      <td>ガスコンロ／\\t給湯</td>\n",
       "      <td>インターネット対応／\\t光ファイバー</td>\n",
       "      <td>エアコン付\\tシューズボックス／\\tバルコニー／\\t2面採光／\\t室内洗濯機置場／\\tエレベ...</td>\n",
       "      <td>駐車場\\t無\\t駐輪場\\t無\\tバイク置き場\\t無</td>\n",
       "      <td>【スーパー】 225m\\t【スーパー】 448m\\t【スーパー】 619m\\t【スーパー】 ...</td>\n",
       "      <td>RC（鉄筋コンクリート）</td>\n",
       "      <td>2年間\\t※この物件は\\t定期借家\\tです。</td>\n",
       "    </tr>\n",
       "    <tr>\n",
       "      <th>4</th>\n",
       "      <td>5</td>\n",
       "      <td>74000</td>\n",
       "      <td>東京都葛飾区金町３丁目7-2</td>\n",
       "      <td>京成金町線\\t京成金町駅\\t徒歩5分\\t\\t常磐線\\t金町(東京都)駅\\t徒歩7分\\t\\t京...</td>\n",
       "      <td>2DK</td>\n",
       "      <td>31年7ヶ月</td>\n",
       "      <td>南</td>\n",
       "      <td>39.66m2</td>\n",
       "      <td>1階／2階建</td>\n",
       "      <td>専用バス／\\t専用トイレ／\\tバス・トイレ別／\\tシャワー／\\t追焚機能</td>\n",
       "      <td>給湯／\\t独立キッチン</td>\n",
       "      <td>NaN</td>\n",
       "      <td>バルコニー／\\tフローリング／\\t室内洗濯機置場\\t公営水道／\\t下水</td>\n",
       "      <td>駐車場\\t近隣\\t17,000円(税込)\\t距離300m\\t駐輪場\\t無\\tバイク置き場\\t無</td>\n",
       "      <td>【スーパー】 193m\\t【スーパー】 298m\\t【スーパー】 660m\\t【スーパー】 ...</td>\n",
       "      <td>木造</td>\n",
       "      <td>2年間</td>\n",
       "    </tr>\n",
       "  </tbody>\n",
       "</table>\n",
       "</div>"
      ],
      "text/plain": [
       "   id      賃料                所在地  \\\n",
       "0   1   75000        東京都北区滝野川３丁目   \n",
       "1   2   76000        東京都中央区月島３丁目   \n",
       "2   3  110000        東京都渋谷区笹塚２丁目   \n",
       "3   4  150000  東京都杉並区高円寺南２丁目23-2   \n",
       "4   5   74000     東京都葛飾区金町３丁目7-2   \n",
       "\n",
       "                                                アクセス   間取り      築年数   方角  \\\n",
       "0  都営三田線\\t西巣鴨駅\\t徒歩4分\\t\\t埼京線\\t板橋駅\\t徒歩14分\\t\\t都電荒川線\\...    1K    9年9ヶ月   南東   \n",
       "1  都営大江戸線\\t勝どき駅\\t徒歩5分\\t\\t有楽町線\\t月島駅\\t徒歩9分\\t\\t日比谷線\\...    1R  44年10ヶ月  NaN   \n",
       "2  京王線\\t笹塚駅\\t徒歩6分\\t\\t京王線\\t代田橋駅\\t徒歩7分\\t\\t京王線\\t明大前駅...    1K    8年6ヶ月    南   \n",
       "3  総武線・中央線（各停）\\t高円寺駅\\t徒歩9分\\t\\t丸ノ内線(池袋－荻窪)\\t新高円寺駅\\...  2LDK   29年4ヶ月    南   \n",
       "4  京成金町線\\t京成金町駅\\t徒歩5分\\t\\t常磐線\\t金町(東京都)駅\\t徒歩7分\\t\\t京...   2DK   31年7ヶ月    南   \n",
       "\n",
       "        面積       所在階                                             バス・トイレ  \\\n",
       "0  20.01m2   1階／12階建   専用バス／\\t専用トイレ／\\tバス・トイレ別／\\tシャワー／\\t浴室乾燥機\\t／\\t温水洗浄便座   \n",
       "1   16.5m2   5階／10階建                              専用トイレ／\\tシャワー／\\t温水洗浄便座   \n",
       "2  22.05m2  12階／15階建  専用バス／\\t専用トイレ／\\tバス・トイレ別／\\tシャワー／\\t浴室乾燥機\\t／\\t温水洗浄...   \n",
       "3  60.48m2    3階／4階建     専用バス／\\t専用トイレ／\\tバス・トイレ別／\\tシャワー／\\t温水洗浄便座／\\t洗面台独立   \n",
       "4  39.66m2    1階／2階建               専用バス／\\t専用トイレ／\\tバス・トイレ別／\\tシャワー／\\t追焚機能   \n",
       "\n",
       "                              キッチン                                 放送・通信  \\\n",
       "0  ガスコンロ／\\tコンロ2口／\\tシステムキッチン\\t／\\t給湯    インターネット対応／\\tCATV／\\tCSアンテナ／\\tBSアンテナ   \n",
       "1          ガスコンロ／\\tシステムキッチン\\t／\\t給湯                             インターネット対応   \n",
       "2  ガスコンロ／\\tコンロ2口／\\tシステムキッチン\\t／\\t給湯  インターネット対応／\\t光ファイバー／\\tCSアンテナ／\\tBSアンテナ   \n",
       "3                       ガスコンロ／\\t給湯                    インターネット対応／\\t光ファイバー   \n",
       "4                      給湯／\\t独立キッチン                                   NaN   \n",
       "\n",
       "                                                室内設備  \\\n",
       "0  エアコン付\\tシューズボックス／\\tバルコニー／\\tフローリング／\\t室内洗濯機置場／\\t敷...   \n",
       "1  エアコン付\\tシューズボックス／\\tバルコニー／\\tフローリング／\\t室内洗濯機置場／\\t敷...   \n",
       "2  エアコン付\\tウォークインクローゼット\\tシューズボックス／\\tバルコニー／\\tフローリング...   \n",
       "3  エアコン付\\tシューズボックス／\\tバルコニー／\\t2面採光／\\t室内洗濯機置場／\\tエレベ...   \n",
       "4                バルコニー／\\tフローリング／\\t室内洗濯機置場\\t公営水道／\\t下水   \n",
       "\n",
       "                                                 駐車場  \\\n",
       "0                                            駐輪場\\t空有   \n",
       "1                         駐輪場\\t空有\\t駐車場\\t無\\tバイク置き場\\t無   \n",
       "2  駐輪場\\t空有\\tバイク置き場\\t空有\\t駐車場\\t近隣\\t30,000円(税込)\\t距離100m   \n",
       "3                          駐車場\\t無\\t駐輪場\\t無\\tバイク置き場\\t無   \n",
       "4    駐車場\\t近隣\\t17,000円(税込)\\t距離300m\\t駐輪場\\t無\\tバイク置き場\\t無   \n",
       "\n",
       "                                                周辺環境          建物構造  \\\n",
       "0  【小学校】 495m\\t【大学】 461m\\t【小学校】 962m\\t【公園】 1103m\\...  RC（鉄筋コンクリート）   \n",
       "1                                       【スーパー】 1283m           鉄骨造   \n",
       "2  【スーパー】 89m\\t【コンビニ】 184m\\t【コンビニ】 392m\\t【スーパー】 492m  RC（鉄筋コンクリート）   \n",
       "3  【スーパー】 225m\\t【スーパー】 448m\\t【スーパー】 619m\\t【スーパー】 ...  RC（鉄筋コンクリート）   \n",
       "4  【スーパー】 193m\\t【スーパー】 298m\\t【スーパー】 660m\\t【スーパー】 ...            木造   \n",
       "\n",
       "                     契約期間  \n",
       "0                     2年間  \n",
       "1                     2年間  \n",
       "2                     2年間  \n",
       "3  2年間\\t※この物件は\\t定期借家\\tです。  \n",
       "4                     2年間  "
      ]
     },
     "execution_count": 6,
     "metadata": {},
     "output_type": "execute_result"
    }
   ],
   "source": [
    "train.head()"
   ]
  },
  {
   "cell_type": "code",
   "execution_count": 187,
   "metadata": {},
   "outputs": [
    {
     "data": {
      "text/plain": [
       "<re.Match object; span=(9, 13), match='徒歩5分'>"
      ]
     },
     "execution_count": 187,
     "metadata": {},
     "output_type": "execute_result"
    }
   ],
   "source": [
    "re.search(r\".+?線\",train[\"アクセス\"][0])\n",
    "re.search(r\"徒歩.+?分\",train[\"アクセス\"][1200])"
   ]
  },
  {
   "cell_type": "code",
   "execution_count": 189,
   "metadata": {},
   "outputs": [
    {
     "name": "stdout",
     "output_type": "stream",
     "text": [
      "31470\n"
     ]
    }
   ],
   "source": [
    "print(train[\"アクセス\"].str.contains(\"線\").count())"
   ]
  },
  {
   "cell_type": "code",
   "execution_count": 192,
   "metadata": {},
   "outputs": [
    {
     "name": "stdout",
     "output_type": "stream",
     "text": [
      "つくばエクスプレス\t八潮駅\t徒歩18分\t\tつくばエクスプレス\t六町駅\t徒歩31分\n",
      "つくばエクスプレス\t六町駅\t徒歩14分\n",
      "つくばエクスプレス\t六町駅\t徒歩9分\n",
      "つくばエクスプレス\t六町駅\t徒歩14分\n",
      "つくばエクスプレス\t八潮駅\t徒歩27分\n",
      "つくばエクスプレス\t八潮駅\t徒歩15分\n",
      "つくばエクスプレス\t六町駅\t徒歩13分\n",
      "つくばエクスプレス\t八潮駅\t徒歩15分\n",
      "ゆりかもめ\t芝浦ふ頭駅\t徒歩11分\n",
      "つくばエクスプレス\t八潮駅\t徒歩21分\n",
      "つくばエクスプレス\t八潮駅\t徒歩15分\n",
      "つくばエクスプレス\t六町駅\t徒歩17分\n",
      "つくばエクスプレス\t六町駅\t徒歩15分\n",
      "つくばエクスプレス\t六町駅\t徒歩11分\n",
      "つくばエクスプレス\t青井駅\t徒歩10分\t\tつくばエクスプレス\t六町駅\t徒歩14分\n",
      "つくばエクスプレス\t六町駅\t/バス(14分)樫の木公園前下車徒歩9分\n",
      "つくばエクスプレス\t八潮駅\t徒歩15分\n",
      "つくばエクスプレス\t六町駅\t徒歩12分\n",
      "つくばエクスプレス\t六町駅\t徒歩9分\n",
      "つくばエクスプレス\t六町駅\t徒歩16分\n",
      "つくばエクスプレス\t六町駅\t徒歩16分\t\tつくばエクスプレス\t青井駅\t徒歩19分\n",
      "つくばエクスプレス\t六町駅\t徒歩16分\n",
      "つくばエクスプレス\t六町駅\t徒歩7分\n",
      "つくばエクスプレス\t六町駅\t徒歩10分\n",
      "つくばエクスプレス\t六町駅\t徒歩8分\t\tつくばエクスプレス\t青井駅\t徒歩12分\n",
      "つくばエクスプレス\t六町駅\t徒歩15分\n",
      "つくばエクスプレス\t八潮駅\t徒歩15分\n",
      "つくばエクスプレス\t六町駅\t徒歩13分\t\tつくばエクスプレス\t青井駅\t徒歩29分\n",
      "つくばエクスプレス\t六町駅\t徒歩15分\n",
      "つくばエクスプレス\t六町駅\t徒歩20分\n",
      "つくばエクスプレス\t六町駅\t徒歩16分\n",
      "つくばエクスプレス\t六町駅\t徒歩10分\t\tつくばエクスプレス\t青井駅\t徒歩26分\n",
      "つくばエクスプレス\t六町駅\t徒歩20分\n",
      "つくばエクスプレス\t六町駅\t徒歩13分\t\tつくばエクスプレス\t青井駅\t徒歩29分\n",
      "つくばエクスプレス\t六町駅\t徒歩5分\n",
      "つくばエクスプレス\t六町駅\t徒歩14分\t\tつくばエクスプレス\t青井駅\t徒歩33分\t\tつくばエクスプレス\t八潮駅\t徒歩34分\n",
      "つくばエクスプレス\t六町駅\t徒歩14分\n",
      "つくばエクスプレス\t浅草(ＴＸ)駅\t徒歩10分\n",
      "つくばエクスプレス\t六町駅\t徒歩3分\t\tつくばエクスプレス\t青井駅\t徒歩17分\n",
      "つくばエクスプレス\t六町駅\t徒歩12分\n",
      "つくばエクスプレス\t六町駅\t徒歩15分\n",
      "つくばエクスプレス\t八潮駅\t徒歩15分\n",
      "つくばエクスプレス\t六町駅\t徒歩13分\t\tつくばエクスプレス\t青井駅\t徒歩29分\n",
      "つくばエクスプレス\t六町駅\t/バス(14分)樫の木公園前下車徒歩9分\n",
      "つくばエクスプレス\t六町駅\t/バス(5分)スポーツセンター前下車徒歩25分\n",
      "つくばエクスプレス\t八潮駅\t徒歩15分\n"
     ]
    }
   ],
   "source": [
    "for i in range(31470):\n",
    "    if not re.search(r\".+?(線|ライン|ライナー)\",train[\"アクセス\"][i]):\n",
    "        print(train[\"アクセス\"][i])"
   ]
  },
  {
   "cell_type": "code",
   "execution_count": 12,
   "metadata": {},
   "outputs": [
    {
     "name": "stdout",
     "output_type": "stream",
     "text": [
      "方角 2749\n",
      "バス・トイレ 329\n",
      "キッチン 621\n",
      "放送・通信 3440\n",
      "室内設備 82\n",
      "駐車場 5287\n",
      "周辺環境 9432\n",
      "契約期間 7120\n"
     ]
    }
   ],
   "source": [
    "for col in train.columns:\n",
    "    if train[col].isnull().sum() > 0:\n",
    "        print(col + \" \" + str(train[col].isnull().sum()))"
   ]
  },
  {
   "cell_type": "code",
   "execution_count": 13,
   "metadata": {},
   "outputs": [
    {
     "name": "stdout",
     "output_type": "stream",
     "text": [
      "31470\n"
     ]
    }
   ],
   "source": [
    "print(train[\"面積\"].str.contains(\"ms\").count())"
   ]
  },
  {
   "cell_type": "code",
   "execution_count": 14,
   "metadata": {},
   "outputs": [
    {
     "name": "stdout",
     "output_type": "stream",
     "text": [
      "31470\n"
     ]
    }
   ],
   "source": [
    "print(train[\"築年数\"].str.contains(\"月\").count())"
   ]
  },
  {
   "cell_type": "code",
   "execution_count": 360,
   "metadata": {},
   "outputs": [
    {
     "data": {
      "text/plain": [
       "建物構造\n",
       "ALC（軽量気泡コンクリート）                  297\n",
       "HPC（プレキャスト・コンクリート（重量鉄骨））           4\n",
       "PC（プレキャスト・コンクリート（鉄筋コンクリート））       46\n",
       "RC（鉄筋コンクリート）                   17505\n",
       "SRC（鉄骨鉄筋コンクリート）                 2429\n",
       "その他                              136\n",
       "ブロック                               3\n",
       "木造                              5512\n",
       "軽量鉄骨                            1812\n",
       "鉄骨造                             3726\n",
       "Name: id, dtype: int64"
      ]
     },
     "execution_count": 360,
     "metadata": {},
     "output_type": "execute_result"
    }
   ],
   "source": [
    "train.groupby(\"建物構造\").count()[\"id\"]"
   ]
  },
  {
   "cell_type": "code",
   "execution_count": 362,
   "metadata": {},
   "outputs": [
    {
     "data": {
      "text/plain": [
       "array(['RC（鉄筋コンクリート）', '鉄骨造', '木造', 'SRC（鉄骨鉄筋コンクリート）', '軽量鉄骨',\n",
       "       'ALC（軽量気泡コンクリート）', 'その他', 'PC（プレキャスト・コンクリート（鉄筋コンクリート））',\n",
       "       'HPC（プレキャスト・コンクリート（重量鉄骨））', 'ブロック'], dtype=object)"
      ]
     },
     "execution_count": 362,
     "metadata": {},
     "output_type": "execute_result"
    }
   ],
   "source": [
    "train[\"建物構造\"].unique()"
   ]
  },
  {
   "cell_type": "code",
   "execution_count": 389,
   "metadata": {},
   "outputs": [
    {
     "data": {
      "text/plain": [
       "array(['南東', nan, '南', '東', '北西', '西', '北', '南西', '北東'], dtype=object)"
      ]
     },
     "execution_count": 389,
     "metadata": {},
     "output_type": "execute_result"
    }
   ],
   "source": [
    "train[\"方角\"].unique()"
   ]
  },
  {
   "cell_type": "code",
   "execution_count": 392,
   "metadata": {},
   "outputs": [
    {
     "data": {
      "text/plain": [
       "方角\n",
       "北     1966\n",
       "北東    1321\n",
       "北西    1326\n",
       "南     8909\n",
       "南東    3098\n",
       "南西    3080\n",
       "東     4995\n",
       "西     4026\n",
       "Name: id, dtype: int64"
      ]
     },
     "execution_count": 392,
     "metadata": {},
     "output_type": "execute_result"
    }
   ],
   "source": [
    "train.groupby(\"方角\").count()[\"id\"]"
   ]
  },
  {
   "cell_type": "code",
   "execution_count": 393,
   "metadata": {},
   "outputs": [
    {
     "name": "stdout",
     "output_type": "stream",
     "text": [
      "{'北西': -3, '北東': -1, '北': -4, '南西': 1, '南東': 3, '南': 4, '西': -2, '東': 2, '': 0}\n"
     ]
    }
   ],
   "source": [
    "temp1 = {\"北\":-2,\"南\":2,\"\":0}\n",
    "temp2 = {\"西\":-1,\"東\":1,\"\":0}\n",
    "hoge = {}\n",
    "\n",
    "for key1 in temp1.keys():\n",
    "    for key2 in temp2.keys():\n",
    "        if key1 == \"\":\n",
    "            hoge[key2] = temp2[key2]*2\n",
    "        elif key2 == \"\":\n",
    "            hoge[key1] = temp1[key1]*2\n",
    "        else:\n",
    "            key = key1+key2\n",
    "            val = temp1[key1]+temp2[key2]\n",
    "            val = val\n",
    "            hoge[key] = val\n",
    "print(hoge)\n"
   ]
  },
  {
   "cell_type": "code",
   "execution_count": null,
   "metadata": {},
   "outputs": [],
   "source": [
    "{'ブロック':0, '木造':0, \n",
    " '軽量鉄骨':1,'鉄骨造':1,'ALC（軽量気泡コンクリート）':1,\n",
    " 'RC（鉄筋コンクリート）':2,'SRC（鉄骨鉄筋コンクリート）':2, 'その他':2,\n",
    " 'PC（プレキャスト・コンクリート（鉄筋コンクリート））':2,'HPC（プレキャスト・コンクリート（重量鉄骨））':2, }"
   ]
  },
  {
   "cell_type": "code",
   "execution_count": 48,
   "metadata": {},
   "outputs": [],
   "source": [
    "test = \"29年4ヶ月\"\n",
    "\n",
    "year = r\"[0-9]+年\"\n",
    "month = r\"[0-9]+ヶ月\""
   ]
  },
  {
   "cell_type": "code",
   "execution_count": 65,
   "metadata": {},
   "outputs": [
    {
     "name": "stdout",
     "output_type": "stream",
     "text": [
      "<re.Match object; span=(3, 6), match='4ヶ月'>\n",
      "4ヶ月\n"
     ]
    }
   ],
   "source": [
    "m = re.search(month,test)\n",
    "print(m)\n",
    "print(m[0])"
   ]
  },
  {
   "cell_type": "code",
   "execution_count": 74,
   "metadata": {},
   "outputs": [
    {
     "data": {
      "text/plain": [
       "id        31470\n",
       "賃料          871\n",
       "所在地       11333\n",
       "アクセス      24172\n",
       "間取り          30\n",
       "築年数         746\n",
       "方角            8\n",
       "面積         5739\n",
       "所在階        1032\n",
       "バス・トイレ      360\n",
       "キッチン        381\n",
       "放送・通信       139\n",
       "室内設備       6220\n",
       "駐車場        3911\n",
       "周辺環境      17864\n",
       "建物構造         10\n",
       "契約期間         66\n",
       "dtype: int64"
      ]
     },
     "execution_count": 74,
     "metadata": {},
     "output_type": "execute_result"
    }
   ],
   "source": [
    "train.nunique()"
   ]
  },
  {
   "cell_type": "code",
   "execution_count": 73,
   "metadata": {},
   "outputs": [
    {
     "name": "stdout",
     "output_type": "stream",
     "text": [
      "['1K' '1R' '2LDK' '2DK' '1DK' '1LDK' '3LDK' '3DK' '1LDK+S(納戸)' '4K' '2K'\n",
      " '1K+S(納戸)' '4LDK' '3LDK+S(納戸)' '5LDK+S(納戸)' '5LDK' '3K' '4DK'\n",
      " '2LDK+S(納戸)' '2DK+S(納戸)' '4LDK+S(納戸)' '5DK' '3DK+S(納戸)' '1DK+S(納戸)' '5K'\n",
      " '6LDK' '2K+S(納戸)' '1LK+S(納戸)' '5DK+S(納戸)' '3K+S(納戸)']\n"
     ]
    }
   ],
   "source": [
    "print(train[\"間取り\"].unique())"
   ]
  },
  {
   "cell_type": "code",
   "execution_count": 77,
   "metadata": {},
   "outputs": [],
   "source": [
    "temp = train[\"所在階\"][0]"
   ]
  },
  {
   "cell_type": "code",
   "execution_count": 179,
   "metadata": {},
   "outputs": [
    {
     "data": {
      "text/plain": [
       "array(['1階／12階建', '5階／10階建', '12階／15階建', '3階／4階建', '1階／2階建', '6階／12階建',\n",
       "       '6階／8階建', '1階／6階建', '4階／9階建', '2階／3階建', '6階／10階建', '3階／3階建',\n",
       "       '4階／11階建', '4階／5階建', '2階／5階建', '5階／11階建', '8階／12階建', '2階建',\n",
       "       '7階／10階建', '10階／42階建', '2階／4階建', '12階／12階建', '2階／2階建', '10階／10階建',\n",
       "       '1階／10階建', '4階／11階建（地下1階）', '3階／7階建', '4階／10階建', '8階／15階建',\n",
       "       '2階／7階建（地下1階）', '3階／5階建', '3階／4階建（地下2階）', '1階／3階建', '4階／4階建',\n",
       "       '7階／9階建', '11階／13階建', '4階／8階建', '6階／6階建', '1階／4階建', '11階／14階建',\n",
       "       '13階／15階建', '9階／12階建', '3階／6階建', '地下4階／5階建', '10階／11階建', '7階／11階建',\n",
       "       '2階／6階建', '5階／8階建', '6階／15階建', '／3階建', '5階／7階建', '8階／11階建',\n",
       "       '4階／14階建', '5階／9階建', '8階／19階建', '／8階建', '12階／19階建', '5階／15階建',\n",
       "       '3階／15階建', '3階／9階建', '1階／5階建', '7階／13階建', '9階／22階建', '9階／18階建',\n",
       "       '2階／8階建', '12階／14階建', '12階／13階建', '2階／7階建', '1階／8階建',\n",
       "       '2階／14階建（地下1階）', '5階／12階建（地下1階）', '3階建', '3階／13階建（地下2階）',\n",
       "       '9階／10階建', '4階／6階建', '4階／13階建', '9階／13階建', '2階／12階建',\n",
       "       '1階／3階建（地下1階）', '2階／11階建', '3階／14階建', '6階／15階建（地下1階）', '6階／14階建',\n",
       "       '4階／12階建', '3階／8階建', '5階／5階建', '14階／15階建', '10階／32階建（地下2階）',\n",
       "       '5階／6階建', '5階／16階建', '11階／12階建', '6階／9階建', '30階／58階建（地下2階）',\n",
       "       '7階／7階建', '30階／38階建（地下2階）', '19階／58階建（地下2階）', '15階／15階建',\n",
       "       '5階／14階建', '9階／11階建', '3階／12階建'], dtype=object)"
      ]
     },
     "execution_count": 179,
     "metadata": {},
     "output_type": "execute_result"
    }
   ],
   "source": [
    "train[\"所在階\"].unique()[:100]"
   ]
  },
  {
   "cell_type": "code",
   "execution_count": 367,
   "metadata": {},
   "outputs": [],
   "source": [
    "kai =[]\n",
    "takasa = []\n",
    "for txt in train[\"所在階\"].values:\n",
    "    try:\n",
    "        x,y = txt.split(\"／\")\n",
    "    except:\n",
    "        continue\n",
    "    try:\n",
    "        x = int(re.search(r\"[0-9]+\",x)[0])\n",
    "        y = int(re.search(r\"[0-9]+\",y)[0])\n",
    "    except:\n",
    "        continue\n",
    "    kai.append(x)\n",
    "    takasa.append(y)"
   ]
  },
  {
   "cell_type": "code",
   "execution_count": 378,
   "metadata": {},
   "outputs": [],
   "source": [
    "kai = pd.DataFrame(kai)\n",
    "kai.columns = [\"hoge\"]\n",
    "takasa = pd.DataFrame(takasa)\n",
    "takasa.columns = [\"hoge\"]"
   ]
  },
  {
   "cell_type": "code",
   "execution_count": 383,
   "metadata": {},
   "outputs": [
    {
     "data": {
      "text/plain": [
       "array([[<matplotlib.axes._subplots.AxesSubplot object at 0x142a7a850>]],\n",
       "      dtype=object)"
      ]
     },
     "execution_count": 383,
     "metadata": {},
     "output_type": "execute_result"
    },
    {
     "data": {
      "image/png": "[encoded data removed]",
      "text/plain": [
       "<Figure size 432x288 with 1 Axes>"
      ]
     },
     "metadata": {
      "needs_background": "light"
     },
     "output_type": "display_data"
    }
   ],
   "source": [
    "kai.hist(bins=20,range=(0,10))"
   ]
  },
  {
   "cell_type": "code",
   "execution_count": 388,
   "metadata": {},
   "outputs": [
    {
     "data": {
      "text/plain": [
       "array([[<matplotlib.axes._subplots.AxesSubplot object at 0x1400c0d10>]],\n",
       "      dtype=object)"
      ]
     },
     "execution_count": 388,
     "metadata": {},
     "output_type": "execute_result"
    },
    {
     "data": {
      "image/png": "[encoded data removed]",
      "text/plain": [
       "<Figure size 432x288 with 1 Axes>"
      ]
     },
     "metadata": {
      "needs_background": "light"
     },
     "output_type": "display_data"
    }
   ],
   "source": [
    "takasa.hist(bins=20,range=(0,10))"
   ]
  },
  {
   "cell_type": "code",
   "execution_count": 82,
   "metadata": {},
   "outputs": [
    {
     "name": "stdout",
     "output_type": "stream",
     "text": [
      "1階\n",
      "12階建\n"
     ]
    }
   ],
   "source": [
    "print(x)\n",
    "print(y)"
   ]
  },
  {
   "cell_type": "code",
   "execution_count": 89,
   "metadata": {},
   "outputs": [
    {
     "data": {
      "text/plain": [
       "31470"
      ]
     },
     "execution_count": 89,
     "metadata": {},
     "output_type": "execute_result"
    }
   ],
   "source": [
    "train[\"アクセス\"].str.contains(\"徒歩\").count()"
   ]
  },
  {
   "cell_type": "code",
   "execution_count": 103,
   "metadata": {},
   "outputs": [
    {
     "name": "stdout",
     "output_type": "stream",
     "text": [
      "都営三田線\t西巣鴨駅\t徒歩4分\t\t埼京線\t板橋駅\t徒歩14分\t\t都電荒川線\t西ケ原四丁目駅\t徒歩7分\n",
      "<re.Match object; span=(0, 37), match='都営三田線\\t西巣鴨駅\\t徒歩4分\\t\\t埼京線\\t板橋駅\\t徒歩14分\\t\\t都電荒川線'>\n",
      "<re.Match object; span=(11, 50), match='徒歩4分\\t\\t埼京線\\t板橋駅\\t徒歩14分\\t\\t都電荒川線\\t西ケ原四丁目駅\\t徒歩7分'>\n"
     ]
    }
   ],
   "source": [
    "p1 = \".+線.+駅.+分\"\n",
    "p2 = \".+線\"\n",
    "p3 = \"線.+駅\"\n",
    "p4 = \"徒歩.+分\"\n",
    "txt = train[\"アクセス\"][0]\n",
    "\n",
    "base = re.match(p1,txt)[0]\n",
    "print(base)\n",
    "print(re.match(p2,base))\n",
    "print(re.search(p4,base))"
   ]
  },
  {
   "cell_type": "code",
   "execution_count": 104,
   "metadata": {},
   "outputs": [
    {
     "name": "stdout",
     "output_type": "stream",
     "text": [
      "['京急本線', '梅屋敷(東京都)駅', '徒歩5分', '京急空港線', '京急蒲田駅', '徒歩13分', '京浜東北線', '蒲田駅', '徒歩19分']\n"
     ]
    }
   ],
   "source": [
    "print(train[\"アクセス\"][345].split())"
   ]
  },
  {
   "cell_type": "code",
   "execution_count": 88,
   "metadata": {},
   "outputs": [
    {
     "data": {
      "text/plain": [
       "'北'"
      ]
     },
     "execution_count": 88,
     "metadata": {},
     "output_type": "execute_result"
    }
   ],
   "source": [
    "m[0][3:-1]"
   ]
  },
  {
   "cell_type": "code",
   "execution_count": 95,
   "metadata": {},
   "outputs": [
    {
     "data": {
      "text/html": [
       "<div>\n",
       "<style scoped>\n",
       "    .dataframe tbody tr th:only-of-type {\n",
       "        vertical-align: middle;\n",
       "    }\n",
       "\n",
       "    .dataframe tbody tr th {\n",
       "        vertical-align: top;\n",
       "    }\n",
       "\n",
       "    .dataframe thead th {\n",
       "        text-align: right;\n",
       "    }\n",
       "</style>\n",
       "<table border=\"1\" class=\"dataframe\">\n",
       "  <thead>\n",
       "    <tr style=\"text-align: right;\">\n",
       "      <th></th>\n",
       "      <th>id</th>\n",
       "      <th>賃料</th>\n",
       "      <th>所在地</th>\n",
       "      <th>アクセス</th>\n",
       "      <th>間取り</th>\n",
       "      <th>築年数</th>\n",
       "      <th>面積</th>\n",
       "      <th>所在階</th>\n",
       "      <th>バス・トイレ</th>\n",
       "      <th>キッチン</th>\n",
       "      <th>放送・通信</th>\n",
       "      <th>室内設備</th>\n",
       "      <th>駐車場</th>\n",
       "      <th>周辺環境</th>\n",
       "      <th>建物構造</th>\n",
       "      <th>契約期間</th>\n",
       "    </tr>\n",
       "    <tr>\n",
       "      <th>方角</th>\n",
       "      <th></th>\n",
       "      <th></th>\n",
       "      <th></th>\n",
       "      <th></th>\n",
       "      <th></th>\n",
       "      <th></th>\n",
       "      <th></th>\n",
       "      <th></th>\n",
       "      <th></th>\n",
       "      <th></th>\n",
       "      <th></th>\n",
       "      <th></th>\n",
       "      <th></th>\n",
       "      <th></th>\n",
       "      <th></th>\n",
       "      <th></th>\n",
       "    </tr>\n",
       "  </thead>\n",
       "  <tbody>\n",
       "    <tr>\n",
       "      <th>北</th>\n",
       "      <td>1966</td>\n",
       "      <td>1966</td>\n",
       "      <td>1966</td>\n",
       "      <td>1966</td>\n",
       "      <td>1966</td>\n",
       "      <td>1966</td>\n",
       "      <td>1966</td>\n",
       "      <td>1966</td>\n",
       "      <td>1952</td>\n",
       "      <td>1930</td>\n",
       "      <td>1803</td>\n",
       "      <td>1961</td>\n",
       "      <td>1682</td>\n",
       "      <td>1393</td>\n",
       "      <td>1966</td>\n",
       "      <td>1548</td>\n",
       "    </tr>\n",
       "    <tr>\n",
       "      <th>北東</th>\n",
       "      <td>1321</td>\n",
       "      <td>1321</td>\n",
       "      <td>1321</td>\n",
       "      <td>1321</td>\n",
       "      <td>1321</td>\n",
       "      <td>1321</td>\n",
       "      <td>1321</td>\n",
       "      <td>1321</td>\n",
       "      <td>1310</td>\n",
       "      <td>1309</td>\n",
       "      <td>1223</td>\n",
       "      <td>1321</td>\n",
       "      <td>1118</td>\n",
       "      <td>980</td>\n",
       "      <td>1321</td>\n",
       "      <td>1031</td>\n",
       "    </tr>\n",
       "    <tr>\n",
       "      <th>北西</th>\n",
       "      <td>1326</td>\n",
       "      <td>1326</td>\n",
       "      <td>1326</td>\n",
       "      <td>1326</td>\n",
       "      <td>1326</td>\n",
       "      <td>1326</td>\n",
       "      <td>1326</td>\n",
       "      <td>1326</td>\n",
       "      <td>1323</td>\n",
       "      <td>1317</td>\n",
       "      <td>1228</td>\n",
       "      <td>1325</td>\n",
       "      <td>1122</td>\n",
       "      <td>917</td>\n",
       "      <td>1326</td>\n",
       "      <td>1041</td>\n",
       "    </tr>\n",
       "    <tr>\n",
       "      <th>南</th>\n",
       "      <td>8909</td>\n",
       "      <td>8909</td>\n",
       "      <td>8909</td>\n",
       "      <td>8909</td>\n",
       "      <td>8909</td>\n",
       "      <td>8909</td>\n",
       "      <td>8909</td>\n",
       "      <td>8909</td>\n",
       "      <td>8850</td>\n",
       "      <td>8770</td>\n",
       "      <td>7868</td>\n",
       "      <td>8886</td>\n",
       "      <td>7441</td>\n",
       "      <td>6252</td>\n",
       "      <td>8909</td>\n",
       "      <td>6902</td>\n",
       "    </tr>\n",
       "    <tr>\n",
       "      <th>南東</th>\n",
       "      <td>3098</td>\n",
       "      <td>3098</td>\n",
       "      <td>3098</td>\n",
       "      <td>3098</td>\n",
       "      <td>3098</td>\n",
       "      <td>3098</td>\n",
       "      <td>3098</td>\n",
       "      <td>3098</td>\n",
       "      <td>3070</td>\n",
       "      <td>3043</td>\n",
       "      <td>2766</td>\n",
       "      <td>3091</td>\n",
       "      <td>2628</td>\n",
       "      <td>2124</td>\n",
       "      <td>3098</td>\n",
       "      <td>2435</td>\n",
       "    </tr>\n",
       "    <tr>\n",
       "      <th>南西</th>\n",
       "      <td>3080</td>\n",
       "      <td>3080</td>\n",
       "      <td>3080</td>\n",
       "      <td>3080</td>\n",
       "      <td>3080</td>\n",
       "      <td>3080</td>\n",
       "      <td>3080</td>\n",
       "      <td>3080</td>\n",
       "      <td>3058</td>\n",
       "      <td>3022</td>\n",
       "      <td>2768</td>\n",
       "      <td>3075</td>\n",
       "      <td>2585</td>\n",
       "      <td>2191</td>\n",
       "      <td>3080</td>\n",
       "      <td>2407</td>\n",
       "    </tr>\n",
       "    <tr>\n",
       "      <th>東</th>\n",
       "      <td>4995</td>\n",
       "      <td>4995</td>\n",
       "      <td>4995</td>\n",
       "      <td>4995</td>\n",
       "      <td>4995</td>\n",
       "      <td>4995</td>\n",
       "      <td>4995</td>\n",
       "      <td>4995</td>\n",
       "      <td>4953</td>\n",
       "      <td>4927</td>\n",
       "      <td>4531</td>\n",
       "      <td>4989</td>\n",
       "      <td>4247</td>\n",
       "      <td>3608</td>\n",
       "      <td>4995</td>\n",
       "      <td>3952</td>\n",
       "    </tr>\n",
       "    <tr>\n",
       "      <th>西</th>\n",
       "      <td>4026</td>\n",
       "      <td>4026</td>\n",
       "      <td>4026</td>\n",
       "      <td>4026</td>\n",
       "      <td>4026</td>\n",
       "      <td>4026</td>\n",
       "      <td>4026</td>\n",
       "      <td>4026</td>\n",
       "      <td>3983</td>\n",
       "      <td>3967</td>\n",
       "      <td>3660</td>\n",
       "      <td>4019</td>\n",
       "      <td>3405</td>\n",
       "      <td>2853</td>\n",
       "      <td>4026</td>\n",
       "      <td>3169</td>\n",
       "    </tr>\n",
       "  </tbody>\n",
       "</table>\n",
       "</div>"
      ],
      "text/plain": [
       "      id    賃料   所在地  アクセス   間取り   築年数    面積   所在階  バス・トイレ  キッチン  放送・通信  室内設備  \\\n",
       "方角                                                                              \n",
       "北   1966  1966  1966  1966  1966  1966  1966  1966    1952  1930   1803  1961   \n",
       "北東  1321  1321  1321  1321  1321  1321  1321  1321    1310  1309   1223  1321   \n",
       "北西  1326  1326  1326  1326  1326  1326  1326  1326    1323  1317   1228  1325   \n",
       "南   8909  8909  8909  8909  8909  8909  8909  8909    8850  8770   7868  8886   \n",
       "南東  3098  3098  3098  3098  3098  3098  3098  3098    3070  3043   2766  3091   \n",
       "南西  3080  3080  3080  3080  3080  3080  3080  3080    3058  3022   2768  3075   \n",
       "東   4995  4995  4995  4995  4995  4995  4995  4995    4953  4927   4531  4989   \n",
       "西   4026  4026  4026  4026  4026  4026  4026  4026    3983  3967   3660  4019   \n",
       "\n",
       "     駐車場  周辺環境  建物構造  契約期間  \n",
       "方角                          \n",
       "北   1682  1393  1966  1548  \n",
       "北東  1118   980  1321  1031  \n",
       "北西  1122   917  1326  1041  \n",
       "南   7441  6252  8909  6902  \n",
       "南東  2628  2124  3098  2435  \n",
       "南西  2585  2191  3080  2407  \n",
       "東   4247  3608  4995  3952  \n",
       "西   3405  2853  4026  3169  "
      ]
     },
     "execution_count": 95,
     "metadata": {},
     "output_type": "execute_result"
    }
   ],
   "source": [
    "train.groupby(\"方角\").count()"
   ]
  },
  {
   "cell_type": "code",
   "execution_count": 113,
   "metadata": {},
   "outputs": [
    {
     "name": "stdout",
     "output_type": "stream",
     "text": [
      "{'専用バス': 23782, '専用トイレ': 23465, 'バス・トイレ別': 26458, 'シャワー': 28242, '浴室乾燥機': 16337, '': 15533, '温水洗浄便座': 17545, '洗面台独立': 20237, '脱衣所': 12361, '追焚機能': 11989, '共同トイレ': 86, 'バスなし': 141, '共同バス': 34}\n"
     ]
    }
   ],
   "source": [
    "d = {}\n",
    "\n",
    "for i in range(31470):\n",
    "    if train[\"バス・トイレ\"][i] != train[\"バス・トイレ\"][i]:\n",
    "        continue\n",
    "    for key in train[\"バス・トイレ\"][i].split():\n",
    "        pat = \"／\"\n",
    "        if re.sub(pat,\"\",key) not in d:\n",
    "            d[re.sub(pat,\"\",key)] = 1\n",
    "        else:\n",
    "            d[re.sub(pat,\"\",key)] += 1\n",
    "print(d)"
   ]
  },
  {
   "cell_type": "code",
   "execution_count": 150,
   "metadata": {},
   "outputs": [
    {
     "name": "stdout",
     "output_type": "stream",
     "text": [
      "{'ガスコンロ': 20369, 'コンロ2口': 14947, 'システムキッチン': 20534, '': 26364, '給湯': 26368, '独立キッチン': 3907, 'コンロ3口': 5393, 'IHコンロ': 4431, 'コンロ1口': 3057, '冷蔵庫あり': 677, 'コンロ設置可': 2102, 'カウンターキッチン': 3724, 'L字キッチン': 309, '電気コンロ': 525, 'コンロ4口以上': 50}\n"
     ]
    }
   ],
   "source": [
    "d = {}\n",
    "\n",
    "for i in range(31470):\n",
    "    if train[\"キッチン\"][i] != train[\"キッチン\"][i]:\n",
    "        continue\n",
    "    for key in train[\"キッチン\"][i].split():\n",
    "        pat = \"／\"\n",
    "        tmp = re.sub(pat,\"\",key)\n",
    "        if re.match(r\"コンロ設置可.*\",tmp):\n",
    "            tmp = \"コンロ設置可\"\n",
    "        if tmp not in d:\n",
    "            d[tmp] = 1\n",
    "        else:\n",
    "            d[tmp] += 1\n",
    "print(d)"
   ]
  },
  {
   "cell_type": "code",
   "execution_count": 152,
   "metadata": {},
   "outputs": [
    {
     "name": "stdout",
     "output_type": "stream",
     "text": [
      "{'ガスコンロ': 0, 'コンロ2口': 1, 'システムキッチン': 2, '給湯': 3, '独立キッチン': 4, 'コンロ3口': 5, 'IHコンロ': 6, 'コンロ1口': 7, '冷蔵庫あり': 8, 'コンロ設置可': 9, 'カウンターキッチン': 10, 'L字キッチン': 11, '電気コンロ': 12, 'コンロ4口以上': 13}\n"
     ]
    }
   ],
   "source": [
    "l = {}\n",
    "ind = 0\n",
    "for key in d.keys():\n",
    "    if key != \"\": \n",
    "        l[key] = ind\n",
    "        ind += 1\n",
    "print(l)"
   ]
  },
  {
   "cell_type": "code",
   "execution_count": 138,
   "metadata": {},
   "outputs": [
    {
     "name": "stdout",
     "output_type": "stream",
     "text": [
      "コンロ設置可\n"
     ]
    }
   ],
   "source": [
    "key = \"コンロ設置可（コンロ3口）\"\n",
    "pat = \"／\"\n",
    "tmp = re.sub(pat,\"\",key)\n",
    "# tmp = re.search(r\"\\（.+\\）\",tmp)\n",
    "# print(tmp)\n",
    "# print(tmp[0])\n",
    "tmp = re.sub(r\"\\（.+\\）\",\"\",tmp)\n",
    "print(tmp)"
   ]
  },
  {
   "cell_type": "code",
   "execution_count": 153,
   "metadata": {},
   "outputs": [
    {
     "name": "stdout",
     "output_type": "stream",
     "text": [
      "{'エアコン付': 29746, 'シューズボックス': 22947, 'バルコニー': 25112, 'フローリング': 27274, '室内洗濯機置場': 27389, '敷地内ごみ置き場': 16746, '': 24588, 'エレベーター': 16148, '公営水道': 23242, '下水': 23415, '都市ガス': 25533, 'タイル張り': 13677, 'ウォークインクローゼット': 3848, '2面採光': 6636, '24時間換気システム': 10704, '3面採光': 1046, 'ペアガラス': 597, '専用庭': 215, '水道その他': 1685, '冷房': 5179, 'クッションフロア': 394, '床暖房': 1635, 'プロパンガス': 1010, 'ロフト付き': 1241, '出窓': 1314, 'トランクルーム': 504, '汲み取り': 5, 'オール電化': 549, 'ルーフバルコニー': 316, '室外洗濯機置場': 1695, '床下収納': 587, 'バリアフリー': 157, '浄化槽': 10, '防音室': 61, '二重サッシ': 87, '二世帯住宅': 3, 'ガスその他': 16, '洗濯機置場なし': 69, '排水その他': 9, '石油暖房': 1, '地下室': 7, 'ガス暖房': 2, '井戸': 1}\n"
     ]
    }
   ],
   "source": [
    "d = {}\n",
    "\n",
    "for i in range(31470):\n",
    "    if train[\"室内設備\"][i] != train[\"室内設備\"][i]:\n",
    "        continue\n",
    "    for key in train[\"室内設備\"][i].split():\n",
    "        pat = \"／\"\n",
    "        if re.sub(pat,\"\",key) not in d:\n",
    "            d[re.sub(pat,\"\",key)] = 1\n",
    "        else:\n",
    "            d[re.sub(pat,\"\",key)] += 1\n",
    "print(d)"
   ]
  },
  {
   "cell_type": "code",
   "execution_count": 154,
   "metadata": {},
   "outputs": [
    {
     "name": "stdout",
     "output_type": "stream",
     "text": [
      "{'エアコン付': 0, 'シューズボックス': 1, 'バルコニー': 2, 'フローリング': 3, '室内洗濯機置場': 4, '敷地内ごみ置き場': 5, 'エレベーター': 6, '公営水道': 7, '下水': 8, '都市ガス': 9, 'タイル張り': 10, 'ウォークインクローゼット': 11, '2面採光': 12, '24時間換気システム': 13, '3面採光': 14, 'ペアガラス': 15, '専用庭': 16, '水道その他': 17, '冷房': 18, 'クッションフロア': 19, '床暖房': 20, 'プロパンガス': 21, 'ロフト付き': 22, '出窓': 23, 'トランクルーム': 24, 'オール電化': 25, 'ルーフバルコニー': 26, '室外洗濯機置場': 27, '床下収納': 28, 'バリアフリー': 29, '防音室': 30, '二重サッシ': 31, '洗濯機置場なし': 32}\n"
     ]
    }
   ],
   "source": [
    "l = {}\n",
    "ind = 0\n",
    "for key in d.keys():\n",
    "    if d[key] > 50 and key != \"\":\n",
    "        l[key] = ind\n",
    "        ind += 1\n",
    "print(l)"
   ]
  },
  {
   "cell_type": "code",
   "execution_count": 155,
   "metadata": {},
   "outputs": [
    {
     "name": "stdout",
     "output_type": "stream",
     "text": [
      "{'インターネット対応': 17193, 'CATV': 13083, 'CSアンテナ': 9291, 'BSアンテナ': 13453, '光ファイバー': 16306, '高速インターネット': 2498, 'インターネット使用料無料': 5404, '有線放送': 72}\n"
     ]
    }
   ],
   "source": [
    "d = {}\n",
    "\n",
    "for i in range(31470):\n",
    "    if train[\"放送・通信\"][i] != train[\"放送・通信\"][i]:\n",
    "        continue\n",
    "    for key in train[\"放送・通信\"][i].split():\n",
    "        pat = \"／\"\n",
    "        if re.sub(pat,\"\",key) not in d:\n",
    "            d[re.sub(pat,\"\",key)] = 1\n",
    "        else:\n",
    "            d[re.sub(pat,\"\",key)] += 1\n",
    "print(d)"
   ]
  },
  {
   "cell_type": "code",
   "execution_count": 156,
   "metadata": {},
   "outputs": [
    {
     "name": "stdout",
     "output_type": "stream",
     "text": [
      "{'インターネット対応': 0, 'CATV': 1, 'CSアンテナ': 2, 'BSアンテナ': 3, '光ファイバー': 4, '高速インターネット': 5, 'インターネット使用料無料': 6, '有線放送': 7}\n"
     ]
    }
   ],
   "source": [
    "l = {}\n",
    "ind = 0\n",
    "for key in d.keys():\n",
    "    if d[key] > 50 and key != \"\":\n",
    "        l[key] = ind\n",
    "        ind += 1\n",
    "print(l)"
   ]
  },
  {
   "cell_type": "code",
   "execution_count": 167,
   "metadata": {},
   "outputs": [
    {
     "name": "stdout",
     "output_type": "stream",
     "text": [
      "['駐輪場\\\\t空有', '駐車場\\\\t空有', 'バイク置き場\\\\t空有']\n",
      "['駐輪場\\\\t[(無)|(近隣)|(空無)]', '駐車場\\\\t[(無)|(近隣)|(空無)]', 'バイク置き場\\\\t[(無)|(近隣)|(空無)]']\n",
      "{'駐輪場\\t空有': 16490, '駐輪場\\t空': 16505, '駐車場\\t無': 8597, 'バイク置き場\\t無': 12642, '駐車場\\t近': 6627, 'バイク置き場\\t空有': 5096, 'バイク置き場\\t空': 5143, '駐輪場\\t無': 4513, '駐車場\\t空有': 5738, '駐車場\\t空': 6193, 'バイク置き場\\t近': 173, '駐輪場\\t近': 2}\n"
     ]
    }
   ],
   "source": [
    "d = {\"無\":0,\"有\":0}\n",
    "place = [r\"駐輪場\\t\",r\"駐車場\\t\",r\"バイク置き場\\t\"]\n",
    "available = [r\"空有\",r\"[(無)|(近隣)|(空無)]\"]\n",
    "all_pat = []\n",
    "\n",
    "for p in place:\n",
    "    for a in available:\n",
    "        all_pat.append(p+a)\n",
    "exist = all_pat[::2]\n",
    "dont = all_pat[1::2]\n",
    "print(exist)\n",
    "print(dont)\n",
    "\n",
    "\n",
    "for i in range(31470):\n",
    "    if train[\"駐車場\"][i] != train[\"駐車場\"][i]:\n",
    "        continue\n",
    "    for pat in exist:\n",
    "        if re.search(pat,train[\"駐車場\"][i]):\n",
    "            d[\"有\"]　+= 1\n",
    "        else:\n",
    "            d[\"無\"]　+= 1\n",
    "print(d)"
   ]
  },
  {
   "cell_type": "code",
   "execution_count": 173,
   "metadata": {},
   "outputs": [
    {
     "name": "stdout",
     "output_type": "stream",
     "text": [
      "[16490, 5738, 5096, 9693, 20445, 21087]\n"
     ]
    }
   ],
   "source": [
    "d = [0 for i in range(6)]\n",
    "exist = [r\"駐輪場\\t空有\",r\"駐車場\\t空有\",r\"バイク置き場\\t空有\"]\n",
    "# available = [r\"空有\",r\"[(無)|(近隣)|(空無)]\"]\n",
    "# all_pat = []\n",
    "\n",
    "# for p in place:\n",
    "#     for a in available:\n",
    "#         all_pat.append(p+a)\n",
    "# exist = all_pat[::2]\n",
    "# dont = all_pat[1::2]\n",
    "# print(exist)\n",
    "# print(dont)\n",
    "\n",
    "\n",
    "for i in range(31470):\n",
    "    if train[\"駐車場\"][i] != train[\"駐車場\"][i]:\n",
    "        continue\n",
    "    for j in range(len(exist)):\n",
    "        if re.search(exist[j],train[\"駐車場\"][i]):\n",
    "            d[j] += 1\n",
    "        else:\n",
    "            d[j+3] += 1\n",
    "print(d)"
   ]
  },
  {
   "cell_type": "code",
   "execution_count": 174,
   "metadata": {},
   "outputs": [
    {
     "name": "stdout",
     "output_type": "stream",
     "text": [
      "{'【小学校】': 2655, '【大学】': 2052, '【公園】': 3807, '【飲食店】': 6929, '【スーパー】': 40666, '【コンビニ】': 34944, '【ドラッグストア】': 5594, '【郵便局】': 3478, '【病院】': 3804, '【図書館】': 1299, '【銀行】': 1267, '【学校】': 1551, '【幼稚園・保育園】': 1824, '【総合病院】': 1890, '【デパート】': 691, '【レンタルビデオ】': 502, '【クリーニング】': 146, '【コインパーキング】': 22, '【月極駐車場】': 2}\n"
     ]
    }
   ],
   "source": [
    "d = {}\n",
    "\n",
    "for i in range(31470):\n",
    "    if train[\"周辺環境\"][i] != train[\"周辺環境\"][i]:\n",
    "        continue\n",
    "    for key in train[\"周辺環境\"][i].split():\n",
    "        pat = \"／\"\n",
    "        p2 = \"【.*】\"\n",
    "        if re.match(p2,key):\n",
    "            if re.sub(pat,\"\",key) not in d:\n",
    "                d[re.sub(pat,\"\",key)] = 1\n",
    "            else:\n",
    "                d[re.sub(pat,\"\",key)] += 1\n",
    "print(d)"
   ]
  },
  {
   "cell_type": "code",
   "execution_count": 176,
   "metadata": {},
   "outputs": [
    {
     "name": "stdout",
     "output_type": "stream",
     "text": [
      "{'【小学校】': 0, '【大学】': 1, '【公園】': 2, '【飲食店】': 3, '【スーパー】': 4, '【コンビニ】': 5, '【ドラッグストア】': 6, '【郵便局】': 7, '【病院】': 8, '【図書館】': 9, '【銀行】': 10, '【学校】': 11, '【幼稚園・保育園】': 12, '【総合病院】': 13, '【デパート】': 14, '【レンタルビデオ】': 15, '【クリーニング】': 16}\n"
     ]
    }
   ],
   "source": [
    "l = {}\n",
    "ind = 0\n",
    "for key in d.keys():\n",
    "    if d[key] > 50 and key != \"\":\n",
    "        l[key] = ind\n",
    "        ind += 1\n",
    "print(l)"
   ]
  },
  {
   "cell_type": "code",
   "execution_count": 275,
   "metadata": {},
   "outputs": [
    {
     "name": "stdout",
     "output_type": "stream",
     "text": [
      "226000.0\n",
      "                 id            賃料\n",
      "count    124.000000  1.240000e+02\n",
      "mean   15297.314516  7.521089e+05\n",
      "std     8840.773142  2.938759e+05\n",
      "min      275.000000  5.050000e+05\n",
      "25%     7486.000000  5.572500e+05\n",
      "50%    16608.500000  6.500000e+05\n",
      "75%    22014.000000  8.425000e+05\n",
      "max    31116.000000  2.500000e+06\n"
     ]
    }
   ],
   "source": [
    "Q1 = train[\"賃料\"].quantile(.25)\n",
    "Q3 = train[\"賃料\"].quantile(.75)\n",
    "IQR = Q3 - Q1\n",
    "threshold = Q3 + 1.5 * IQR\n",
    "print(threshold)\n",
    "print(train.query(\"賃料>500000\").describe())"
   ]
  },
  {
   "cell_type": "code",
   "execution_count": 293,
   "metadata": {},
   "outputs": [
    {
     "data": {
      "text/plain": [
       "<matplotlib.axes._subplots.AxesSubplot at 0x13a9652d0>"
      ]
     },
     "execution_count": 293,
     "metadata": {},
     "output_type": "execute_result"
    },
    {
     "data": {
      "image/png": "[encoded data removed]",
      "text/plain": [
       "<Figure size 432x288 with 1 Axes>"
      ]
     },
     "metadata": {
      "needs_background": "light"
     },
     "output_type": "display_data"
    }
   ],
   "source": [
    "train[\"賃料\"].hist(bins=60,range=(0,300000))"
   ]
  },
  {
   "cell_type": "code",
   "execution_count": 342,
   "metadata": {},
   "outputs": [
    {
     "data": {
      "text/plain": [
       "(array([   3.,    2.,    9.,   12.,   15.,    9.,   15.,   30.,   35.,\n",
       "         128.,   88.,  193.,  307.,  321.,  487.,  666.,  833.,  799.,\n",
       "        1257.,  996., 1003., 1336., 1342., 1317., 1624., 1463., 1438.,\n",
       "        1560., 1547., 1351., 1544., 1073., 1102., 1017.,  654.,  871.,\n",
       "         668.,  491.,  593.,  483.]),\n",
       " array([10.1266311 , 10.17855456, 10.23047802, 10.28240148, 10.33432494,\n",
       "        10.38624841, 10.43817187, 10.49009533, 10.54201879, 10.59394225,\n",
       "        10.64586571, 10.69778917, 10.74971263, 10.80163609, 10.85355955,\n",
       "        10.90548301, 10.95740647, 11.00932993, 11.06125339, 11.11317685,\n",
       "        11.16510031, 11.21702377, 11.26894723, 11.32087069, 11.37279415,\n",
       "        11.42471761, 11.47664107, 11.52856453, 11.58048799, 11.63241145,\n",
       "        11.68433491, 11.73625837, 11.78818183, 11.84010529, 11.89202875,\n",
       "        11.94395221, 11.99587567, 12.04779913, 12.09972259, 12.15164606,\n",
       "        12.20356952]),\n",
       " <a list of 40 Patch objects>)"
      ]
     },
     "execution_count": 342,
     "metadata": {},
     "output_type": "execute_result"
    },
    {
     "data": {
      "image/png": "[encoded data removed]",
      "text/plain": [
       "<Figure size 432x288 with 1 Axes>"
      ]
     },
     "metadata": {
      "needs_background": "light"
     },
     "output_type": "display_data"
    }
   ],
   "source": [
    "temp = train.query(\"賃料<200000\")[\"賃料\"].values\n",
    "temp = np.log(temp)\n",
    "fig = plt.figure()\n",
    "ax = fig.add_subplot(1,1,1)\n",
    "ax.hist(temp,bins = 40)"
   ]
  },
  {
   "cell_type": "code",
   "execution_count": 400,
   "metadata": {},
   "outputs": [
    {
     "data": {
      "text/plain": [
       "((array([-3.06048692, -2.78433842, -2.62947664, -2.51987722, -2.43413287,\n",
       "         -2.36324986, -2.30256398, -2.24933289, -2.20180251, -2.15878052,\n",
       "         -2.11941826, -2.08308943, -2.04931821, -2.01773425, -1.98804347,\n",
       "         -1.9600083 , -1.933434  , -1.90815881, -1.88404691, -1.86098307,\n",
       "         -1.83886868, -1.81761864, -1.79715902, -1.77742516, -1.75836014,\n",
       "         -1.73991361, -1.72204082, -1.70470176, -1.68786056, -1.67148492,\n",
       "         -1.65554561, -1.64001615, -1.62487242, -1.61009241, -1.59565599,\n",
       "         -1.58154466, -1.56774141, -1.55423056, -1.54099761, -1.52802914,\n",
       "         -1.51531267, -1.50283663, -1.49059022, -1.47856336, -1.46674665,\n",
       "         -1.45513127, -1.44370895, -1.43247195, -1.42141298, -1.41052516,\n",
       "         -1.39980203, -1.38923749, -1.37882576, -1.36856139, -1.35843922,\n",
       "         -1.34845435, -1.33860214, -1.32887817, -1.31927826, -1.30979841,\n",
       "         -1.30043483, -1.29118391, -1.28204218, -1.27300635, -1.26407328,\n",
       "         -1.25523996, -1.24650352, -1.23786119, -1.22931034, -1.22084844,\n",
       "         -1.21247307, -1.20418189, -1.19597268, -1.18784329, -1.17979164,\n",
       "         -1.17181577, -1.16391375, -1.15608375, -1.14832399, -1.14063276,\n",
       "         -1.13300843, -1.12544939, -1.11795412, -1.11052114, -1.10314901,\n",
       "         -1.09583635, -1.08858182, -1.08138414, -1.07424205, -1.06715434,\n",
       "         -1.06011984, -1.05313741, -1.04620595, -1.03932439, -1.03249171,\n",
       "         -1.02570689, -1.01896896, -1.01227697, -1.00563002, -0.9990272 ,\n",
       "         -0.99246765, -0.98595053, -0.97947502, -0.97304032, -0.96664566,\n",
       "         -0.96029029, -0.95397347, -0.94769448, -0.94145264, -0.93524727,\n",
       "         -0.9290777 , -0.92294329, -0.91684342, -0.91077748, -0.90474486,\n",
       "         -0.898745  , -0.89277731, -0.88684125, -0.88093627, -0.87506185,\n",
       "         -0.86921748, -0.86340265, -0.85761686, -0.85185964, -0.84613052,\n",
       "         -0.84042904, -0.83475475, -0.82910721, -0.82348599, -0.81789067,\n",
       "         -0.81232084, -0.8067761 , -0.80125605, -0.79576031, -0.79028849,\n",
       "         -0.78484024, -0.77941519, -0.77401298, -0.76863327, -0.7632757 ,\n",
       "         -0.75793996, -0.75262571, -0.74733263, -0.74206041, -0.73680873,\n",
       "         -0.7315773 , -0.72636581, -0.72117397, -0.7160015 , -0.71084812,\n",
       "         -0.70571355, -0.70059751, -0.69549975, -0.69042   , -0.685358  ,\n",
       "         -0.6803135 , -0.67528625, -0.67027602, -0.66528255, -0.66030562,\n",
       "         -0.65534499, -0.65040043, -0.64547172, -0.64055865, -0.63566099,\n",
       "         -0.63077853, -0.62591105, -0.62105837, -0.61622026, -0.61139654,\n",
       "         -0.606587  , -0.60179145, -0.5970097 , -0.59224156, -0.58748685,\n",
       "         -0.58274539, -0.57801699, -0.57330147, -0.56859867, -0.56390842,\n",
       "         -0.55923053, -0.55456485, -0.54991121, -0.54526945, -0.54063941,\n",
       "         -0.53602093, -0.53141386, -0.52681804, -0.52223331, -0.51765954,\n",
       "         -0.51309657, -0.50854426, -0.50400247, -0.49947105, -0.49494986,\n",
       "         -0.49043876, -0.48593763, -0.48144632, -0.47696469, -0.47249263,\n",
       "         -0.46803   , -0.46357667, -0.45913251, -0.45469741, -0.45027123,\n",
       "         -0.44585385, -0.44144516, -0.43704503, -0.43265334, -0.42826999,\n",
       "         -0.42389484, -0.4195278 , -0.41516874, -0.41081756, -0.40647414,\n",
       "         -0.40213838, -0.39781016, -0.39348938, -0.38917594, -0.38486973,\n",
       "         -0.38057064, -0.37627857, -0.37199342, -0.3677151 , -0.36344349,\n",
       "         -0.3591785 , -0.35492004, -0.35066801, -0.3464223 , -0.34218283,\n",
       "         -0.3379495 , -0.33372222, -0.3295009 , -0.32528544, -0.32107575,\n",
       "         -0.31687174, -0.31267333, -0.30848042, -0.30429292, -0.30011076,\n",
       "         -0.29593384, -0.29176207, -0.28759538, -0.28343367, -0.27927687,\n",
       "         -0.27512488, -0.27097764, -0.26683505, -0.26269703, -0.25856351,\n",
       "         -0.2544344 , -0.25030962, -0.2461891 , -0.24207275, -0.23796051,\n",
       "         -0.23385228, -0.22974799, -0.22564757, -0.22155095, -0.21745803,\n",
       "         -0.21336876, -0.20928305, -0.20520083, -0.20112203, -0.19704657,\n",
       "         -0.19297438, -0.18890539, -0.18483953, -0.18077671, -0.17671688,\n",
       "         -0.17265996, -0.16860588, -0.16455457, -0.16050596, -0.15645998,\n",
       "         -0.15241656, -0.14837562, -0.14433711, -0.14030095, -0.13626708,\n",
       "         -0.13223542, -0.12820591, -0.12417848, -0.12015307, -0.1161296 ,\n",
       "         -0.11210801, -0.10808823, -0.1040702 , -0.10005384, -0.0960391 ,\n",
       "         -0.09202591, -0.0880142 , -0.08400391, -0.07999496, -0.0759873 ,\n",
       "         -0.07198086, -0.06797558, -0.06397139, -0.05996822, -0.05596601,\n",
       "         -0.0519647 , -0.04796422, -0.04396451, -0.0399655 , -0.03596713,\n",
       "         -0.03196934, -0.02797205, -0.02397521, -0.01997876, -0.01598263,\n",
       "         -0.01198675, -0.00799106, -0.0039955 ,  0.        ,  0.0039955 ,\n",
       "          0.00799106,  0.01198675,  0.01598263,  0.01997876,  0.02397521,\n",
       "          0.02797205,  0.03196934,  0.03596713,  0.0399655 ,  0.04396451,\n",
       "          0.04796422,  0.0519647 ,  0.05596601,  0.05996822,  0.06397139,\n",
       "          0.06797558,  0.07198086,  0.0759873 ,  0.07999496,  0.08400391,\n",
       "          0.0880142 ,  0.09202591,  0.0960391 ,  0.10005384,  0.1040702 ,\n",
       "          0.10808823,  0.11210801,  0.1161296 ,  0.12015307,  0.12417848,\n",
       "          0.12820591,  0.13223542,  0.13626708,  0.14030095,  0.14433711,\n",
       "          0.14837562,  0.15241656,  0.15645998,  0.16050596,  0.16455457,\n",
       "          0.16860588,  0.17265996,  0.17671688,  0.18077671,  0.18483953,\n",
       "          0.18890539,  0.19297438,  0.19704657,  0.20112203,  0.20520083,\n",
       "          0.20928305,  0.21336876,  0.21745803,  0.22155095,  0.22564757,\n",
       "          0.22974799,  0.23385228,  0.23796051,  0.24207275,  0.2461891 ,\n",
       "          0.25030962,  0.2544344 ,  0.25856351,  0.26269703,  0.26683505,\n",
       "          0.27097764,  0.27512488,  0.27927687,  0.28343367,  0.28759538,\n",
       "          0.29176207,  0.29593384,  0.30011076,  0.30429292,  0.30848042,\n",
       "          0.31267333,  0.31687174,  0.32107575,  0.32528544,  0.3295009 ,\n",
       "          0.33372222,  0.3379495 ,  0.34218283,  0.3464223 ,  0.35066801,\n",
       "          0.35492004,  0.3591785 ,  0.36344349,  0.3677151 ,  0.37199342,\n",
       "          0.37627857,  0.38057064,  0.38486973,  0.38917594,  0.39348938,\n",
       "          0.39781016,  0.40213838,  0.40647414,  0.41081756,  0.41516874,\n",
       "          0.4195278 ,  0.42389484,  0.42826999,  0.43265334,  0.43704503,\n",
       "          0.44144516,  0.44585385,  0.45027123,  0.45469741,  0.45913251,\n",
       "          0.46357667,  0.46803   ,  0.47249263,  0.47696469,  0.48144632,\n",
       "          0.48593763,  0.49043876,  0.49494986,  0.49947105,  0.50400247,\n",
       "          0.50854426,  0.51309657,  0.51765954,  0.52223331,  0.52681804,\n",
       "          0.53141386,  0.53602093,  0.54063941,  0.54526945,  0.54991121,\n",
       "          0.55456485,  0.55923053,  0.56390842,  0.56859867,  0.57330147,\n",
       "          0.57801699,  0.58274539,  0.58748685,  0.59224156,  0.5970097 ,\n",
       "          0.60179145,  0.606587  ,  0.61139654,  0.61622026,  0.62105837,\n",
       "          0.62591105,  0.63077853,  0.63566099,  0.64055865,  0.64547172,\n",
       "          0.65040043,  0.65534499,  0.66030562,  0.66528255,  0.67027602,\n",
       "          0.67528625,  0.6803135 ,  0.685358  ,  0.69042   ,  0.69549975,\n",
       "          0.70059751,  0.70571355,  0.71084812,  0.7160015 ,  0.72117397,\n",
       "          0.72636581,  0.7315773 ,  0.73680873,  0.74206041,  0.74733263,\n",
       "          0.75262571,  0.75793996,  0.7632757 ,  0.76863327,  0.77401298,\n",
       "          0.77941519,  0.78484024,  0.79028849,  0.79576031,  0.80125605,\n",
       "          0.8067761 ,  0.81232084,  0.81789067,  0.82348599,  0.82910721,\n",
       "          0.83475475,  0.84042904,  0.84613052,  0.85185964,  0.85761686,\n",
       "          0.86340265,  0.86921748,  0.87506185,  0.88093627,  0.88684125,\n",
       "          0.89277731,  0.898745  ,  0.90474486,  0.91077748,  0.91684342,\n",
       "          0.92294329,  0.9290777 ,  0.93524727,  0.94145264,  0.94769448,\n",
       "          0.95397347,  0.96029029,  0.96664566,  0.97304032,  0.97947502,\n",
       "          0.98595053,  0.99246765,  0.9990272 ,  1.00563002,  1.01227697,\n",
       "          1.01896896,  1.02570689,  1.03249171,  1.03932439,  1.04620595,\n",
       "          1.05313741,  1.06011984,  1.06715434,  1.07424205,  1.08138414,\n",
       "          1.08858182,  1.09583635,  1.10314901,  1.11052114,  1.11795412,\n",
       "          1.12544939,  1.13300843,  1.14063276,  1.14832399,  1.15608375,\n",
       "          1.16391375,  1.17181577,  1.17979164,  1.18784329,  1.19597268,\n",
       "          1.20418189,  1.21247307,  1.22084844,  1.22931034,  1.23786119,\n",
       "          1.24650352,  1.25523996,  1.26407328,  1.27300635,  1.28204218,\n",
       "          1.29118391,  1.30043483,  1.30979841,  1.31927826,  1.32887817,\n",
       "          1.33860214,  1.34845435,  1.35843922,  1.36856139,  1.37882576,\n",
       "          1.38923749,  1.39980203,  1.41052516,  1.42141298,  1.43247195,\n",
       "          1.44370895,  1.45513127,  1.46674665,  1.47856336,  1.49059022,\n",
       "          1.50283663,  1.51531267,  1.52802914,  1.54099761,  1.55423056,\n",
       "          1.56774141,  1.58154466,  1.59565599,  1.61009241,  1.62487242,\n",
       "          1.64001615,  1.65554561,  1.67148492,  1.68786056,  1.70470176,\n",
       "          1.72204082,  1.73991361,  1.75836014,  1.77742516,  1.79715902,\n",
       "          1.81761864,  1.83886868,  1.86098307,  1.88404691,  1.90815881,\n",
       "          1.933434  ,  1.9600083 ,  1.98804347,  2.01773425,  2.04931821,\n",
       "          2.08308943,  2.11941826,  2.15878052,  2.20180251,  2.24933289,\n",
       "          2.30256398,  2.36324986,  2.43413287,  2.51987722,  2.62947664,\n",
       "          2.78433842,  3.06048692]),\n",
       "  array([12.61486554, 12.61486554, 12.62148808, 12.62478298, 12.62478298,\n",
       "         12.62478298, 12.62478298, 12.62478298, 12.62478298, 12.62478298,\n",
       "         12.62806706, 12.62806706, 12.62806706, 12.62806706, 12.62806706,\n",
       "         12.62806706, 12.62806706, 12.62806706, 12.62806706, 12.63134038,\n",
       "         12.63134038, 12.63134038, 12.63134038, 12.63460303, 12.63460303,\n",
       "         12.63460303, 12.63460303, 12.63785506, 12.63785506, 12.63785506,\n",
       "         12.63785506, 12.63785506, 12.63785506, 12.64109656, 12.64109656,\n",
       "         12.64432758, 12.64432758, 12.64432758, 12.64432758, 12.64432758,\n",
       "         12.64432758, 12.64432758, 12.64432758, 12.64432758, 12.64432758,\n",
       "         12.64432758, 12.64432758, 12.64432758, 12.64432758, 12.64432758,\n",
       "         12.64432758, 12.64432758, 12.64432758, 12.64432758, 12.64432758,\n",
       "         12.64432758, 12.64432758, 12.64432758, 12.64432758, 12.64432758,\n",
       "         12.64432758, 12.64432758, 12.64432758, 12.65075847, 12.65075847,\n",
       "         12.65075847, 12.65075847, 12.65395847, 12.65395847, 12.65395847,\n",
       "         12.65395847, 12.65395847, 12.65395847, 12.65459724, 12.65714826,\n",
       "         12.65714826, 12.65714826, 12.65714826, 12.66032792, 12.66032792,\n",
       "         12.66032792, 12.66032792, 12.66032792, 12.66032792, 12.66032792,\n",
       "         12.66032792, 12.66032792, 12.66032792, 12.66032792, 12.66032792,\n",
       "         12.66032792, 12.66665705, 12.66980666, 12.66980666, 12.66980666,\n",
       "         12.66980666, 12.66980666, 12.66980666, 12.66980666, 12.67294638,\n",
       "         12.67294638, 12.67294638, 12.67294638, 12.67607627, 12.67607627,\n",
       "         12.67607627, 12.67607627, 12.67607627, 12.67607627, 12.67607627,\n",
       "         12.67607627, 12.67607627, 12.67607627, 12.67607627, 12.67607627,\n",
       "         12.67607627, 12.67607627, 12.67607627, 12.67607627, 12.67607627,\n",
       "         12.67607627, 12.67607627, 12.67607627, 12.67607627, 12.67607627,\n",
       "         12.67607627, 12.67607627, 12.67607627, 12.67607627, 12.67607627,\n",
       "         12.6791964 , 12.68230682, 12.6854076 , 12.68849879, 12.69158046,\n",
       "         12.69158046, 12.69158046, 12.69158046, 12.69158046, 12.69158046,\n",
       "         12.69158046, 12.69158046, 12.69158046, 12.69158046, 12.69465266,\n",
       "         12.69465266, 12.69771545, 12.70684793, 12.70684793, 12.70684793,\n",
       "         12.70684793, 12.70684793, 12.70684793, 12.70684793, 12.70684793,\n",
       "         12.70684793, 12.70684793, 12.70684793, 12.70684793, 12.70684793,\n",
       "         12.70684793, 12.70684793, 12.70684793, 12.70684793, 12.70684793,\n",
       "         12.70684793, 12.70684793, 12.70684793, 12.70684793, 12.70684793,\n",
       "         12.70684793, 12.70684793, 12.70684793, 12.70987365, 12.70987365,\n",
       "         12.71289025, 12.71289025, 12.71589777, 12.71589777, 12.71589777,\n",
       "         12.72128862, 12.72188581, 12.72188581, 12.72188581, 12.72188581,\n",
       "         12.72188581, 12.72188581, 12.72486644, 12.72783821, 12.72783821,\n",
       "         12.7367009 , 12.7367009 , 12.7367009 , 12.7367009 , 12.7367009 ,\n",
       "         12.7367009 , 12.7367009 , 12.7367009 , 12.7367009 , 12.7367009 ,\n",
       "         12.7367009 , 12.7367009 , 12.7367009 , 12.7367009 , 12.7367009 ,\n",
       "         12.7367009 , 12.7367009 , 12.7367009 , 12.73963776, 12.74256602,\n",
       "         12.74256602, 12.74256602, 12.74256602, 12.7512997 , 12.7512997 ,\n",
       "         12.7512997 , 12.7512997 , 12.7512997 , 12.7512997 , 12.75419405,\n",
       "         12.75995776, 12.75995776, 12.75995776, 12.75995776, 12.75995776,\n",
       "         12.7628272 , 12.7628272 , 12.76568843, 12.76568843, 12.76568843,\n",
       "         12.76568843, 12.76568843, 12.76568843, 12.76568843, 12.76568843,\n",
       "         12.76568843, 12.76568843, 12.76568843, 12.76568843, 12.76568843,\n",
       "         12.76568843, 12.76568843, 12.76568843, 12.76568843, 12.76568843,\n",
       "         12.76568843, 12.76568843, 12.76568843, 12.76568843, 12.76568843,\n",
       "         12.76568843, 12.76568843, 12.76568843, 12.76568843, 12.76568843,\n",
       "         12.76568843, 12.76568843, 12.76568843, 12.76568843, 12.76568843,\n",
       "         12.76568843, 12.76568843, 12.76568843, 12.77422334, 12.77987307,\n",
       "         12.77987307, 12.77987307, 12.77987307, 12.77987307, 12.77987307,\n",
       "         12.77987307, 12.78549106, 12.78828827, 12.78828827, 12.79107767,\n",
       "         12.79385931, 12.79385931, 12.79385931, 12.79385931, 12.79385931,\n",
       "         12.80215811, 12.80765263, 12.80765263, 12.80765263, 12.80765263,\n",
       "         12.80765263, 12.80765263, 12.81038861, 12.81038861, 12.81038861,\n",
       "         12.81583822, 12.81583822, 12.81583822, 12.81583822, 12.81855192,\n",
       "         12.81855192, 12.81855192, 12.82125828, 12.82125828, 12.82125828,\n",
       "         12.82125828, 12.82125828, 12.82125828, 12.82125828, 12.82395734,\n",
       "         12.8346813 , 12.8346813 , 12.8346813 , 12.8346813 , 12.8346813 ,\n",
       "         12.8346813 , 12.8346813 , 12.84000047, 12.84000047, 12.84264947,\n",
       "         12.84264947, 12.84264947, 12.84264947, 12.84264947, 12.84264947,\n",
       "         12.84529148, 12.84529148, 12.84792653, 12.84792653, 12.84792653,\n",
       "         12.84792653, 12.84792653, 12.84792653, 12.84792653, 12.84792653,\n",
       "         12.84792653, 12.84792653, 12.84792653, 12.84792653, 12.84792653,\n",
       "         12.84792653, 12.84792653, 12.84792653, 12.85317589, 12.86099861,\n",
       "         12.86099861, 12.86099861, 12.86099861, 12.86099861, 12.86099861,\n",
       "         12.86099861, 12.86099861, 12.86099861, 12.86099861, 12.86359265,\n",
       "         12.86617997, 12.86876062, 12.86876062, 12.86876062, 12.87390202,\n",
       "         12.87390202, 12.87390202, 12.87390202, 12.87390202, 12.87390202,\n",
       "         12.87390202, 12.87390202, 12.87646284, 12.88664104, 12.88664104,\n",
       "         12.88664104, 12.88664104, 12.88916949, 12.88916949, 12.89420728,\n",
       "         12.89420728, 12.89420728, 12.89921983, 12.89921983, 12.89921983,\n",
       "         12.89921983, 12.89921983, 12.89921983, 12.89921983, 12.89921983,\n",
       "         12.89921983, 12.89921983, 12.89921983, 12.89921983, 12.90420737,\n",
       "         12.90420737, 12.90420737, 12.90669184, 12.90917016, 12.90917016,\n",
       "         12.90917016, 12.91164235, 12.91902245, 12.91902245, 12.91902245,\n",
       "         12.92391244, 12.92391244, 12.92391244, 12.92391244, 12.93120287,\n",
       "         12.9360338 , 12.9360338 , 12.94227932, 12.94323671, 12.9456262 ,\n",
       "         12.9456262 , 12.94800999, 12.94800999, 12.94800999, 12.94800999,\n",
       "         12.94800999, 12.94800999, 12.94800999, 12.94800999, 12.94800999,\n",
       "         12.94800999, 12.94800999, 12.94800999, 12.94800999, 12.95512746,\n",
       "         12.95512746, 12.95984445, 12.95984445, 12.96453929, 12.97154049,\n",
       "         12.97154049, 12.97154049, 12.97154049, 12.97154049, 12.97154049,\n",
       "         12.97154049, 12.97154049, 12.97154049, 12.97154049, 12.98079981,\n",
       "         12.98079981, 12.98310131, 12.98310131, 12.98768847, 12.98768847,\n",
       "         12.98768847, 12.98997419, 12.99225469, 12.99453001, 12.99453001,\n",
       "         12.99906516, 13.00582956, 13.01477817, 13.01589113, 13.01700286,\n",
       "         13.01700286, 13.01700286, 13.01700286, 13.02585248, 13.0280527 ,\n",
       "         13.03462446, 13.03462446, 13.03462446, 13.03898177, 13.03898177,\n",
       "         13.03898177, 13.03898177, 13.03898177, 13.03898177, 13.03898177,\n",
       "         13.05622357, 13.06048797, 13.06048797, 13.06048797, 13.07317313,\n",
       "         13.07317313, 13.08154138, 13.08154138, 13.08154138, 13.08154138,\n",
       "         13.08154138, 13.08154138, 13.08154138, 13.08154138, 13.08154138,\n",
       "         13.08362255, 13.08362255, 13.08362255, 13.08777193, 13.09190417,\n",
       "         13.09190417, 13.09190417, 13.0939639 , 13.10216067, 13.10216067,\n",
       "         13.10216067, 13.106234  , 13.11835536, 13.11835536, 13.12236338,\n",
       "         13.12236338, 13.12236338, 13.12236338, 13.12236338, 13.12236338,\n",
       "         13.12236338, 13.12236338, 13.12236338, 13.13231371, 13.13231371,\n",
       "         13.13231371, 13.13231371, 13.13626628, 13.13823673, 13.142166  ,\n",
       "         13.15192218, 13.16158409, 13.16158409, 13.17305649, 13.17305649,\n",
       "         13.18063229, 13.18063229, 13.19002203, 13.19932442, 13.19932442,\n",
       "         13.19932442, 13.20302128, 13.20670453, 13.20670453, 13.21767356,\n",
       "         13.21767356, 13.21767356, 13.21767356, 13.21767356, 13.21767356,\n",
       "         13.21767356, 13.21767356, 13.21767356, 13.22672339, 13.23211424,\n",
       "         13.23211424, 13.24458101, 13.24458101, 13.25339164, 13.26212532,\n",
       "         13.26559755, 13.27078338, 13.28787782, 13.28787782, 13.30134603,\n",
       "         13.30134603, 13.30468493, 13.30468493, 13.30468493, 13.30468493,\n",
       "         13.30468493, 13.30468493, 13.30468493, 13.30468493, 13.33747476,\n",
       "         13.35029545, 13.3534751 , 13.3534751 , 13.38164598, 13.38164598,\n",
       "         13.38472764, 13.38472764, 13.38472764, 13.38472764, 13.38472764,\n",
       "         13.38472764, 13.41503299, 13.42984808, 13.42984808, 13.42984808,\n",
       "         13.44444688, 13.44444688, 13.45883561, 13.45883561, 13.45883561,\n",
       "         13.45883561, 13.45883561, 13.45883561, 13.45883561, 13.45883561,\n",
       "         13.45883561, 13.48700649, 13.49805633, 13.50079981, 13.50079981,\n",
       "         13.52782849, 13.52782849, 13.56061831, 13.56061831, 13.5670492 ,\n",
       "         13.5670492 , 13.5670492 , 13.57978822, 13.57978822, 13.61705962,\n",
       "         13.64115717, 13.65299163, 13.65299163, 13.68767719, 13.68767719,\n",
       "         13.68767719, 13.71015004, 13.71015004, 13.71015004, 13.71015004,\n",
       "         13.73212895, 13.76421726, 13.76421726, 13.76421726, 13.76421726,\n",
       "         13.79530785, 13.91082074, 13.91082074, 13.91082074, 13.92883924,\n",
       "         13.92883924, 13.92883924, 13.99783211, 14.00074454, 14.07787482,\n",
       "         14.07787482, 14.07787482, 14.14481431, 14.18707411, 14.32232816,\n",
       "         14.40329722, 14.73180129])),\n",
       " (0.2947006333008492, 12.93704132857593, 0.9023729926478845))"
      ]
     },
     "execution_count": 400,
     "metadata": {},
     "output_type": "execute_result"
    },
    {
     "data": {
      "image/png": "[encoded data removed]",
      "text/plain": [
       "<Figure size 432x288 with 1 Axes>"
      ]
     },
     "metadata": {
      "needs_background": "light"
     },
     "output_type": "display_data"
    }
   ],
   "source": [
    "temp = train.query(\"賃料>300000\")[\"賃料\"].values\n",
    "temp = np.log(temp)\n",
    "probplot(temp,dist=\"norm\",plot=plt)"
   ]
  },
  {
   "cell_type": "code",
   "execution_count": 401,
   "metadata": {},
   "outputs": [
    {
     "name": "stdout",
     "output_type": "stream",
     "text": [
      "0.8149043321609497 3.217715253036304e-26\n",
      "not norm\n"
     ]
    }
   ],
   "source": [
    "w,p = shapiro(temp)\n",
    "print(w,p)\n",
    "if p < 0.05:\n",
    "    print(\"not norm\")\n",
    "else:\n",
    "    print(\"norm\")"
   ]
  },
  {
   "cell_type": "code",
   "execution_count": 294,
   "metadata": {},
   "outputs": [
    {
     "data": {
      "text/plain": [
       "<matplotlib.axes._subplots.AxesSubplot at 0x13a965990>"
      ]
     },
     "execution_count": 294,
     "metadata": {},
     "output_type": "execute_result"
    },
    {
     "data": {
      "image/png": "[encoded data removed]",
      "text/plain": [
       "<Figure size 432x288 with 1 Axes>"
      ]
     },
     "metadata": {
      "needs_background": "light"
     },
     "output_type": "display_data"
    }
   ],
   "source": [
    "train[\"賃料\"].hist(bins=60,range=(300000,500000))"
   ]
  },
  {
   "cell_type": "code",
   "execution_count": 292,
   "metadata": {},
   "outputs": [
    {
     "data": {
      "text/plain": [
       "<matplotlib.axes._subplots.AxesSubplot at 0x13a828090>"
      ]
     },
     "execution_count": 292,
     "metadata": {},
     "output_type": "execute_result"
    },
    {
     "data": {
      "image/png": "[encoded data removed]",
      "text/plain": [
       "<Figure size 432x288 with 1 Axes>"
      ]
     },
     "metadata": {
      "needs_background": "light"
     },
     "output_type": "display_data"
    }
   ],
   "source": [
    "train[\"賃料\"].hist(bins=60,range=(500000,2500000))"
   ]
  },
  {
   "cell_type": "code",
   "execution_count": 224,
   "metadata": {},
   "outputs": [
    {
     "data": {
      "text/plain": [
       "<matplotlib.axes._subplots.AxesSubplot at 0x13b9802d0>"
      ]
     },
     "execution_count": 224,
     "metadata": {},
     "output_type": "execute_result"
    },
    {
     "data": {
      "image/png": "[encoded data removed]",
      "text/plain": [
       "<Figure size 432x288 with 1 Axes>"
      ]
     },
     "metadata": {
      "needs_background": "light"
     },
     "output_type": "display_data"
    }
   ],
   "source": [
    "train[\"賃料\"].plot.box()"
   ]
  },
  {
   "cell_type": "code",
   "execution_count": 201,
   "metadata": {},
   "outputs": [
    {
     "data": {
      "text/plain": [
       "(array([1.000e+01, 1.900e+01, 3.500e+01, 6.500e+01, 2.170e+02, 5.040e+02,\n",
       "        1.133e+03, 1.668e+03, 2.538e+03, 2.615e+03, 2.967e+03, 3.324e+03,\n",
       "        3.549e+03, 3.088e+03, 2.571e+03, 1.675e+03, 1.473e+03, 1.193e+03,\n",
       "        8.550e+02, 5.650e+02, 5.780e+02, 2.790e+02, 1.860e+02, 1.050e+02,\n",
       "        7.700e+01, 4.800e+01, 4.200e+01, 1.900e+01, 2.600e+01, 1.300e+01,\n",
       "        7.000e+00, 1.000e+01, 3.000e+00, 5.000e+00, 4.000e+00, 1.000e+00,\n",
       "        1.000e+00, 1.000e+00, 0.000e+00, 1.000e+00]),\n",
       " array([10.1266311 , 10.24176036, 10.35688961, 10.47201887, 10.58714812,\n",
       "        10.70227738, 10.81740663, 10.93253589, 11.04766514, 11.1627944 ,\n",
       "        11.27792365, 11.3930529 , 11.50818216, 11.62331141, 11.73844067,\n",
       "        11.85356992, 11.96869918, 12.08382843, 12.19895769, 12.31408694,\n",
       "        12.4292162 , 12.54434545, 12.65947471, 12.77460396, 12.88973322,\n",
       "        13.00486247, 13.11999172, 13.23512098, 13.35025023, 13.46537949,\n",
       "        13.58050874, 13.695638  , 13.81076725, 13.92589651, 14.04102576,\n",
       "        14.15615502, 14.27128427, 14.38641353, 14.50154278, 14.61667204,\n",
       "        14.73180129]),\n",
       " <a list of 40 Patch objects>)"
      ]
     },
     "execution_count": 201,
     "metadata": {},
     "output_type": "execute_result"
    },
    {
     "data": {
      "image/png": "[encoded data removed]",
      "text/plain": [
       "<Figure size 432x288 with 1 Axes>"
      ]
     },
     "metadata": {
      "needs_background": "light"
     },
     "output_type": "display_data"
    }
   ],
   "source": [
    "temp = train[\"賃料\"].values\n",
    "temp = np.log(temp)\n",
    "fig = plt.figure()\n",
    "ax = fig.add_subplot(1,1,1)\n",
    "ax.hist(temp,bins = 40)"
   ]
  },
  {
   "cell_type": "code",
   "execution_count": 353,
   "metadata": {},
   "outputs": [
    {
     "data": {
      "text/plain": [
       "<matplotlib.collections.PathCollection at 0x13afcf410>"
      ]
     },
     "execution_count": 353,
     "metadata": {},
     "output_type": "execute_result"
    },
    {
     "data": {
      "image/png": "[encoded data removed]",
      "text/plain": [
       "<Figure size 432x288 with 1 Axes>"
      ]
     },
     "metadata": {
      "needs_background": "light"
     },
     "output_type": "display_data"
    }
   ],
   "source": [
    "\n",
    "class parse_area_size:\n",
    "    def __init__(self):\n",
    "        pass\n",
    "    def fit(self,x,y):\n",
    "        return self\n",
    "    def transform(self,x):\n",
    "        hoge = x.copy()\n",
    "        temp = x[\"面積\"].values\n",
    "        ans = [0 for i in range(len(temp))]\n",
    "        for i in range(len(temp)):\n",
    "            ans[i] = float(re.search(r\"[0-9\\.]+\",temp[i])[0])\n",
    "        hoge = hoge.drop(\"面積\",axis = 1)\n",
    "        hoge = hoge.assign(areasize=ans)\n",
    "        return hoge\n",
    "fig = plt.figure()\n",
    "ax = fig.add_subplot(1,1,1)\n",
    "test = parse_area_size()\n",
    "hoge = test.transform(train)\n",
    "ax.scatter(hoge[\"areasize\"],hoge[\"賃料\"])"
   ]
  },
  {
   "cell_type": "code",
   "execution_count": 355,
   "metadata": {},
   "outputs": [
    {
     "data": {
      "text/plain": [
       "<matplotlib.axes._subplots.AxesSubplot at 0x13fc80a10>"
      ]
     },
     "execution_count": 355,
     "metadata": {},
     "output_type": "execute_result"
    },
    {
     "data": {
      "image/png": "[encoded data removed]",
      "text/plain": [
       "<Figure size 432x288 with 1 Axes>"
      ]
     },
     "metadata": {
      "needs_background": "light"
     },
     "output_type": "display_data"
    }
   ],
   "source": [
    "hoge[\"areasize\"].hist(bins=40)"
   ]
  },
  {
   "cell_type": "code",
   "execution_count": 208,
   "metadata": {},
   "outputs": [
    {
     "data": {
      "text/plain": [
       "<matplotlib.collections.PathCollection at 0x136b879d0>"
      ]
     },
     "execution_count": 208,
     "metadata": {},
     "output_type": "execute_result"
    },
    {
     "data": {
      "image/png": "[encoded data removed]",
      "text/plain": [
       "<Figure size 432x288 with 1 Axes>"
      ]
     },
     "metadata": {
      "needs_background": "light"
     },
     "output_type": "display_data"
    }
   ],
   "source": [
    "class parse_how_old:\n",
    "    def __init__(self):\n",
    "        self.year_pat = re.compile(r\"[0-9]+年\")\n",
    "        self.month_pat = re.compile(r\"[0-9]+ヶ月\")\n",
    "    def fit(self,x,y):\n",
    "        return self\n",
    "    def transform(self,x):\n",
    "        hoge = x.copy()\n",
    "        temp = x[\"築年数\"].values\n",
    "        add_year = [0 for i in range(len(temp))]\n",
    "        add_month = [0 for i in range(len(temp))]\n",
    "        for i in range(len(temp)):\n",
    "            year = self.year_pat.search(temp[i])\n",
    "            month = self.month_pat.search(temp[i])\n",
    "            if year:\n",
    "                year = year[0][:-1]\n",
    "            else:\n",
    "                year = 0\n",
    "            if month:\n",
    "                month = month[0][:-2]\n",
    "            else:\n",
    "                month = 0\n",
    "            add_year[i] = int(year)\n",
    "            add_month[i] = int(month)\n",
    "        hoge = hoge.drop([\"築年数\"],axis = 1)\n",
    "        hoge  = hoge.assign(year=add_year)\n",
    "        hoge = hoge.assign(month= add_month)\n",
    "        return hoge\n",
    "fig = plt.figure()\n",
    "ax = fig.add_subplot(1,1,1)\n",
    "test = parse_how_old()\n",
    "hoge = test.transform(train)\n",
    "ax.scatter(hoge[\"year\"],hoge[\"賃料\"])"
   ]
  },
  {
   "cell_type": "code",
   "execution_count": 212,
   "metadata": {},
   "outputs": [
    {
     "data": {
      "text/plain": [
       "<matplotlib.collections.PathCollection at 0x13526d6d0>"
      ]
     },
     "execution_count": 212,
     "metadata": {},
     "output_type": "execute_result"
    },
    {
     "data": {
      "image/png": "[encoded data removed]",
      "text/plain": [
       "<Figure size 432x288 with 1 Axes>"
      ]
     },
     "metadata": {
      "needs_background": "light"
     },
     "output_type": "display_data"
    }
   ],
   "source": [
    "fig = plt.figure()\n",
    "ax = fig.add_subplot(1,1,1)\n",
    "test = parse_how_old()\n",
    "hoge = test.transform(train)\n",
    "ax.scatter(hoge[\"month\"],hoge[\"賃料\"])"
   ]
  },
  {
   "cell_type": "code",
   "execution_count": 258,
   "metadata": {},
   "outputs": [
    {
     "data": {
      "text/html": [
       "<div>\n",
       "<style scoped>\n",
       "    .dataframe tbody tr th:only-of-type {\n",
       "        vertical-align: middle;\n",
       "    }\n",
       "\n",
       "    .dataframe tbody tr th {\n",
       "        vertical-align: top;\n",
       "    }\n",
       "\n",
       "    .dataframe thead th {\n",
       "        text-align: right;\n",
       "    }\n",
       "</style>\n",
       "<table border=\"1\" class=\"dataframe\">\n",
       "  <thead>\n",
       "    <tr style=\"text-align: right;\">\n",
       "      <th></th>\n",
       "      <th>count</th>\n",
       "      <th>mean</th>\n",
       "      <th>std</th>\n",
       "      <th>min</th>\n",
       "      <th>25%</th>\n",
       "      <th>50%</th>\n",
       "      <th>75%</th>\n",
       "      <th>max</th>\n",
       "    </tr>\n",
       "    <tr>\n",
       "      <th>is_teiki</th>\n",
       "      <th></th>\n",
       "      <th></th>\n",
       "      <th></th>\n",
       "      <th></th>\n",
       "      <th></th>\n",
       "      <th></th>\n",
       "      <th></th>\n",
       "      <th></th>\n",
       "    </tr>\n",
       "  </thead>\n",
       "  <tbody>\n",
       "    <tr>\n",
       "      <th>0</th>\n",
       "      <td>29799.0</td>\n",
       "      <td>114413.141112</td>\n",
       "      <td>62814.566128</td>\n",
       "      <td>25000.0</td>\n",
       "      <td>75000.0</td>\n",
       "      <td>100000.0</td>\n",
       "      <td>133000.0</td>\n",
       "      <td>1203500.0</td>\n",
       "    </tr>\n",
       "    <tr>\n",
       "      <th>1</th>\n",
       "      <td>1671.0</td>\n",
       "      <td>187431.927588</td>\n",
       "      <td>164420.531211</td>\n",
       "      <td>27000.0</td>\n",
       "      <td>100500.0</td>\n",
       "      <td>157000.0</td>\n",
       "      <td>226000.0</td>\n",
       "      <td>2500000.0</td>\n",
       "    </tr>\n",
       "  </tbody>\n",
       "</table>\n",
       "</div>"
      ],
      "text/plain": [
       "            count           mean            std      min       25%       50%  \\\n",
       "is_teiki                                                                       \n",
       "0         29799.0  114413.141112   62814.566128  25000.0   75000.0  100000.0   \n",
       "1          1671.0  187431.927588  164420.531211  27000.0  100500.0  157000.0   \n",
       "\n",
       "               75%        max  \n",
       "is_teiki                       \n",
       "0         133000.0  1203500.0  \n",
       "1         226000.0  2500000.0  "
      ]
     },
     "execution_count": 258,
     "metadata": {},
     "output_type": "execute_result"
    },
    {
     "data": {
      "image/png": "[encoded data removed]",
      "text/plain": [
       "<Figure size 432x288 with 1 Axes>"
      ]
     },
     "metadata": {
      "needs_background": "light"
     },
     "output_type": "display_data"
    }
   ],
   "source": [
    "class parse_contract_time:\n",
    "    def __init__(self):\n",
    "        self.teiki_pat = re.compile(r\".*\\t.*\")\n",
    "        self.year_pat = re.compile(r\"[0-9]+年間\")\n",
    "        self.month_pat = re.compile(r\"[0-9]+ヶ月間\")\n",
    "        self.due_year_pat = re.compile(r\"[0-9]+年\")\n",
    "        self.due_month_pat = re.compile(r\"[0-9]+月まで\")\n",
    "        self.double_pat = re.compile(r\"[0-9]+年[0-9]+ヶ月間\")\n",
    "    def fit(self,x,y):\n",
    "        return self\n",
    "    def transform(self,x):\n",
    "        hoge = x.copy()\n",
    "        temp = x[\"契約期間\"].values\n",
    "        isteiki = [0 for i in range(len(temp))]\n",
    "        add_year = [0 for i in range(len(temp))]\n",
    "        add_month = [0 for i in range(len(temp))]\n",
    "        for i in range(len(temp)):\n",
    "            if not temp[i] == temp[i]:\n",
    "                add_year[i] = 2\n",
    "                add_month[i] = 0   \n",
    "                continue\n",
    "            if self.teiki_pat.match(temp[i]):\n",
    "                isteiki[i] = 1\n",
    "            if self.double_pat.match(temp[i]):\n",
    "                year = self.due_year_pat.search(temp[i])[0][:-1]\n",
    "                month = self.month_pat.search(temp[i])[0][:-3]\n",
    "                add_year[i] = int(year)\n",
    "                add_month[i] = int(month)\n",
    "            else:\n",
    "                if self.due_month_pat.search(temp[i]):\n",
    "                    year = self.due_year_pat.search(temp[i])[0][:-1]\n",
    "                    month = self.due_month_pat.search(temp[i])[0][:-3]\n",
    "                    year = int(year)-2019\n",
    "                    month = int(month)-9\n",
    "                    if month < 0:\n",
    "                        year -= 1\n",
    "                        month += 12\n",
    "                    add_year[i] = int(year)\n",
    "                    add_month[i] = int(month)\n",
    "                else:\n",
    "                    if self.year_pat.match(temp[i]):\n",
    "                        year = self.year_pat.match(temp[i])[0][:-2]\n",
    "                        month = 0\n",
    "                    else:\n",
    "                        year = 0\n",
    "                        month = self.month_pat.match(temp[i])[0][:-3]\n",
    "                    add_year[i] = int(year)\n",
    "                    add_month[i] = int(month)\n",
    "        hoge = hoge.drop([\"契約期間\"],axis = 1)\n",
    "        hoge = hoge.assign(is_teiki=isteiki)\n",
    "        hoge = hoge.assign(cont_year= add_year)\n",
    "        hoge = hoge.assign(cont_month= add_month)\n",
    "        return hoge\n",
    "\n",
    "fig = plt.figure()\n",
    "ax = fig.add_subplot(1,1,1)\n",
    "test = parse_contract_time()\n",
    "hoge = test.transform(train)\n",
    "ax.scatter(hoge[\"is_teiki\"],hoge[\"賃料\"])\n",
    "hoge.groupby(\"is_teiki\")[\"賃料\"].describe()"
   ]
  },
  {
   "cell_type": "code",
   "execution_count": 217,
   "metadata": {},
   "outputs": [
    {
     "data": {
      "text/plain": [
       "<matplotlib.collections.PathCollection at 0x13ad4aa10>"
      ]
     },
     "execution_count": 217,
     "metadata": {},
     "output_type": "execute_result"
    },
    {
     "data": {
      "image/png": "[encoded data removed]",
      "text/plain": [
       "<Figure size 432x288 with 1 Axes>"
      ]
     },
     "metadata": {
      "needs_background": "light"
     },
     "output_type": "display_data"
    }
   ],
   "source": [
    "fig = plt.figure()\n",
    "ax = fig.add_subplot(1,1,1)\n",
    "test = parse_contract_time()\n",
    "hoge = test.transform(train)\n",
    "ax.scatter(hoge[\"cont_year\"],hoge[\"賃料\"])"
   ]
  },
  {
   "cell_type": "code",
   "execution_count": 218,
   "metadata": {},
   "outputs": [
    {
     "data": {
      "text/plain": [
       "<matplotlib.collections.PathCollection at 0x13ac0b7d0>"
      ]
     },
     "execution_count": 218,
     "metadata": {},
     "output_type": "execute_result"
    },
    {
     "data": {
      "image/png": "[encoded data removed]",
      "text/plain": [
       "<Figure size 432x288 with 1 Axes>"
      ]
     },
     "metadata": {
      "needs_background": "light"
     },
     "output_type": "display_data"
    }
   ],
   "source": [
    "class parse_rooms:\n",
    "    def __init__(self):\n",
    "        pass\n",
    "    def fit(self,x,y):\n",
    "        return self\n",
    "    def transform(self,x):\n",
    "        hoge = x.copy()\n",
    "        temp = x[\"間取り\"].values\n",
    "        room = [0 for i in range(len(temp))]\n",
    "        head = [\"R\",\"L\",\"D\",\"K\",\"S\"]\n",
    "        setubi = [[0 for i in range(len(temp))] for j in range(5)]\n",
    "        for i in range(len(temp)):\n",
    "            room[i] = int(temp[i][0])\n",
    "            for j in range(5):\n",
    "                if head[j] in temp[i]:\n",
    "                    setubi[j][i] = 1\n",
    "        hoge = hoge.drop(\"間取り\",axis = 1)\n",
    "        hoge = hoge.assign(room = room)\n",
    "        hoge = hoge.assign(R = setubi[0])\n",
    "        hoge = hoge.assign(L = setubi[1])\n",
    "        hoge = hoge.assign(D = setubi[2])\n",
    "        hoge = hoge.assign(K = setubi[3])\n",
    "        hoge = hoge.assign(S = setubi[4])\n",
    "        return hoge\n",
    "fig = plt.figure()\n",
    "ax = fig.add_subplot(1,1,1)\n",
    "test = parse_rooms()\n",
    "hoge = test.transform(train)\n",
    "ax.scatter(hoge[\"room\"],hoge[\"賃料\"])"
   ]
  },
  {
   "cell_type": "code",
   "execution_count": 221,
   "metadata": {},
   "outputs": [
    {
     "data": {
      "image/png": "[encoded data removed]",
      "text/plain": [
       "<Figure size 432x288 with 1 Axes>"
      ]
     },
     "metadata": {
      "needs_background": "light"
     },
     "output_type": "display_data"
    },
    {
     "data": {
      "image/png": "[encoded data removed]",
      "text/plain": [
       "<Figure size 432x288 with 1 Axes>"
      ]
     },
     "metadata": {
      "needs_background": "light"
     },
     "output_type": "display_data"
    },
    {
     "data": {
      "image/png": "[encoded data removed]",
      "text/plain": [
       "<Figure size 432x288 with 1 Axes>"
      ]
     },
     "metadata": {
      "needs_background": "light"
     },
     "output_type": "display_data"
    },
    {
     "data": {
      "image/png": "[encoded data removed]",
      "text/plain": [
       "<Figure size 432x288 with 1 Axes>"
      ]
     },
     "metadata": {
      "needs_background": "light"
     },
     "output_type": "display_data"
    },
    {
     "data": {
      "image/png": "[encoded data removed]",
      "text/plain": [
       "<Figure size 432x288 with 1 Axes>"
      ]
     },
     "metadata": {
      "needs_background": "light"
     },
     "output_type": "display_data"
    }
   ],
   "source": [
    "temp = [\"R\",\"L\",\"D\",\"K\",\"S\"]\n",
    "for t in temp:\n",
    "    fig = plt.figure()\n",
    "    ax = fig.add_subplot(1,1,1)\n",
    "    test = parse_rooms()\n",
    "    hoge = test.transform(train)\n",
    "    ax.scatter(hoge[t],hoge[\"賃料\"])"
   ]
  },
  {
   "cell_type": "code",
   "execution_count": 222,
   "metadata": {},
   "outputs": [
    {
     "data": {
      "text/plain": [
       "<matplotlib.collections.PathCollection at 0x13988ee10>"
      ]
     },
     "execution_count": 222,
     "metadata": {},
     "output_type": "execute_result"
    },
    {
     "data": {
      "image/png": "[encoded data removed]",
      "text/plain": [
       "<Figure size 432x288 with 1 Axes>"
      ]
     },
     "metadata": {
      "needs_background": "light"
     },
     "output_type": "display_data"
    }
   ],
   "source": [
    "class height_encoder:\n",
    "    def __init__ (self):\n",
    "        pass\n",
    "    def fit(self,x,y):\n",
    "        return self\n",
    "    def transform(self,x):\n",
    "        fuga = x.copy()\n",
    "        tmp = x[\"所在階\"].values\n",
    "        where = [0 for i in range(len(tmp))]\n",
    "        what = [0 for i in range(len(tmp))]\n",
    "        for i in range(len(tmp)):\n",
    "            hoge =  tmp[i].split(\"／\")\n",
    "            if len(hoge) == 2:\n",
    "                if hoge[0] == \"\":\n",
    "                    hoge[0] = \"2階\"\n",
    "                if hoge[1] == \"\":\n",
    "                    hoge[1] = \"5階建て\"\n",
    "                x = int(re.search(r\"[0-9]+\",hoge[0])[0])\n",
    "                y = int(re.search(r\"[0-9]+\",hoge[1])[0])\n",
    "            else:\n",
    "                x = 2\n",
    "                y = 3\n",
    "            where[i] = x\n",
    "            what[i] = y\n",
    "        fuga = fuga.drop(\"所在階\",axis = 1)\n",
    "        fuga = fuga.assign(what_floor=where)\n",
    "        fuga = fuga.assign(height_bld=what)\n",
    "        return fuga\n",
    "fig = plt.figure()\n",
    "ax = fig.add_subplot(1,1,1)\n",
    "test = height_encoder()\n",
    "hoge = test.transform(train)\n",
    "ax.scatter(hoge[\"what_floor\"],hoge[\"賃料\"])"
   ]
  },
  {
   "cell_type": "code",
   "execution_count": 223,
   "metadata": {},
   "outputs": [
    {
     "data": {
      "text/plain": [
       "<matplotlib.collections.PathCollection at 0x13b96b5d0>"
      ]
     },
     "execution_count": 223,
     "metadata": {},
     "output_type": "execute_result"
    },
    {
     "data": {
      "image/png": "[encoded data removed]",
      "text/plain": [
       "<Figure size 432x288 with 1 Axes>"
      ]
     },
     "metadata": {
      "needs_background": "light"
     },
     "output_type": "display_data"
    }
   ],
   "source": [
    "fig = plt.figure()\n",
    "ax = fig.add_subplot(1,1,1)\n",
    "test = height_encoder()\n",
    "hoge = test.transform(train)\n",
    "ax.scatter(hoge[\"height_bld\"],hoge[\"賃料\"])"
   ]
  },
  {
   "cell_type": "code",
   "execution_count": 256,
   "metadata": {},
   "outputs": [
    {
     "name": "stdout",
     "output_type": "stream",
     "text": [
      "        count           mean           std      min      25%       50%  \\\n",
      "dir0                                                                     \n",
      "0.0   29504.0  117772.716411  73853.049925  25000.0  75750.0  101000.0   \n",
      "1.0    1966.0  126057.842319  71737.317201  28000.0  85000.0  109000.0   \n",
      "\n",
      "           75%        max  \n",
      "dir0                       \n",
      "0.0   136000.0  2500000.0  \n",
      "1.0   141000.0  1300000.0  \n",
      "        count           mean           std      min      25%       50%  \\\n",
      "dir1                                                                     \n",
      "0.0   30149.0  117885.999934  73344.254107  25000.0  76000.0  101000.0   \n",
      "1.0    1321.0  127517.737320  81933.836474  28000.0  87000.0  108000.0   \n",
      "\n",
      "           75%        max  \n",
      "dir1                       \n",
      "0.0   136000.0  2500000.0  \n",
      "1.0   141000.0  1300000.0  \n",
      "        count           mean           std      min      25%       50%  \\\n",
      "dir2                                                                     \n",
      "0.0   30144.0  117520.432458  73003.947683  25000.0  76000.0  101000.0   \n",
      "1.0    1326.0  135791.875566  87233.614138  40000.0  89125.0  116250.0   \n",
      "\n",
      "           75%        max  \n",
      "dir2                       \n",
      "0.0   135000.0  2500000.0  \n",
      "1.0   165000.0  1203500.0  \n",
      "        count           mean           std      min      25%       50%  \\\n",
      "dir3                                                                     \n",
      "0.0   19812.0  122809.526903  77233.574135  26000.0  80000.0  105000.0   \n",
      "1.0   11658.0  110610.190084  66719.430080  25000.0  72000.0   94000.0   \n",
      "\n",
      "           75%        max  \n",
      "dir3                       \n",
      "0.0   141000.0  2500000.0  \n",
      "1.0   128000.0  1800000.0  \n",
      "        count           mean           std      min      25%       50%  \\\n",
      "dir4                                                                     \n",
      "0.0   28372.0  116879.493268  72088.307898  25000.0  76000.0  101000.0   \n",
      "1.0    3098.0  131210.768238  86451.215451  26200.0  78000.0  110000.0   \n",
      "\n",
      "           75%        max  \n",
      "dir4                       \n",
      "0.0   135000.0  2500000.0  \n",
      "1.0   157000.0  1200000.0  \n",
      "        count           mean           std      min      25%       50%  \\\n",
      "dir5                                                                     \n",
      "0.0   28390.0  117373.836844  72915.915935  25000.0  76000.0  101000.0   \n",
      "1.0    3080.0  126737.894481  80546.998621  31000.0  81000.0  107250.0   \n",
      "\n",
      "           75%        max  \n",
      "dir5                       \n",
      "0.0   135000.0  2500000.0  \n",
      "1.0   149250.0  1450000.0  \n",
      "        count           mean           std      min      25%       50%  \\\n",
      "dir6                                                                     \n",
      "0.0   26475.0  119101.429348  74802.208164  25000.0  76000.0  102000.0   \n",
      "1.0    4995.0  113991.111311  67738.112452  28000.0  75000.0  100000.0   \n",
      "\n",
      "           75%        max  \n",
      "dir6                       \n",
      "0.0   137650.0  2500000.0  \n",
      "1.0   132000.0  1390000.0  \n",
      "        count           mean           std      min      25%       50%  \\\n",
      "dir7                                                                     \n",
      "0.0   27444.0  118498.161638  73718.728503  25000.0  76000.0  101500.0   \n",
      "1.0    4026.0  116873.421510  73947.101425  26000.0  78000.0  102300.0   \n",
      "\n",
      "           75%        max  \n",
      "dir7                       \n",
      "0.0   137000.0  1800000.0  \n",
      "1.0   133000.0  2500000.0  \n"
     ]
    },
    {
     "data": {
      "image/png": "[encoded data removed]",
      "text/plain": [
       "<Figure size 432x288 with 1 Axes>"
      ]
     },
     "metadata": {
      "needs_background": "light"
     },
     "output_type": "display_data"
    },
    {
     "data": {
      "image/png": "[encoded data removed]",
      "text/plain": [
       "<Figure size 432x288 with 1 Axes>"
      ]
     },
     "metadata": {
      "needs_background": "light"
     },
     "output_type": "display_data"
    },
    {
     "data": {
      "image/png": "[encoded data removed]",
      "text/plain": [
       "<Figure size 432x288 with 1 Axes>"
      ]
     },
     "metadata": {
      "needs_background": "light"
     },
     "output_type": "display_data"
    },
    {
     "data": {
      "image/png": "[encoded data removed]",
      "text/plain": [
       "<Figure size 432x288 with 1 Axes>"
      ]
     },
     "metadata": {
      "needs_background": "light"
     },
     "output_type": "display_data"
    },
    {
     "data": {
      "image/png": "[encoded data removed]",
      "text/plain": [
       "<Figure size 432x288 with 1 Axes>"
      ]
     },
     "metadata": {
      "needs_background": "light"
     },
     "output_type": "display_data"
    },
    {
     "data": {
      "image/png": "[encoded data removed]",
      "text/plain": [
       "<Figure size 432x288 with 1 Axes>"
      ]
     },
     "metadata": {
      "needs_background": "light"
     },
     "output_type": "display_data"
    },
    {
     "data": {
      "image/png": "[encoded data removed]",
      "text/plain": [
       "<Figure size 432x288 with 1 Axes>"
      ]
     },
     "metadata": {
      "needs_background": "light"
     },
     "output_type": "display_data"
    },
    {
     "data": {
      "image/png": "[encoded data removed]",
      "text/plain": [
       "<Figure size 432x288 with 1 Axes>"
      ]
     },
     "metadata": {
      "needs_background": "light"
     },
     "output_type": "display_data"
    }
   ],
   "source": [
    "class direction_encoder:\n",
    "    def __init__(self):\n",
    "        self.encoder = OneHotEncoder(sparse=False,handle_unknown=\"ignore\")\n",
    "    def fit(self,x,y):\n",
    "        self.encoder.fit(x[\"方角\"].fillna(\"南\").values.reshape(-1,1))\n",
    "        return self\n",
    "    def transform(self,x):\n",
    "        tmp = x[\"方角\"]\n",
    "        tmp = tmp.fillna(\"南\")\n",
    "        tmp = pd.DataFrame(self.encoder.transform(tmp.values.reshape(-1,1)))\n",
    "        c_num = len(tmp.columns)\n",
    "        col = []\n",
    "        for i in range(c_num):\n",
    "            col.append(\"dir\"+str(i))\n",
    "        tmp.columns = col\n",
    "        hoge = x.drop(\"方角\",axis = 1)\n",
    "        tmp.index = hoge.index\n",
    "        return pd.concat([hoge,tmp],axis = 1)\n",
    "    \n",
    "\n",
    "for i in range(8):\n",
    "    fig = plt.figure()\n",
    "    ax = fig.add_subplot(1,1,1)\n",
    "    test = direction_encoder()\n",
    "    test.fit(train,test)\n",
    "    hoge = test.transform(train)\n",
    "    ax.scatter(hoge[\"dir\"+str(i)],hoge[\"賃料\"])\n",
    "    print(hoge.groupby(\"dir\"+str(i))[\"賃料\"].describe())"
   ]
  },
  {
   "cell_type": "code",
   "execution_count": null,
   "metadata": {},
   "outputs": [],
   "source": [
    "class direction_encoder:\n",
    "    def __init__(self):\n",
    "        self.encoder = OneHotEncoder(sparse=False,handle_unknown=\"ignore\")\n",
    "    def fit(self,x,y):\n",
    "        self.encoder.fit(x[\"方角\"].fillna(\"南\").values.reshape(-1,1))\n",
    "        return self\n",
    "    def transform(self,x):\n",
    "        tmp = x[\"方角\"]\n",
    "        tmp = tmp.fillna(\"南\")\n",
    "        tmp = pd.DataFrame(self.encoder.transform(tmp.values.reshape(-1,1)))\n",
    "        c_num = len(tmp.columns)\n",
    "        col = []\n",
    "        for i in range(c_num):\n",
    "            col.append(\"dir\"+str(i))\n",
    "        tmp.columns = col\n",
    "        hoge = x.drop(\"方角\",axis = 1)\n",
    "        tmp.index = hoge.index\n",
    "        return pd.concat([hoge,tmp],axis = 1)\n",
    "    \n",
    "\n",
    "for i in range(8):\n",
    "    fig = plt.figure()\n",
    "    ax = fig.add_subplot(1,1,1)\n",
    "    test = direction_encoder()\n",
    "    test.fit(train,test)\n",
    "    hoge = test.transform(train)\n",
    "    ax.scatter(hoge[\"dir\"+str(i)],hoge[\"賃料\"])\n",
    "    print(hoge.groupby(\"dir\"+str(i))[\"賃料\"].describe())"
   ]
  }
 ],
 "metadata": {
  "kernelspec": {
   "display_name": "Python 3",
   "language": "python",
   "name": "python3"
  },
  "language_info": {
   "codemirror_mode": {
    "name": "ipython",
    "version": 3
   },
   "file_extension": ".py",
   "mimetype": "text/x-python",
   "name": "python",
   "nbconvert_exporter": "python",
   "pygments_lexer": "ipython3",
   "version": "3.7.4"
  }
 },
 "nbformat": 4,
 "nbformat_minor": 4
}
