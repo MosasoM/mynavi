{
 "cells": [
  {
   "cell_type": "code",
   "execution_count": 1,
   "metadata": {},
   "outputs": [
    {
     "name": "stderr",
     "output_type": "stream",
     "text": [
      "/Users/kakeru/PycharmProjects/main_env/lib/python3.7/site-packages/lightgbm/__init__.py:46: UserWarning: Starting from version 2.2.1, the library file in distribution wheels for macOS is built by the Apple Clang (Xcode_8.3.3) compiler.\n",
      "This means that in case of installing LightGBM from PyPI via the ``pip install lightgbm`` command, you don't need to install the gcc compiler anymore.\n",
      "Instead of that, you need to install the OpenMP library, which is required for running LightGBM on the system with the Apple Clang compiler.\n",
      "You can install the OpenMP library by the following command: ``brew install libomp``.\n",
      "  \"You can install the OpenMP library by the following command: ``brew install libomp``.\", UserWarning)\n"
     ]
    }
   ],
   "source": [
    "import sys\n",
    "sys.path.append(\"../\")\n",
    "import warnings\n",
    "warnings.filterwarnings(\"ignore\",category=FutureWarning)\n",
    "import xgboost as xgb\n",
    "from sklearn.ensemble import RandomForestRegressor\n",
    "import catboost as ctb\n",
    "from sklearn.linear_model import Lasso,Ridge,ElasticNet\n",
    "from sklearn.linear_model import LassoCV\n",
    "import lightgbm as lgbm\n",
    "import numpy as np\n",
    "import pandas as pd\n",
    "from preprocess_block import *\n",
    "from sklearn.pipeline import Pipeline\n",
    "from sklearn.preprocessing import scale\n",
    "from sklearn.model_selection import cross_val_score\n",
    "from sklearn.svm import SVR\n",
    "from sklearn.linear_model import LinearRegression\n",
    "import glob\n",
    "import re\n",
    "from sklearn.svm import SVR\n",
    "\n",
    "\n",
    "train = pd.read_csv(\"../train_with_ido.csv\")\n",
    "train = train.dropna(subset=[\"賃料\"])\n",
    "train = train.drop(20926)\n",
    "train = train.drop(20231)\n",
    "train = train.drop(20427)\n",
    "train = train.drop(5775)\n",
    "train = train.drop(\"Unnamed: 0\",axis=1)\n",
    "\n",
    "test = pd.read_csv(\"../test_with_ido.csv\")\n",
    "test = test.drop(\"Unnamed: 0\",axis=1)\n",
    "\n",
    "train_height = pd.read_csv(\"../train_height.csv\",header=None)\n",
    "train_height = train_height.values[0][:-1]\n",
    "test_height = pd.read_csv(\"../test_height.csv\",header=None)\n",
    "test_height = test_height.values[0][:-1]\n",
    "\n",
    "train = train.assign(field_height=train_height)\n",
    "test = test.assign(field_height=test_height)\n",
    "\n",
    "train_x = train.drop(\"賃料\",axis=1)\n",
    "train_y = train[\"賃料\"]\n",
    "\n",
    "rp = tree_preprocess(7777)\n",
    "rpstep = rp.steps\n",
    "tree_steps = [\n",
    "    (\"pre\",Pipeline(steps=rpstep)),\n",
    "    (\"dummy\",dummy())\n",
    "]\n",
    "\n",
    "rp = linear_preprocess()\n",
    "rpstep = rp.steps\n",
    "linear_steps = [\n",
    "    (\"pre\",Pipeline(steps=rpstep)),\n",
    "    (\"dummy\",dummy())\n",
    "]\n",
    "\n",
    "tree_pre = Pipeline(steps=tree_steps)\n",
    "lin_pre = Pipeline(steps=linear_steps)\n",
    "\n",
    "tree_pre.fit(train_x,train_y)\n",
    "lin_pre.fit(train_x,train_y)\n",
    "\n",
    "tree_x = tree_pre.predict(train_x)\n",
    "lin_x = lin_pre.predict(train_x)\n",
    "sc_lin_x = scale(lin_x)\n",
    "\n",
    "tree_test = tree_pre.predict(test)"
   ]
  },
  {
   "cell_type": "code",
   "execution_count": 42,
   "metadata": {},
   "outputs": [
    {
     "name": "stdout",
     "output_type": "stream",
     "text": [
      "1997\n",
      "[16691.97850664 14159.63940835 15137.69087547 13025.8152132 ]\n",
      "14753.781000915344\n",
      "8888\n",
      "[16274.65687291 14492.03074791 15278.31997561 13282.86418636]\n",
      "14831.967945696582\n",
      "5555\n",
      "[16127.5806941  14293.54300819 15442.59824842 13215.71702655]\n",
      "14769.859744315194\n",
      "7777\n",
      "[16115.2658616  14406.26857833 15192.86510416 12881.65510048]\n",
      "14649.01366114434\n",
      "7777\n",
      "[16115.2658616  14406.26857833 15192.86510416 12881.65510048]\n",
      "14649.01366114434\n",
      "5555\n",
      "[16127.5806941  14293.54300819 15442.59824842 13215.71702655]\n",
      "14769.859744315194\n"
     ]
    }
   ],
   "source": [
    "samples = 6\n",
    "\n",
    "temp = glob.glob(\"./class/*\")\n",
    "subpat = re.compile(\"(./class/|./stacked/)\")\n",
    "\n",
    "buf = []\n",
    "pred_all = []\n",
    "for i in range(samples):\n",
    "    txt = subpat.sub(\"\",temp[i])\n",
    "    seed = re.match(r\"[0-9]+\",txt)[0]\n",
    "    \n",
    "    hoge = np.loadtxt(\"./stack/\"+str(seed)+\"train.csv\")\n",
    "    piyo = np.loadtxt(\"./class/\"+str(seed)+\"_class_train.csv\")\n",
    "    \n",
    "    \n",
    "    \n",
    "    hoge = np.concatenate([hoge,piyo],axis=1)\n",
    "    \n",
    "    hoge = scale(hoge)\n",
    "#     hoge = np.delete(hoge,[1, 4, 5, 8, 9, 10, 11, 12, 13, 15, 16,\n",
    "#                            18, 19, 21, 22, 23, 24, 25, 26, 27, 28,\n",
    "#                            29, 30, 32, 33, 34, 35, 37, 38, 41, 42],axis=1)\n",
    "\n",
    "    hoge = np.delete(hoge,[3, 9, 10, 11, 12, 14, 16, 18, 20],axis=1)\n",
    "    \n",
    "    print(seed)\n",
    "    scores = cross_val_score(Lasso(random_state=7777,max_iter=10000,positive=True,alpha=10),hoge,train_y,scoring=\"neg_mean_squared_error\",cv=4)\n",
    "    scores = np.sqrt(-np.array(scores))\n",
    "    print(scores)\n",
    "    print(np.mean(scores))\n",
    "\n",
    "    \n",
    "    model = Lasso(random_state=7777,max_iter=10000,positive=True,alpha=10)\n",
    "    model.fit(hoge,train_y)\n",
    "#     buf.append(model.coef_)\n",
    "    \n",
    "    hoge = np.loadtxt(\"./stack/\"+str(seed)+\"test.csv\")\n",
    "    piyo = np.loadtxt(\"./class/\"+str(seed)+\"_class_test.csv\")\n",
    "    \n",
    "    \n",
    "    hoge = np.concatenate([hoge,piyo],axis=1)\n",
    "\n",
    "    hoge = scale(hoge)\n",
    "    hoge = np.delete(hoge,[3, 9, 10, 11, 12, 14, 16, 18, 20],axis=1)\n",
    "    \n",
    "    \n",
    "    \n",
    "#     hoge = np.delete(hoge,[1, 4, 5, 8, 9, 10, 11, 12, 13, 15, 16,\n",
    "#                            18, 19, 21, 22, 23, 24, 25, 26, 27, 28,\n",
    "#                            29, 30, 32, 33, 34, 35, 37, 38, 41, 42],axis=1)\n",
    "    pred = model.predict(hoge)\n",
    "\n",
    "\n",
    "    \n",
    "#     pred_all.append(pred)\n",
    "# pred_all = np.array(pred_all)\n",
    "# pred = np.mean(pred_all,axis=0)\n",
    "# pred = pd.DataFrame(pred)\n",
    "# pred.columns=[\"pred\"]\n",
    "# pred.index = test.index\n",
    "# pred = pd.concat([test[\"id\"],pred],axis=1)\n",
    "# pred.to_csv(\"final_sub2.csv\",header=False,index=False)\n"
   ]
  },
  {
   "cell_type": "code",
   "execution_count": null,
   "metadata": {},
   "outputs": [],
   "source": [
    "1997\n",
    "[16738.76587572 14203.26648148 15221.40766615 13012.05691271]\n",
    "14793.874234015691\n",
    "8888\n",
    "[16322.3705524  14496.06980695 15340.27256838 13247.54838116]\n",
    "14851.56532722544\n",
    "5555\n",
    "[16152.50154781 14294.51244658 15484.51407981 13148.7461316 ]\n",
    "14770.068551449753\n",
    "7777\n",
    "[16148.53998282 14426.78311822 15289.43638427 12790.06259312]\n",
    "14663.705519609099\n",
    "7777\n",
    "[16148.53998282 14426.78311822 15289.43638427 12790.06259312]\n",
    "14663.705519609099\n",
    "5555\n",
    "[16152.50154781 14294.51244658 15484.51407981 13148.7461316 ]\n",
    "14770.068551449753"
   ]
  },
  {
   "cell_type": "code",
   "execution_count": null,
   "metadata": {},
   "outputs": [],
   "source": [
    "1997\n",
    "[16337.99983831 14889.99800445 15024.39239171 12972.99246695]\n",
    "14806.34567535379\n",
    "8888\n",
    "[16115.1132383  14799.39001815 15065.4364283  12987.15187551]\n",
    "14741.772890064385\n",
    "5555\n",
    "[16339.98017893 14634.11268197 14973.09429393 12763.93826199]\n",
    "14677.781354207746\n",
    "1719\n",
    "[16142.22331116 14901.80751391 15207.91266322 12934.28055816]\n",
    "14796.556011613393\n",
    "7777\n",
    "[16018.21382125 14696.55825358 15219.97512567 13055.14735897]\n",
    "14747.473639867092\n",
    "7777\n",
    "[16018.21382125 14696.55825358 15219.97512567 13055.14735897]\n",
    "14747.473639867092\n",
    "317\n",
    "[16226.85484568 15099.29598543 15477.92927736 13323.2468622 ]\n",
    "15031.831742665394"
   ]
  },
  {
   "cell_type": "code",
   "execution_count": 10,
   "metadata": {},
   "outputs": [
    {
     "ename": "NameError",
     "evalue": "name 'clf' is not defined",
     "output_type": "error",
     "traceback": [
      "\u001b[0;31m---------------------------------------------------------------------------\u001b[0m",
      "\u001b[0;31mNameError\u001b[0m                                 Traceback (most recent call last)",
      "\u001b[0;32m<ipython-input-10-c3dadc8d3881>\u001b[0m in \u001b[0;36m<module>\u001b[0;34m\u001b[0m\n\u001b[0;32m----> 1\u001b[0;31m \u001b[0mprint\u001b[0m\u001b[0;34m(\u001b[0m\u001b[0mclf\u001b[0m\u001b[0;34m.\u001b[0m\u001b[0malpha_\u001b[0m\u001b[0;34m)\u001b[0m\u001b[0;34m\u001b[0m\u001b[0;34m\u001b[0m\u001b[0m\n\u001b[0m",
      "\u001b[0;31mNameError\u001b[0m: name 'clf' is not defined"
     ]
    }
   ],
   "source": [
    "print(clf.alpha_)"
   ]
  },
  {
   "cell_type": "code",
   "execution_count": 18,
   "metadata": {},
   "outputs": [
    {
     "name": "stdout",
     "output_type": "stream",
     "text": [
      "[4.73610975e+04 4.56822175e+03 1.94793403e+05 0.00000000e+00\n",
      " 5.67631843e+03 1.05683302e+03 1.60036479e+05 3.44997366e+03\n",
      " 9.46980502e+04 0.00000000e+00 0.00000000e+00 0.00000000e+00\n",
      " 0.00000000e+00 4.70463048e+02 0.00000000e+00 4.13831453e+02\n",
      " 0.00000000e+00 5.05867896e+01 0.00000000e+00 6.23501981e+00\n",
      " 0.00000000e+00]\n"
     ]
    }
   ],
   "source": [
    "ans = []\n",
    "buf = np.sum(buf,axis=0)\n",
    "print(buf)\n",
    "for i in range(len(buf)):\n",
    "    if buf[i] == 0:\n",
    "        ans.append(i)"
   ]
  },
  {
   "cell_type": "code",
   "execution_count": 19,
   "metadata": {},
   "outputs": [
    {
     "name": "stdout",
     "output_type": "stream",
     "text": [
      "[3, 9, 10, 11, 12, 14, 16, 18, 20]\n"
     ]
    }
   ],
   "source": [
    "print(ans)"
   ]
  },
  {
   "cell_type": "code",
   "execution_count": null,
   "metadata": {},
   "outputs": [],
   "source": [
    "[38862.1131791  31239.275001   36210.80308198 30431.74958923]\n",
    "34185.985212824664\n",
    "C8192 eps 0.1\n",
    "[37438.86370286 29631.83440891 34315.00666053 28752.31851029]\n",
    "32534.50582064814\n",
    "C100000 eps 0.3\n",
    "[28472.32399159 18427.70794033 23163.08479282 19680.092542  ]\n",
    "22435.80231668332"
   ]
  }
 ],
 "metadata": {
  "kernelspec": {
   "display_name": "Python 3",
   "language": "python",
   "name": "python3"
  },
  "language_info": {
   "codemirror_mode": {
    "name": "ipython",
    "version": 3
   },
   "file_extension": ".py",
   "mimetype": "text/x-python",
   "name": "python",
   "nbconvert_exporter": "python",
   "pygments_lexer": "ipython3",
   "version": "3.7.4"
  }
 },
 "nbformat": 4,
 "nbformat_minor": 4
}
