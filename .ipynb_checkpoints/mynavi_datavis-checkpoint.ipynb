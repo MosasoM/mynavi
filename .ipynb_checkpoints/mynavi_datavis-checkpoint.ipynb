{
 "cells": [
  {
   "cell_type": "code",
   "execution_count": 305,
   "metadata": {},
   "outputs": [],
   "source": [
    "import matplotlib.pyplot as plt\n",
    "import seaborn as sns\n",
    "import numpy as np\n",
    "import pandas as pd\n",
    "import numpy as np\n",
    "from scipy import stats as st\n",
    "import re\n",
    "from sklearn.preprocessing import OneHotEncoder\n",
    "from scipy.stats import probplot\n",
    "from scipy.stats import shapiro"
   ]
  },
  {
   "cell_type": "code",
   "execution_count": 449,
   "metadata": {},
   "outputs": [],
   "source": [
    "train = pd.read_csv(\"train.csv\")\n",
    "test = pd.read_csv(\"test.csv\")\n",
    "train = train.drop(20926)\n",
    "train = train.drop(20231)\n",
    "train = train.drop(20427)\n",
    "train = train.drop(5775)"
   ]
  },
  {
   "cell_type": "code",
   "execution_count": 8,
   "metadata": {},
   "outputs": [
    {
     "data": {
      "text/plain": [
       "Index(['id', '賃料', '所在地', 'アクセス', '間取り', '築年数', '方角', '面積', '所在階', 'バス・トイレ',\n",
       "       'キッチン', '放送・通信', '室内設備', '駐車場', '周辺環境', '建物構造', '契約期間'],\n",
       "      dtype='object')"
      ]
     },
     "execution_count": 8,
     "metadata": {},
     "output_type": "execute_result"
    }
   ],
   "source": [
    "train.columns"
   ]
  },
  {
   "cell_type": "code",
   "execution_count": 472,
   "metadata": {},
   "outputs": [
    {
     "data": {
      "text/html": [
       "<div>\n",
       "<style scoped>\n",
       "    .dataframe tbody tr th:only-of-type {\n",
       "        vertical-align: middle;\n",
       "    }\n",
       "\n",
       "    .dataframe tbody tr th {\n",
       "        vertical-align: top;\n",
       "    }\n",
       "\n",
       "    .dataframe thead th {\n",
       "        text-align: right;\n",
       "    }\n",
       "</style>\n",
       "<table border=\"1\" class=\"dataframe\">\n",
       "  <thead>\n",
       "    <tr style=\"text-align: right;\">\n",
       "      <th></th>\n",
       "      <th>id</th>\n",
       "      <th>賃料</th>\n",
       "    </tr>\n",
       "  </thead>\n",
       "  <tbody>\n",
       "    <tr>\n",
       "      <th>count</th>\n",
       "      <td>31466.000000</td>\n",
       "      <td>3.146600e+04</td>\n",
       "    </tr>\n",
       "    <tr>\n",
       "      <th>mean</th>\n",
       "      <td>15735.359499</td>\n",
       "      <td>1.182572e+05</td>\n",
       "    </tr>\n",
       "    <tr>\n",
       "      <th>std</th>\n",
       "      <td>9085.033742</td>\n",
       "      <td>7.349901e+04</td>\n",
       "    </tr>\n",
       "    <tr>\n",
       "      <th>min</th>\n",
       "      <td>1.000000</td>\n",
       "      <td>2.500000e+04</td>\n",
       "    </tr>\n",
       "    <tr>\n",
       "      <th>25%</th>\n",
       "      <td>7868.250000</td>\n",
       "      <td>7.600000e+04</td>\n",
       "    </tr>\n",
       "    <tr>\n",
       "      <th>50%</th>\n",
       "      <td>15734.500000</td>\n",
       "      <td>1.020000e+05</td>\n",
       "    </tr>\n",
       "    <tr>\n",
       "      <th>75%</th>\n",
       "      <td>23603.750000</td>\n",
       "      <td>1.360000e+05</td>\n",
       "    </tr>\n",
       "    <tr>\n",
       "      <th>max</th>\n",
       "      <td>31470.000000</td>\n",
       "      <td>2.500000e+06</td>\n",
       "    </tr>\n",
       "  </tbody>\n",
       "</table>\n",
       "</div>"
      ],
      "text/plain": [
       "                 id            賃料\n",
       "count  31466.000000  3.146600e+04\n",
       "mean   15735.359499  1.182572e+05\n",
       "std     9085.033742  7.349901e+04\n",
       "min        1.000000  2.500000e+04\n",
       "25%     7868.250000  7.600000e+04\n",
       "50%    15734.500000  1.020000e+05\n",
       "75%    23603.750000  1.360000e+05\n",
       "max    31470.000000  2.500000e+06"
      ]
     },
     "execution_count": 472,
     "metadata": {},
     "output_type": "execute_result"
    }
   ],
   "source": [
    "train.describe()"
   ]
  },
  {
   "cell_type": "code",
   "execution_count": 500,
   "metadata": {},
   "outputs": [
    {
     "data": {
      "text/html": [
       "<div>\n",
       "<style scoped>\n",
       "    .dataframe tbody tr th:only-of-type {\n",
       "        vertical-align: middle;\n",
       "    }\n",
       "\n",
       "    .dataframe tbody tr th {\n",
       "        vertical-align: top;\n",
       "    }\n",
       "\n",
       "    .dataframe thead th {\n",
       "        text-align: right;\n",
       "    }\n",
       "</style>\n",
       "<table border=\"1\" class=\"dataframe\">\n",
       "  <thead>\n",
       "    <tr style=\"text-align: right;\">\n",
       "      <th></th>\n",
       "      <th>id</th>\n",
       "      <th>賃料</th>\n",
       "      <th>所在地</th>\n",
       "      <th>アクセス</th>\n",
       "      <th>間取り</th>\n",
       "      <th>築年数</th>\n",
       "      <th>方角</th>\n",
       "      <th>面積</th>\n",
       "      <th>所在階</th>\n",
       "      <th>バス・トイレ</th>\n",
       "      <th>キッチン</th>\n",
       "      <th>放送・通信</th>\n",
       "      <th>室内設備</th>\n",
       "      <th>駐車場</th>\n",
       "      <th>周辺環境</th>\n",
       "      <th>建物構造</th>\n",
       "      <th>契約期間</th>\n",
       "    </tr>\n",
       "  </thead>\n",
       "  <tbody>\n",
       "    <tr>\n",
       "      <th>0</th>\n",
       "      <td>1</td>\n",
       "      <td>75000</td>\n",
       "      <td>東京都北区滝野川３丁目</td>\n",
       "      <td>都営三田線\\t西巣鴨駅\\t徒歩4分\\t\\t埼京線\\t板橋駅\\t徒歩14分\\t\\t都電荒川線\\...</td>\n",
       "      <td>1K</td>\n",
       "      <td>9年9ヶ月</td>\n",
       "      <td>南東</td>\n",
       "      <td>20.01m2</td>\n",
       "      <td>1階／12階建</td>\n",
       "      <td>専用バス／\\t専用トイレ／\\tバス・トイレ別／\\tシャワー／\\t浴室乾燥機\\t／\\t温水洗浄便座</td>\n",
       "      <td>ガスコンロ／\\tコンロ2口／\\tシステムキッチン\\t／\\t給湯</td>\n",
       "      <td>インターネット対応／\\tCATV／\\tCSアンテナ／\\tBSアンテナ</td>\n",
       "      <td>エアコン付\\tシューズボックス／\\tバルコニー／\\tフローリング／\\t室内洗濯機置場／\\t敷...</td>\n",
       "      <td>駐輪場\\t空有</td>\n",
       "      <td>【小学校】 495m\\t【大学】 461m\\t【小学校】 962m\\t【公園】 1103m\\...</td>\n",
       "      <td>RC（鉄筋コンクリート）</td>\n",
       "      <td>2年間</td>\n",
       "    </tr>\n",
       "  </tbody>\n",
       "</table>\n",
       "</div>"
      ],
      "text/plain": [
       "   id     賃料          所在地                                               アクセス  \\\n",
       "0   1  75000  東京都北区滝野川３丁目  都営三田線\\t西巣鴨駅\\t徒歩4分\\t\\t埼京線\\t板橋駅\\t徒歩14分\\t\\t都電荒川線\\...   \n",
       "\n",
       "  間取り    築年数  方角       面積      所在階  \\\n",
       "0  1K  9年9ヶ月  南東  20.01m2  1階／12階建   \n",
       "\n",
       "                                             バス・トイレ  \\\n",
       "0  専用バス／\\t専用トイレ／\\tバス・トイレ別／\\tシャワー／\\t浴室乾燥機\\t／\\t温水洗浄便座   \n",
       "\n",
       "                              キッチン                               放送・通信  \\\n",
       "0  ガスコンロ／\\tコンロ2口／\\tシステムキッチン\\t／\\t給湯  インターネット対応／\\tCATV／\\tCSアンテナ／\\tBSアンテナ   \n",
       "\n",
       "                                                室内設備      駐車場  \\\n",
       "0  エアコン付\\tシューズボックス／\\tバルコニー／\\tフローリング／\\t室内洗濯機置場／\\t敷...  駐輪場\\t空有   \n",
       "\n",
       "                                                周辺環境          建物構造 契約期間  \n",
       "0  【小学校】 495m\\t【大学】 461m\\t【小学校】 962m\\t【公園】 1103m\\...  RC（鉄筋コンクリート）  2年間  "
      ]
     },
     "execution_count": 500,
     "metadata": {},
     "output_type": "execute_result"
    }
   ],
   "source": [
    "train.head(1)"
   ]
  },
  {
   "cell_type": "code",
   "execution_count": 474,
   "metadata": {},
   "outputs": [
    {
     "data": {
      "text/plain": [
       "29555"
      ]
     },
     "execution_count": 474,
     "metadata": {},
     "output_type": "execute_result"
    }
   ],
   "source": [
    "train[\"所在地\"].str.contains(\"丁目\").sum()"
   ]
  },
  {
   "cell_type": "code",
   "execution_count": 471,
   "metadata": {},
   "outputs": [
    {
     "name": "stdout",
     "output_type": "stream",
     "text": [
      "東京都江東区\n",
      "東京都港区\n",
      "31464\n"
     ]
    }
   ],
   "source": [
    "train[\"所在地\"][31440]\n",
    "pat = r\"区.+?([０-９]|[0-9]|町)\"\n",
    "c = 0\n",
    "for txt in train[\"所在地\"].values:\n",
    "    if re.search(pat,txt):\n",
    "        c += 1\n",
    "    else:\n",
    "        p2 = r\"区.+\"\n",
    "        if re.search(p2,txt):\n",
    "            c+= 1\n",
    "        else:\n",
    "            print(txt)\n",
    "print(c)"
   ]
  },
  {
   "cell_type": "code",
   "execution_count": 187,
   "metadata": {},
   "outputs": [
    {
     "data": {
      "text/plain": [
       "<re.Match object; span=(9, 13), match='徒歩5分'>"
      ]
     },
     "execution_count": 187,
     "metadata": {},
     "output_type": "execute_result"
    }
   ],
   "source": [
    "re.search(r\".+?線\",train[\"アクセス\"][0])\n",
    "re.search(r\"徒歩.+?分\",train[\"アクセス\"][1200])"
   ]
  },
  {
   "cell_type": "code",
   "execution_count": 189,
   "metadata": {},
   "outputs": [
    {
     "name": "stdout",
     "output_type": "stream",
     "text": [
      "31470\n"
     ]
    }
   ],
   "source": [
    "print(train[\"アクセス\"].str.contains(\"線\").count())"
   ]
  },
  {
   "cell_type": "code",
   "execution_count": 12,
   "metadata": {},
   "outputs": [
    {
     "name": "stdout",
     "output_type": "stream",
     "text": [
      "方角 2749\n",
      "バス・トイレ 329\n",
      "キッチン 621\n",
      "放送・通信 3440\n",
      "室内設備 82\n",
      "駐車場 5287\n",
      "周辺環境 9432\n",
      "契約期間 7120\n"
     ]
    }
   ],
   "source": [
    "for col in train.columns:\n",
    "    if train[col].isnull().sum() > 0:\n",
    "        print(col + \" \" + str(train[col].isnull().sum()))"
   ]
  },
  {
   "cell_type": "code",
   "execution_count": 13,
   "metadata": {},
   "outputs": [
    {
     "name": "stdout",
     "output_type": "stream",
     "text": [
      "31470\n"
     ]
    }
   ],
   "source": [
    "print(train[\"面積\"].str.contains(\"ms\").count())"
   ]
  },
  {
   "cell_type": "code",
   "execution_count": 14,
   "metadata": {},
   "outputs": [
    {
     "name": "stdout",
     "output_type": "stream",
     "text": [
      "31470\n"
     ]
    }
   ],
   "source": [
    "print(train[\"築年数\"].str.contains(\"月\").count())"
   ]
  },
  {
   "cell_type": "code",
   "execution_count": 360,
   "metadata": {},
   "outputs": [
    {
     "data": {
      "text/plain": [
       "建物構造\n",
       "ALC（軽量気泡コンクリート）                  297\n",
       "HPC（プレキャスト・コンクリート（重量鉄骨））           4\n",
       "PC（プレキャスト・コンクリート（鉄筋コンクリート））       46\n",
       "RC（鉄筋コンクリート）                   17505\n",
       "SRC（鉄骨鉄筋コンクリート）                 2429\n",
       "その他                              136\n",
       "ブロック                               3\n",
       "木造                              5512\n",
       "軽量鉄骨                            1812\n",
       "鉄骨造                             3726\n",
       "Name: id, dtype: int64"
      ]
     },
     "execution_count": 360,
     "metadata": {},
     "output_type": "execute_result"
    }
   ],
   "source": [
    "train.groupby(\"建物構造\").count()[\"id\"]"
   ]
  },
  {
   "cell_type": "code",
   "execution_count": 362,
   "metadata": {},
   "outputs": [
    {
     "data": {
      "text/plain": [
       "array(['RC（鉄筋コンクリート）', '鉄骨造', '木造', 'SRC（鉄骨鉄筋コンクリート）', '軽量鉄骨',\n",
       "       'ALC（軽量気泡コンクリート）', 'その他', 'PC（プレキャスト・コンクリート（鉄筋コンクリート））',\n",
       "       'HPC（プレキャスト・コンクリート（重量鉄骨））', 'ブロック'], dtype=object)"
      ]
     },
     "execution_count": 362,
     "metadata": {},
     "output_type": "execute_result"
    }
   ],
   "source": [
    "train[\"建物構造\"].unique()"
   ]
  },
  {
   "cell_type": "code",
   "execution_count": 389,
   "metadata": {},
   "outputs": [
    {
     "data": {
      "text/plain": [
       "array(['南東', nan, '南', '東', '北西', '西', '北', '南西', '北東'], dtype=object)"
      ]
     },
     "execution_count": 389,
     "metadata": {},
     "output_type": "execute_result"
    }
   ],
   "source": [
    "train[\"方角\"].unique()"
   ]
  },
  {
   "cell_type": "code",
   "execution_count": 392,
   "metadata": {},
   "outputs": [
    {
     "data": {
      "text/plain": [
       "方角\n",
       "北     1966\n",
       "北東    1321\n",
       "北西    1326\n",
       "南     8909\n",
       "南東    3098\n",
       "南西    3080\n",
       "東     4995\n",
       "西     4026\n",
       "Name: id, dtype: int64"
      ]
     },
     "execution_count": 392,
     "metadata": {},
     "output_type": "execute_result"
    }
   ],
   "source": [
    "train.groupby(\"方角\").count()[\"id\"]"
   ]
  },
  {
   "cell_type": "code",
   "execution_count": 393,
   "metadata": {},
   "outputs": [
    {
     "name": "stdout",
     "output_type": "stream",
     "text": [
      "{'北西': -3, '北東': -1, '北': -4, '南西': 1, '南東': 3, '南': 4, '西': -2, '東': 2, '': 0}\n"
     ]
    }
   ],
   "source": [
    "temp1 = {\"北\":-2,\"南\":2,\"\":0}\n",
    "temp2 = {\"西\":-1,\"東\":1,\"\":0}\n",
    "hoge = {}\n",
    "\n",
    "for key1 in temp1.keys():\n",
    "    for key2 in temp2.keys():\n",
    "        if key1 == \"\":\n",
    "            hoge[key2] = temp2[key2]*2\n",
    "        elif key2 == \"\":\n",
    "            hoge[key1] = temp1[key1]*2\n",
    "        else:\n",
    "            key = key1+key2\n",
    "            val = temp1[key1]+temp2[key2]\n",
    "            val = val\n",
    "            hoge[key] = val\n",
    "print(hoge)\n"
   ]
  },
  {
   "cell_type": "code",
   "execution_count": null,
   "metadata": {},
   "outputs": [],
   "source": [
    "{'ブロック':0, '木造':0, \n",
    " '軽量鉄骨':1,'鉄骨造':1,'ALC（軽量気泡コンクリート）':1,\n",
    " 'RC（鉄筋コンクリート）':2,'SRC（鉄骨鉄筋コンクリート）':2, 'その他':2,\n",
    " 'PC（プレキャスト・コンクリート（鉄筋コンクリート））':2,'HPC（プレキャスト・コンクリート（重量鉄骨））':2, }"
   ]
  },
  {
   "cell_type": "code",
   "execution_count": 48,
   "metadata": {},
   "outputs": [],
   "source": [
    "test = \"29年4ヶ月\"\n",
    "\n",
    "year = r\"[0-9]+年\"\n",
    "month = r\"[0-9]+ヶ月\""
   ]
  },
  {
   "cell_type": "code",
   "execution_count": 65,
   "metadata": {},
   "outputs": [
    {
     "name": "stdout",
     "output_type": "stream",
     "text": [
      "<re.Match object; span=(3, 6), match='4ヶ月'>\n",
      "4ヶ月\n"
     ]
    }
   ],
   "source": [
    "m = re.search(month,test)\n",
    "print(m)\n",
    "print(m[0])"
   ]
  },
  {
   "cell_type": "code",
   "execution_count": 74,
   "metadata": {},
   "outputs": [
    {
     "data": {
      "text/plain": [
       "id        31470\n",
       "賃料          871\n",
       "所在地       11333\n",
       "アクセス      24172\n",
       "間取り          30\n",
       "築年数         746\n",
       "方角            8\n",
       "面積         5739\n",
       "所在階        1032\n",
       "バス・トイレ      360\n",
       "キッチン        381\n",
       "放送・通信       139\n",
       "室内設備       6220\n",
       "駐車場        3911\n",
       "周辺環境      17864\n",
       "建物構造         10\n",
       "契約期間         66\n",
       "dtype: int64"
      ]
     },
     "execution_count": 74,
     "metadata": {},
     "output_type": "execute_result"
    }
   ],
   "source": [
    "train.nunique()"
   ]
  },
  {
   "cell_type": "code",
   "execution_count": 73,
   "metadata": {},
   "outputs": [
    {
     "name": "stdout",
     "output_type": "stream",
     "text": [
      "['1K' '1R' '2LDK' '2DK' '1DK' '1LDK' '3LDK' '3DK' '1LDK+S(納戸)' '4K' '2K'\n",
      " '1K+S(納戸)' '4LDK' '3LDK+S(納戸)' '5LDK+S(納戸)' '5LDK' '3K' '4DK'\n",
      " '2LDK+S(納戸)' '2DK+S(納戸)' '4LDK+S(納戸)' '5DK' '3DK+S(納戸)' '1DK+S(納戸)' '5K'\n",
      " '6LDK' '2K+S(納戸)' '1LK+S(納戸)' '5DK+S(納戸)' '3K+S(納戸)']\n"
     ]
    }
   ],
   "source": [
    "print(train[\"間取り\"].unique())"
   ]
  },
  {
   "cell_type": "code",
   "execution_count": 77,
   "metadata": {},
   "outputs": [],
   "source": [
    "temp = train[\"所在階\"][0]"
   ]
  },
  {
   "cell_type": "code",
   "execution_count": 367,
   "metadata": {},
   "outputs": [],
   "source": [
    "kai =[]\n",
    "takasa = []\n",
    "for txt in train[\"所在階\"].values:\n",
    "    try:\n",
    "        x,y = txt.split(\"／\")\n",
    "    except:\n",
    "        continue\n",
    "    try:\n",
    "        x = int(re.search(r\"[0-9]+\",x)[0])\n",
    "        y = int(re.search(r\"[0-9]+\",y)[0])\n",
    "    except:\n",
    "        continue\n",
    "    kai.append(x)\n",
    "    takasa.append(y)"
   ]
  },
  {
   "cell_type": "code",
   "execution_count": 378,
   "metadata": {},
   "outputs": [],
   "source": [
    "kai = pd.DataFrame(kai)\n",
    "kai.columns = [\"hoge\"]\n",
    "takasa = pd.DataFrame(takasa)\n",
    "takasa.columns = [\"hoge\"]"
   ]
  },
  {
   "cell_type": "code",
   "execution_count": 383,
   "metadata": {},
   "outputs": [
    {
     "data": {
      "text/plain": [
       "array([[<matplotlib.axes._subplots.AxesSubplot object at 0x142a7a850>]],\n",
       "      dtype=object)"
      ]
     },
     "execution_count": 383,
     "metadata": {},
     "output_type": "execute_result"
    },
    {
     "data": {
      "image/png": "[encoded data removed]",
      "text/plain": [
       "<Figure size 432x288 with 1 Axes>"
      ]
     },
     "metadata": {
      "needs_background": "light"
     },
     "output_type": "display_data"
    }
   ],
   "source": [
    "kai.hist(bins=20,range=(0,10))"
   ]
  },
  {
   "cell_type": "code",
   "execution_count": 388,
   "metadata": {},
   "outputs": [
    {
     "data": {
      "text/plain": [
       "array([[<matplotlib.axes._subplots.AxesSubplot object at 0x1400c0d10>]],\n",
       "      dtype=object)"
      ]
     },
     "execution_count": 388,
     "metadata": {},
     "output_type": "execute_result"
    },
    {
     "data": {
      "image/png": "[encoded data removed]",
      "text/plain": [
       "<Figure size 432x288 with 1 Axes>"
      ]
     },
     "metadata": {
      "needs_background": "light"
     },
     "output_type": "display_data"
    }
   ],
   "source": [
    "takasa.hist(bins=20,range=(0,10))"
   ]
  },
  {
   "cell_type": "code",
   "execution_count": 82,
   "metadata": {},
   "outputs": [
    {
     "name": "stdout",
     "output_type": "stream",
     "text": [
      "1階\n",
      "12階建\n"
     ]
    }
   ],
   "source": [
    "print(x)\n",
    "print(y)"
   ]
  },
  {
   "cell_type": "code",
   "execution_count": 89,
   "metadata": {},
   "outputs": [
    {
     "data": {
      "text/plain": [
       "31470"
      ]
     },
     "execution_count": 89,
     "metadata": {},
     "output_type": "execute_result"
    }
   ],
   "source": [
    "train[\"アクセス\"].str.contains(\"徒歩\").count()"
   ]
  },
  {
   "cell_type": "code",
   "execution_count": 103,
   "metadata": {},
   "outputs": [
    {
     "name": "stdout",
     "output_type": "stream",
     "text": [
      "都営三田線\t西巣鴨駅\t徒歩4分\t\t埼京線\t板橋駅\t徒歩14分\t\t都電荒川線\t西ケ原四丁目駅\t徒歩7分\n",
      "<re.Match object; span=(0, 37), match='都営三田線\\t西巣鴨駅\\t徒歩4分\\t\\t埼京線\\t板橋駅\\t徒歩14分\\t\\t都電荒川線'>\n",
      "<re.Match object; span=(11, 50), match='徒歩4分\\t\\t埼京線\\t板橋駅\\t徒歩14分\\t\\t都電荒川線\\t西ケ原四丁目駅\\t徒歩7分'>\n"
     ]
    }
   ],
   "source": [
    "p1 = \".+線.+駅.+分\"\n",
    "p2 = \".+線\"\n",
    "p3 = \"線.+駅\"\n",
    "p4 = \"徒歩.+分\"\n",
    "txt = train[\"アクセス\"][0]\n",
    "\n",
    "base = re.match(p1,txt)[0]\n",
    "print(base)\n",
    "print(re.match(p2,base))\n",
    "print(re.search(p4,base))"
   ]
  },
  {
   "cell_type": "code",
   "execution_count": 104,
   "metadata": {},
   "outputs": [
    {
     "name": "stdout",
     "output_type": "stream",
     "text": [
      "['京急本線', '梅屋敷(東京都)駅', '徒歩5分', '京急空港線', '京急蒲田駅', '徒歩13分', '京浜東北線', '蒲田駅', '徒歩19分']\n"
     ]
    }
   ],
   "source": [
    "print(train[\"アクセス\"][345].split())"
   ]
  },
  {
   "cell_type": "code",
   "execution_count": 88,
   "metadata": {},
   "outputs": [
    {
     "data": {
      "text/plain": [
       "'北'"
      ]
     },
     "execution_count": 88,
     "metadata": {},
     "output_type": "execute_result"
    }
   ],
   "source": [
    "m[0][3:-1]"
   ]
  },
  {
   "cell_type": "code",
   "execution_count": 95,
   "metadata": {},
   "outputs": [
    {
     "data": {
      "text/html": [
       "<div>\n",
       "<style scoped>\n",
       "    .dataframe tbody tr th:only-of-type {\n",
       "        vertical-align: middle;\n",
       "    }\n",
       "\n",
       "    .dataframe tbody tr th {\n",
       "        vertical-align: top;\n",
       "    }\n",
       "\n",
       "    .dataframe thead th {\n",
       "        text-align: right;\n",
       "    }\n",
       "</style>\n",
       "<table border=\"1\" class=\"dataframe\">\n",
       "  <thead>\n",
       "    <tr style=\"text-align: right;\">\n",
       "      <th></th>\n",
       "      <th>id</th>\n",
       "      <th>賃料</th>\n",
       "      <th>所在地</th>\n",
       "      <th>アクセス</th>\n",
       "      <th>間取り</th>\n",
       "      <th>築年数</th>\n",
       "      <th>面積</th>\n",
       "      <th>所在階</th>\n",
       "      <th>バス・トイレ</th>\n",
       "      <th>キッチン</th>\n",
       "      <th>放送・通信</th>\n",
       "      <th>室内設備</th>\n",
       "      <th>駐車場</th>\n",
       "      <th>周辺環境</th>\n",
       "      <th>建物構造</th>\n",
       "      <th>契約期間</th>\n",
       "    </tr>\n",
       "    <tr>\n",
       "      <th>方角</th>\n",
       "      <th></th>\n",
       "      <th></th>\n",
       "      <th></th>\n",
       "      <th></th>\n",
       "      <th></th>\n",
       "      <th></th>\n",
       "      <th></th>\n",
       "      <th></th>\n",
       "      <th></th>\n",
       "      <th></th>\n",
       "      <th></th>\n",
       "      <th></th>\n",
       "      <th></th>\n",
       "      <th></th>\n",
       "      <th></th>\n",
       "      <th></th>\n",
       "    </tr>\n",
       "  </thead>\n",
       "  <tbody>\n",
       "    <tr>\n",
       "      <th>北</th>\n",
       "      <td>1966</td>\n",
       "      <td>1966</td>\n",
       "      <td>1966</td>\n",
       "      <td>1966</td>\n",
       "      <td>1966</td>\n",
       "      <td>1966</td>\n",
       "      <td>1966</td>\n",
       "      <td>1966</td>\n",
       "      <td>1952</td>\n",
       "      <td>1930</td>\n",
       "      <td>1803</td>\n",
       "      <td>1961</td>\n",
       "      <td>1682</td>\n",
       "      <td>1393</td>\n",
       "      <td>1966</td>\n",
       "      <td>1548</td>\n",
       "    </tr>\n",
       "    <tr>\n",
       "      <th>北東</th>\n",
       "      <td>1321</td>\n",
       "      <td>1321</td>\n",
       "      <td>1321</td>\n",
       "      <td>1321</td>\n",
       "      <td>1321</td>\n",
       "      <td>1321</td>\n",
       "      <td>1321</td>\n",
       "      <td>1321</td>\n",
       "      <td>1310</td>\n",
       "      <td>1309</td>\n",
       "      <td>1223</td>\n",
       "      <td>1321</td>\n",
       "      <td>1118</td>\n",
       "      <td>980</td>\n",
       "      <td>1321</td>\n",
       "      <td>1031</td>\n",
       "    </tr>\n",
       "    <tr>\n",
       "      <th>北西</th>\n",
       "      <td>1326</td>\n",
       "      <td>1326</td>\n",
       "      <td>1326</td>\n",
       "      <td>1326</td>\n",
       "      <td>1326</td>\n",
       "      <td>1326</td>\n",
       "      <td>1326</td>\n",
       "      <td>1326</td>\n",
       "      <td>1323</td>\n",
       "      <td>1317</td>\n",
       "      <td>1228</td>\n",
       "      <td>1325</td>\n",
       "      <td>1122</td>\n",
       "      <td>917</td>\n",
       "      <td>1326</td>\n",
       "      <td>1041</td>\n",
       "    </tr>\n",
       "    <tr>\n",
       "      <th>南</th>\n",
       "      <td>8909</td>\n",
       "      <td>8909</td>\n",
       "      <td>8909</td>\n",
       "      <td>8909</td>\n",
       "      <td>8909</td>\n",
       "      <td>8909</td>\n",
       "      <td>8909</td>\n",
       "      <td>8909</td>\n",
       "      <td>8850</td>\n",
       "      <td>8770</td>\n",
       "      <td>7868</td>\n",
       "      <td>8886</td>\n",
       "      <td>7441</td>\n",
       "      <td>6252</td>\n",
       "      <td>8909</td>\n",
       "      <td>6902</td>\n",
       "    </tr>\n",
       "    <tr>\n",
       "      <th>南東</th>\n",
       "      <td>3098</td>\n",
       "      <td>3098</td>\n",
       "      <td>3098</td>\n",
       "      <td>3098</td>\n",
       "      <td>3098</td>\n",
       "      <td>3098</td>\n",
       "      <td>3098</td>\n",
       "      <td>3098</td>\n",
       "      <td>3070</td>\n",
       "      <td>3043</td>\n",
       "      <td>2766</td>\n",
       "      <td>3091</td>\n",
       "      <td>2628</td>\n",
       "      <td>2124</td>\n",
       "      <td>3098</td>\n",
       "      <td>2435</td>\n",
       "    </tr>\n",
       "    <tr>\n",
       "      <th>南西</th>\n",
       "      <td>3080</td>\n",
       "      <td>3080</td>\n",
       "      <td>3080</td>\n",
       "      <td>3080</td>\n",
       "      <td>3080</td>\n",
       "      <td>3080</td>\n",
       "      <td>3080</td>\n",
       "      <td>3080</td>\n",
       "      <td>3058</td>\n",
       "      <td>3022</td>\n",
       "      <td>2768</td>\n",
       "      <td>3075</td>\n",
       "      <td>2585</td>\n",
       "      <td>2191</td>\n",
       "      <td>3080</td>\n",
       "      <td>2407</td>\n",
       "    </tr>\n",
       "    <tr>\n",
       "      <th>東</th>\n",
       "      <td>4995</td>\n",
       "      <td>4995</td>\n",
       "      <td>4995</td>\n",
       "      <td>4995</td>\n",
       "      <td>4995</td>\n",
       "      <td>4995</td>\n",
       "      <td>4995</td>\n",
       "      <td>4995</td>\n",
       "      <td>4953</td>\n",
       "      <td>4927</td>\n",
       "      <td>4531</td>\n",
       "      <td>4989</td>\n",
       "      <td>4247</td>\n",
       "      <td>3608</td>\n",
       "      <td>4995</td>\n",
       "      <td>3952</td>\n",
       "    </tr>\n",
       "    <tr>\n",
       "      <th>西</th>\n",
       "      <td>4026</td>\n",
       "      <td>4026</td>\n",
       "      <td>4026</td>\n",
       "      <td>4026</td>\n",
       "      <td>4026</td>\n",
       "      <td>4026</td>\n",
       "      <td>4026</td>\n",
       "      <td>4026</td>\n",
       "      <td>3983</td>\n",
       "      <td>3967</td>\n",
       "      <td>3660</td>\n",
       "      <td>4019</td>\n",
       "      <td>3405</td>\n",
       "      <td>2853</td>\n",
       "      <td>4026</td>\n",
       "      <td>3169</td>\n",
       "    </tr>\n",
       "  </tbody>\n",
       "</table>\n",
       "</div>"
      ],
      "text/plain": [
       "      id    賃料   所在地  アクセス   間取り   築年数    面積   所在階  バス・トイレ  キッチン  放送・通信  室内設備  \\\n",
       "方角                                                                              \n",
       "北   1966  1966  1966  1966  1966  1966  1966  1966    1952  1930   1803  1961   \n",
       "北東  1321  1321  1321  1321  1321  1321  1321  1321    1310  1309   1223  1321   \n",
       "北西  1326  1326  1326  1326  1326  1326  1326  1326    1323  1317   1228  1325   \n",
       "南   8909  8909  8909  8909  8909  8909  8909  8909    8850  8770   7868  8886   \n",
       "南東  3098  3098  3098  3098  3098  3098  3098  3098    3070  3043   2766  3091   \n",
       "南西  3080  3080  3080  3080  3080  3080  3080  3080    3058  3022   2768  3075   \n",
       "東   4995  4995  4995  4995  4995  4995  4995  4995    4953  4927   4531  4989   \n",
       "西   4026  4026  4026  4026  4026  4026  4026  4026    3983  3967   3660  4019   \n",
       "\n",
       "     駐車場  周辺環境  建物構造  契約期間  \n",
       "方角                          \n",
       "北   1682  1393  1966  1548  \n",
       "北東  1118   980  1321  1031  \n",
       "北西  1122   917  1326  1041  \n",
       "南   7441  6252  8909  6902  \n",
       "南東  2628  2124  3098  2435  \n",
       "南西  2585  2191  3080  2407  \n",
       "東   4247  3608  4995  3952  \n",
       "西   3405  2853  4026  3169  "
      ]
     },
     "execution_count": 95,
     "metadata": {},
     "output_type": "execute_result"
    }
   ],
   "source": [
    "train.groupby(\"方角\").count()"
   ]
  },
  {
   "cell_type": "code",
   "execution_count": 113,
   "metadata": {},
   "outputs": [
    {
     "name": "stdout",
     "output_type": "stream",
     "text": [
      "{'専用バス': 23782, '専用トイレ': 23465, 'バス・トイレ別': 26458, 'シャワー': 28242, '浴室乾燥機': 16337, '': 15533, '温水洗浄便座': 17545, '洗面台独立': 20237, '脱衣所': 12361, '追焚機能': 11989, '共同トイレ': 86, 'バスなし': 141, '共同バス': 34}\n"
     ]
    }
   ],
   "source": [
    "d = {}\n",
    "\n",
    "for i in range(31470):\n",
    "    if train[\"バス・トイレ\"][i] != train[\"バス・トイレ\"][i]:\n",
    "        continue\n",
    "    for key in train[\"バス・トイレ\"][i].split():\n",
    "        pat = \"／\"\n",
    "        if re.sub(pat,\"\",key) not in d:\n",
    "            d[re.sub(pat,\"\",key)] = 1\n",
    "        else:\n",
    "            d[re.sub(pat,\"\",key)] += 1\n",
    "print(d)"
   ]
  },
  {
   "cell_type": "code",
   "execution_count": 150,
   "metadata": {},
   "outputs": [
    {
     "name": "stdout",
     "output_type": "stream",
     "text": [
      "{'ガスコンロ': 20369, 'コンロ2口': 14947, 'システムキッチン': 20534, '': 26364, '給湯': 26368, '独立キッチン': 3907, 'コンロ3口': 5393, 'IHコンロ': 4431, 'コンロ1口': 3057, '冷蔵庫あり': 677, 'コンロ設置可': 2102, 'カウンターキッチン': 3724, 'L字キッチン': 309, '電気コンロ': 525, 'コンロ4口以上': 50}\n"
     ]
    }
   ],
   "source": [
    "d = {}\n",
    "\n",
    "for i in range(31470):\n",
    "    if train[\"キッチン\"][i] != train[\"キッチン\"][i]:\n",
    "        continue\n",
    "    for key in train[\"キッチン\"][i].split():\n",
    "        pat = \"／\"\n",
    "        tmp = re.sub(pat,\"\",key)\n",
    "        if re.match(r\"コンロ設置可.*\",tmp):\n",
    "            tmp = \"コンロ設置可\"\n",
    "        if tmp not in d:\n",
    "            d[tmp] = 1\n",
    "        else:\n",
    "            d[tmp] += 1\n",
    "print(d)"
   ]
  },
  {
   "cell_type": "code",
   "execution_count": 152,
   "metadata": {},
   "outputs": [
    {
     "name": "stdout",
     "output_type": "stream",
     "text": [
      "{'ガスコンロ': 0, 'コンロ2口': 1, 'システムキッチン': 2, '給湯': 3, '独立キッチン': 4, 'コンロ3口': 5, 'IHコンロ': 6, 'コンロ1口': 7, '冷蔵庫あり': 8, 'コンロ設置可': 9, 'カウンターキッチン': 10, 'L字キッチン': 11, '電気コンロ': 12, 'コンロ4口以上': 13}\n"
     ]
    }
   ],
   "source": [
    "l = {}\n",
    "ind = 0\n",
    "for key in d.keys():\n",
    "    if key != \"\": \n",
    "        l[key] = ind\n",
    "        ind += 1\n",
    "print(l)"
   ]
  },
  {
   "cell_type": "code",
   "execution_count": 138,
   "metadata": {},
   "outputs": [
    {
     "name": "stdout",
     "output_type": "stream",
     "text": [
      "コンロ設置可\n"
     ]
    }
   ],
   "source": [
    "key = \"コンロ設置可（コンロ3口）\"\n",
    "pat = \"／\"\n",
    "tmp = re.sub(pat,\"\",key)\n",
    "# tmp = re.search(r\"\\（.+\\）\",tmp)\n",
    "# print(tmp)\n",
    "# print(tmp[0])\n",
    "tmp = re.sub(r\"\\（.+\\）\",\"\",tmp)\n",
    "print(tmp)"
   ]
  },
  {
   "cell_type": "code",
   "execution_count": 153,
   "metadata": {},
   "outputs": [
    {
     "name": "stdout",
     "output_type": "stream",
     "text": [
      "{'エアコン付': 29746, 'シューズボックス': 22947, 'バルコニー': 25112, 'フローリング': 27274, '室内洗濯機置場': 27389, '敷地内ごみ置き場': 16746, '': 24588, 'エレベーター': 16148, '公営水道': 23242, '下水': 23415, '都市ガス': 25533, 'タイル張り': 13677, 'ウォークインクローゼット': 3848, '2面採光': 6636, '24時間換気システム': 10704, '3面採光': 1046, 'ペアガラス': 597, '専用庭': 215, '水道その他': 1685, '冷房': 5179, 'クッションフロア': 394, '床暖房': 1635, 'プロパンガス': 1010, 'ロフト付き': 1241, '出窓': 1314, 'トランクルーム': 504, '汲み取り': 5, 'オール電化': 549, 'ルーフバルコニー': 316, '室外洗濯機置場': 1695, '床下収納': 587, 'バリアフリー': 157, '浄化槽': 10, '防音室': 61, '二重サッシ': 87, '二世帯住宅': 3, 'ガスその他': 16, '洗濯機置場なし': 69, '排水その他': 9, '石油暖房': 1, '地下室': 7, 'ガス暖房': 2, '井戸': 1}\n"
     ]
    }
   ],
   "source": [
    "d = {}\n",
    "\n",
    "for i in range(31470):\n",
    "    if train[\"室内設備\"][i] != train[\"室内設備\"][i]:\n",
    "        continue\n",
    "    for key in train[\"室内設備\"][i].split():\n",
    "        pat = \"／\"\n",
    "        if re.sub(pat,\"\",key) not in d:\n",
    "            d[re.sub(pat,\"\",key)] = 1\n",
    "        else:\n",
    "            d[re.sub(pat,\"\",key)] += 1\n",
    "print(d)"
   ]
  },
  {
   "cell_type": "code",
   "execution_count": 154,
   "metadata": {},
   "outputs": [
    {
     "name": "stdout",
     "output_type": "stream",
     "text": [
      "{'エアコン付': 0, 'シューズボックス': 1, 'バルコニー': 2, 'フローリング': 3, '室内洗濯機置場': 4, '敷地内ごみ置き場': 5, 'エレベーター': 6, '公営水道': 7, '下水': 8, '都市ガス': 9, 'タイル張り': 10, 'ウォークインクローゼット': 11, '2面採光': 12, '24時間換気システム': 13, '3面採光': 14, 'ペアガラス': 15, '専用庭': 16, '水道その他': 17, '冷房': 18, 'クッションフロア': 19, '床暖房': 20, 'プロパンガス': 21, 'ロフト付き': 22, '出窓': 23, 'トランクルーム': 24, 'オール電化': 25, 'ルーフバルコニー': 26, '室外洗濯機置場': 27, '床下収納': 28, 'バリアフリー': 29, '防音室': 30, '二重サッシ': 31, '洗濯機置場なし': 32}\n"
     ]
    }
   ],
   "source": [
    "l = {}\n",
    "ind = 0\n",
    "for key in d.keys():\n",
    "    if d[key] > 50 and key != \"\":\n",
    "        l[key] = ind\n",
    "        ind += 1\n",
    "print(l)"
   ]
  },
  {
   "cell_type": "code",
   "execution_count": 155,
   "metadata": {},
   "outputs": [
    {
     "name": "stdout",
     "output_type": "stream",
     "text": [
      "{'インターネット対応': 17193, 'CATV': 13083, 'CSアンテナ': 9291, 'BSアンテナ': 13453, '光ファイバー': 16306, '高速インターネット': 2498, 'インターネット使用料無料': 5404, '有線放送': 72}\n"
     ]
    }
   ],
   "source": [
    "d = {}\n",
    "\n",
    "for i in range(31470):\n",
    "    if train[\"放送・通信\"][i] != train[\"放送・通信\"][i]:\n",
    "        continue\n",
    "    for key in train[\"放送・通信\"][i].split():\n",
    "        pat = \"／\"\n",
    "        if re.sub(pat,\"\",key) not in d:\n",
    "            d[re.sub(pat,\"\",key)] = 1\n",
    "        else:\n",
    "            d[re.sub(pat,\"\",key)] += 1\n",
    "print(d)"
   ]
  },
  {
   "cell_type": "code",
   "execution_count": 156,
   "metadata": {},
   "outputs": [
    {
     "name": "stdout",
     "output_type": "stream",
     "text": [
      "{'インターネット対応': 0, 'CATV': 1, 'CSアンテナ': 2, 'BSアンテナ': 3, '光ファイバー': 4, '高速インターネット': 5, 'インターネット使用料無料': 6, '有線放送': 7}\n"
     ]
    }
   ],
   "source": [
    "l = {}\n",
    "ind = 0\n",
    "for key in d.keys():\n",
    "    if d[key] > 50 and key != \"\":\n",
    "        l[key] = ind\n",
    "        ind += 1\n",
    "print(l)"
   ]
  },
  {
   "cell_type": "code",
   "execution_count": 167,
   "metadata": {},
   "outputs": [
    {
     "name": "stdout",
     "output_type": "stream",
     "text": [
      "['駐輪場\\\\t空有', '駐車場\\\\t空有', 'バイク置き場\\\\t空有']\n",
      "['駐輪場\\\\t[(無)|(近隣)|(空無)]', '駐車場\\\\t[(無)|(近隣)|(空無)]', 'バイク置き場\\\\t[(無)|(近隣)|(空無)]']\n",
      "{'駐輪場\\t空有': 16490, '駐輪場\\t空': 16505, '駐車場\\t無': 8597, 'バイク置き場\\t無': 12642, '駐車場\\t近': 6627, 'バイク置き場\\t空有': 5096, 'バイク置き場\\t空': 5143, '駐輪場\\t無': 4513, '駐車場\\t空有': 5738, '駐車場\\t空': 6193, 'バイク置き場\\t近': 173, '駐輪場\\t近': 2}\n"
     ]
    }
   ],
   "source": [
    "d = {\"無\":0,\"有\":0}\n",
    "place = [r\"駐輪場\\t\",r\"駐車場\\t\",r\"バイク置き場\\t\"]\n",
    "available = [r\"空有\",r\"[(無)|(近隣)|(空無)]\"]\n",
    "all_pat = []\n",
    "\n",
    "for p in place:\n",
    "    for a in available:\n",
    "        all_pat.append(p+a)\n",
    "exist = all_pat[::2]\n",
    "dont = all_pat[1::2]\n",
    "print(exist)\n",
    "print(dont)\n",
    "\n",
    "\n",
    "for i in range(31470):\n",
    "    if train[\"駐車場\"][i] != train[\"駐車場\"][i]:\n",
    "        continue\n",
    "    for pat in exist:\n",
    "        if re.search(pat,train[\"駐車場\"][i]):\n",
    "            d[\"有\"]　+= 1\n",
    "        else:\n",
    "            d[\"無\"]　+= 1\n",
    "print(d)"
   ]
  },
  {
   "cell_type": "code",
   "execution_count": 173,
   "metadata": {},
   "outputs": [
    {
     "name": "stdout",
     "output_type": "stream",
     "text": [
      "[16490, 5738, 5096, 9693, 20445, 21087]\n"
     ]
    }
   ],
   "source": [
    "d = [0 for i in range(6)]\n",
    "exist = [r\"駐輪場\\t空有\",r\"駐車場\\t空有\",r\"バイク置き場\\t空有\"]\n",
    "# available = [r\"空有\",r\"[(無)|(近隣)|(空無)]\"]\n",
    "# all_pat = []\n",
    "\n",
    "# for p in place:\n",
    "#     for a in available:\n",
    "#         all_pat.append(p+a)\n",
    "# exist = all_pat[::2]\n",
    "# dont = all_pat[1::2]\n",
    "# print(exist)\n",
    "# print(dont)\n",
    "\n",
    "\n",
    "for i in range(31470):\n",
    "    if train[\"駐車場\"][i] != train[\"駐車場\"][i]:\n",
    "        continue\n",
    "    for j in range(len(exist)):\n",
    "        if re.search(exist[j],train[\"駐車場\"][i]):\n",
    "            d[j] += 1\n",
    "        else:\n",
    "            d[j+3] += 1\n",
    "print(d)"
   ]
  },
  {
   "cell_type": "code",
   "execution_count": 174,
   "metadata": {},
   "outputs": [
    {
     "name": "stdout",
     "output_type": "stream",
     "text": [
      "{'【小学校】': 2655, '【大学】': 2052, '【公園】': 3807, '【飲食店】': 6929, '【スーパー】': 40666, '【コンビニ】': 34944, '【ドラッグストア】': 5594, '【郵便局】': 3478, '【病院】': 3804, '【図書館】': 1299, '【銀行】': 1267, '【学校】': 1551, '【幼稚園・保育園】': 1824, '【総合病院】': 1890, '【デパート】': 691, '【レンタルビデオ】': 502, '【クリーニング】': 146, '【コインパーキング】': 22, '【月極駐車場】': 2}\n"
     ]
    }
   ],
   "source": [
    "d = {}\n",
    "\n",
    "for i in range(31470):\n",
    "    if train[\"周辺環境\"][i] != train[\"周辺環境\"][i]:\n",
    "        continue\n",
    "    for key in train[\"周辺環境\"][i].split():\n",
    "        pat = \"／\"\n",
    "        p2 = \"【.*】\"\n",
    "        if re.match(p2,key):\n",
    "            if re.sub(pat,\"\",key) not in d:\n",
    "                d[re.sub(pat,\"\",key)] = 1\n",
    "            else:\n",
    "                d[re.sub(pat,\"\",key)] += 1\n",
    "print(d)"
   ]
  },
  {
   "cell_type": "code",
   "execution_count": 176,
   "metadata": {},
   "outputs": [
    {
     "name": "stdout",
     "output_type": "stream",
     "text": [
      "{'【小学校】': 0, '【大学】': 1, '【公園】': 2, '【飲食店】': 3, '【スーパー】': 4, '【コンビニ】': 5, '【ドラッグストア】': 6, '【郵便局】': 7, '【病院】': 8, '【図書館】': 9, '【銀行】': 10, '【学校】': 11, '【幼稚園・保育園】': 12, '【総合病院】': 13, '【デパート】': 14, '【レンタルビデオ】': 15, '【クリーニング】': 16}\n"
     ]
    }
   ],
   "source": [
    "l = {}\n",
    "ind = 0\n",
    "for key in d.keys():\n",
    "    if d[key] > 50 and key != \"\":\n",
    "        l[key] = ind\n",
    "        ind += 1\n",
    "print(l)"
   ]
  },
  {
   "cell_type": "code",
   "execution_count": 275,
   "metadata": {},
   "outputs": [
    {
     "name": "stdout",
     "output_type": "stream",
     "text": [
      "226000.0\n",
      "                 id            賃料\n",
      "count    124.000000  1.240000e+02\n",
      "mean   15297.314516  7.521089e+05\n",
      "std     8840.773142  2.938759e+05\n",
      "min      275.000000  5.050000e+05\n",
      "25%     7486.000000  5.572500e+05\n",
      "50%    16608.500000  6.500000e+05\n",
      "75%    22014.000000  8.425000e+05\n",
      "max    31116.000000  2.500000e+06\n"
     ]
    }
   ],
   "source": [
    "Q1 = train[\"賃料\"].quantile(.25)\n",
    "Q3 = train[\"賃料\"].quantile(.75)\n",
    "IQR = Q3 - Q1\n",
    "threshold = Q3 + 1.5 * IQR\n",
    "print(threshold)\n",
    "print(train.query(\"賃料>500000\").describe())"
   ]
  },
  {
   "cell_type": "code",
   "execution_count": 482,
   "metadata": {},
   "outputs": [
    {
     "data": {
      "text/plain": [
       "<matplotlib.axes._subplots.AxesSubplot at 0x14cca0210>"
      ]
     },
     "execution_count": 482,
     "metadata": {},
     "output_type": "execute_result"
    },
    {
     "data": {
      "image/png": "[encoded data removed]",
      "text/plain": [
       "<Figure size 432x288 with 1 Axes>"
      ]
     },
     "metadata": {
      "needs_background": "light"
     },
     "output_type": "display_data"
    }
   ],
   "source": [
    "train[\"賃料\"].hist(bins=250,range=(0,2500000))"
   ]
  },
  {
   "cell_type": "code",
   "execution_count": 487,
   "metadata": {},
   "outputs": [
    {
     "data": {
      "text/plain": [
       "123"
      ]
     },
     "execution_count": 487,
     "metadata": {},
     "output_type": "execute_result"
    }
   ],
   "source": [
    "train.query(\"賃料>500000\")[\"id\"].count()"
   ]
  },
  {
   "cell_type": "code",
   "execution_count": 489,
   "metadata": {},
   "outputs": [
    {
     "data": {
      "text/plain": [
       "count    1.230000e+02\n",
       "mean     7.484390e+05\n",
       "std      2.922109e+05\n",
       "min      5.050000e+05\n",
       "25%      5.565000e+05\n",
       "50%      6.500000e+05\n",
       "75%      8.300000e+05\n",
       "max      2.500000e+06\n",
       "Name: 賃料, dtype: float64"
      ]
     },
     "execution_count": 489,
     "metadata": {},
     "output_type": "execute_result"
    }
   ],
   "source": [
    "train.query(\"賃料>500000\")[\"賃料\"].describe()"
   ]
  },
  {
   "cell_type": "code",
   "execution_count": 342,
   "metadata": {},
   "outputs": [
    {
     "data": {
      "text/plain": [
       "(array([   3.,    2.,    9.,   12.,   15.,    9.,   15.,   30.,   35.,\n",
       "         128.,   88.,  193.,  307.,  321.,  487.,  666.,  833.,  799.,\n",
       "        1257.,  996., 1003., 1336., 1342., 1317., 1624., 1463., 1438.,\n",
       "        1560., 1547., 1351., 1544., 1073., 1102., 1017.,  654.,  871.,\n",
       "         668.,  491.,  593.,  483.]),\n",
       " array([10.1266311 , 10.17855456, 10.23047802, 10.28240148, 10.33432494,\n",
       "        10.38624841, 10.43817187, 10.49009533, 10.54201879, 10.59394225,\n",
       "        10.64586571, 10.69778917, 10.74971263, 10.80163609, 10.85355955,\n",
       "        10.90548301, 10.95740647, 11.00932993, 11.06125339, 11.11317685,\n",
       "        11.16510031, 11.21702377, 11.26894723, 11.32087069, 11.37279415,\n",
       "        11.42471761, 11.47664107, 11.52856453, 11.58048799, 11.63241145,\n",
       "        11.68433491, 11.73625837, 11.78818183, 11.84010529, 11.89202875,\n",
       "        11.94395221, 11.99587567, 12.04779913, 12.09972259, 12.15164606,\n",
       "        12.20356952]),\n",
       " <a list of 40 Patch objects>)"
      ]
     },
     "execution_count": 342,
     "metadata": {},
     "output_type": "execute_result"
    },
    {
     "data": {
      "image/png": "[encoded data removed]",
      "text/plain": [
       "<Figure size 432x288 with 1 Axes>"
      ]
     },
     "metadata": {
      "needs_background": "light"
     },
     "output_type": "display_data"
    }
   ],
   "source": [
    "temp = train.query(\"賃料<200000\")[\"賃料\"].values\n",
    "temp = np.log(temp)\n",
    "fig = plt.figure()\n",
    "ax = fig.add_subplot(1,1,1)\n",
    "ax.hist(temp,bins = 40)"
   ]
  },
  {
   "cell_type": "code",
   "execution_count": 404,
   "metadata": {},
   "outputs": [
    {
     "data": {
      "text/plain": [
       "((array([-4.08019042, -3.8691239 , -3.7538391 , ...,  3.7538391 ,\n",
       "          3.8691239 ,  4.08019042]),\n",
       "  array([10.1266311 , 10.16585182, 10.17351469, ..., 12.60819885,\n",
       "         12.60819885, 12.60819885])),\n",
       " (0.4140619471648514, 11.533087324847854, 0.9966957609103569))"
      ]
     },
     "execution_count": 404,
     "metadata": {},
     "output_type": "execute_result"
    },
    {
     "data": {
      "image/png": "[encoded data removed]",
      "text/plain": [
       "<Figure size 432x288 with 1 Axes>"
      ]
     },
     "metadata": {
      "needs_background": "light"
     },
     "output_type": "display_data"
    }
   ],
   "source": [
    "temp = train.query(\"賃料<300000\")[\"賃料\"].values\n",
    "temp = np.log(temp)\n",
    "probplot(temp,dist=\"norm\",plot=plt)"
   ]
  },
  {
   "cell_type": "code",
   "execution_count": 401,
   "metadata": {},
   "outputs": [
    {
     "name": "stdout",
     "output_type": "stream",
     "text": [
      "0.8149043321609497 3.217715253036304e-26\n",
      "not norm\n"
     ]
    }
   ],
   "source": [
    "w,p = shapiro(temp)\n",
    "print(w,p)\n",
    "if p < 0.05:\n",
    "    print(\"not norm\")\n",
    "else:\n",
    "    print(\"norm\")"
   ]
  },
  {
   "cell_type": "code",
   "execution_count": 294,
   "metadata": {},
   "outputs": [
    {
     "data": {
      "text/plain": [
       "<matplotlib.axes._subplots.AxesSubplot at 0x13a965990>"
      ]
     },
     "execution_count": 294,
     "metadata": {},
     "output_type": "execute_result"
    },
    {
     "data": {
      "image/png": "[encoded data removed]",
      "text/plain": [
       "<Figure size 432x288 with 1 Axes>"
      ]
     },
     "metadata": {
      "needs_background": "light"
     },
     "output_type": "display_data"
    }
   ],
   "source": [
    "train[\"賃料\"].hist(bins=60,range=(300000,500000))"
   ]
  },
  {
   "cell_type": "code",
   "execution_count": 292,
   "metadata": {},
   "outputs": [
    {
     "data": {
      "text/plain": [
       "<matplotlib.axes._subplots.AxesSubplot at 0x13a828090>"
      ]
     },
     "execution_count": 292,
     "metadata": {},
     "output_type": "execute_result"
    },
    {
     "data": {
      "image/png": "[encoded data removed]",
      "text/plain": [
       "<Figure size 432x288 with 1 Axes>"
      ]
     },
     "metadata": {
      "needs_background": "light"
     },
     "output_type": "display_data"
    }
   ],
   "source": [
    "train[\"賃料\"].hist(bins=60,range=(500000,2500000))"
   ]
  },
  {
   "cell_type": "code",
   "execution_count": 224,
   "metadata": {},
   "outputs": [
    {
     "data": {
      "text/plain": [
       "<matplotlib.axes._subplots.AxesSubplot at 0x13b9802d0>"
      ]
     },
     "execution_count": 224,
     "metadata": {},
     "output_type": "execute_result"
    },
    {
     "data": {
      "image/png": "[encoded data removed]",
      "text/plain": [
       "<Figure size 432x288 with 1 Axes>"
      ]
     },
     "metadata": {
      "needs_background": "light"
     },
     "output_type": "display_data"
    }
   ],
   "source": [
    "train[\"賃料\"].plot.box()"
   ]
  },
  {
   "cell_type": "code",
   "execution_count": 405,
   "metadata": {},
   "outputs": [
    {
     "name": "stdout",
     "output_type": "stream",
     "text": [
      "72.315\n",
      "                 id            賃料\n",
      "count    124.000000  1.240000e+02\n",
      "mean   15297.314516  7.521089e+05\n",
      "std     8840.773142  2.938759e+05\n",
      "min      275.000000  5.050000e+05\n",
      "25%     7486.000000  5.572500e+05\n",
      "50%    16608.500000  6.500000e+05\n",
      "75%    22014.000000  8.425000e+05\n",
      "max    31116.000000  2.500000e+06\n"
     ]
    },
    {
     "data": {
      "image/png": "[encoded data removed]",
      "text/plain": [
       "<Figure size 432x288 with 1 Axes>"
      ]
     },
     "metadata": {
      "needs_background": "light"
     },
     "output_type": "display_data"
    }
   ],
   "source": [
    "class parse_area_size:\n",
    "    def __init__(self):\n",
    "        pass\n",
    "    def fit(self,x,y):\n",
    "        return self\n",
    "    def transform(self,x):\n",
    "        hoge = x.copy()\n",
    "        temp = x[\"面積\"].values\n",
    "        ans = [0 for i in range(len(temp))]\n",
    "        for i in range(len(temp)):\n",
    "            ans[i] = float(re.search(r\"[0-9\\.]+\",temp[i])[0])\n",
    "        hoge = hoge.drop(\"面積\",axis = 1)\n",
    "        hoge = hoge.assign(areasize=ans)\n",
    "        return hoge\n",
    "fig = plt.figure()\n",
    "ax = fig.add_subplot(1,1,1)\n",
    "temp = parse_area_size()\n",
    "hoge = temp.transform(train)\n",
    "hoge[\"areasize\"].plot.box()\n",
    "Q1 = hoge[\"areasize\"].quantile(.25)\n",
    "Q3 = hoge[\"areasize\"].quantile(.75)\n",
    "IQR = Q3 - Q1\n",
    "threshold = Q3 + 1.5 * IQR\n",
    "print(threshold)\n",
    "print(train.query(\"賃料>500000\").describe())"
   ]
  },
  {
   "cell_type": "code",
   "execution_count": 410,
   "metadata": {},
   "outputs": [
    {
     "data": {
      "image/png": "[encoded data removed]",
      "text/plain": [
       "<Figure size 432x288 with 1 Axes>"
      ]
     },
     "metadata": {
      "needs_background": "light"
     },
     "output_type": "display_data"
    }
   ],
   "source": [
    "fig = plt.figure()\n",
    "ax = fig.add_subplot(1,1,1)\n",
    "temp = parse_area_size()\n",
    "hoge = temp.transform(train)\n",
    "\n",
    "hoge = pd.DataFrame(np.log(hoge[\"areasize\"].values))\n",
    "hoge.columns = [\"areasize\"]\n",
    "hoge[\"areasize\"].plot.box()\n",
    "Q1 = hoge[\"areasize\"].quantile(.25)\n",
    "Q3 = hoge[\"areasize\"].quantile(.75)"
   ]
  },
  {
   "cell_type": "code",
   "execution_count": 436,
   "metadata": {},
   "outputs": [
    {
     "data": {
      "text/html": [
       "<div>\n",
       "<style scoped>\n",
       "    .dataframe tbody tr th:only-of-type {\n",
       "        vertical-align: middle;\n",
       "    }\n",
       "\n",
       "    .dataframe tbody tr th {\n",
       "        vertical-align: top;\n",
       "    }\n",
       "\n",
       "    .dataframe thead th {\n",
       "        text-align: right;\n",
       "    }\n",
       "</style>\n",
       "<table border=\"1\" class=\"dataframe\">\n",
       "  <thead>\n",
       "    <tr style=\"text-align: right;\">\n",
       "      <th></th>\n",
       "      <th>id</th>\n",
       "      <th>賃料</th>\n",
       "      <th>所在地</th>\n",
       "      <th>アクセス</th>\n",
       "      <th>間取り</th>\n",
       "      <th>築年数</th>\n",
       "      <th>方角</th>\n",
       "      <th>面積</th>\n",
       "      <th>所在階</th>\n",
       "      <th>バス・トイレ</th>\n",
       "      <th>キッチン</th>\n",
       "      <th>放送・通信</th>\n",
       "      <th>室内設備</th>\n",
       "      <th>駐車場</th>\n",
       "      <th>周辺環境</th>\n",
       "      <th>建物構造</th>\n",
       "      <th>契約期間</th>\n",
       "    </tr>\n",
       "  </thead>\n",
       "  <tbody>\n",
       "    <tr>\n",
       "      <th>20231</th>\n",
       "      <td>20232</td>\n",
       "      <td>112000</td>\n",
       "      <td>東京都板橋区蓮根３丁目</td>\n",
       "      <td>都営三田線\\t西台駅\\t徒歩7分\\t\\t都営三田線\\t蓮根駅\\t徒歩7分</td>\n",
       "      <td>2DK+S(納戸)</td>\n",
       "      <td>520年5ヶ月</td>\n",
       "      <td>南</td>\n",
       "      <td>51.3m2</td>\n",
       "      <td>3階／3階建</td>\n",
       "      <td>専用トイレ／\\tバス・トイレ別／\\tシャワー／\\t洗面台独立</td>\n",
       "      <td>コンロ設置可（コンロ3口）／\\t給湯</td>\n",
       "      <td>光ファイバー／\\tCATV</td>\n",
       "      <td>エアコン付\\t出窓／\\tバルコニー／\\tフローリング／\\t室内洗濯機置場／\\tタイル張り</td>\n",
       "      <td>NaN</td>\n",
       "      <td>NaN</td>\n",
       "      <td>鉄骨造</td>\n",
       "      <td>NaN</td>\n",
       "    </tr>\n",
       "    <tr>\n",
       "      <th>20427</th>\n",
       "      <td>20428</td>\n",
       "      <td>82000</td>\n",
       "      <td>東京都目黒区中町２丁目</td>\n",
       "      <td>東急東横線\\t祐天寺駅\\t徒歩11分\\t\\t東急東横線\\t中目黒駅\\t徒歩15分\\t\\t東急...</td>\n",
       "      <td>1DK</td>\n",
       "      <td>1019年7ヶ月</td>\n",
       "      <td>南</td>\n",
       "      <td>24m2</td>\n",
       "      <td>2階／2階建</td>\n",
       "      <td>専用トイレ／\\tバス・トイレ別／\\tシャワー</td>\n",
       "      <td>コンロ設置可（コンロ2口）</td>\n",
       "      <td>インターネット対応</td>\n",
       "      <td>エアコン付\\tシューズボックス／\\tバルコニー／\\tフローリング／\\t室外洗濯機置場／\\tタ...</td>\n",
       "      <td>NaN</td>\n",
       "      <td>NaN</td>\n",
       "      <td>鉄骨造</td>\n",
       "      <td>NaN</td>\n",
       "    </tr>\n",
       "  </tbody>\n",
       "</table>\n",
       "</div>"
      ],
      "text/plain": [
       "          id      賃料          所在地  \\\n",
       "20231  20232  112000  東京都板橋区蓮根３丁目   \n",
       "20427  20428   82000  東京都目黒区中町２丁目   \n",
       "\n",
       "                                                    アクセス        間取り       築年数  \\\n",
       "20231               都営三田線\\t西台駅\\t徒歩7分\\t\\t都営三田線\\t蓮根駅\\t徒歩7分  2DK+S(納戸)   520年5ヶ月   \n",
       "20427  東急東横線\\t祐天寺駅\\t徒歩11分\\t\\t東急東横線\\t中目黒駅\\t徒歩15分\\t\\t東急...        1DK  1019年7ヶ月   \n",
       "\n",
       "      方角      面積     所在階                          バス・トイレ                キッチン  \\\n",
       "20231  南  51.3m2  3階／3階建  専用トイレ／\\tバス・トイレ別／\\tシャワー／\\t洗面台独立  コンロ設置可（コンロ3口）／\\t給湯   \n",
       "20427  南    24m2  2階／2階建          専用トイレ／\\tバス・トイレ別／\\tシャワー       コンロ設置可（コンロ2口）   \n",
       "\n",
       "               放送・通信                                               室内設備  駐車場  \\\n",
       "20231  光ファイバー／\\tCATV       エアコン付\\t出窓／\\tバルコニー／\\tフローリング／\\t室内洗濯機置場／\\tタイル張り  NaN   \n",
       "20427      インターネット対応  エアコン付\\tシューズボックス／\\tバルコニー／\\tフローリング／\\t室外洗濯機置場／\\tタ...  NaN   \n",
       "\n",
       "      周辺環境 建物構造 契約期間  \n",
       "20231  NaN  鉄骨造  NaN  \n",
       "20427  NaN  鉄骨造  NaN  "
      ]
     },
     "execution_count": 436,
     "metadata": {},
     "output_type": "execute_result"
    }
   ],
   "source": [
    "train.query(\"id==20428 or id == 20232\")"
   ]
  },
  {
   "cell_type": "code",
   "execution_count": 434,
   "metadata": {},
   "outputs": [
    {
     "data": {
      "text/html": [
       "<div>\n",
       "<style scoped>\n",
       "    .dataframe tbody tr th:only-of-type {\n",
       "        vertical-align: middle;\n",
       "    }\n",
       "\n",
       "    .dataframe tbody tr th {\n",
       "        vertical-align: top;\n",
       "    }\n",
       "\n",
       "    .dataframe thead th {\n",
       "        text-align: right;\n",
       "    }\n",
       "</style>\n",
       "<table border=\"1\" class=\"dataframe\">\n",
       "  <thead>\n",
       "    <tr style=\"text-align: right;\">\n",
       "      <th></th>\n",
       "      <th>id</th>\n",
       "      <th>賃料</th>\n",
       "      <th>所在地</th>\n",
       "      <th>アクセス</th>\n",
       "      <th>間取り</th>\n",
       "      <th>方角</th>\n",
       "      <th>面積</th>\n",
       "      <th>所在階</th>\n",
       "      <th>バス・トイレ</th>\n",
       "      <th>キッチン</th>\n",
       "      <th>放送・通信</th>\n",
       "      <th>室内設備</th>\n",
       "      <th>駐車場</th>\n",
       "      <th>周辺環境</th>\n",
       "      <th>建物構造</th>\n",
       "      <th>契約期間</th>\n",
       "      <th>year</th>\n",
       "      <th>year_cat</th>\n",
       "    </tr>\n",
       "  </thead>\n",
       "  <tbody>\n",
       "    <tr>\n",
       "      <th>15352</th>\n",
       "      <td>15353</td>\n",
       "      <td>42500</td>\n",
       "      <td>東京都杉並区方南１丁目</td>\n",
       "      <td>京王線\\t代田橋駅\\t徒歩8分\\t\\t京王新線\\t笹塚駅\\t徒歩10分\\t\\t京王線\\t明大...</td>\n",
       "      <td>1R</td>\n",
       "      <td>東</td>\n",
       "      <td>10m2</td>\n",
       "      <td>2階／2階建</td>\n",
       "      <td>専用バス／\\t専用トイレ／\\tシャワー</td>\n",
       "      <td>冷蔵庫あり</td>\n",
       "      <td>インターネット対応／\\tCATV</td>\n",
       "      <td>エアコン付\\tシューズボックス／\\tロフト付き／\\t出窓／\\t2面採光／\\tクッションフロア...</td>\n",
       "      <td>駐輪場\\t空有\\t駐車場\\t無</td>\n",
       "      <td>【大学】 1508m\\t【大学】 1776m\\t【飲食店】 661m\\t【デパート】 908...</td>\n",
       "      <td>木造</td>\n",
       "      <td>2年間</td>\n",
       "      <td>79</td>\n",
       "      <td>3</td>\n",
       "    </tr>\n",
       "    <tr>\n",
       "      <th>20231</th>\n",
       "      <td>20232</td>\n",
       "      <td>112000</td>\n",
       "      <td>東京都板橋区蓮根３丁目</td>\n",
       "      <td>都営三田線\\t西台駅\\t徒歩7分\\t\\t都営三田線\\t蓮根駅\\t徒歩7分</td>\n",
       "      <td>2DK+S(納戸)</td>\n",
       "      <td>南</td>\n",
       "      <td>51.3m2</td>\n",
       "      <td>3階／3階建</td>\n",
       "      <td>専用トイレ／\\tバス・トイレ別／\\tシャワー／\\t洗面台独立</td>\n",
       "      <td>コンロ設置可（コンロ3口）／\\t給湯</td>\n",
       "      <td>光ファイバー／\\tCATV</td>\n",
       "      <td>エアコン付\\t出窓／\\tバルコニー／\\tフローリング／\\t室内洗濯機置場／\\tタイル張り</td>\n",
       "      <td>NaN</td>\n",
       "      <td>NaN</td>\n",
       "      <td>鉄骨造</td>\n",
       "      <td>NaN</td>\n",
       "      <td>520</td>\n",
       "      <td>3</td>\n",
       "    </tr>\n",
       "    <tr>\n",
       "      <th>20427</th>\n",
       "      <td>20428</td>\n",
       "      <td>82000</td>\n",
       "      <td>東京都目黒区中町２丁目</td>\n",
       "      <td>東急東横線\\t祐天寺駅\\t徒歩11分\\t\\t東急東横線\\t中目黒駅\\t徒歩15分\\t\\t東急...</td>\n",
       "      <td>1DK</td>\n",
       "      <td>南</td>\n",
       "      <td>24m2</td>\n",
       "      <td>2階／2階建</td>\n",
       "      <td>専用トイレ／\\tバス・トイレ別／\\tシャワー</td>\n",
       "      <td>コンロ設置可（コンロ2口）</td>\n",
       "      <td>インターネット対応</td>\n",
       "      <td>エアコン付\\tシューズボックス／\\tバルコニー／\\tフローリング／\\t室外洗濯機置場／\\tタ...</td>\n",
       "      <td>NaN</td>\n",
       "      <td>NaN</td>\n",
       "      <td>鉄骨造</td>\n",
       "      <td>NaN</td>\n",
       "      <td>1019</td>\n",
       "      <td>3</td>\n",
       "    </tr>\n",
       "    <tr>\n",
       "      <th>22247</th>\n",
       "      <td>22248</td>\n",
       "      <td>52000</td>\n",
       "      <td>東京都世田谷区砧７丁目</td>\n",
       "      <td>小田急小田原線\\t祖師ケ谷大蔵駅\\t徒歩10分\\t\\t小田急小田原線\\t成城学園前駅\\t徒歩15分</td>\n",
       "      <td>1K</td>\n",
       "      <td>NaN</td>\n",
       "      <td>18.15m2</td>\n",
       "      <td>1階／2階建</td>\n",
       "      <td>専用トイレ</td>\n",
       "      <td>コンロ設置可（コンロ2口）</td>\n",
       "      <td>NaN</td>\n",
       "      <td>エアコン付\\t公営水道</td>\n",
       "      <td>NaN</td>\n",
       "      <td>NaN</td>\n",
       "      <td>木造</td>\n",
       "      <td>NaN</td>\n",
       "      <td>119</td>\n",
       "      <td>3</td>\n",
       "    </tr>\n",
       "  </tbody>\n",
       "</table>\n",
       "</div>"
      ],
      "text/plain": [
       "          id      賃料          所在地  \\\n",
       "15352  15353   42500  東京都杉並区方南１丁目   \n",
       "20231  20232  112000  東京都板橋区蓮根３丁目   \n",
       "20427  20428   82000  東京都目黒区中町２丁目   \n",
       "22247  22248   52000  東京都世田谷区砧７丁目   \n",
       "\n",
       "                                                    アクセス        間取り   方角  \\\n",
       "15352  京王線\\t代田橋駅\\t徒歩8分\\t\\t京王新線\\t笹塚駅\\t徒歩10分\\t\\t京王線\\t明大...         1R    東   \n",
       "20231               都営三田線\\t西台駅\\t徒歩7分\\t\\t都営三田線\\t蓮根駅\\t徒歩7分  2DK+S(納戸)    南   \n",
       "20427  東急東横線\\t祐天寺駅\\t徒歩11分\\t\\t東急東横線\\t中目黒駅\\t徒歩15分\\t\\t東急...        1DK    南   \n",
       "22247  小田急小田原線\\t祖師ケ谷大蔵駅\\t徒歩10分\\t\\t小田急小田原線\\t成城学園前駅\\t徒歩15分         1K  NaN   \n",
       "\n",
       "            面積     所在階                          バス・トイレ                キッチン  \\\n",
       "15352     10m2  2階／2階建             専用バス／\\t専用トイレ／\\tシャワー               冷蔵庫あり   \n",
       "20231   51.3m2  3階／3階建  専用トイレ／\\tバス・トイレ別／\\tシャワー／\\t洗面台独立  コンロ設置可（コンロ3口）／\\t給湯   \n",
       "20427     24m2  2階／2階建          専用トイレ／\\tバス・トイレ別／\\tシャワー       コンロ設置可（コンロ2口）   \n",
       "22247  18.15m2  1階／2階建                           専用トイレ       コンロ設置可（コンロ2口）   \n",
       "\n",
       "                  放送・通信                                               室内設備  \\\n",
       "15352  インターネット対応／\\tCATV  エアコン付\\tシューズボックス／\\tロフト付き／\\t出窓／\\t2面採光／\\tクッションフロア...   \n",
       "20231     光ファイバー／\\tCATV       エアコン付\\t出窓／\\tバルコニー／\\tフローリング／\\t室内洗濯機置場／\\tタイル張り   \n",
       "20427         インターネット対応  エアコン付\\tシューズボックス／\\tバルコニー／\\tフローリング／\\t室外洗濯機置場／\\tタ...   \n",
       "22247               NaN                                        エアコン付\\t公営水道   \n",
       "\n",
       "                   駐車場                                               周辺環境  \\\n",
       "15352  駐輪場\\t空有\\t駐車場\\t無  【大学】 1508m\\t【大学】 1776m\\t【飲食店】 661m\\t【デパート】 908...   \n",
       "20231              NaN                                                NaN   \n",
       "20427              NaN                                                NaN   \n",
       "22247              NaN                                                NaN   \n",
       "\n",
       "      建物構造 契約期間  year  year_cat  \n",
       "15352   木造  2年間    79         3  \n",
       "20231  鉄骨造  NaN   520         3  \n",
       "20427  鉄骨造  NaN  1019         3  \n",
       "22247   木造  NaN   119         3  "
      ]
     },
     "execution_count": 434,
     "metadata": {},
     "output_type": "execute_result"
    },
    {
     "data": {
      "image/png": "[encoded data removed]",
      "text/plain": [
       "<Figure size 432x288 with 1 Axes>"
      ]
     },
     "metadata": {
      "needs_background": "light"
     },
     "output_type": "display_data"
    }
   ],
   "source": [
    "class parse_how_old:\n",
    "    def __init__(self,has_category=True):\n",
    "        self.year_pat = re.compile(r\"[0-9]+年\")\n",
    "        self.month_pat = re.compile(r\"[0-9]+ヶ月\")\n",
    "        self.add_cat = has_category\n",
    "    def fit(self,x,y):\n",
    "        return self\n",
    "    def transform(self,x):\n",
    "        hoge = x.copy()\n",
    "        temp = x[\"築年数\"].values\n",
    "        add_year = [0 for i in range(len(temp))]\n",
    "        add_month = [0 for i in range(len(temp))]\n",
    "        for i in range(len(temp)):\n",
    "            year = self.year_pat.search(temp[i])\n",
    "            month = self.month_pat.search(temp[i])\n",
    "            if year:\n",
    "                year = year[0][:-1]\n",
    "            else:\n",
    "                year = 0\n",
    "            if month:\n",
    "                month = month[0][:-2]\n",
    "            else:\n",
    "                month = 0\n",
    "            add_year[i] = int(year)\n",
    "            add_month[i] = int(month)\n",
    "        hoge = hoge.drop([\"築年数\"],axis = 1)\n",
    "        hoge  = hoge.assign(year=add_year)\n",
    "        if self.add_cat:\n",
    "            thre = [5,10,20,100000000]\n",
    "            cat = [0 for i in range(len(temp))]\n",
    "            for i in range(len(temp)):\n",
    "                y = add_year[i]\n",
    "                for j in range(len(thre)):\n",
    "                    if y <= thre[j]:\n",
    "                        cat[i] = j\n",
    "                        break\n",
    "            hoge = hoge.assign(year_cat=cat)    \n",
    "            return hoge\n",
    "#         hoge = hoge.assign(month= add_month)\n",
    "\n",
    "fig = plt.figure()\n",
    "ax = fig.add_subplot(1,1,1)\n",
    "temp = parse_how_old()\n",
    "hoge = temp.transform(train)\n",
    "hoge[\"year\"].plot.box()\n",
    "Q1 = hoge[\"year\"].quantile(.25)\n",
    "Q3 = hoge[\"year\"].quantile(.75)\n",
    "IQR = Q3 - Q1\n",
    "threshold = Q3 + 1.5 * IQR\n",
    "# print(threshold)\n",
    "# hoge[\"year\"].describe()\n",
    "hoge.query(\"year>70\")\n"
   ]
  },
  {
   "cell_type": "code",
   "execution_count": 433,
   "metadata": {},
   "outputs": [
    {
     "name": "stdout",
     "output_type": "stream",
     "text": [
      "9.5\n"
     ]
    },
    {
     "data": {
      "image/png": "[encoded data removed]",
      "text/plain": [
       "<Figure size 432x288 with 1 Axes>"
      ]
     },
     "metadata": {
      "needs_background": "light"
     },
     "output_type": "display_data"
    }
   ],
   "source": [
    "class height_encoder:\n",
    "    def __init__ (self,add_cat=True):\n",
    "        self.add_cat = add_cat\n",
    "    def fit(self,x,y):\n",
    "        return self\n",
    "    def transform(self,x):\n",
    "        fuga = x.copy()\n",
    "        tmp = x[\"所在階\"].values\n",
    "        where = [0 for i in range(len(tmp))]\n",
    "        what = [0 for i in range(len(tmp))]\n",
    "        for i in range(len(tmp)):\n",
    "            try:\n",
    "                hoge =  tmp[i].split(\"／\")\n",
    "            except:\n",
    "                hoge = [\"2階\",\"5階建て\"]\n",
    "            if len(hoge) == 2:\n",
    "                if hoge[0] == \"\":\n",
    "                    hoge[0] = \"2階\"\n",
    "                if hoge[1] == \"\":\n",
    "                    hoge[1] = \"3階建て\"\n",
    "                x = int(re.search(r\"[0-9]+\",hoge[0])[0])\n",
    "                y = int(re.search(r\"[0-9]+\",hoge[1])[0])\n",
    "            else:\n",
    "                x = 2\n",
    "                y = 3\n",
    "            where[i] = x\n",
    "            what[i] = y\n",
    "        fuga = fuga.drop(\"所在階\",axis = 1)\n",
    "        fuga = fuga.assign(what_floor=where)\n",
    "        fuga = fuga.assign(height_bld=what)\n",
    "        fuga = fuga.assign(height_percent = np.array(where)/np.array(what))\n",
    "        if self.add_cat:\n",
    "            thre = [20,6,0]\n",
    "            ans = [0 for i in range(len(tmp))]\n",
    "            for i in range(len(tmp)):\n",
    "                for j in range(len(thre)):\n",
    "                    if what[i] >= thre[j]:\n",
    "                        ans[i] = 2-j\n",
    "                        break\n",
    "            fuga = fuga.assign(istower = ans)\n",
    "        return fuga\n",
    "\n",
    "fig = plt.figure()\n",
    "ax = fig.add_subplot(1,1,1)\n",
    "temp = height_encoder()\n",
    "hoge = temp.transform(train)\n",
    "hoge[\"what_floor\"].plot.box()\n",
    "Q1 = hoge[\"what_floor\"].quantile(.25)\n",
    "Q3 = hoge[\"what_floor\"].quantile(.75)\n",
    "IQR = Q3 - Q1\n",
    "threshold = Q3 + 1.5 * IQR\n",
    "print(threshold)"
   ]
  },
  {
   "cell_type": "code",
   "execution_count": 420,
   "metadata": {},
   "outputs": [
    {
     "data": {
      "text/plain": [
       "(array([1.000e+01, 1.900e+01, 3.500e+01, 6.500e+01, 2.170e+02, 5.040e+02,\n",
       "        1.133e+03, 1.668e+03, 2.538e+03, 2.615e+03, 2.967e+03, 3.324e+03,\n",
       "        3.549e+03, 3.088e+03, 2.571e+03, 1.675e+03, 1.473e+03, 1.193e+03,\n",
       "        8.550e+02, 5.650e+02, 5.780e+02, 2.790e+02, 1.860e+02, 1.050e+02,\n",
       "        7.700e+01, 4.800e+01, 4.200e+01, 1.900e+01, 2.600e+01, 1.300e+01,\n",
       "        7.000e+00, 1.000e+01, 3.000e+00, 5.000e+00, 4.000e+00, 1.000e+00,\n",
       "        1.000e+00, 1.000e+00, 0.000e+00, 1.000e+00]),\n",
       " array([10.1266311 , 10.24176036, 10.35688961, 10.47201887, 10.58714812,\n",
       "        10.70227738, 10.81740663, 10.93253589, 11.04766514, 11.1627944 ,\n",
       "        11.27792365, 11.3930529 , 11.50818216, 11.62331141, 11.73844067,\n",
       "        11.85356992, 11.96869918, 12.08382843, 12.19895769, 12.31408694,\n",
       "        12.4292162 , 12.54434545, 12.65947471, 12.77460396, 12.88973322,\n",
       "        13.00486247, 13.11999172, 13.23512098, 13.35025023, 13.46537949,\n",
       "        13.58050874, 13.695638  , 13.81076725, 13.92589651, 14.04102576,\n",
       "        14.15615502, 14.27128427, 14.38641353, 14.50154278, 14.61667204,\n",
       "        14.73180129]),\n",
       " <a list of 40 Patch objects>)"
      ]
     },
     "execution_count": 420,
     "metadata": {},
     "output_type": "execute_result"
    },
    {
     "data": {
      "image/png": "[encoded data removed]",
      "text/plain": [
       "<Figure size 432x288 with 1 Axes>"
      ]
     },
     "metadata": {
      "needs_background": "light"
     },
     "output_type": "display_data"
    }
   ],
   "source": [
    "temp = train[\"賃料\"].values\n",
    "temp = np.log(temp)\n",
    "fig = plt.figure()\n",
    "ax = fig.add_subplot(1,1,1)\n",
    "ax.hist(temp,bins = 40)"
   ]
  },
  {
   "cell_type": "code",
   "execution_count": 353,
   "metadata": {},
   "outputs": [
    {
     "data": {
      "text/plain": [
       "<matplotlib.collections.PathCollection at 0x13afcf410>"
      ]
     },
     "execution_count": 353,
     "metadata": {},
     "output_type": "execute_result"
    },
    {
     "data": {
      "image/png": "[encoded data removed]",
      "text/plain": [
       "<Figure size 432x288 with 1 Axes>"
      ]
     },
     "metadata": {
      "needs_background": "light"
     },
     "output_type": "display_data"
    }
   ],
   "source": [
    "\n",
    "class parse_area_size:\n",
    "    def __init__(self):\n",
    "        pass\n",
    "    def fit(self,x,y):\n",
    "        return self\n",
    "    def transform(self,x):\n",
    "        hoge = x.copy()\n",
    "        temp = x[\"面積\"].values\n",
    "        ans = [0 for i in range(len(temp))]\n",
    "        for i in range(len(temp)):\n",
    "            ans[i] = float(re.search(r\"[0-9\\.]+\",temp[i])[0])\n",
    "        hoge = hoge.drop(\"面積\",axis = 1)\n",
    "        hoge = hoge.assign(areasize=ans)\n",
    "        return hoge\n",
    "fig = plt.figure()\n",
    "ax = fig.add_subplot(1,1,1)\n",
    "test = parse_area_size()\n",
    "hoge = test.transform(train)\n",
    "ax.scatter(hoge[\"areasize\"],hoge[\"賃料\"])"
   ]
  },
  {
   "cell_type": "code",
   "execution_count": 438,
   "metadata": {},
   "outputs": [
    {
     "data": {
      "text/html": [
       "<div>\n",
       "<style scoped>\n",
       "    .dataframe tbody tr th:only-of-type {\n",
       "        vertical-align: middle;\n",
       "    }\n",
       "\n",
       "    .dataframe tbody tr th {\n",
       "        vertical-align: top;\n",
       "    }\n",
       "\n",
       "    .dataframe thead th {\n",
       "        text-align: right;\n",
       "    }\n",
       "</style>\n",
       "<table border=\"1\" class=\"dataframe\">\n",
       "  <thead>\n",
       "    <tr style=\"text-align: right;\">\n",
       "      <th></th>\n",
       "      <th>id</th>\n",
       "      <th>賃料</th>\n",
       "      <th>所在地</th>\n",
       "      <th>アクセス</th>\n",
       "      <th>間取り</th>\n",
       "      <th>築年数</th>\n",
       "      <th>方角</th>\n",
       "      <th>所在階</th>\n",
       "      <th>バス・トイレ</th>\n",
       "      <th>キッチン</th>\n",
       "      <th>放送・通信</th>\n",
       "      <th>室内設備</th>\n",
       "      <th>駐車場</th>\n",
       "      <th>周辺環境</th>\n",
       "      <th>建物構造</th>\n",
       "      <th>契約期間</th>\n",
       "      <th>areasize</th>\n",
       "    </tr>\n",
       "  </thead>\n",
       "  <tbody>\n",
       "    <tr>\n",
       "      <th>20926</th>\n",
       "      <td>20927</td>\n",
       "      <td>116000</td>\n",
       "      <td>東京都荒川区南千住７丁目</td>\n",
       "      <td>日比谷線\\t南千住駅\\t徒歩7分\\t\\t京成本線\\t千住大橋駅\\t徒歩10分\\t\\t都電荒川...</td>\n",
       "      <td>2LDK</td>\n",
       "      <td>19年11ヶ月</td>\n",
       "      <td>西</td>\n",
       "      <td>2階／10階建</td>\n",
       "      <td>専用バス／\\t専用トイレ／\\tバス・トイレ別／\\tシャワー／\\t温水洗浄便座／\\t洗面台独立...</td>\n",
       "      <td>ガスコンロ／\\tコンロ2口／\\tシステムキッチン\\t／\\t独立キッチン</td>\n",
       "      <td>インターネット対応／\\t光ファイバー／\\tCATV／\\tCSアンテナ／\\tBSアンテナ</td>\n",
       "      <td>エアコン付\\tシューズボックス／\\tバルコニー／\\tフローリング／\\t24時間換気システム\\...</td>\n",
       "      <td>駐輪場\\t空有\\t駐車場\\t無\\tバイク置き場\\t無</td>\n",
       "      <td>【スーパー】 432m\\t【スーパー】 532m\\t【コンビニ】 111m\\t【コンビニ】 ...</td>\n",
       "      <td>鉄骨造</td>\n",
       "      <td>NaN</td>\n",
       "      <td>430.1</td>\n",
       "    </tr>\n",
       "    <tr>\n",
       "      <th>30539</th>\n",
       "      <td>30540</td>\n",
       "      <td>1660000</td>\n",
       "      <td>東京都渋谷区広尾１丁目</td>\n",
       "      <td>山手線\\t恵比寿駅\\t徒歩6分\\t\\t日比谷線\\t恵比寿駅\\t徒歩6分</td>\n",
       "      <td>4LDK+S(納戸)</td>\n",
       "      <td>22年7ヶ月</td>\n",
       "      <td>南</td>\n",
       "      <td>12階／13階建（地下2階）</td>\n",
       "      <td>温水洗浄便座</td>\n",
       "      <td>給湯／\\t冷蔵庫あり</td>\n",
       "      <td>CATV</td>\n",
       "      <td>トランクルーム\\tエレベーター</td>\n",
       "      <td>駐車場\\t無</td>\n",
       "      <td>NaN</td>\n",
       "      <td>RC（鉄筋コンクリート）</td>\n",
       "      <td>3年間\\t※この物件は\\t定期借家\\tです。</td>\n",
       "      <td>341.3</td>\n",
       "    </tr>\n",
       "  </tbody>\n",
       "</table>\n",
       "</div>"
      ],
      "text/plain": [
       "          id       賃料           所在地  \\\n",
       "20926  20927   116000  東京都荒川区南千住７丁目   \n",
       "30539  30540  1660000   東京都渋谷区広尾１丁目   \n",
       "\n",
       "                                                    アクセス         間取り      築年数  \\\n",
       "20926  日比谷線\\t南千住駅\\t徒歩7分\\t\\t京成本線\\t千住大橋駅\\t徒歩10分\\t\\t都電荒川...        2LDK  19年11ヶ月   \n",
       "30539                山手線\\t恵比寿駅\\t徒歩6分\\t\\t日比谷線\\t恵比寿駅\\t徒歩6分  4LDK+S(納戸)   22年7ヶ月   \n",
       "\n",
       "      方角             所在階                                             バス・トイレ  \\\n",
       "20926  西         2階／10階建  専用バス／\\t専用トイレ／\\tバス・トイレ別／\\tシャワー／\\t温水洗浄便座／\\t洗面台独立...   \n",
       "30539  南  12階／13階建（地下2階）                                             温水洗浄便座   \n",
       "\n",
       "                                      キッチン  \\\n",
       "20926  ガスコンロ／\\tコンロ2口／\\tシステムキッチン\\t／\\t独立キッチン   \n",
       "30539                           給湯／\\t冷蔵庫あり   \n",
       "\n",
       "                                             放送・通信  \\\n",
       "20926  インターネット対応／\\t光ファイバー／\\tCATV／\\tCSアンテナ／\\tBSアンテナ   \n",
       "30539                                         CATV   \n",
       "\n",
       "                                                    室内設備  \\\n",
       "20926  エアコン付\\tシューズボックス／\\tバルコニー／\\tフローリング／\\t24時間換気システム\\...   \n",
       "30539                                    トランクルーム\\tエレベーター   \n",
       "\n",
       "                              駐車場  \\\n",
       "20926  駐輪場\\t空有\\t駐車場\\t無\\tバイク置き場\\t無   \n",
       "30539                      駐車場\\t無   \n",
       "\n",
       "                                                    周辺環境          建物構造  \\\n",
       "20926  【スーパー】 432m\\t【スーパー】 532m\\t【コンビニ】 111m\\t【コンビニ】 ...           鉄骨造   \n",
       "30539                                                NaN  RC（鉄筋コンクリート）   \n",
       "\n",
       "                         契約期間  areasize  \n",
       "20926                     NaN     430.1  \n",
       "30539  3年間\\t※この物件は\\t定期借家\\tです。     341.3  "
      ]
     },
     "execution_count": 438,
     "metadata": {},
     "output_type": "execute_result"
    },
    {
     "data": {
      "image/png": "[encoded data removed]",
      "text/plain": [
       "<Figure size 432x288 with 1 Axes>"
      ]
     },
     "metadata": {
      "needs_background": "light"
     },
     "output_type": "display_data"
    }
   ],
   "source": [
    "class parse_area_size:\n",
    "    def __init__(self):\n",
    "        pass\n",
    "    def fit(self,x,y):\n",
    "        return self\n",
    "    def transform(self,x):\n",
    "        hoge = x.copy()\n",
    "        temp = x[\"面積\"].values\n",
    "        ans = [0 for i in range(len(temp))]\n",
    "        for i in range(len(temp)):\n",
    "            ans[i] = float(re.search(r\"[0-9\\.]+\",temp[i])[0])\n",
    "        hoge = hoge.drop(\"面積\",axis = 1)\n",
    "        hoge = hoge.assign(areasize=ans)\n",
    "        return hoge\n",
    "fig = plt.figure()\n",
    "ax = fig.add_subplot(1,1,1)\n",
    "temp = parse_area_size()\n",
    "hoge = temp.transform(train)\n",
    "hoge.query(\"areasize>300\")"
   ]
  },
  {
   "cell_type": "code",
   "execution_count": 355,
   "metadata": {},
   "outputs": [
    {
     "data": {
      "text/plain": [
       "<matplotlib.axes._subplots.AxesSubplot at 0x13fc80a10>"
      ]
     },
     "execution_count": 355,
     "metadata": {},
     "output_type": "execute_result"
    },
    {
     "data": {
      "image/png": "[encoded data removed]",
      "text/plain": [
       "<Figure size 432x288 with 1 Axes>"
      ]
     },
     "metadata": {
      "needs_background": "light"
     },
     "output_type": "display_data"
    }
   ],
   "source": [
    "hoge[\"areasize\"].hist(bins=40)"
   ]
  },
  {
   "cell_type": "code",
   "execution_count": 208,
   "metadata": {},
   "outputs": [
    {
     "data": {
      "text/plain": [
       "<matplotlib.collections.PathCollection at 0x136b879d0>"
      ]
     },
     "execution_count": 208,
     "metadata": {},
     "output_type": "execute_result"
    },
    {
     "data": {
      "image/png": "[encoded data removed]",
      "text/plain": [
       "<Figure size 432x288 with 1 Axes>"
      ]
     },
     "metadata": {
      "needs_background": "light"
     },
     "output_type": "display_data"
    }
   ],
   "source": [
    "class parse_how_old:\n",
    "    def __init__(self):\n",
    "        self.year_pat = re.compile(r\"[0-9]+年\")\n",
    "        self.month_pat = re.compile(r\"[0-9]+ヶ月\")\n",
    "    def fit(self,x,y):\n",
    "        return self\n",
    "    def transform(self,x):\n",
    "        hoge = x.copy()\n",
    "        temp = x[\"築年数\"].values\n",
    "        add_year = [0 for i in range(len(temp))]\n",
    "        add_month = [0 for i in range(len(temp))]\n",
    "        for i in range(len(temp)):\n",
    "            year = self.year_pat.search(temp[i])\n",
    "            month = self.month_pat.search(temp[i])\n",
    "            if year:\n",
    "                year = year[0][:-1]\n",
    "            else:\n",
    "                year = 0\n",
    "            if month:\n",
    "                month = month[0][:-2]\n",
    "            else:\n",
    "                month = 0\n",
    "            add_year[i] = int(year)\n",
    "            add_month[i] = int(month)\n",
    "        hoge = hoge.drop([\"築年数\"],axis = 1)\n",
    "        hoge  = hoge.assign(year=add_year)\n",
    "        hoge = hoge.assign(month= add_month)\n",
    "        return hoge\n",
    "fig = plt.figure()\n",
    "ax = fig.add_subplot(1,1,1)\n",
    "test = parse_how_old()\n",
    "hoge = test.transform(train)\n",
    "ax.scatter(hoge[\"year\"],hoge[\"賃料\"])"
   ]
  },
  {
   "cell_type": "code",
   "execution_count": 212,
   "metadata": {},
   "outputs": [
    {
     "data": {
      "text/plain": [
       "<matplotlib.collections.PathCollection at 0x13526d6d0>"
      ]
     },
     "execution_count": 212,
     "metadata": {},
     "output_type": "execute_result"
    },
    {
     "data": {
      "image/png": "[encoded data removed]",
      "text/plain": [
       "<Figure size 432x288 with 1 Axes>"
      ]
     },
     "metadata": {
      "needs_background": "light"
     },
     "output_type": "display_data"
    }
   ],
   "source": [
    "fig = plt.figure()\n",
    "ax = fig.add_subplot(1,1,1)\n",
    "test = parse_how_old()\n",
    "hoge = test.transform(train)\n",
    "ax.scatter(hoge[\"month\"],hoge[\"賃料\"])"
   ]
  },
  {
   "cell_type": "code",
   "execution_count": 258,
   "metadata": {},
   "outputs": [
    {
     "data": {
      "text/html": [
       "<div>\n",
       "<style scoped>\n",
       "    .dataframe tbody tr th:only-of-type {\n",
       "        vertical-align: middle;\n",
       "    }\n",
       "\n",
       "    .dataframe tbody tr th {\n",
       "        vertical-align: top;\n",
       "    }\n",
       "\n",
       "    .dataframe thead th {\n",
       "        text-align: right;\n",
       "    }\n",
       "</style>\n",
       "<table border=\"1\" class=\"dataframe\">\n",
       "  <thead>\n",
       "    <tr style=\"text-align: right;\">\n",
       "      <th></th>\n",
       "      <th>count</th>\n",
       "      <th>mean</th>\n",
       "      <th>std</th>\n",
       "      <th>min</th>\n",
       "      <th>25%</th>\n",
       "      <th>50%</th>\n",
       "      <th>75%</th>\n",
       "      <th>max</th>\n",
       "    </tr>\n",
       "    <tr>\n",
       "      <th>is_teiki</th>\n",
       "      <th></th>\n",
       "      <th></th>\n",
       "      <th></th>\n",
       "      <th></th>\n",
       "      <th></th>\n",
       "      <th></th>\n",
       "      <th></th>\n",
       "      <th></th>\n",
       "    </tr>\n",
       "  </thead>\n",
       "  <tbody>\n",
       "    <tr>\n",
       "      <th>0</th>\n",
       "      <td>29799.0</td>\n",
       "      <td>114413.141112</td>\n",
       "      <td>62814.566128</td>\n",
       "      <td>25000.0</td>\n",
       "      <td>75000.0</td>\n",
       "      <td>100000.0</td>\n",
       "      <td>133000.0</td>\n",
       "      <td>1203500.0</td>\n",
       "    </tr>\n",
       "    <tr>\n",
       "      <th>1</th>\n",
       "      <td>1671.0</td>\n",
       "      <td>187431.927588</td>\n",
       "      <td>164420.531211</td>\n",
       "      <td>27000.0</td>\n",
       "      <td>100500.0</td>\n",
       "      <td>157000.0</td>\n",
       "      <td>226000.0</td>\n",
       "      <td>2500000.0</td>\n",
       "    </tr>\n",
       "  </tbody>\n",
       "</table>\n",
       "</div>"
      ],
      "text/plain": [
       "            count           mean            std      min       25%       50%  \\\n",
       "is_teiki                                                                       \n",
       "0         29799.0  114413.141112   62814.566128  25000.0   75000.0  100000.0   \n",
       "1          1671.0  187431.927588  164420.531211  27000.0  100500.0  157000.0   \n",
       "\n",
       "               75%        max  \n",
       "is_teiki                       \n",
       "0         133000.0  1203500.0  \n",
       "1         226000.0  2500000.0  "
      ]
     },
     "execution_count": 258,
     "metadata": {},
     "output_type": "execute_result"
    },
    {
     "data": {
      "image/png": "[encoded data removed]",
      "text/plain": [
       "<Figure size 432x288 with 1 Axes>"
      ]
     },
     "metadata": {
      "needs_background": "light"
     },
     "output_type": "display_data"
    }
   ],
   "source": [
    "class parse_contract_time:\n",
    "    def __init__(self):\n",
    "        self.teiki_pat = re.compile(r\".*\\t.*\")\n",
    "        self.year_pat = re.compile(r\"[0-9]+年間\")\n",
    "        self.month_pat = re.compile(r\"[0-9]+ヶ月間\")\n",
    "        self.due_year_pat = re.compile(r\"[0-9]+年\")\n",
    "        self.due_month_pat = re.compile(r\"[0-9]+月まで\")\n",
    "        self.double_pat = re.compile(r\"[0-9]+年[0-9]+ヶ月間\")\n",
    "    def fit(self,x,y):\n",
    "        return self\n",
    "    def transform(self,x):\n",
    "        hoge = x.copy()\n",
    "        temp = x[\"契約期間\"].values\n",
    "        isteiki = [0 for i in range(len(temp))]\n",
    "        add_year = [0 for i in range(len(temp))]\n",
    "        add_month = [0 for i in range(len(temp))]\n",
    "        for i in range(len(temp)):\n",
    "            if not temp[i] == temp[i]:\n",
    "                add_year[i] = 2\n",
    "                add_month[i] = 0   \n",
    "                continue\n",
    "            if self.teiki_pat.match(temp[i]):\n",
    "                isteiki[i] = 1\n",
    "            if self.double_pat.match(temp[i]):\n",
    "                year = self.due_year_pat.search(temp[i])[0][:-1]\n",
    "                month = self.month_pat.search(temp[i])[0][:-3]\n",
    "                add_year[i] = int(year)\n",
    "                add_month[i] = int(month)\n",
    "            else:\n",
    "                if self.due_month_pat.search(temp[i]):\n",
    "                    year = self.due_year_pat.search(temp[i])[0][:-1]\n",
    "                    month = self.due_month_pat.search(temp[i])[0][:-3]\n",
    "                    year = int(year)-2019\n",
    "                    month = int(month)-9\n",
    "                    if month < 0:\n",
    "                        year -= 1\n",
    "                        month += 12\n",
    "                    add_year[i] = int(year)\n",
    "                    add_month[i] = int(month)\n",
    "                else:\n",
    "                    if self.year_pat.match(temp[i]):\n",
    "                        year = self.year_pat.match(temp[i])[0][:-2]\n",
    "                        month = 0\n",
    "                    else:\n",
    "                        year = 0\n",
    "                        month = self.month_pat.match(temp[i])[0][:-3]\n",
    "                    add_year[i] = int(year)\n",
    "                    add_month[i] = int(month)\n",
    "        hoge = hoge.drop([\"契約期間\"],axis = 1)\n",
    "        hoge = hoge.assign(is_teiki=isteiki)\n",
    "        hoge = hoge.assign(cont_year= add_year)\n",
    "        hoge = hoge.assign(cont_month= add_month)\n",
    "        return hoge\n",
    "\n",
    "fig = plt.figure()\n",
    "ax = fig.add_subplot(1,1,1)\n",
    "test = parse_contract_time()\n",
    "hoge = test.transform(train)\n",
    "ax.scatter(hoge[\"is_teiki\"],hoge[\"賃料\"])\n",
    "hoge.groupby(\"is_teiki\")[\"賃料\"].describe()"
   ]
  },
  {
   "cell_type": "code",
   "execution_count": 217,
   "metadata": {},
   "outputs": [
    {
     "data": {
      "text/plain": [
       "<matplotlib.collections.PathCollection at 0x13ad4aa10>"
      ]
     },
     "execution_count": 217,
     "metadata": {},
     "output_type": "execute_result"
    },
    {
     "data": {
      "image/png": "[encoded data removed]",
      "text/plain": [
       "<Figure size 432x288 with 1 Axes>"
      ]
     },
     "metadata": {
      "needs_background": "light"
     },
     "output_type": "display_data"
    }
   ],
   "source": [
    "fig = plt.figure()\n",
    "ax = fig.add_subplot(1,1,1)\n",
    "test = parse_contract_time()\n",
    "hoge = test.transform(train)\n",
    "ax.scatter(hoge[\"cont_year\"],hoge[\"賃料\"])"
   ]
  },
  {
   "cell_type": "code",
   "execution_count": 218,
   "metadata": {},
   "outputs": [
    {
     "data": {
      "text/plain": [
       "<matplotlib.collections.PathCollection at 0x13ac0b7d0>"
      ]
     },
     "execution_count": 218,
     "metadata": {},
     "output_type": "execute_result"
    },
    {
     "data": {
      "image/png": "[encoded data removed]",
      "text/plain": [
       "<Figure size 432x288 with 1 Axes>"
      ]
     },
     "metadata": {
      "needs_background": "light"
     },
     "output_type": "display_data"
    }
   ],
   "source": [
    "class parse_rooms:\n",
    "    def __init__(self):\n",
    "        pass\n",
    "    def fit(self,x,y):\n",
    "        return self\n",
    "    def transform(self,x):\n",
    "        hoge = x.copy()\n",
    "        temp = x[\"間取り\"].values\n",
    "        room = [0 for i in range(len(temp))]\n",
    "        head = [\"R\",\"L\",\"D\",\"K\",\"S\"]\n",
    "        setubi = [[0 for i in range(len(temp))] for j in range(5)]\n",
    "        for i in range(len(temp)):\n",
    "            room[i] = int(temp[i][0])\n",
    "            for j in range(5):\n",
    "                if head[j] in temp[i]:\n",
    "                    setubi[j][i] = 1\n",
    "        hoge = hoge.drop(\"間取り\",axis = 1)\n",
    "        hoge = hoge.assign(room = room)\n",
    "        hoge = hoge.assign(R = setubi[0])\n",
    "        hoge = hoge.assign(L = setubi[1])\n",
    "        hoge = hoge.assign(D = setubi[2])\n",
    "        hoge = hoge.assign(K = setubi[3])\n",
    "        hoge = hoge.assign(S = setubi[4])\n",
    "        return hoge\n",
    "fig = plt.figure()\n",
    "ax = fig.add_subplot(1,1,1)\n",
    "test = parse_rooms()\n",
    "hoge = test.transform(train)\n",
    "ax.scatter(hoge[\"room\"],hoge[\"賃料\"])"
   ]
  },
  {
   "cell_type": "code",
   "execution_count": 222,
   "metadata": {},
   "outputs": [
    {
     "data": {
      "text/plain": [
       "<matplotlib.collections.PathCollection at 0x13988ee10>"
      ]
     },
     "execution_count": 222,
     "metadata": {},
     "output_type": "execute_result"
    },
    {
     "data": {
      "image/png": "[encoded data removed]",
      "text/plain": [
       "<Figure size 432x288 with 1 Axes>"
      ]
     },
     "metadata": {
      "needs_background": "light"
     },
     "output_type": "display_data"
    }
   ],
   "source": [
    "class height_encoder:\n",
    "    def __init__ (self):\n",
    "        pass\n",
    "    def fit(self,x,y):\n",
    "        return self\n",
    "    def transform(self,x):\n",
    "        fuga = x.copy()\n",
    "        tmp = x[\"所在階\"].values\n",
    "        where = [0 for i in range(len(tmp))]\n",
    "        what = [0 for i in range(len(tmp))]\n",
    "        for i in range(len(tmp)):\n",
    "            hoge =  tmp[i].split(\"／\")\n",
    "            if len(hoge) == 2:\n",
    "                if hoge[0] == \"\":\n",
    "                    hoge[0] = \"2階\"\n",
    "                if hoge[1] == \"\":\n",
    "                    hoge[1] = \"5階建て\"\n",
    "                x = int(re.search(r\"[0-9]+\",hoge[0])[0])\n",
    "                y = int(re.search(r\"[0-9]+\",hoge[1])[0])\n",
    "            else:\n",
    "                x = 2\n",
    "                y = 3\n",
    "            where[i] = x\n",
    "            what[i] = y\n",
    "        fuga = fuga.drop(\"所在階\",axis = 1)\n",
    "        fuga = fuga.assign(what_floor=where)\n",
    "        fuga = fuga.assign(height_bld=what)\n",
    "        return fuga\n",
    "fig = plt.figure()\n",
    "ax = fig.add_subplot(1,1,1)\n",
    "test = height_encoder()\n",
    "hoge = test.transform(train)\n",
    "ax.scatter(hoge[\"what_floor\"],hoge[\"賃料\"])"
   ]
  },
  {
   "cell_type": "code",
   "execution_count": 223,
   "metadata": {},
   "outputs": [
    {
     "data": {
      "text/plain": [
       "<matplotlib.collections.PathCollection at 0x13b96b5d0>"
      ]
     },
     "execution_count": 223,
     "metadata": {},
     "output_type": "execute_result"
    },
    {
     "data": {
      "image/png": "[encoded data removed]",
      "text/plain": [
       "<Figure size 432x288 with 1 Axes>"
      ]
     },
     "metadata": {
      "needs_background": "light"
     },
     "output_type": "display_data"
    }
   ],
   "source": [
    "fig = plt.figure()\n",
    "ax = fig.add_subplot(1,1,1)\n",
    "test = height_encoder()\n",
    "hoge = test.transform(train)\n",
    "ax.scatter(hoge[\"height_bld\"],hoge[\"賃料\"])"
   ]
  },
  {
   "cell_type": "code",
   "execution_count": 450,
   "metadata": {},
   "outputs": [
    {
     "data": {
      "text/html": [
       "<div>\n",
       "<style scoped>\n",
       "    .dataframe tbody tr th:only-of-type {\n",
       "        vertical-align: middle;\n",
       "    }\n",
       "\n",
       "    .dataframe tbody tr th {\n",
       "        vertical-align: top;\n",
       "    }\n",
       "\n",
       "    .dataframe thead th {\n",
       "        text-align: right;\n",
       "    }\n",
       "</style>\n",
       "<table border=\"1\" class=\"dataframe\">\n",
       "  <thead>\n",
       "    <tr style=\"text-align: right;\">\n",
       "      <th></th>\n",
       "      <th>count</th>\n",
       "      <th>mean</th>\n",
       "      <th>std</th>\n",
       "      <th>min</th>\n",
       "      <th>25%</th>\n",
       "      <th>50%</th>\n",
       "      <th>75%</th>\n",
       "      <th>max</th>\n",
       "    </tr>\n",
       "    <tr>\n",
       "      <th>istower</th>\n",
       "      <th></th>\n",
       "      <th></th>\n",
       "      <th></th>\n",
       "      <th></th>\n",
       "      <th></th>\n",
       "      <th></th>\n",
       "      <th></th>\n",
       "      <th></th>\n",
       "    </tr>\n",
       "  </thead>\n",
       "  <tbody>\n",
       "    <tr>\n",
       "      <th>0</th>\n",
       "      <td>30579.0</td>\n",
       "      <td>113719.198960</td>\n",
       "      <td>66273.665046</td>\n",
       "      <td>25000.0</td>\n",
       "      <td>75000.0</td>\n",
       "      <td>100000.0</td>\n",
       "      <td>133000.0</td>\n",
       "      <td>2500000.0</td>\n",
       "    </tr>\n",
       "    <tr>\n",
       "      <th>1</th>\n",
       "      <td>887.0</td>\n",
       "      <td>274704.687711</td>\n",
       "      <td>122671.544815</td>\n",
       "      <td>87000.0</td>\n",
       "      <td>200500.0</td>\n",
       "      <td>250000.0</td>\n",
       "      <td>311500.0</td>\n",
       "      <td>1390000.0</td>\n",
       "    </tr>\n",
       "  </tbody>\n",
       "</table>\n",
       "</div>"
      ],
      "text/plain": [
       "           count           mean            std      min       25%       50%  \\\n",
       "istower                                                                       \n",
       "0        30579.0  113719.198960   66273.665046  25000.0   75000.0  100000.0   \n",
       "1          887.0  274704.687711  122671.544815  87000.0  200500.0  250000.0   \n",
       "\n",
       "              75%        max  \n",
       "istower                       \n",
       "0        133000.0  2500000.0  \n",
       "1        311500.0  1390000.0  "
      ]
     },
     "execution_count": 450,
     "metadata": {},
     "output_type": "execute_result"
    },
    {
     "data": {
      "image/png": "[encoded data removed]",
      "text/plain": [
       "<Figure size 432x288 with 1 Axes>"
      ]
     },
     "metadata": {
      "needs_background": "light"
     },
     "output_type": "display_data"
    }
   ],
   "source": [
    "class height_encoder:\n",
    "    def __init__ (self,add_cat=True):\n",
    "        self.add_cat = add_cat\n",
    "    def fit(self,x,y):\n",
    "        return self\n",
    "    def transform(self,x):\n",
    "        fuga = x.copy()\n",
    "        tmp = x[\"所在階\"].values\n",
    "        where = [0 for i in range(len(tmp))]\n",
    "        what = [0 for i in range(len(tmp))]\n",
    "        for i in range(len(tmp)):\n",
    "            try:\n",
    "                hoge =  tmp[i].split(\"／\")\n",
    "            except:\n",
    "                hoge = [\"2階\",\"5階建て\"]\n",
    "            if len(hoge) == 2:\n",
    "                if hoge[0] == \"\":\n",
    "                    hoge[0] = \"2階\"\n",
    "                if hoge[1] == \"\":\n",
    "                    hoge[1] = \"3階建て\"\n",
    "                x = int(re.search(r\"[0-9]+\",hoge[0])[0])\n",
    "                y = int(re.search(r\"[0-9]+\",hoge[1])[0])\n",
    "            else:\n",
    "                x = 2\n",
    "                y = 3\n",
    "            where[i] = x\n",
    "            what[i] = y\n",
    "        fuga = fuga.drop(\"所在階\",axis = 1)\n",
    "        fuga = fuga.assign(what_floor=where)\n",
    "        fuga = fuga.assign(height_bld=what)\n",
    "        fuga = fuga.assign(height_percent = np.array(where)/np.array(what))\n",
    "        fuga = fuga.assign(height_diff=np.array(what)-np.array(where))\n",
    "        if self.add_cat:\n",
    "            ans = [0 for i in range(len(tmp))]\n",
    "            for i in range(len(tmp)):\n",
    "                if what[i] >= 20:\n",
    "                    ans[i] = 1\n",
    "            fuga = fuga.assign(istower = ans)\n",
    "        return fuga\n",
    "fig = plt.figure()\n",
    "ax = fig.add_subplot(1,1,1)\n",
    "temp = height_encoder()\n",
    "hoge = temp.transform(train)\n",
    "ax.scatter(hoge[\"istower\"],hoge[\"賃料\"])\n",
    "hoge.groupby(\"istower\")[\"賃料\"].describe()\n",
    "# hoge.query(\"istower==0 and 賃料>1000000\")"
   ]
  },
  {
   "cell_type": "code",
   "execution_count": 462,
   "metadata": {},
   "outputs": [
    {
     "data": {
      "text/html": [
       "<div>\n",
       "<style scoped>\n",
       "    .dataframe tbody tr th:only-of-type {\n",
       "        vertical-align: middle;\n",
       "    }\n",
       "\n",
       "    .dataframe tbody tr th {\n",
       "        vertical-align: top;\n",
       "    }\n",
       "\n",
       "    .dataframe thead th {\n",
       "        text-align: right;\n",
       "    }\n",
       "</style>\n",
       "<table border=\"1\" class=\"dataframe\">\n",
       "  <thead>\n",
       "    <tr style=\"text-align: right;\">\n",
       "      <th></th>\n",
       "      <th>id</th>\n",
       "      <th>賃料</th>\n",
       "      <th>所在地</th>\n",
       "      <th>間取り</th>\n",
       "      <th>築年数</th>\n",
       "      <th>方角</th>\n",
       "      <th>面積</th>\n",
       "      <th>所在階</th>\n",
       "      <th>バス・トイレ</th>\n",
       "      <th>キッチン</th>\n",
       "      <th>...</th>\n",
       "      <th>室内設備</th>\n",
       "      <th>駐車場</th>\n",
       "      <th>周辺環境</th>\n",
       "      <th>建物構造</th>\n",
       "      <th>契約期間</th>\n",
       "      <th>train</th>\n",
       "      <th>train2</th>\n",
       "      <th>train3</th>\n",
       "      <th>walk</th>\n",
       "      <th>avgwalk</th>\n",
       "    </tr>\n",
       "  </thead>\n",
       "  <tbody>\n",
       "    <tr>\n",
       "      <th>0</th>\n",
       "      <td>1</td>\n",
       "      <td>75000</td>\n",
       "      <td>東京都北区滝野川３丁目</td>\n",
       "      <td>1K</td>\n",
       "      <td>9年9ヶ月</td>\n",
       "      <td>南東</td>\n",
       "      <td>20.01m2</td>\n",
       "      <td>1階／12階建</td>\n",
       "      <td>専用バス／\\t専用トイレ／\\tバス・トイレ別／\\tシャワー／\\t浴室乾燥機\\t／\\t温水洗浄便座</td>\n",
       "      <td>ガスコンロ／\\tコンロ2口／\\tシステムキッチン\\t／\\t給湯</td>\n",
       "      <td>...</td>\n",
       "      <td>エアコン付\\tシューズボックス／\\tバルコニー／\\tフローリング／\\t室内洗濯機置場／\\t敷...</td>\n",
       "      <td>駐輪場\\t空有</td>\n",
       "      <td>【小学校】 495m\\t【大学】 461m\\t【小学校】 962m\\t【公園】 1103m\\...</td>\n",
       "      <td>RC（鉄筋コンクリート）</td>\n",
       "      <td>2年間</td>\n",
       "      <td>都営三田線</td>\n",
       "      <td>埼京線</td>\n",
       "      <td>都電荒川線</td>\n",
       "      <td>4</td>\n",
       "      <td>8.333333</td>\n",
       "    </tr>\n",
       "    <tr>\n",
       "      <th>1</th>\n",
       "      <td>2</td>\n",
       "      <td>76000</td>\n",
       "      <td>東京都中央区月島３丁目</td>\n",
       "      <td>1R</td>\n",
       "      <td>44年10ヶ月</td>\n",
       "      <td>NaN</td>\n",
       "      <td>16.5m2</td>\n",
       "      <td>5階／10階建</td>\n",
       "      <td>専用トイレ／\\tシャワー／\\t温水洗浄便座</td>\n",
       "      <td>ガスコンロ／\\tシステムキッチン\\t／\\t給湯</td>\n",
       "      <td>...</td>\n",
       "      <td>エアコン付\\tシューズボックス／\\tバルコニー／\\tフローリング／\\t室内洗濯機置場／\\t敷...</td>\n",
       "      <td>駐輪場\\t空有\\t駐車場\\t無\\tバイク置き場\\t無</td>\n",
       "      <td>【スーパー】 1283m</td>\n",
       "      <td>鉄骨造</td>\n",
       "      <td>2年間</td>\n",
       "      <td>都営大江戸線</td>\n",
       "      <td>有楽町線</td>\n",
       "      <td>日比谷線</td>\n",
       "      <td>5</td>\n",
       "      <td>11.333333</td>\n",
       "    </tr>\n",
       "    <tr>\n",
       "      <th>2</th>\n",
       "      <td>3</td>\n",
       "      <td>110000</td>\n",
       "      <td>東京都渋谷区笹塚２丁目</td>\n",
       "      <td>1K</td>\n",
       "      <td>8年6ヶ月</td>\n",
       "      <td>南</td>\n",
       "      <td>22.05m2</td>\n",
       "      <td>12階／15階建</td>\n",
       "      <td>専用バス／\\t専用トイレ／\\tバス・トイレ別／\\tシャワー／\\t浴室乾燥機\\t／\\t温水洗浄...</td>\n",
       "      <td>ガスコンロ／\\tコンロ2口／\\tシステムキッチン\\t／\\t給湯</td>\n",
       "      <td>...</td>\n",
       "      <td>エアコン付\\tウォークインクローゼット\\tシューズボックス／\\tバルコニー／\\tフローリング...</td>\n",
       "      <td>駐輪場\\t空有\\tバイク置き場\\t空有\\t駐車場\\t近隣\\t30,000円(税込)\\t距離100m</td>\n",
       "      <td>【スーパー】 89m\\t【コンビニ】 184m\\t【コンビニ】 392m\\t【スーパー】 492m</td>\n",
       "      <td>RC（鉄筋コンクリート）</td>\n",
       "      <td>2年間</td>\n",
       "      <td>京王線</td>\n",
       "      <td>京王線</td>\n",
       "      <td>京王線</td>\n",
       "      <td>6</td>\n",
       "      <td>10.000000</td>\n",
       "    </tr>\n",
       "    <tr>\n",
       "      <th>3</th>\n",
       "      <td>4</td>\n",
       "      <td>150000</td>\n",
       "      <td>東京都杉並区高円寺南２丁目23-2</td>\n",
       "      <td>2LDK</td>\n",
       "      <td>29年4ヶ月</td>\n",
       "      <td>南</td>\n",
       "      <td>60.48m2</td>\n",
       "      <td>3階／4階建</td>\n",
       "      <td>専用バス／\\t専用トイレ／\\tバス・トイレ別／\\tシャワー／\\t温水洗浄便座／\\t洗面台独立</td>\n",
       "      <td>ガスコンロ／\\t給湯</td>\n",
       "      <td>...</td>\n",
       "      <td>エアコン付\\tシューズボックス／\\tバルコニー／\\t2面採光／\\t室内洗濯機置場／\\tエレベ...</td>\n",
       "      <td>駐車場\\t無\\t駐輪場\\t無\\tバイク置き場\\t無</td>\n",
       "      <td>【スーパー】 225m\\t【スーパー】 448m\\t【スーパー】 619m\\t【スーパー】 ...</td>\n",
       "      <td>RC（鉄筋コンクリート）</td>\n",
       "      <td>2年間\\t※この物件は\\t定期借家\\tです。</td>\n",
       "      <td>総武線</td>\n",
       "      <td>丸ノ内線</td>\n",
       "      <td>丸ノ内線</td>\n",
       "      <td>9</td>\n",
       "      <td>8.666667</td>\n",
       "    </tr>\n",
       "    <tr>\n",
       "      <th>4</th>\n",
       "      <td>5</td>\n",
       "      <td>74000</td>\n",
       "      <td>東京都葛飾区金町３丁目7-2</td>\n",
       "      <td>2DK</td>\n",
       "      <td>31年7ヶ月</td>\n",
       "      <td>南</td>\n",
       "      <td>39.66m2</td>\n",
       "      <td>1階／2階建</td>\n",
       "      <td>専用バス／\\t専用トイレ／\\tバス・トイレ別／\\tシャワー／\\t追焚機能</td>\n",
       "      <td>給湯／\\t独立キッチン</td>\n",
       "      <td>...</td>\n",
       "      <td>バルコニー／\\tフローリング／\\t室内洗濯機置場\\t公営水道／\\t下水</td>\n",
       "      <td>駐車場\\t近隣\\t17,000円(税込)\\t距離300m\\t駐輪場\\t無\\tバイク置き場\\t無</td>\n",
       "      <td>【スーパー】 193m\\t【スーパー】 298m\\t【スーパー】 660m\\t【スーパー】 ...</td>\n",
       "      <td>木造</td>\n",
       "      <td>2年間</td>\n",
       "      <td>京成金町線</td>\n",
       "      <td>常磐線</td>\n",
       "      <td>京成金町線</td>\n",
       "      <td>5</td>\n",
       "      <td>9.666667</td>\n",
       "    </tr>\n",
       "  </tbody>\n",
       "</table>\n",
       "<p>5 rows × 21 columns</p>\n",
       "</div>"
      ],
      "text/plain": [
       "   id      賃料                所在地   間取り      築年数   方角       面積       所在階  \\\n",
       "0   1   75000        東京都北区滝野川３丁目    1K    9年9ヶ月   南東  20.01m2   1階／12階建   \n",
       "1   2   76000        東京都中央区月島３丁目    1R  44年10ヶ月  NaN   16.5m2   5階／10階建   \n",
       "2   3  110000        東京都渋谷区笹塚２丁目    1K    8年6ヶ月    南  22.05m2  12階／15階建   \n",
       "3   4  150000  東京都杉並区高円寺南２丁目23-2  2LDK   29年4ヶ月    南  60.48m2    3階／4階建   \n",
       "4   5   74000     東京都葛飾区金町３丁目7-2   2DK   31年7ヶ月    南  39.66m2    1階／2階建   \n",
       "\n",
       "                                              バス・トイレ  \\\n",
       "0   専用バス／\\t専用トイレ／\\tバス・トイレ別／\\tシャワー／\\t浴室乾燥機\\t／\\t温水洗浄便座   \n",
       "1                              専用トイレ／\\tシャワー／\\t温水洗浄便座   \n",
       "2  専用バス／\\t専用トイレ／\\tバス・トイレ別／\\tシャワー／\\t浴室乾燥機\\t／\\t温水洗浄...   \n",
       "3     専用バス／\\t専用トイレ／\\tバス・トイレ別／\\tシャワー／\\t温水洗浄便座／\\t洗面台独立   \n",
       "4               専用バス／\\t専用トイレ／\\tバス・トイレ別／\\tシャワー／\\t追焚機能   \n",
       "\n",
       "                              キッチン  ...  \\\n",
       "0  ガスコンロ／\\tコンロ2口／\\tシステムキッチン\\t／\\t給湯  ...   \n",
       "1          ガスコンロ／\\tシステムキッチン\\t／\\t給湯  ...   \n",
       "2  ガスコンロ／\\tコンロ2口／\\tシステムキッチン\\t／\\t給湯  ...   \n",
       "3                       ガスコンロ／\\t給湯  ...   \n",
       "4                      給湯／\\t独立キッチン  ...   \n",
       "\n",
       "                                                室内設備  \\\n",
       "0  エアコン付\\tシューズボックス／\\tバルコニー／\\tフローリング／\\t室内洗濯機置場／\\t敷...   \n",
       "1  エアコン付\\tシューズボックス／\\tバルコニー／\\tフローリング／\\t室内洗濯機置場／\\t敷...   \n",
       "2  エアコン付\\tウォークインクローゼット\\tシューズボックス／\\tバルコニー／\\tフローリング...   \n",
       "3  エアコン付\\tシューズボックス／\\tバルコニー／\\t2面採光／\\t室内洗濯機置場／\\tエレベ...   \n",
       "4                バルコニー／\\tフローリング／\\t室内洗濯機置場\\t公営水道／\\t下水   \n",
       "\n",
       "                                                 駐車場  \\\n",
       "0                                            駐輪場\\t空有   \n",
       "1                         駐輪場\\t空有\\t駐車場\\t無\\tバイク置き場\\t無   \n",
       "2  駐輪場\\t空有\\tバイク置き場\\t空有\\t駐車場\\t近隣\\t30,000円(税込)\\t距離100m   \n",
       "3                          駐車場\\t無\\t駐輪場\\t無\\tバイク置き場\\t無   \n",
       "4    駐車場\\t近隣\\t17,000円(税込)\\t距離300m\\t駐輪場\\t無\\tバイク置き場\\t無   \n",
       "\n",
       "                                                周辺環境          建物構造  \\\n",
       "0  【小学校】 495m\\t【大学】 461m\\t【小学校】 962m\\t【公園】 1103m\\...  RC（鉄筋コンクリート）   \n",
       "1                                       【スーパー】 1283m           鉄骨造   \n",
       "2  【スーパー】 89m\\t【コンビニ】 184m\\t【コンビニ】 392m\\t【スーパー】 492m  RC（鉄筋コンクリート）   \n",
       "3  【スーパー】 225m\\t【スーパー】 448m\\t【スーパー】 619m\\t【スーパー】 ...  RC（鉄筋コンクリート）   \n",
       "4  【スーパー】 193m\\t【スーパー】 298m\\t【スーパー】 660m\\t【スーパー】 ...            木造   \n",
       "\n",
       "                     契約期間   train train2 train3 walk    avgwalk  \n",
       "0                     2年間   都営三田線    埼京線  都電荒川線    4   8.333333  \n",
       "1                     2年間  都営大江戸線   有楽町線   日比谷線    5  11.333333  \n",
       "2                     2年間     京王線    京王線    京王線    6  10.000000  \n",
       "3  2年間\\t※この物件は\\t定期借家\\tです。     総武線   丸ノ内線   丸ノ内線    9   8.666667  \n",
       "4                     2年間   京成金町線    常磐線  京成金町線    5   9.666667  \n",
       "\n",
       "[5 rows x 21 columns]"
      ]
     },
     "execution_count": 462,
     "metadata": {},
     "output_type": "execute_result"
    },
    {
     "data": {
      "image/png": "[encoded data removed]",
      "text/plain": [
       "<Figure size 432x288 with 1 Axes>"
      ]
     },
     "metadata": {
      "needs_background": "light"
     },
     "output_type": "display_data"
    }
   ],
   "source": [
    "class access_extractor:\n",
    "    def __init__(self):\n",
    "        pass\n",
    "    def fit(self,x,y):\n",
    "        return self\n",
    "    def transform(self,x):\n",
    "        tmp = x[\"アクセス\"].values\n",
    "        train = [\"\" for i in range(len(tmp))]\n",
    "        oth_train = [[\"\" for i in range(len(tmp))] for j in range(2)]\n",
    "        walk = [0 for i in range(len(tmp))]\n",
    "        avgwalk = [0 for i in range(len(tmp))]\n",
    "        for i in range(len(tmp)):\n",
    "            train[i] = re.search(r\".+?(線|ライン|ライナー|プレス|かもめ)\",tmp[i])[0]\n",
    "            walk[i] = int(re.search(r\"徒歩[0-9]+?分\",tmp[i])[0][2:-1])\n",
    "            avg = 0\n",
    "            ind = 0\n",
    "            for m in re.finditer(r\"徒歩[0-9]+分\",tmp[i]):\n",
    "                avg += int(m[0][2:-1])\n",
    "                ind += 1\n",
    "            if ind == 0:\n",
    "                ind = 1\n",
    "            avg = avg/ind\n",
    "            avgwalk[i] = avg\n",
    "            ind = 0\n",
    "            for m in re.finditer(r\"\\t\\t.+?(線|ライン|ライナー|プレス|かもめ)\",tmp[i]):\n",
    "                oth_train[ind][i] = m[0][2:]\n",
    "                ind += 1\n",
    "                if ind > 1:\n",
    "                    break\n",
    "        hoge = hoge = x.drop(\"アクセス\",axis = 1)\n",
    "        hoge = hoge.assign(train=train)\n",
    "        hoge = hoge.assign(train2=oth_train[0])\n",
    "        hoge = hoge.assign(train3=oth_train[1])\n",
    "        hoge = hoge.assign(walk= walk)\n",
    "        hoge = hoge.assign(avgwalk = avgwalk)\n",
    "        return hoge\n",
    "\n",
    "fig = plt.figure()\n",
    "ax = fig.add_subplot(1,1,1)\n",
    "temp = access_extractor()\n",
    "hoge = temp.transform(train)\n",
    "hoge.head()"
   ]
  },
  {
   "cell_type": "code",
   "execution_count": 463,
   "metadata": {},
   "outputs": [
    {
     "data": {
      "text/plain": [
       "array(['都営三田線', '都営大江戸線', '京王線', '総武線', '京成金町線', '常磐線', '西武池袋線', '東急東横線',\n",
       "       '南北線', '埼京線', '都営浅草線', '京成本線', '銀座線', '中央線', '京王新線', '東武東上線',\n",
       "       '都営新宿線', '半蔵門線', '西武新宿線', '有楽町線', '京浜東北線', 'つくばエクスプレス', '小田急小田原線',\n",
       "       '副都心線', '東西線', '東急大井町線', '山手線', '東急池上線', '日比谷線', '京成押上線',\n",
       "       '東武スカイツリーライン', '東急田園都市線', '京急本線', '東急目黒線', '千代田線', '丸ノ内線',\n",
       "       '日暮里・舎人ライナー', '京王井の頭線', '東武亀戸線', '東急多摩川線', 'ゆりかもめ', '都電荒川線',\n",
       "       '東急世田谷線', '北総線', '総武本線', '東海道新幹線', '京葉線', '高崎線', '西武豊島線', '京急空港線',\n",
       "       '横須賀線', 'りんかい線', '西武有楽町線', '東武大師線', '東武伊勢崎線', '東北本線', '東京モノレール羽田線',\n",
       "       '東海道本線', '湘南新宿ライン', '東北新幹線', '京成成田空港線'], dtype=object)"
      ]
     },
     "execution_count": 463,
     "metadata": {},
     "output_type": "execute_result"
    }
   ],
   "source": [
    "hoge[\"train\"].unique()"
   ]
  },
  {
   "cell_type": "code",
   "execution_count": 479,
   "metadata": {},
   "outputs": [
    {
     "data": {
      "text/plain": [
       "array(['滝野川', '月島', '笹塚', '高円寺南', '金', '南千住', '東大泉', '鷹番', '向丘', '板橋',\n",
       "       '西馬込', '北小岩', '南青山', '阿佐谷南', '緑', '幡ヶ谷', '桜川', '西瑞江', '四谷三栄',\n",
       "       '日本橋箱崎', '江古田', '湯島', '佃', '大森西', '千早', '台東', '綾瀬', '船堀', '上原',\n",
       "       '高田', '中葛西', '奥戸', '等々力', '大京', '亀有', '石神井台', '南長崎', '南水元', '水道',\n",
       "       '東駒形', '久が原', '南大泉', '日本堤', '京島', '宇田川', '豊玉上', '西新宿', '祖師谷', '旭丘',\n",
       "       '浅草', '弦巻', '緑が丘', '亀戸', '新富', '東日本橋', '本駒込', '成城', '荏原', '西蒲田',\n",
       "       '南雪谷', '南台', '西日暮里', '豊島', '北大塚', '江原', '新堀', '東金', '北砂', '本郷',\n",
       "       '島根', '谷中', '小豆沢', '中野', '阿佐谷北', '西ケ原', '赤塚', '梅丘', '広尾', '木場',\n",
       "       '池袋', '押上', '東尾久', '天沼', '南品川', '横川', '南小岩', '八広', '西神田', '大島',\n",
       "       '荻窪', '東保木間', '西麻布', '新橋', '長崎', '大宮', '中', '上池台', '永代', '本',\n",
       "       '上高田', '石神井', '西巣鴨', '小山', '高輪', '王子', '喜多見', '豊洲', '千住旭', '小石川',\n",
       "       '六月', '大泉学園', '南烏山', '海岸', '赤羽台', '東小松川', '亀沢', '内神田', '西五反田',\n",
       "       '上池袋', '梅田', '南葛西', '平野', '駒込', '上馬', '西葛西', '東向島', '南大塚', '西五軒',\n",
       "       '東雲', '荒木', '池袋本', '高井戸東', '新田', '音羽', '赤羽', '蒲田', '三宿', '若葉',\n",
       "       '北千束', '恵比寿', '上目黒', '日本橋横山', '仲宿', '伊興', '東池袋', '根岸', '文花', '春日',\n",
       "       '北馬込', '弘道', '白金台', '古千谷本', '田園調布南', '中央', '給田', '沼袋', '町屋', '谷在家',\n",
       "       '松が谷', '西小岩', '百人', '豊玉中', '平', '東日暮里', '堀切', '勝どき', '大森北', '祐天寺',\n",
       "       '善福寺', '和田', '六本木', '浜田山', '神田多', '西綾瀬', '中延', '上祖師谷', '浜松',\n",
       "       '南常盤台', '牡丹', '関', '青戸', '成田東', '東葛西', '東四つ木', '東', '鷺宮', '南馬込',\n",
       "       '千駄ヶ谷', '氷川', '岩淵', '大塚', '南砂', '細田', '大和', '平井', '前野', '市谷左内',\n",
       "       '野方', '上井草', '原', '東神田', '吾妻橋', '東水元', '上大崎', '北品川', '北', '東上野',\n",
       "       '中馬込', '奥沢', '西池袋', '栗原', '南大井', '目黒', '松島', '中落合', '田園調布本',\n",
       "       '西新井栄', '豊', '大森本', '白河', '本一色', '世田谷', '神田三崎', '芝浦', '東五反田', '荒川',\n",
       "       '梅島', '日本橋浜', '清水', '若林', '柴又', '上荻', '揚場', '志村', '東小岩', '三原台',\n",
       "       '下高井戸', '中村北', '鎌倉', '要', '扇橋', '高円寺北', '白鳥', '大森中', '代々木', '高松',\n",
       "       '碑文谷', '八丁堀', '東砂', '春江', '仲六郷', '高橋', '下目黒', '桜新', '太子堂', '大泉',\n",
       "       '和泉', '玉川', '江戸川', '西新井本', '元麻布', '新井', '東陽', '八雲', '日本橋小網', '小茂根',\n",
       "       '上北沢', '松庵', '貫井', '赤堤', '西六郷', '菊川', '東立石', '野沢', '白鷺', '南花畑',\n",
       "       '弥生', '砧', '西尾久', '橋場', '松原', '新蒲田', '東玉川', '港南', '興野', '宮坂', '田柄',\n",
       "       '用賀', '蓮根', '業平', '三軒茶屋', '中根', '森下', '千石', '六木', '自由が丘', '南麻布',\n",
       "       '富岡', '東大井', '桜丘', '南篠崎', '池上', '千歳', '鹿骨', '新川', '上十条', '岩本',\n",
       "       '山王', '西篠崎', '高島平', '大杉', '巣鴨', '足立', '南田中', '練馬', '日本橋馬喰', '西原',\n",
       "       '千鳥', '神谷', '竹の塚', '豊玉北', '成増', '東新小岩', '本羽田', '五本木', '日本橋中洲',\n",
       "       '西大泉', '坂下', '小山台', '下丸子', '東雪谷', '左門', '堀ノ内', '大森東', '一番', '東麻布',\n",
       "       '八幡山', '西大井', '新小川', '石原', '東松本', '土支田', '西品川', '立石', '中井', '芝',\n",
       "       '上落合', '六', '梅里', '山吹', '熊野', '目黒本', '方南', '新小岩', '向島', '江東橋',\n",
       "       '江北', '立花', '下落合', '赤坂', '一之江', '高野台', '東和', '千住桜木', '千住中居', '松ノ木',\n",
       "       '大山西', '関原', '中十条', '扇', '昭和', '宮本', '清川', '麻布十番', '余丁', '青葉台',\n",
       "       '西竹の塚', '大橋', '仲池上', '千住', '古石場', '東品川', '大井', '西荻南', '浮間', '代沢',\n",
       "       '南池袋', '大谷口上', '早稲田鶴巻', '千束', '新宿', '桜台', '小菅', '三ノ輪', '入谷', '元浅草',\n",
       "       '千住寿', '千駄木', '北烏山', '花畑', '鳥越', '北葛西', '四葉', '代田', '久我山', '平和台',\n",
       "       '大崎', '鎌田', '四つ木', '目白', '東が丘', '錦糸', '清澄', '北新宿', '麻布永坂', '柿の木坂',\n",
       "       '築地', '西片', '下馬', '蔵前', '保木間', '旗の台', '新大橋', '湊', '深沢', '大久保',\n",
       "       '田端', '若宮', '篠崎', '南蒲田', '市谷本村', '東十条', '宮前', '小日向', '桃井', '徳丸',\n",
       "       '上野毛', '三田', '神明南', '日本橋蛎殻', '虎ノ門', '本天沼', '旭', '桜', '青井', '浅草橋',\n",
       "       '志茂', '中目黒', '富ヶ谷', '高田馬場', '関口', '恵比寿西', '大谷田', '西一之江', '深川',\n",
       "       '高砂', '東中野', '西糀谷', '田端新', '東糀谷', '竜泉', '向山', '大山', '三筋', '錦',\n",
       "       '常盤台', '雑司が谷', '冬木', '西新橋', '潮見', '南荻窪', '加平', '両国', '下谷', '上中里',\n",
       "       '早宮', '赤羽北', '愛住', '田園調布', '栄', '多摩川', '麻布台', '西台', '西早稲田', '西新井',\n",
       "       '松江', '芝大門', '北嶺', '五番', '神田須田', '堤通', '中丸', '晴海', '白金', '上高井戸',\n",
       "       '永福', '恵比寿南', '常盤', '四谷', '立野', '洗足', '経堂', '下井草', '住吉', '北上野',\n",
       "       '玉川台', '西亀有', '松が丘', '水元', '駒沢', '東中延', '白山', '元代々木', '中川', '成田西',\n",
       "       '柳橋', '井草', '上鷺宮', '河田', '日本橋堀留', '本所', '東山', '毛利', '千住柳', '上野',\n",
       "       '駒場', '中央本', '氷川台', '千歳台', '西荻北', '羽田', '新', '大谷口北', '羽沢', '中台',\n",
       "       '矢口', '千住緑', '道玄坂', '京橋', '一ツ家', '西落合', '西が丘', '大山金井', '根津', '丸山',\n",
       "       '西保木間', '大山東', '今川', '今戸', '三好', '谷原', '戸越', '渋谷', '萩中', '墨田',\n",
       "       '大原', '東綾瀬', '佐賀', '銀座', '桜上水', '千川', '船橋', '北沢', '王子本', '芝公園',\n",
       "       '払方', '佐野', '富士見台', '北加平', '歌舞伎', '平塚', '神田練塀', '花川戸', '六番', '池尻',\n",
       "       '東馬込', '舎人', '東新橋', '西中延', '東浅草', '若木', '西伊興', '東矢口', '市谷甲良',\n",
       "       '大岡山', '有明', '石島', '舟渡', '西ヶ原', '粕谷', '鹿浜', '赤塚新', '神田神保', '若松',\n",
       "       '岡本', '中板橋', '太平', '本木', '神山', '南千束', '東蒲田', '寿', '神明', '日本橋兜',\n",
       "       '高井戸西', '海辺', '瀬田', '谷河内', '上石神井', '蓮沼', '台場', '上一色', '外神田', '千住仲',\n",
       "       '上用賀', '千住宮元', '日本橋本', '入船', '赤羽西', '神南', '羽根木', '神宮前', '千住河原',\n",
       "       '千住曙', '大森南', '南', '二葉', '小松川', '千住大川', '中村南', '玉川田園調布', '小竹', '',\n",
       "       '麹', '四谷本塩', '下石神井', '大蔵', '泉', '西新小岩', '円山', '日本橋茅場', '市谷薬王寺',\n",
       "       '飯田橋', '池之端', '日本橋小伝馬', '上篠崎', '瑞江', '東田端', '椿', '富士見', '豊玉南',\n",
       "       '上板橋', '宝', '西水元', '小台', '門前仲', '鵜の木', '千住橋戸', '相生', '越中島', '堀船',\n",
       "       '皿沼', '双葉', '千住元', '榎', '初台', '市谷田', '南榎', '堀之内', '辰沼', '辰巳', '野毛',\n",
       "       '十条仲原', '岸', '三園', '日本橋大伝馬', '本木南', '南元', '中村', '松濤', '蒲田本', '東瑞江',\n",
       "       '中里', '信濃', '弁天', '宇奈根', '天神', '神田駿河台', '稲荷台', '目白台', '保塚', '柳原',\n",
       "       '立川', '神田佐久間', '向原', '西嶺', '東六郷', '豪徳寺', '神田小川', '石川', '代官山', '平河',\n",
       "       '東嶺', '三番', '神田猿楽', '南六郷', '二番', '塩浜', '元赤坂', '九段南', '尾山台', '早稲田',\n",
       "       '岩戸', '日本橋富沢', '枝川', '須賀', '東新', '東堀切', '雪谷大塚', '駒形', '大谷口', '東伊興',\n",
       "       '猿江', '宮城', '市谷柳', '松本', '富久', '市谷山伏', '神田錦', '伊興本', '仲', '日本橋室',\n",
       "       '南久が原', '愛宕', '鉢山', '赤羽南', '日ノ出', '西加平', '下篠崎', '3-', '日本橋人形',\n",
       "       '千住東', '日本橋', '改代', '麻布狸穴', '明石', '北青山', '宇喜田', '北篠崎', '横網', '赤城下',\n",
       "       '福住', 'お花茶屋', '舟', '本木東', '横寺', '四谷坂', '紀尾井', '北糀谷', '神田東松下', '鍛冶',\n",
       "       '太子堂一丁目', '九段北', '神泉', '神田司', '日本橋久松', '南平台', '西浅草', '羽田旭',\n",
       "       '神田美土代', '小島', '東榎', '幸', '本木西', '三栄', '勝島', '日本橋小舟', '興宮', '加賀',\n",
       "       '千住龍田', '東墨田', '下宮比', '上野桜木', '戸山', '白銀', '神田紺屋', '東坂下', '箪笥',\n",
       "       '雷門', '片', '馬場下', '神田西福田', '清新', '矢来', '玉堤', '北山伏', '東篠崎', '本木北',\n",
       "       '西小松川', '東五軒', '納戸', '市谷加賀', '市谷仲之', '二之江', '市谷砂土原', '新砂', '二十騎',\n",
       "       '市谷台', '神楽坂', '本羽田一丁目', '後楽', '隼', '千住関屋', '千田', '喜久井', '神田淡路',\n",
       "       '猿楽', '筑土八幡', '桐ヶ丘', '鶯谷', '神田富山'], dtype=object)"
      ]
     },
     "execution_count": 479,
     "metadata": {},
     "output_type": "execute_result"
    }
   ],
   "source": [
    "class extract_district:\n",
    "    def __init__(self):\n",
    "        pass\n",
    "    def fit(self,x,y):\n",
    "        return self\n",
    "    def transform(self,x):\n",
    "        pat = re.compile(r\"東京都.+区\")\n",
    "        p2 = re.compile(r\"区.+?([０-９]|[0-9]|町)\")\n",
    "        p3 = re.compile(r\"区.+\")\n",
    "        dist = [\"\" for i in range(len(x.values))]\n",
    "        area = [\"\" for i in range(len(x.values))]\n",
    "        tmp = x[\"所在地\"].values\n",
    "        for i in range(len(tmp)):\n",
    "            m = pat.search(tmp[i])\n",
    "            dist[i] = m[0][3:-1]\n",
    "            m = p2.search(tmp[i])\n",
    "            if m:\n",
    "                area[i] = m[0][1:-1]\n",
    "            else:\n",
    "                m = p3.search(tmp[i])\n",
    "                if m:\n",
    "                    area[i] = m[0][1:]\n",
    "        hoge = x.copy()\n",
    "        hoge = hoge.drop(\"所在地\",axis = 1)\n",
    "        hoge = hoge.assign(district=dist)\n",
    "        hoge = hoge.assign(city = area)\n",
    "        return hoge\n",
    "\n",
    "temp = extract_district()\n",
    "hoge = temp.transform(train)\n",
    "hoge[\"city\"].unique()"
   ]
  },
  {
   "cell_type": "code",
   "execution_count": 493,
   "metadata": {},
   "outputs": [
    {
     "name": "stdout",
     "output_type": "stream",
     "text": [
      "駐輪場\t空有\n",
      "駐輪場\t空有\t駐車場\t無\tバイク置き場\t無\n",
      "駐輪場\t空有\tバイク置き場\t空有\t駐車場\t近隣\t30,000円(税込)\t距離100m\n",
      "駐車場\t無\t駐輪場\t無\tバイク置き場\t無\n",
      "駐車場\t近隣\t17,000円(税込)\t距離300m\t駐輪場\t無\tバイク置き場\t無\n",
      "駐輪場\t空有\t駐車場\t近隣\t27,000円(税込)\t距離150m\tバイク置き場\t無\n",
      "駐輪場\t空有\t駐車場\t近隣\t16,000円(税込)\t距離200m\tバイク置き場\t無\n",
      "nan\n"
     ]
    },
    {
     "ename": "TypeError",
     "evalue": "'float' object is not iterable",
     "output_type": "error",
     "traceback": [
      "\u001b[0;31m---------------------------------------------------------------------------\u001b[0m",
      "\u001b[0;31mTypeError\u001b[0m                                 Traceback (most recent call last)",
      "\u001b[0;32m<ipython-input-493-b0c3b73ebc63>\u001b[0m in \u001b[0;36m<module>\u001b[0;34m\u001b[0m\n\u001b[1;32m      3\u001b[0m     \u001b[0mt\u001b[0m \u001b[0;34m=\u001b[0m \u001b[0mtrain\u001b[0m\u001b[0;34m[\u001b[0m\u001b[0;34m\"駐車場\"\u001b[0m\u001b[0;34m]\u001b[0m\u001b[0;34m.\u001b[0m\u001b[0mvalues\u001b[0m\u001b[0;34m[\u001b[0m\u001b[0mi\u001b[0m\u001b[0;34m]\u001b[0m\u001b[0;34m\u001b[0m\u001b[0;34m\u001b[0m\u001b[0m\n\u001b[1;32m      4\u001b[0m     \u001b[0mprint\u001b[0m\u001b[0;34m(\u001b[0m\u001b[0mt\u001b[0m\u001b[0;34m)\u001b[0m\u001b[0;34m\u001b[0m\u001b[0;34m\u001b[0m\u001b[0m\n\u001b[0;32m----> 5\u001b[0;31m     \u001b[0;32mfor\u001b[0m \u001b[0mk\u001b[0m \u001b[0;32min\u001b[0m \u001b[0mt\u001b[0m\u001b[0;34m:\u001b[0m\u001b[0;34m\u001b[0m\u001b[0;34m\u001b[0m\u001b[0m\n\u001b[0m\u001b[1;32m      6\u001b[0m         \u001b[0md\u001b[0m\u001b[0;34m.\u001b[0m\u001b[0madd\u001b[0m\u001b[0;34m(\u001b[0m\u001b[0mk\u001b[0m\u001b[0;34m)\u001b[0m\u001b[0;34m\u001b[0m\u001b[0;34m\u001b[0m\u001b[0m\n\u001b[1;32m      7\u001b[0m \u001b[0mprint\u001b[0m\u001b[0;34m(\u001b[0m\u001b[0md\u001b[0m\u001b[0;34m)\u001b[0m\u001b[0;34m\u001b[0m\u001b[0;34m\u001b[0m\u001b[0m\n",
      "\u001b[0;31mTypeError\u001b[0m: 'float' object is not iterable"
     ]
    }
   ],
   "source": [
    "d = set()\n",
    "for i in range(len(train[\"駐車場\"].values)):\n",
    "    t = train[\"駐車場\"].values[i]\n",
    "    print(t)\n",
    "    for k in t:\n",
    "        d.add(k)\n",
    "print(d)"
   ]
  },
  {
   "cell_type": "code",
   "execution_count": 497,
   "metadata": {},
   "outputs": [
    {
     "data": {
      "text/plain": [
       "array(['都営三田線', '都営大江戸線', '京王線', '総武線', '京成金町線', '常磐線', '西武池袋線', '東急東横線',\n",
       "       '南北線', '埼京線', '都営浅草線', '京成本線', '銀座線', '中央線', '京王新線', '東武東上線',\n",
       "       '都営新宿線', '半蔵門線', '西武新宿線', '有楽町線', '京浜東北線', 'つくばエクスプレス', '小田急小田原線',\n",
       "       '副都心線', '東西線', '東急大井町線', '山手線', '東急池上線', '日比谷線', '京成押上線',\n",
       "       '東武スカイツリーライン', '東急田園都市線', '京急本線', '東急目黒線', '千代田線', '丸ノ内線',\n",
       "       '日暮里・舎人ライナー', '京王井の頭線', '東武亀戸線', '東急多摩川線', 'ゆりかもめ', '都電荒川線',\n",
       "       '東急世田谷線', '北総線', '総武本線', '東海道新幹線', '京葉線', '高崎線', '西武豊島線', '京急空港線',\n",
       "       '横須賀線', 'りんかい線', '西武有楽町線', '東武大師線', '東武伊勢崎線', '東北本線', '東京モノレール羽田線',\n",
       "       '東海道本線', '湘南新宿ライン', '東北新幹線', '京成成田空港線'], dtype=object)"
      ]
     },
     "execution_count": 497,
     "metadata": {},
     "output_type": "execute_result"
    }
   ],
   "source": [
    "class access_extractor:\n",
    "    def __init__(self):\n",
    "        pass\n",
    "    def fit(self,x,y):\n",
    "        return self\n",
    "    def transform(self,x):\n",
    "        tmp = x[\"アクセス\"].values\n",
    "        train = [\"\" for i in range(len(tmp))]\n",
    "        oth_train = [[\"\" for i in range(len(tmp))] for j in range(2)]\n",
    "        walk = [0 for i in range(len(tmp))]\n",
    "        avgwalk = [0 for i in range(len(tmp))]\n",
    "        oth_walk = [[100 for i in range(len(tmp))] for j in range(2)]\n",
    "        for i in range(len(tmp)):\n",
    "            train[i] = re.search(r\".+?(線|ライン|ライナー|プレス|かもめ)\",tmp[i])[0]\n",
    "            walk[i] = int(re.search(r\"徒歩[0-9]+?分\",tmp[i])[0][2:-1])\n",
    "            avg = 0\n",
    "            ind = 0\n",
    "            for m in re.finditer(r\"徒歩[0-9]+分\",tmp[i]):\n",
    "                avg += int(m[0][2:-1])\n",
    "                oth_walk[ind][i] = int(m[0][2:-1])\n",
    "                ind += 1\n",
    "                if ind > 1:\n",
    "                    break\n",
    "            if ind == 0:\n",
    "                ind = 1\n",
    "            avg = avg/ind\n",
    "            avgwalk[i] = avg\n",
    "            ind = 0\n",
    "            for m in re.finditer(r\"\\t\\t.+?(線|ライン|ライナー|プレス|かもめ)\",tmp[i]):\n",
    "                oth_train[ind][i] = m[0][2:]\n",
    "                ind += 1\n",
    "                if ind > 1:\n",
    "                    break\n",
    "        hoge = hoge = x.drop(\"アクセス\",axis = 1)\n",
    "        hoge = hoge.assign(train=train)\n",
    "        hoge = hoge.assign(train2=oth_train[0])\n",
    "        hoge = hoge.assign(train3=oth_train[1])\n",
    "        hoge = hoge.assign(walk= walk)\n",
    "        hoge = hoge.assign(walk2 = oth_walk[0])\n",
    "        hoge = hoge.assign(walk3 = oth_walk[1])\n",
    "        hoge = hoge.assign(avgwalk = avgwalk)\n",
    "        return hoge\n",
    "temp = access_extractor()\n",
    "hoge = temp.transform(train)\n",
    "hoge[\"train\"].unique()\n"
   ]
  },
  {
   "cell_type": "code",
   "execution_count": 496,
   "metadata": {},
   "outputs": [
    {
     "data": {
      "text/plain": [
       "array(['埼京線', '有楽町線', '京王線', '丸ノ内線', '常磐線', '都電荒川線', '西武池袋線', '東急東横線',\n",
       "       '都営三田線', '都営浅草線', '京成本線', '千代田線', '都営大江戸線', '副都心線', '都営新宿線',\n",
       "       '日比谷線', '西武新宿線', '京葉線', '京急本線', '小田急小田原線', '山手線', '東西線', '東急田園都市線',\n",
       "       '京成金町線', '南北線', '東急池上線', '東武スカイツリーライン', '銀座線', 'つくばエクスプレス',\n",
       "       '東急大井町線', '総武本線', '', '東急世田谷線', '総武線', '京王新線', '京成押上線', '京王井の頭線',\n",
       "       '京浜東北線', '東急目黒線', 'ゆりかもめ', '東武東上線', 'りんかい線', '日暮里・舎人ライナー',\n",
       "       '東武伊勢崎線', '中央線', '東急多摩川線', '半蔵門線', '東武亀戸線', '北総線', '東武大師線',\n",
       "       '京急空港線', '西武有楽町線', '高崎線', '東京モノレール羽田線', '西武豊島線', '東北本線', '東海道本線',\n",
       "       '横須賀線', '埼玉高速鉄道線', '湘南新宿ライン', '京急大師線', '三田線', '京成成田空港線',\n",
       "       'ディズニーリゾートライン', '東海道新幹線'], dtype=object)"
      ]
     },
     "execution_count": 496,
     "metadata": {},
     "output_type": "execute_result"
    }
   ],
   "source": [
    "hoge[\"train2\"].unique()"
   ]
  },
  {
   "cell_type": "code",
   "execution_count": 498,
   "metadata": {},
   "outputs": [
    {
     "data": {
      "text/plain": [
       "array(['都電荒川線', '日比谷線', '京王線', '丸ノ内線', '京成金町線', '東武東上線', '東急東横線', '千代田線',\n",
       "       '東急池上線', '', '山手線', '都営新宿線', '都営浅草線', '中央線', '銀座線', '有楽町線', '京急本線',\n",
       "       '総武線', '京王井の頭線', '東京メトロ東西線', '京成本線', '西武新宿線', '常磐線', '都営三田線',\n",
       "       '東武スカイツリーライン', '東急多摩川線', '西武池袋線', '東武亀戸線', '半蔵門線', '西武有楽町線',\n",
       "       '都営大江戸線', '小田急小田原線', '東急世田谷線', '東急目黒線', '京浜東北線', '東西線', '東武大師線',\n",
       "       '東急田園都市線', '副都心線', '京成押上線', '日暮里・舎人ライナー', '南北線', '埼京線', 'ゆりかもめ',\n",
       "       '総武本線', '京葉線', '東急大井町線', '東北本線', 'つくばエクスプレス', '北総線', '京王新線',\n",
       "       '横須賀線', '東海道新幹線', '東京モノレール羽田線', '東京メトロ南北線', '中央本線', '京急空港線',\n",
       "       '西武豊島線', 'りんかい線', '東武伊勢崎線', '埼玉高速鉄道線', '高崎線', '東京メトロ日比谷線', '京急大師線',\n",
       "       '東京メトロ千代田線', '湘南新宿ライン', '京王電鉄京王線', '東京メトロ半蔵門線', '東京メトロ有楽町線',\n",
       "       '京浜東北・根岸線', '東京メトロ銀座線', '東京メトロ副都心線', '京王電鉄井の頭線', '西武池袋・豊島線',\n",
       "       '東海道本線', '東北新幹線', '京成電鉄本線', '中央・総武緩行線', '南武線', '京成成田空港線',\n",
       "       '小田急電鉄小田原線', '武蔵野線', '東京メトロ丸ノ内線', '北陸新幹線', '日暮里舎人ライナー',\n",
       "       '東武伊勢崎・大師線', '三田線'], dtype=object)"
      ]
     },
     "execution_count": 498,
     "metadata": {},
     "output_type": "execute_result"
    }
   ],
   "source": [
    "hoge[\"train3\"].unique()"
   ]
  },
  {
   "cell_type": "code",
   "execution_count": 499,
   "metadata": {},
   "outputs": [
    {
     "data": {
      "text/plain": [
       "array(['北', '中央', '渋谷', '杉並', '葛飾', '荒川', '練馬', '目黒', '文京', '板橋', '大田',\n",
       "       '江戸川', '港', '墨田', '新宿', '中野', '豊島', '台東', '足立', '世田谷', '江東', '品川',\n",
       "       '千代田'], dtype=object)"
      ]
     },
     "execution_count": 499,
     "metadata": {},
     "output_type": "execute_result"
    }
   ],
   "source": [
    "class extract_district:\n",
    "    def __init__(self):\n",
    "        pass\n",
    "    def fit(self,x,y):\n",
    "        return self\n",
    "    def transform(self,x):\n",
    "        pat = re.compile(r\"東京都.+区\")\n",
    "        p2 = re.compile(r\"区.+?([０-９]|[0-9]|町)\")\n",
    "        p3 = re.compile(r\"区.+\")\n",
    "        dist = [\"\" for i in range(len(x.values))]\n",
    "        area = [\"\" for i in range(len(x.values))]\n",
    "        tmp = x[\"所在地\"].values\n",
    "        for i in range(len(tmp)):\n",
    "            m = pat.search(tmp[i])\n",
    "            dist[i] = m[0][3:-1]\n",
    "            m = p2.search(tmp[i])\n",
    "            if m:\n",
    "                area[i] = m[0][1:-1]\n",
    "            else:\n",
    "                m = p3.search(tmp[i])\n",
    "                if m:\n",
    "                    area[i] = m[0][1:]\n",
    "        hoge = x.copy()\n",
    "        hoge = hoge.drop(\"所在地\",axis = 1)\n",
    "        hoge = hoge.assign(district=dist)\n",
    "        hoge = hoge.assign(city = area)\n",
    "        return hoge\n",
    "temp = extract_district()\n",
    "hoge = temp.transform(train)\n",
    "hoge[\"district\"].unique()"
   ]
  },
  {
   "cell_type": "code",
   "execution_count": 504,
   "metadata": {},
   "outputs": [
    {
     "data": {
      "text/html": [
       "<div>\n",
       "<style scoped>\n",
       "    .dataframe tbody tr th:only-of-type {\n",
       "        vertical-align: middle;\n",
       "    }\n",
       "\n",
       "    .dataframe tbody tr th {\n",
       "        vertical-align: top;\n",
       "    }\n",
       "\n",
       "    .dataframe thead th {\n",
       "        text-align: right;\n",
       "    }\n",
       "</style>\n",
       "<table border=\"1\" class=\"dataframe\">\n",
       "  <thead>\n",
       "    <tr style=\"text-align: right;\">\n",
       "      <th></th>\n",
       "      <th>id</th>\n",
       "      <th>賃料</th>\n",
       "      <th>所在地</th>\n",
       "      <th>アクセス</th>\n",
       "      <th>間取り</th>\n",
       "      <th>築年数</th>\n",
       "      <th>方角</th>\n",
       "      <th>面積</th>\n",
       "      <th>所在階</th>\n",
       "      <th>バス・トイレ</th>\n",
       "      <th>...</th>\n",
       "      <th>周辺環境</th>\n",
       "      <th>建物構造</th>\n",
       "      <th>契約期間</th>\n",
       "      <th>info0</th>\n",
       "      <th>info2</th>\n",
       "      <th>info3</th>\n",
       "      <th>info4</th>\n",
       "      <th>info5</th>\n",
       "      <th>info6</th>\n",
       "      <th>info7</th>\n",
       "    </tr>\n",
       "    <tr>\n",
       "      <th>info1</th>\n",
       "      <th></th>\n",
       "      <th></th>\n",
       "      <th></th>\n",
       "      <th></th>\n",
       "      <th></th>\n",
       "      <th></th>\n",
       "      <th></th>\n",
       "      <th></th>\n",
       "      <th></th>\n",
       "      <th></th>\n",
       "      <th></th>\n",
       "      <th></th>\n",
       "      <th></th>\n",
       "      <th></th>\n",
       "      <th></th>\n",
       "      <th></th>\n",
       "      <th></th>\n",
       "      <th></th>\n",
       "      <th></th>\n",
       "      <th></th>\n",
       "      <th></th>\n",
       "    </tr>\n",
       "  </thead>\n",
       "  <tbody>\n",
       "    <tr>\n",
       "      <th>0</th>\n",
       "      <td>18386</td>\n",
       "      <td>18386</td>\n",
       "      <td>18386</td>\n",
       "      <td>18386</td>\n",
       "      <td>18386</td>\n",
       "      <td>18386</td>\n",
       "      <td>16691</td>\n",
       "      <td>18386</td>\n",
       "      <td>18386</td>\n",
       "      <td>18182</td>\n",
       "      <td>...</td>\n",
       "      <td>12648</td>\n",
       "      <td>18386</td>\n",
       "      <td>14160</td>\n",
       "      <td>18386</td>\n",
       "      <td>18386</td>\n",
       "      <td>18386</td>\n",
       "      <td>18386</td>\n",
       "      <td>18386</td>\n",
       "      <td>18386</td>\n",
       "      <td>18386</td>\n",
       "    </tr>\n",
       "    <tr>\n",
       "      <th>1</th>\n",
       "      <td>13080</td>\n",
       "      <td>13080</td>\n",
       "      <td>13080</td>\n",
       "      <td>13080</td>\n",
       "      <td>13080</td>\n",
       "      <td>13080</td>\n",
       "      <td>12026</td>\n",
       "      <td>13080</td>\n",
       "      <td>13080</td>\n",
       "      <td>12955</td>\n",
       "      <td>...</td>\n",
       "      <td>9388</td>\n",
       "      <td>13080</td>\n",
       "      <td>10189</td>\n",
       "      <td>13080</td>\n",
       "      <td>13080</td>\n",
       "      <td>13080</td>\n",
       "      <td>13080</td>\n",
       "      <td>13080</td>\n",
       "      <td>13080</td>\n",
       "      <td>13080</td>\n",
       "    </tr>\n",
       "  </tbody>\n",
       "</table>\n",
       "<p>2 rows × 23 columns</p>\n",
       "</div>"
      ],
      "text/plain": [
       "          id     賃料    所在地   アクセス    間取り    築年数     方角     面積    所在階  バス・トイレ  \\\n",
       "info1                                                                          \n",
       "0      18386  18386  18386  18386  18386  18386  16691  18386  18386   18182   \n",
       "1      13080  13080  13080  13080  13080  13080  12026  13080  13080   12955   \n",
       "\n",
       "       ...   周辺環境   建物構造   契約期間  info0  info2  info3  info4  info5  info6  \\\n",
       "info1  ...                                                                  \n",
       "0      ...  12648  18386  14160  18386  18386  18386  18386  18386  18386   \n",
       "1      ...   9388  13080  10189  13080  13080  13080  13080  13080  13080   \n",
       "\n",
       "       info7  \n",
       "info1         \n",
       "0      18386  \n",
       "1      13080  \n",
       "\n",
       "[2 rows x 23 columns]"
      ]
     },
     "execution_count": 504,
     "metadata": {},
     "output_type": "execute_result"
    }
   ],
   "source": [
    "class info_encoder:\n",
    "    def __init__(self):\n",
    "        self.keys = {'インターネット対応': 0, 'CATV': 1, 'CSアンテナ': 2, 'BSアンテナ': 3,\n",
    "                     '光ファイバー': 4, '高速インターネット': 5, 'インターネット使用料無料': 6,\"有線放送\":7}\n",
    "    def fit(self,x,y):\n",
    "        return self\n",
    "    def transform(self,x):\n",
    "        temp = x[\"放送・通信\"].values\n",
    "        setubi = [[0 for i in range(len(self.keys))] for j in range(len(temp))]\n",
    "        pat = re.compile(r\"／\")\n",
    "        for i in range(len(temp)):\n",
    "            if temp[i] != temp[i]:\n",
    "                continue\n",
    "            else:\n",
    "                block = temp[i].split()\n",
    "                for b in block:\n",
    "                    if pat.sub(\"\",b) in self.keys:\n",
    "                        setubi[i][self.keys[pat.sub(\"\",b)]] = 1\n",
    "        setubi = pd.DataFrame(setubi)\n",
    "        c_num = len(setubi.columns)\n",
    "        col = []\n",
    "        for i in range(c_num):\n",
    "            col.append(\"info\"+str(i))\n",
    "        setubi.columns = col\n",
    "        hoge = x.drop(\"放送・通信\",axis = 1)\n",
    "        setubi.index = hoge.index\n",
    "        return pd.concat([hoge,setubi],axis = 1)\n",
    "temp = info_encoder()\n",
    "hoge = temp.transform(train)\n",
    "hoge.groupby(\"info1\").count()"
   ]
  },
  {
   "cell_type": "code",
   "execution_count": 508,
   "metadata": {},
   "outputs": [
    {
     "data": {
      "text/html": [
       "<div>\n",
       "<style scoped>\n",
       "    .dataframe tbody tr th:only-of-type {\n",
       "        vertical-align: middle;\n",
       "    }\n",
       "\n",
       "    .dataframe tbody tr th {\n",
       "        vertical-align: top;\n",
       "    }\n",
       "\n",
       "    .dataframe thead th {\n",
       "        text-align: right;\n",
       "    }\n",
       "</style>\n",
       "<table border=\"1\" class=\"dataframe\">\n",
       "  <thead>\n",
       "    <tr style=\"text-align: right;\">\n",
       "      <th></th>\n",
       "      <th>id</th>\n",
       "      <th>賃料</th>\n",
       "      <th>所在地</th>\n",
       "      <th>アクセス</th>\n",
       "      <th>間取り</th>\n",
       "      <th>築年数</th>\n",
       "      <th>面積</th>\n",
       "      <th>所在階</th>\n",
       "      <th>バス・トイレ</th>\n",
       "      <th>キッチン</th>\n",
       "      <th>...</th>\n",
       "      <th>建物構造</th>\n",
       "      <th>契約期間</th>\n",
       "      <th>dir0</th>\n",
       "      <th>dir1</th>\n",
       "      <th>dir2</th>\n",
       "      <th>dir3</th>\n",
       "      <th>dir4</th>\n",
       "      <th>dir5</th>\n",
       "      <th>dir6</th>\n",
       "      <th>dir7</th>\n",
       "    </tr>\n",
       "  </thead>\n",
       "  <tbody>\n",
       "    <tr>\n",
       "      <th>0</th>\n",
       "      <td>1</td>\n",
       "      <td>75000</td>\n",
       "      <td>東京都北区滝野川３丁目</td>\n",
       "      <td>都営三田線\\t西巣鴨駅\\t徒歩4分\\t\\t埼京線\\t板橋駅\\t徒歩14分\\t\\t都電荒川線\\...</td>\n",
       "      <td>1K</td>\n",
       "      <td>9年9ヶ月</td>\n",
       "      <td>20.01m2</td>\n",
       "      <td>1階／12階建</td>\n",
       "      <td>専用バス／\\t専用トイレ／\\tバス・トイレ別／\\tシャワー／\\t浴室乾燥機\\t／\\t温水洗浄便座</td>\n",
       "      <td>ガスコンロ／\\tコンロ2口／\\tシステムキッチン\\t／\\t給湯</td>\n",
       "      <td>...</td>\n",
       "      <td>RC（鉄筋コンクリート）</td>\n",
       "      <td>2年間</td>\n",
       "      <td>0.0</td>\n",
       "      <td>0.0</td>\n",
       "      <td>0.0</td>\n",
       "      <td>0.0</td>\n",
       "      <td>1.0</td>\n",
       "      <td>0.0</td>\n",
       "      <td>0.0</td>\n",
       "      <td>0.0</td>\n",
       "    </tr>\n",
       "    <tr>\n",
       "      <th>1</th>\n",
       "      <td>2</td>\n",
       "      <td>76000</td>\n",
       "      <td>東京都中央区月島３丁目</td>\n",
       "      <td>都営大江戸線\\t勝どき駅\\t徒歩5分\\t\\t有楽町線\\t月島駅\\t徒歩9分\\t\\t日比谷線\\...</td>\n",
       "      <td>1R</td>\n",
       "      <td>44年10ヶ月</td>\n",
       "      <td>16.5m2</td>\n",
       "      <td>5階／10階建</td>\n",
       "      <td>専用トイレ／\\tシャワー／\\t温水洗浄便座</td>\n",
       "      <td>ガスコンロ／\\tシステムキッチン\\t／\\t給湯</td>\n",
       "      <td>...</td>\n",
       "      <td>鉄骨造</td>\n",
       "      <td>2年間</td>\n",
       "      <td>1.0</td>\n",
       "      <td>0.0</td>\n",
       "      <td>0.0</td>\n",
       "      <td>0.0</td>\n",
       "      <td>0.0</td>\n",
       "      <td>0.0</td>\n",
       "      <td>0.0</td>\n",
       "      <td>0.0</td>\n",
       "    </tr>\n",
       "    <tr>\n",
       "      <th>2</th>\n",
       "      <td>3</td>\n",
       "      <td>110000</td>\n",
       "      <td>東京都渋谷区笹塚２丁目</td>\n",
       "      <td>京王線\\t笹塚駅\\t徒歩6分\\t\\t京王線\\t代田橋駅\\t徒歩7分\\t\\t京王線\\t明大前駅...</td>\n",
       "      <td>1K</td>\n",
       "      <td>8年6ヶ月</td>\n",
       "      <td>22.05m2</td>\n",
       "      <td>12階／15階建</td>\n",
       "      <td>専用バス／\\t専用トイレ／\\tバス・トイレ別／\\tシャワー／\\t浴室乾燥機\\t／\\t温水洗浄...</td>\n",
       "      <td>ガスコンロ／\\tコンロ2口／\\tシステムキッチン\\t／\\t給湯</td>\n",
       "      <td>...</td>\n",
       "      <td>RC（鉄筋コンクリート）</td>\n",
       "      <td>2年間</td>\n",
       "      <td>0.0</td>\n",
       "      <td>0.0</td>\n",
       "      <td>0.0</td>\n",
       "      <td>1.0</td>\n",
       "      <td>0.0</td>\n",
       "      <td>0.0</td>\n",
       "      <td>0.0</td>\n",
       "      <td>0.0</td>\n",
       "    </tr>\n",
       "    <tr>\n",
       "      <th>3</th>\n",
       "      <td>4</td>\n",
       "      <td>150000</td>\n",
       "      <td>東京都杉並区高円寺南２丁目23-2</td>\n",
       "      <td>総武線・中央線（各停）\\t高円寺駅\\t徒歩9分\\t\\t丸ノ内線(池袋－荻窪)\\t新高円寺駅\\...</td>\n",
       "      <td>2LDK</td>\n",
       "      <td>29年4ヶ月</td>\n",
       "      <td>60.48m2</td>\n",
       "      <td>3階／4階建</td>\n",
       "      <td>専用バス／\\t専用トイレ／\\tバス・トイレ別／\\tシャワー／\\t温水洗浄便座／\\t洗面台独立</td>\n",
       "      <td>ガスコンロ／\\t給湯</td>\n",
       "      <td>...</td>\n",
       "      <td>RC（鉄筋コンクリート）</td>\n",
       "      <td>2年間\\t※この物件は\\t定期借家\\tです。</td>\n",
       "      <td>0.0</td>\n",
       "      <td>0.0</td>\n",
       "      <td>0.0</td>\n",
       "      <td>1.0</td>\n",
       "      <td>0.0</td>\n",
       "      <td>0.0</td>\n",
       "      <td>0.0</td>\n",
       "      <td>0.0</td>\n",
       "    </tr>\n",
       "    <tr>\n",
       "      <th>4</th>\n",
       "      <td>5</td>\n",
       "      <td>74000</td>\n",
       "      <td>東京都葛飾区金町３丁目7-2</td>\n",
       "      <td>京成金町線\\t京成金町駅\\t徒歩5分\\t\\t常磐線\\t金町(東京都)駅\\t徒歩7分\\t\\t京...</td>\n",
       "      <td>2DK</td>\n",
       "      <td>31年7ヶ月</td>\n",
       "      <td>39.66m2</td>\n",
       "      <td>1階／2階建</td>\n",
       "      <td>専用バス／\\t専用トイレ／\\tバス・トイレ別／\\tシャワー／\\t追焚機能</td>\n",
       "      <td>給湯／\\t独立キッチン</td>\n",
       "      <td>...</td>\n",
       "      <td>木造</td>\n",
       "      <td>2年間</td>\n",
       "      <td>0.0</td>\n",
       "      <td>0.0</td>\n",
       "      <td>0.0</td>\n",
       "      <td>1.0</td>\n",
       "      <td>0.0</td>\n",
       "      <td>0.0</td>\n",
       "      <td>0.0</td>\n",
       "      <td>0.0</td>\n",
       "    </tr>\n",
       "  </tbody>\n",
       "</table>\n",
       "<p>5 rows × 24 columns</p>\n",
       "</div>"
      ],
      "text/plain": [
       "   id      賃料                所在地  \\\n",
       "0   1   75000        東京都北区滝野川３丁目   \n",
       "1   2   76000        東京都中央区月島３丁目   \n",
       "2   3  110000        東京都渋谷区笹塚２丁目   \n",
       "3   4  150000  東京都杉並区高円寺南２丁目23-2   \n",
       "4   5   74000     東京都葛飾区金町３丁目7-2   \n",
       "\n",
       "                                                アクセス   間取り      築年数       面積  \\\n",
       "0  都営三田線\\t西巣鴨駅\\t徒歩4分\\t\\t埼京線\\t板橋駅\\t徒歩14分\\t\\t都電荒川線\\...    1K    9年9ヶ月  20.01m2   \n",
       "1  都営大江戸線\\t勝どき駅\\t徒歩5分\\t\\t有楽町線\\t月島駅\\t徒歩9分\\t\\t日比谷線\\...    1R  44年10ヶ月   16.5m2   \n",
       "2  京王線\\t笹塚駅\\t徒歩6分\\t\\t京王線\\t代田橋駅\\t徒歩7分\\t\\t京王線\\t明大前駅...    1K    8年6ヶ月  22.05m2   \n",
       "3  総武線・中央線（各停）\\t高円寺駅\\t徒歩9分\\t\\t丸ノ内線(池袋－荻窪)\\t新高円寺駅\\...  2LDK   29年4ヶ月  60.48m2   \n",
       "4  京成金町線\\t京成金町駅\\t徒歩5分\\t\\t常磐線\\t金町(東京都)駅\\t徒歩7分\\t\\t京...   2DK   31年7ヶ月  39.66m2   \n",
       "\n",
       "        所在階                                             バス・トイレ  \\\n",
       "0   1階／12階建   専用バス／\\t専用トイレ／\\tバス・トイレ別／\\tシャワー／\\t浴室乾燥機\\t／\\t温水洗浄便座   \n",
       "1   5階／10階建                              専用トイレ／\\tシャワー／\\t温水洗浄便座   \n",
       "2  12階／15階建  専用バス／\\t専用トイレ／\\tバス・トイレ別／\\tシャワー／\\t浴室乾燥機\\t／\\t温水洗浄...   \n",
       "3    3階／4階建     専用バス／\\t専用トイレ／\\tバス・トイレ別／\\tシャワー／\\t温水洗浄便座／\\t洗面台独立   \n",
       "4    1階／2階建               専用バス／\\t専用トイレ／\\tバス・トイレ別／\\tシャワー／\\t追焚機能   \n",
       "\n",
       "                              キッチン  ...          建物構造                    契約期間  \\\n",
       "0  ガスコンロ／\\tコンロ2口／\\tシステムキッチン\\t／\\t給湯  ...  RC（鉄筋コンクリート）                     2年間   \n",
       "1          ガスコンロ／\\tシステムキッチン\\t／\\t給湯  ...           鉄骨造                     2年間   \n",
       "2  ガスコンロ／\\tコンロ2口／\\tシステムキッチン\\t／\\t給湯  ...  RC（鉄筋コンクリート）                     2年間   \n",
       "3                       ガスコンロ／\\t給湯  ...  RC（鉄筋コンクリート）  2年間\\t※この物件は\\t定期借家\\tです。   \n",
       "4                      給湯／\\t独立キッチン  ...            木造                     2年間   \n",
       "\n",
       "  dir0 dir1 dir2 dir3  dir4  dir5  dir6  dir7  \n",
       "0  0.0  0.0  0.0  0.0   1.0   0.0   0.0   0.0  \n",
       "1  1.0  0.0  0.0  0.0   0.0   0.0   0.0   0.0  \n",
       "2  0.0  0.0  0.0  1.0   0.0   0.0   0.0   0.0  \n",
       "3  0.0  0.0  0.0  1.0   0.0   0.0   0.0   0.0  \n",
       "4  0.0  0.0  0.0  1.0   0.0   0.0   0.0   0.0  \n",
       "\n",
       "[5 rows x 24 columns]"
      ]
     },
     "execution_count": 508,
     "metadata": {},
     "output_type": "execute_result"
    }
   ],
   "source": [
    "class direction_encoder:\n",
    "    def __init__(self):\n",
    "        self.encoder = OneHotEncoder(sparse=False,handle_unknown=\"ignore\")\n",
    "#         self.classi = {'北西': -3, '北東': -1, '北': -4, '南西': 1, '南東': 3, '南': 4, '西': -2, '東': 2}\n",
    "    def fit(self,x,y):\n",
    "        self.encoder.fit(x[\"方角\"].fillna(\"北\").values.reshape(-1,1))\n",
    "        return self\n",
    "    def transform(self,x):\n",
    "#         temp = x[\"方角\"].values\n",
    "#         temp = temp.fillna(\"南東\")\n",
    "#         ans = [0 for i in range(len(temp))]\n",
    "#         for i in range(len(temp)):\n",
    "#             if temp[i] in self.classi:\n",
    "#                 ans[i] = self.classi[temp[i]]\n",
    "#             else:\n",
    "#                 ans[i] = 1.5\n",
    "#         hoge = x.drop(\"方角\",axis = 1)\n",
    "#         hoge = hoge.assign(direction=ans)\n",
    "#         return hoge\n",
    "        tmp = x[\"方角\"]\n",
    "        tmp = tmp.fillna(\"北\")\n",
    "        tmp = pd.DataFrame(self.encoder.transform(tmp.values.reshape(-1,1)))\n",
    "        c_num = len(tmp.columns)\n",
    "        col = []\n",
    "        for i in range(c_num):\n",
    "            col.append(\"dir\"+str(i))\n",
    "        tmp.columns = col\n",
    "        hoge = x.drop(\"方角\",axis = 1)\n",
    "        tmp.index = hoge.index\n",
    "        return pd.concat([hoge,tmp],axis = 1)\n",
    "temp = direction_encoder()\n",
    "temp.fit(train,[])\n",
    "hoge = temp.transform(train)\n",
    "hoge.head()"
   ]
  },
  {
   "cell_type": "code",
   "execution_count": 523,
   "metadata": {},
   "outputs": [
    {
     "name": "stdout",
     "output_type": "stream",
     "text": [
      "[126057.84231943 127517.73732021 134986.05811321 114153.56977658\n",
      " 131210.76823757 126737.89448052 113991.11131131 116873.63850932]\n"
     ]
    }
   ],
   "source": [
    "hoge = train.drop(\"id\",axis = 1)\n",
    "m  = hoge.groupby(\"方角\")[\"賃料\"].mean().values\n",
    "print(m)"
   ]
  },
  {
   "cell_type": "code",
   "execution_count": 522,
   "metadata": {},
   "outputs": [
    {
     "data": {
      "text/plain": [
       "123941.07750851878"
      ]
     },
     "execution_count": 522,
     "metadata": {},
     "output_type": "execute_result"
    }
   ],
   "source": [
    "np.mean(m)"
   ]
  },
  {
   "cell_type": "code",
   "execution_count": 519,
   "metadata": {},
   "outputs": [
    {
     "data": {
      "text/plain": [
       "array(['北', '北東', '北西', '南', '南東', '南西', '東', '西'], dtype=object)"
      ]
     },
     "execution_count": 519,
     "metadata": {},
     "output_type": "execute_result"
    }
   ],
   "source": [
    "hoge.groupby(\"方角\").mean().index.values"
   ]
  },
  {
   "cell_type": "code",
   "execution_count": 525,
   "metadata": {},
   "outputs": [
    {
     "data": {
      "text/html": [
       "<div>\n",
       "<style scoped>\n",
       "    .dataframe tbody tr th:only-of-type {\n",
       "        vertical-align: middle;\n",
       "    }\n",
       "\n",
       "    .dataframe tbody tr th {\n",
       "        vertical-align: top;\n",
       "    }\n",
       "\n",
       "    .dataframe thead th {\n",
       "        text-align: right;\n",
       "    }\n",
       "</style>\n",
       "<table border=\"1\" class=\"dataframe\">\n",
       "  <thead>\n",
       "    <tr style=\"text-align: right;\">\n",
       "      <th></th>\n",
       "      <th>id</th>\n",
       "      <th>賃料</th>\n",
       "      <th>所在地</th>\n",
       "      <th>アクセス</th>\n",
       "      <th>間取り</th>\n",
       "      <th>築年数</th>\n",
       "      <th>面積</th>\n",
       "      <th>所在階</th>\n",
       "      <th>バス・トイレ</th>\n",
       "      <th>キッチン</th>\n",
       "      <th>放送・通信</th>\n",
       "      <th>室内設備</th>\n",
       "      <th>駐車場</th>\n",
       "      <th>周辺環境</th>\n",
       "      <th>建物構造</th>\n",
       "      <th>契約期間</th>\n",
       "      <th>south</th>\n",
       "      <th>east</th>\n",
       "    </tr>\n",
       "  </thead>\n",
       "  <tbody>\n",
       "    <tr>\n",
       "      <th>0</th>\n",
       "      <td>1</td>\n",
       "      <td>75000</td>\n",
       "      <td>東京都北区滝野川３丁目</td>\n",
       "      <td>都営三田線\\t西巣鴨駅\\t徒歩4分\\t\\t埼京線\\t板橋駅\\t徒歩14分\\t\\t都電荒川線\\...</td>\n",
       "      <td>1K</td>\n",
       "      <td>9年9ヶ月</td>\n",
       "      <td>20.01m2</td>\n",
       "      <td>1階／12階建</td>\n",
       "      <td>専用バス／\\t専用トイレ／\\tバス・トイレ別／\\tシャワー／\\t浴室乾燥機\\t／\\t温水洗浄便座</td>\n",
       "      <td>ガスコンロ／\\tコンロ2口／\\tシステムキッチン\\t／\\t給湯</td>\n",
       "      <td>インターネット対応／\\tCATV／\\tCSアンテナ／\\tBSアンテナ</td>\n",
       "      <td>エアコン付\\tシューズボックス／\\tバルコニー／\\tフローリング／\\t室内洗濯機置場／\\t敷...</td>\n",
       "      <td>駐輪場\\t空有</td>\n",
       "      <td>【小学校】 495m\\t【大学】 461m\\t【小学校】 962m\\t【公園】 1103m\\...</td>\n",
       "      <td>RC（鉄筋コンクリート）</td>\n",
       "      <td>2年間</td>\n",
       "      <td>0.0</td>\n",
       "      <td>0.5</td>\n",
       "    </tr>\n",
       "  </tbody>\n",
       "</table>\n",
       "</div>"
      ],
      "text/plain": [
       "   id     賃料          所在地                                               アクセス  \\\n",
       "0   1  75000  東京都北区滝野川３丁目  都営三田線\\t西巣鴨駅\\t徒歩4分\\t\\t埼京線\\t板橋駅\\t徒歩14分\\t\\t都電荒川線\\...   \n",
       "\n",
       "  間取り    築年数       面積      所在階  \\\n",
       "0  1K  9年9ヶ月  20.01m2  1階／12階建   \n",
       "\n",
       "                                             バス・トイレ  \\\n",
       "0  専用バス／\\t専用トイレ／\\tバス・トイレ別／\\tシャワー／\\t浴室乾燥機\\t／\\t温水洗浄便座   \n",
       "\n",
       "                              キッチン                               放送・通信  \\\n",
       "0  ガスコンロ／\\tコンロ2口／\\tシステムキッチン\\t／\\t給湯  インターネット対応／\\tCATV／\\tCSアンテナ／\\tBSアンテナ   \n",
       "\n",
       "                                                室内設備      駐車場  \\\n",
       "0  エアコン付\\tシューズボックス／\\tバルコニー／\\tフローリング／\\t室内洗濯機置場／\\t敷...  駐輪場\\t空有   \n",
       "\n",
       "                                                周辺環境          建物構造 契約期間  \\\n",
       "0  【小学校】 495m\\t【大学】 461m\\t【小学校】 962m\\t【公園】 1103m\\...  RC（鉄筋コンクリート）  2年間   \n",
       "\n",
       "   south  east  \n",
       "0    0.0   0.5  "
      ]
     },
     "execution_count": 525,
     "metadata": {},
     "output_type": "execute_result"
    }
   ],
   "source": [
    "class direction_encoder:\n",
    "    def __init__(self):\n",
    "        self.encoder = OneHotEncoder(sparse=False,handle_unknown=\"ignore\")\n",
    "#         self.classi = {'北西': -3, '北東': -1, '北': -4, '南西': 1, '南東': 3, '南': 4, '西': -2, '東': 2}\n",
    "    def fit(self,x,y):\n",
    "        self.encoder.fit(x[\"方角\"].fillna(\"北\").values.reshape(-1,1))\n",
    "        return self\n",
    "    def transform(self,x):\n",
    "        temp = x[\"方角\"]\n",
    "        temp = temp.fillna(\"北\")\n",
    "        temp = temp.values\n",
    "#         ans = [0 for i in range(len(temp))]\n",
    "        south = [0 for i in range(len(temp))]\n",
    "        east = [0 for i in range(len(temp))]\n",
    "        for i in range(len(temp)):\n",
    "            sf = 0\n",
    "            ef = 0\n",
    "#             for c in temp[i]:\n",
    "            if \"南\" in temp[i]:\n",
    "                sf += 1\n",
    "            if \"東\" in temp[i]:\n",
    "                ef += 1\n",
    "\n",
    "#                 if c == \"南\":\n",
    "#                     sf += 1\n",
    "#                 elif c == \"東\":\n",
    "#                     ef += 1\n",
    "            sf = sf/len(temp[i])\n",
    "            ef = ef/len(temp[i])\n",
    "            south[i] = sf\n",
    "            east[i] = ef\n",
    "        hoge = x.drop(\"方角\",axis = 1)\n",
    "        hoge = hoge.assign(south=south)\n",
    "        hoge = hoge.assign(east = east)\n",
    "        return hoge\n",
    "temp = direction_encoder()\n",
    "temp.fit(train,[])\n",
    "hoge = temp.transform(train)\n",
    "hoge.head(1)"
   ]
  },
  {
   "cell_type": "code",
   "execution_count": 526,
   "metadata": {},
   "outputs": [
    {
     "data": {
      "text/html": [
       "<div>\n",
       "<style scoped>\n",
       "    .dataframe tbody tr th:only-of-type {\n",
       "        vertical-align: middle;\n",
       "    }\n",
       "\n",
       "    .dataframe tbody tr th {\n",
       "        vertical-align: top;\n",
       "    }\n",
       "\n",
       "    .dataframe thead th {\n",
       "        text-align: right;\n",
       "    }\n",
       "</style>\n",
       "<table border=\"1\" class=\"dataframe\">\n",
       "  <thead>\n",
       "    <tr style=\"text-align: right;\">\n",
       "      <th></th>\n",
       "      <th>id</th>\n",
       "      <th>賃料</th>\n",
       "      <th>所在地</th>\n",
       "      <th>アクセス</th>\n",
       "      <th>間取り</th>\n",
       "      <th>築年数</th>\n",
       "      <th>方角</th>\n",
       "      <th>面積</th>\n",
       "      <th>所在階</th>\n",
       "      <th>バス・トイレ</th>\n",
       "      <th>キッチン</th>\n",
       "      <th>放送・通信</th>\n",
       "      <th>室内設備</th>\n",
       "      <th>駐車場</th>\n",
       "      <th>周辺環境</th>\n",
       "      <th>建物構造</th>\n",
       "      <th>契約期間</th>\n",
       "    </tr>\n",
       "  </thead>\n",
       "  <tbody>\n",
       "    <tr>\n",
       "      <th>0</th>\n",
       "      <td>1</td>\n",
       "      <td>75000</td>\n",
       "      <td>東京都北区滝野川３丁目</td>\n",
       "      <td>都営三田線\\t西巣鴨駅\\t徒歩4分\\t\\t埼京線\\t板橋駅\\t徒歩14分\\t\\t都電荒川線\\...</td>\n",
       "      <td>1K</td>\n",
       "      <td>9年9ヶ月</td>\n",
       "      <td>南東</td>\n",
       "      <td>20.01m2</td>\n",
       "      <td>1階／12階建</td>\n",
       "      <td>専用バス／\\t専用トイレ／\\tバス・トイレ別／\\tシャワー／\\t浴室乾燥機\\t／\\t温水洗浄便座</td>\n",
       "      <td>ガスコンロ／\\tコンロ2口／\\tシステムキッチン\\t／\\t給湯</td>\n",
       "      <td>インターネット対応／\\tCATV／\\tCSアンテナ／\\tBSアンテナ</td>\n",
       "      <td>エアコン付\\tシューズボックス／\\tバルコニー／\\tフローリング／\\t室内洗濯機置場／\\t敷...</td>\n",
       "      <td>駐輪場\\t空有</td>\n",
       "      <td>【小学校】 495m\\t【大学】 461m\\t【小学校】 962m\\t【公園】 1103m\\...</td>\n",
       "      <td>RC（鉄筋コンクリート）</td>\n",
       "      <td>2年間</td>\n",
       "    </tr>\n",
       "  </tbody>\n",
       "</table>\n",
       "</div>"
      ],
      "text/plain": [
       "   id     賃料          所在地                                               アクセス  \\\n",
       "0   1  75000  東京都北区滝野川３丁目  都営三田線\\t西巣鴨駅\\t徒歩4分\\t\\t埼京線\\t板橋駅\\t徒歩14分\\t\\t都電荒川線\\...   \n",
       "\n",
       "  間取り    築年数  方角       面積      所在階  \\\n",
       "0  1K  9年9ヶ月  南東  20.01m2  1階／12階建   \n",
       "\n",
       "                                             バス・トイレ  \\\n",
       "0  専用バス／\\t専用トイレ／\\tバス・トイレ別／\\tシャワー／\\t浴室乾燥機\\t／\\t温水洗浄便座   \n",
       "\n",
       "                              キッチン                               放送・通信  \\\n",
       "0  ガスコンロ／\\tコンロ2口／\\tシステムキッチン\\t／\\t給湯  インターネット対応／\\tCATV／\\tCSアンテナ／\\tBSアンテナ   \n",
       "\n",
       "                                                室内設備      駐車場  \\\n",
       "0  エアコン付\\tシューズボックス／\\tバルコニー／\\tフローリング／\\t室内洗濯機置場／\\t敷...  駐輪場\\t空有   \n",
       "\n",
       "                                                周辺環境          建物構造 契約期間  \n",
       "0  【小学校】 495m\\t【大学】 461m\\t【小学校】 962m\\t【公園】 1103m\\...  RC（鉄筋コンクリート）  2年間  "
      ]
     },
     "execution_count": 526,
     "metadata": {},
     "output_type": "execute_result"
    }
   ],
   "source": [
    "train.head(1)"
   ]
  },
  {
   "cell_type": "code",
   "execution_count": null,
   "metadata": {},
   "outputs": [],
   "source": []
  }
 ],
 "metadata": {
  "kernelspec": {
   "display_name": "Python 3",
   "language": "python",
   "name": "python3"
  },
  "language_info": {
   "codemirror_mode": {
    "name": "ipython",
    "version": 3
   },
   "file_extension": ".py",
   "mimetype": "text/x-python",
   "name": "python",
   "nbconvert_exporter": "python",
   "pygments_lexer": "ipython3",
   "version": "3.7.4"
  }
 },
 "nbformat": 4,
 "nbformat_minor": 4
}
