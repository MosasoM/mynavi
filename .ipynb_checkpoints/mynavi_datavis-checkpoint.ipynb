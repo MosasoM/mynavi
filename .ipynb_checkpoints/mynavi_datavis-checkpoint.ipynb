{
 "cells": [
  {
   "cell_type": "code",
   "execution_count": 244,
   "metadata": {},
   "outputs": [],
   "source": [
    "import matplotlib.pyplot as plt\n",
    "import seaborn as sns\n",
    "import numpy as np\n",
    "import pandas as pd\n",
    "import numpy as np\n",
    "from scipy import stats as st\n",
    "import re\n",
    "from sklearn.preprocessing import OneHotEncoder"
   ]
  },
  {
   "cell_type": "code",
   "execution_count": 2,
   "metadata": {},
   "outputs": [],
   "source": [
    "train = pd.read_csv(\"train.csv\")\n",
    "test = pd.read_csv(\"test.csv\")"
   ]
  },
  {
   "cell_type": "code",
   "execution_count": 8,
   "metadata": {},
   "outputs": [
    {
     "data": {
      "text/plain": [
       "Index(['id', '賃料', '所在地', 'アクセス', '間取り', '築年数', '方角', '面積', '所在階', 'バス・トイレ',\n",
       "       'キッチン', '放送・通信', '室内設備', '駐車場', '周辺環境', '建物構造', '契約期間'],\n",
       "      dtype='object')"
      ]
     },
     "execution_count": 8,
     "metadata": {},
     "output_type": "execute_result"
    }
   ],
   "source": [
    "train.columns"
   ]
  },
  {
   "cell_type": "code",
   "execution_count": 7,
   "metadata": {},
   "outputs": [
    {
     "data": {
      "text/html": [
       "<div>\n",
       "<style scoped>\n",
       "    .dataframe tbody tr th:only-of-type {\n",
       "        vertical-align: middle;\n",
       "    }\n",
       "\n",
       "    .dataframe tbody tr th {\n",
       "        vertical-align: top;\n",
       "    }\n",
       "\n",
       "    .dataframe thead th {\n",
       "        text-align: right;\n",
       "    }\n",
       "</style>\n",
       "<table border=\"1\" class=\"dataframe\">\n",
       "  <thead>\n",
       "    <tr style=\"text-align: right;\">\n",
       "      <th></th>\n",
       "      <th>id</th>\n",
       "      <th>賃料</th>\n",
       "    </tr>\n",
       "  </thead>\n",
       "  <tbody>\n",
       "    <tr>\n",
       "      <th>count</th>\n",
       "      <td>31470.000000</td>\n",
       "      <td>3.147000e+04</td>\n",
       "    </tr>\n",
       "    <tr>\n",
       "      <th>mean</th>\n",
       "      <td>15735.500000</td>\n",
       "      <td>1.182903e+05</td>\n",
       "    </tr>\n",
       "    <tr>\n",
       "      <th>std</th>\n",
       "      <td>9084.750822</td>\n",
       "      <td>7.374880e+04</td>\n",
       "    </tr>\n",
       "    <tr>\n",
       "      <th>min</th>\n",
       "      <td>1.000000</td>\n",
       "      <td>2.500000e+04</td>\n",
       "    </tr>\n",
       "    <tr>\n",
       "      <th>25%</th>\n",
       "      <td>7868.250000</td>\n",
       "      <td>7.600000e+04</td>\n",
       "    </tr>\n",
       "    <tr>\n",
       "      <th>50%</th>\n",
       "      <td>15735.500000</td>\n",
       "      <td>1.020000e+05</td>\n",
       "    </tr>\n",
       "    <tr>\n",
       "      <th>75%</th>\n",
       "      <td>23602.750000</td>\n",
       "      <td>1.360000e+05</td>\n",
       "    </tr>\n",
       "    <tr>\n",
       "      <th>max</th>\n",
       "      <td>31470.000000</td>\n",
       "      <td>2.500000e+06</td>\n",
       "    </tr>\n",
       "  </tbody>\n",
       "</table>\n",
       "</div>"
      ],
      "text/plain": [
       "                 id            賃料\n",
       "count  31470.000000  3.147000e+04\n",
       "mean   15735.500000  1.182903e+05\n",
       "std     9084.750822  7.374880e+04\n",
       "min        1.000000  2.500000e+04\n",
       "25%     7868.250000  7.600000e+04\n",
       "50%    15735.500000  1.020000e+05\n",
       "75%    23602.750000  1.360000e+05\n",
       "max    31470.000000  2.500000e+06"
      ]
     },
     "execution_count": 7,
     "metadata": {},
     "output_type": "execute_result"
    }
   ],
   "source": [
    "train.describe()"
   ]
  },
  {
   "cell_type": "code",
   "execution_count": 6,
   "metadata": {},
   "outputs": [
    {
     "data": {
      "text/html": [
       "<div>\n",
       "<style scoped>\n",
       "    .dataframe tbody tr th:only-of-type {\n",
       "        vertical-align: middle;\n",
       "    }\n",
       "\n",
       "    .dataframe tbody tr th {\n",
       "        vertical-align: top;\n",
       "    }\n",
       "\n",
       "    .dataframe thead th {\n",
       "        text-align: right;\n",
       "    }\n",
       "</style>\n",
       "<table border=\"1\" class=\"dataframe\">\n",
       "  <thead>\n",
       "    <tr style=\"text-align: right;\">\n",
       "      <th></th>\n",
       "      <th>id</th>\n",
       "      <th>賃料</th>\n",
       "      <th>所在地</th>\n",
       "      <th>アクセス</th>\n",
       "      <th>間取り</th>\n",
       "      <th>築年数</th>\n",
       "      <th>方角</th>\n",
       "      <th>面積</th>\n",
       "      <th>所在階</th>\n",
       "      <th>バス・トイレ</th>\n",
       "      <th>キッチン</th>\n",
       "      <th>放送・通信</th>\n",
       "      <th>室内設備</th>\n",
       "      <th>駐車場</th>\n",
       "      <th>周辺環境</th>\n",
       "      <th>建物構造</th>\n",
       "      <th>契約期間</th>\n",
       "    </tr>\n",
       "  </thead>\n",
       "  <tbody>\n",
       "    <tr>\n",
       "      <th>0</th>\n",
       "      <td>1</td>\n",
       "      <td>75000</td>\n",
       "      <td>東京都北区滝野川３丁目</td>\n",
       "      <td>都営三田線\\t西巣鴨駅\\t徒歩4分\\t\\t埼京線\\t板橋駅\\t徒歩14分\\t\\t都電荒川線\\...</td>\n",
       "      <td>1K</td>\n",
       "      <td>9年9ヶ月</td>\n",
       "      <td>南東</td>\n",
       "      <td>20.01m2</td>\n",
       "      <td>1階／12階建</td>\n",
       "      <td>専用バス／\\t専用トイレ／\\tバス・トイレ別／\\tシャワー／\\t浴室乾燥機\\t／\\t温水洗浄便座</td>\n",
       "      <td>ガスコンロ／\\tコンロ2口／\\tシステムキッチン\\t／\\t給湯</td>\n",
       "      <td>インターネット対応／\\tCATV／\\tCSアンテナ／\\tBSアンテナ</td>\n",
       "      <td>エアコン付\\tシューズボックス／\\tバルコニー／\\tフローリング／\\t室内洗濯機置場／\\t敷...</td>\n",
       "      <td>駐輪場\\t空有</td>\n",
       "      <td>【小学校】 495m\\t【大学】 461m\\t【小学校】 962m\\t【公園】 1103m\\...</td>\n",
       "      <td>RC（鉄筋コンクリート）</td>\n",
       "      <td>2年間</td>\n",
       "    </tr>\n",
       "    <tr>\n",
       "      <th>1</th>\n",
       "      <td>2</td>\n",
       "      <td>76000</td>\n",
       "      <td>東京都中央区月島３丁目</td>\n",
       "      <td>都営大江戸線\\t勝どき駅\\t徒歩5分\\t\\t有楽町線\\t月島駅\\t徒歩9分\\t\\t日比谷線\\...</td>\n",
       "      <td>1R</td>\n",
       "      <td>44年10ヶ月</td>\n",
       "      <td>NaN</td>\n",
       "      <td>16.5m2</td>\n",
       "      <td>5階／10階建</td>\n",
       "      <td>専用トイレ／\\tシャワー／\\t温水洗浄便座</td>\n",
       "      <td>ガスコンロ／\\tシステムキッチン\\t／\\t給湯</td>\n",
       "      <td>インターネット対応</td>\n",
       "      <td>エアコン付\\tシューズボックス／\\tバルコニー／\\tフローリング／\\t室内洗濯機置場／\\t敷...</td>\n",
       "      <td>駐輪場\\t空有\\t駐車場\\t無\\tバイク置き場\\t無</td>\n",
       "      <td>【スーパー】 1283m</td>\n",
       "      <td>鉄骨造</td>\n",
       "      <td>2年間</td>\n",
       "    </tr>\n",
       "    <tr>\n",
       "      <th>2</th>\n",
       "      <td>3</td>\n",
       "      <td>110000</td>\n",
       "      <td>東京都渋谷区笹塚２丁目</td>\n",
       "      <td>京王線\\t笹塚駅\\t徒歩6分\\t\\t京王線\\t代田橋駅\\t徒歩7分\\t\\t京王線\\t明大前駅...</td>\n",
       "      <td>1K</td>\n",
       "      <td>8年6ヶ月</td>\n",
       "      <td>南</td>\n",
       "      <td>22.05m2</td>\n",
       "      <td>12階／15階建</td>\n",
       "      <td>専用バス／\\t専用トイレ／\\tバス・トイレ別／\\tシャワー／\\t浴室乾燥機\\t／\\t温水洗浄...</td>\n",
       "      <td>ガスコンロ／\\tコンロ2口／\\tシステムキッチン\\t／\\t給湯</td>\n",
       "      <td>インターネット対応／\\t光ファイバー／\\tCSアンテナ／\\tBSアンテナ</td>\n",
       "      <td>エアコン付\\tウォークインクローゼット\\tシューズボックス／\\tバルコニー／\\tフローリング...</td>\n",
       "      <td>駐輪場\\t空有\\tバイク置き場\\t空有\\t駐車場\\t近隣\\t30,000円(税込)\\t距離100m</td>\n",
       "      <td>【スーパー】 89m\\t【コンビニ】 184m\\t【コンビニ】 392m\\t【スーパー】 492m</td>\n",
       "      <td>RC（鉄筋コンクリート）</td>\n",
       "      <td>2年間</td>\n",
       "    </tr>\n",
       "    <tr>\n",
       "      <th>3</th>\n",
       "      <td>4</td>\n",
       "      <td>150000</td>\n",
       "      <td>東京都杉並区高円寺南２丁目23-2</td>\n",
       "      <td>総武線・中央線（各停）\\t高円寺駅\\t徒歩9分\\t\\t丸ノ内線(池袋－荻窪)\\t新高円寺駅\\...</td>\n",
       "      <td>2LDK</td>\n",
       "      <td>29年4ヶ月</td>\n",
       "      <td>南</td>\n",
       "      <td>60.48m2</td>\n",
       "      <td>3階／4階建</td>\n",
       "      <td>専用バス／\\t専用トイレ／\\tバス・トイレ別／\\tシャワー／\\t温水洗浄便座／\\t洗面台独立</td>\n",
       "      <td>ガスコンロ／\\t給湯</td>\n",
       "      <td>インターネット対応／\\t光ファイバー</td>\n",
       "      <td>エアコン付\\tシューズボックス／\\tバルコニー／\\t2面採光／\\t室内洗濯機置場／\\tエレベ...</td>\n",
       "      <td>駐車場\\t無\\t駐輪場\\t無\\tバイク置き場\\t無</td>\n",
       "      <td>【スーパー】 225m\\t【スーパー】 448m\\t【スーパー】 619m\\t【スーパー】 ...</td>\n",
       "      <td>RC（鉄筋コンクリート）</td>\n",
       "      <td>2年間\\t※この物件は\\t定期借家\\tです。</td>\n",
       "    </tr>\n",
       "    <tr>\n",
       "      <th>4</th>\n",
       "      <td>5</td>\n",
       "      <td>74000</td>\n",
       "      <td>東京都葛飾区金町３丁目7-2</td>\n",
       "      <td>京成金町線\\t京成金町駅\\t徒歩5分\\t\\t常磐線\\t金町(東京都)駅\\t徒歩7分\\t\\t京...</td>\n",
       "      <td>2DK</td>\n",
       "      <td>31年7ヶ月</td>\n",
       "      <td>南</td>\n",
       "      <td>39.66m2</td>\n",
       "      <td>1階／2階建</td>\n",
       "      <td>専用バス／\\t専用トイレ／\\tバス・トイレ別／\\tシャワー／\\t追焚機能</td>\n",
       "      <td>給湯／\\t独立キッチン</td>\n",
       "      <td>NaN</td>\n",
       "      <td>バルコニー／\\tフローリング／\\t室内洗濯機置場\\t公営水道／\\t下水</td>\n",
       "      <td>駐車場\\t近隣\\t17,000円(税込)\\t距離300m\\t駐輪場\\t無\\tバイク置き場\\t無</td>\n",
       "      <td>【スーパー】 193m\\t【スーパー】 298m\\t【スーパー】 660m\\t【スーパー】 ...</td>\n",
       "      <td>木造</td>\n",
       "      <td>2年間</td>\n",
       "    </tr>\n",
       "  </tbody>\n",
       "</table>\n",
       "</div>"
      ],
      "text/plain": [
       "   id      賃料                所在地  \\\n",
       "0   1   75000        東京都北区滝野川３丁目   \n",
       "1   2   76000        東京都中央区月島３丁目   \n",
       "2   3  110000        東京都渋谷区笹塚２丁目   \n",
       "3   4  150000  東京都杉並区高円寺南２丁目23-2   \n",
       "4   5   74000     東京都葛飾区金町３丁目7-2   \n",
       "\n",
       "                                                アクセス   間取り      築年数   方角  \\\n",
       "0  都営三田線\\t西巣鴨駅\\t徒歩4分\\t\\t埼京線\\t板橋駅\\t徒歩14分\\t\\t都電荒川線\\...    1K    9年9ヶ月   南東   \n",
       "1  都営大江戸線\\t勝どき駅\\t徒歩5分\\t\\t有楽町線\\t月島駅\\t徒歩9分\\t\\t日比谷線\\...    1R  44年10ヶ月  NaN   \n",
       "2  京王線\\t笹塚駅\\t徒歩6分\\t\\t京王線\\t代田橋駅\\t徒歩7分\\t\\t京王線\\t明大前駅...    1K    8年6ヶ月    南   \n",
       "3  総武線・中央線（各停）\\t高円寺駅\\t徒歩9分\\t\\t丸ノ内線(池袋－荻窪)\\t新高円寺駅\\...  2LDK   29年4ヶ月    南   \n",
       "4  京成金町線\\t京成金町駅\\t徒歩5分\\t\\t常磐線\\t金町(東京都)駅\\t徒歩7分\\t\\t京...   2DK   31年7ヶ月    南   \n",
       "\n",
       "        面積       所在階                                             バス・トイレ  \\\n",
       "0  20.01m2   1階／12階建   専用バス／\\t専用トイレ／\\tバス・トイレ別／\\tシャワー／\\t浴室乾燥機\\t／\\t温水洗浄便座   \n",
       "1   16.5m2   5階／10階建                              専用トイレ／\\tシャワー／\\t温水洗浄便座   \n",
       "2  22.05m2  12階／15階建  専用バス／\\t専用トイレ／\\tバス・トイレ別／\\tシャワー／\\t浴室乾燥機\\t／\\t温水洗浄...   \n",
       "3  60.48m2    3階／4階建     専用バス／\\t専用トイレ／\\tバス・トイレ別／\\tシャワー／\\t温水洗浄便座／\\t洗面台独立   \n",
       "4  39.66m2    1階／2階建               専用バス／\\t専用トイレ／\\tバス・トイレ別／\\tシャワー／\\t追焚機能   \n",
       "\n",
       "                              キッチン                                 放送・通信  \\\n",
       "0  ガスコンロ／\\tコンロ2口／\\tシステムキッチン\\t／\\t給湯    インターネット対応／\\tCATV／\\tCSアンテナ／\\tBSアンテナ   \n",
       "1          ガスコンロ／\\tシステムキッチン\\t／\\t給湯                             インターネット対応   \n",
       "2  ガスコンロ／\\tコンロ2口／\\tシステムキッチン\\t／\\t給湯  インターネット対応／\\t光ファイバー／\\tCSアンテナ／\\tBSアンテナ   \n",
       "3                       ガスコンロ／\\t給湯                    インターネット対応／\\t光ファイバー   \n",
       "4                      給湯／\\t独立キッチン                                   NaN   \n",
       "\n",
       "                                                室内設備  \\\n",
       "0  エアコン付\\tシューズボックス／\\tバルコニー／\\tフローリング／\\t室内洗濯機置場／\\t敷...   \n",
       "1  エアコン付\\tシューズボックス／\\tバルコニー／\\tフローリング／\\t室内洗濯機置場／\\t敷...   \n",
       "2  エアコン付\\tウォークインクローゼット\\tシューズボックス／\\tバルコニー／\\tフローリング...   \n",
       "3  エアコン付\\tシューズボックス／\\tバルコニー／\\t2面採光／\\t室内洗濯機置場／\\tエレベ...   \n",
       "4                バルコニー／\\tフローリング／\\t室内洗濯機置場\\t公営水道／\\t下水   \n",
       "\n",
       "                                                 駐車場  \\\n",
       "0                                            駐輪場\\t空有   \n",
       "1                         駐輪場\\t空有\\t駐車場\\t無\\tバイク置き場\\t無   \n",
       "2  駐輪場\\t空有\\tバイク置き場\\t空有\\t駐車場\\t近隣\\t30,000円(税込)\\t距離100m   \n",
       "3                          駐車場\\t無\\t駐輪場\\t無\\tバイク置き場\\t無   \n",
       "4    駐車場\\t近隣\\t17,000円(税込)\\t距離300m\\t駐輪場\\t無\\tバイク置き場\\t無   \n",
       "\n",
       "                                                周辺環境          建物構造  \\\n",
       "0  【小学校】 495m\\t【大学】 461m\\t【小学校】 962m\\t【公園】 1103m\\...  RC（鉄筋コンクリート）   \n",
       "1                                       【スーパー】 1283m           鉄骨造   \n",
       "2  【スーパー】 89m\\t【コンビニ】 184m\\t【コンビニ】 392m\\t【スーパー】 492m  RC（鉄筋コンクリート）   \n",
       "3  【スーパー】 225m\\t【スーパー】 448m\\t【スーパー】 619m\\t【スーパー】 ...  RC（鉄筋コンクリート）   \n",
       "4  【スーパー】 193m\\t【スーパー】 298m\\t【スーパー】 660m\\t【スーパー】 ...            木造   \n",
       "\n",
       "                     契約期間  \n",
       "0                     2年間  \n",
       "1                     2年間  \n",
       "2                     2年間  \n",
       "3  2年間\\t※この物件は\\t定期借家\\tです。  \n",
       "4                     2年間  "
      ]
     },
     "execution_count": 6,
     "metadata": {},
     "output_type": "execute_result"
    }
   ],
   "source": [
    "train.head()"
   ]
  },
  {
   "cell_type": "code",
   "execution_count": 187,
   "metadata": {},
   "outputs": [
    {
     "data": {
      "text/plain": [
       "<re.Match object; span=(9, 13), match='徒歩5分'>"
      ]
     },
     "execution_count": 187,
     "metadata": {},
     "output_type": "execute_result"
    }
   ],
   "source": [
    "re.search(r\".+?線\",train[\"アクセス\"][0])\n",
    "re.search(r\"徒歩.+?分\",train[\"アクセス\"][1200])"
   ]
  },
  {
   "cell_type": "code",
   "execution_count": 189,
   "metadata": {},
   "outputs": [
    {
     "name": "stdout",
     "output_type": "stream",
     "text": [
      "31470\n"
     ]
    }
   ],
   "source": [
    "print(train[\"アクセス\"].str.contains(\"線\").count())"
   ]
  },
  {
   "cell_type": "code",
   "execution_count": 192,
   "metadata": {},
   "outputs": [
    {
     "name": "stdout",
     "output_type": "stream",
     "text": [
      "つくばエクスプレス\t八潮駅\t徒歩18分\t\tつくばエクスプレス\t六町駅\t徒歩31分\n",
      "つくばエクスプレス\t六町駅\t徒歩14分\n",
      "つくばエクスプレス\t六町駅\t徒歩9分\n",
      "つくばエクスプレス\t六町駅\t徒歩14分\n",
      "つくばエクスプレス\t八潮駅\t徒歩27分\n",
      "つくばエクスプレス\t八潮駅\t徒歩15分\n",
      "つくばエクスプレス\t六町駅\t徒歩13分\n",
      "つくばエクスプレス\t八潮駅\t徒歩15分\n",
      "ゆりかもめ\t芝浦ふ頭駅\t徒歩11分\n",
      "つくばエクスプレス\t八潮駅\t徒歩21分\n",
      "つくばエクスプレス\t八潮駅\t徒歩15分\n",
      "つくばエクスプレス\t六町駅\t徒歩17分\n",
      "つくばエクスプレス\t六町駅\t徒歩15分\n",
      "つくばエクスプレス\t六町駅\t徒歩11分\n",
      "つくばエクスプレス\t青井駅\t徒歩10分\t\tつくばエクスプレス\t六町駅\t徒歩14分\n",
      "つくばエクスプレス\t六町駅\t/バス(14分)樫の木公園前下車徒歩9分\n",
      "つくばエクスプレス\t八潮駅\t徒歩15分\n",
      "つくばエクスプレス\t六町駅\t徒歩12分\n",
      "つくばエクスプレス\t六町駅\t徒歩9分\n",
      "つくばエクスプレス\t六町駅\t徒歩16分\n",
      "つくばエクスプレス\t六町駅\t徒歩16分\t\tつくばエクスプレス\t青井駅\t徒歩19分\n",
      "つくばエクスプレス\t六町駅\t徒歩16分\n",
      "つくばエクスプレス\t六町駅\t徒歩7分\n",
      "つくばエクスプレス\t六町駅\t徒歩10分\n",
      "つくばエクスプレス\t六町駅\t徒歩8分\t\tつくばエクスプレス\t青井駅\t徒歩12分\n",
      "つくばエクスプレス\t六町駅\t徒歩15分\n",
      "つくばエクスプレス\t八潮駅\t徒歩15分\n",
      "つくばエクスプレス\t六町駅\t徒歩13分\t\tつくばエクスプレス\t青井駅\t徒歩29分\n",
      "つくばエクスプレス\t六町駅\t徒歩15分\n",
      "つくばエクスプレス\t六町駅\t徒歩20分\n",
      "つくばエクスプレス\t六町駅\t徒歩16分\n",
      "つくばエクスプレス\t六町駅\t徒歩10分\t\tつくばエクスプレス\t青井駅\t徒歩26分\n",
      "つくばエクスプレス\t六町駅\t徒歩20分\n",
      "つくばエクスプレス\t六町駅\t徒歩13分\t\tつくばエクスプレス\t青井駅\t徒歩29分\n",
      "つくばエクスプレス\t六町駅\t徒歩5分\n",
      "つくばエクスプレス\t六町駅\t徒歩14分\t\tつくばエクスプレス\t青井駅\t徒歩33分\t\tつくばエクスプレス\t八潮駅\t徒歩34分\n",
      "つくばエクスプレス\t六町駅\t徒歩14分\n",
      "つくばエクスプレス\t浅草(ＴＸ)駅\t徒歩10分\n",
      "つくばエクスプレス\t六町駅\t徒歩3分\t\tつくばエクスプレス\t青井駅\t徒歩17分\n",
      "つくばエクスプレス\t六町駅\t徒歩12分\n",
      "つくばエクスプレス\t六町駅\t徒歩15分\n",
      "つくばエクスプレス\t八潮駅\t徒歩15分\n",
      "つくばエクスプレス\t六町駅\t徒歩13分\t\tつくばエクスプレス\t青井駅\t徒歩29分\n",
      "つくばエクスプレス\t六町駅\t/バス(14分)樫の木公園前下車徒歩9分\n",
      "つくばエクスプレス\t六町駅\t/バス(5分)スポーツセンター前下車徒歩25分\n",
      "つくばエクスプレス\t八潮駅\t徒歩15分\n"
     ]
    }
   ],
   "source": [
    "for i in range(31470):\n",
    "    if not re.search(r\".+?(線|ライン|ライナー)\",train[\"アクセス\"][i]):\n",
    "        print(train[\"アクセス\"][i])"
   ]
  },
  {
   "cell_type": "code",
   "execution_count": 12,
   "metadata": {},
   "outputs": [
    {
     "name": "stdout",
     "output_type": "stream",
     "text": [
      "方角 2749\n",
      "バス・トイレ 329\n",
      "キッチン 621\n",
      "放送・通信 3440\n",
      "室内設備 82\n",
      "駐車場 5287\n",
      "周辺環境 9432\n",
      "契約期間 7120\n"
     ]
    }
   ],
   "source": [
    "for col in train.columns:\n",
    "    if train[col].isnull().sum() > 0:\n",
    "        print(col + \" \" + str(train[col].isnull().sum()))"
   ]
  },
  {
   "cell_type": "code",
   "execution_count": 13,
   "metadata": {},
   "outputs": [
    {
     "name": "stdout",
     "output_type": "stream",
     "text": [
      "31470\n"
     ]
    }
   ],
   "source": [
    "print(train[\"面積\"].str.contains(\"ms\").count())"
   ]
  },
  {
   "cell_type": "code",
   "execution_count": 14,
   "metadata": {},
   "outputs": [
    {
     "name": "stdout",
     "output_type": "stream",
     "text": [
      "31470\n"
     ]
    }
   ],
   "source": [
    "print(train[\"築年数\"].str.contains(\"月\").count())"
   ]
  },
  {
   "cell_type": "code",
   "execution_count": 15,
   "metadata": {},
   "outputs": [
    {
     "name": "stdout",
     "output_type": "stream",
     "text": [
      "20.01\n"
     ]
    }
   ],
   "source": [
    "print(train[\"面積\"].values[0][:-2])"
   ]
  },
  {
   "cell_type": "code",
   "execution_count": 48,
   "metadata": {},
   "outputs": [],
   "source": [
    "test = \"29年4ヶ月\"\n",
    "\n",
    "year = r\"[0-9]+年\"\n",
    "month = r\"[0-9]+ヶ月\""
   ]
  },
  {
   "cell_type": "code",
   "execution_count": 65,
   "metadata": {},
   "outputs": [
    {
     "name": "stdout",
     "output_type": "stream",
     "text": [
      "<re.Match object; span=(3, 6), match='4ヶ月'>\n",
      "4ヶ月\n"
     ]
    }
   ],
   "source": [
    "m = re.search(month,test)\n",
    "print(m)\n",
    "print(m[0])"
   ]
  },
  {
   "cell_type": "code",
   "execution_count": 74,
   "metadata": {},
   "outputs": [
    {
     "data": {
      "text/plain": [
       "id        31470\n",
       "賃料          871\n",
       "所在地       11333\n",
       "アクセス      24172\n",
       "間取り          30\n",
       "築年数         746\n",
       "方角            8\n",
       "面積         5739\n",
       "所在階        1032\n",
       "バス・トイレ      360\n",
       "キッチン        381\n",
       "放送・通信       139\n",
       "室内設備       6220\n",
       "駐車場        3911\n",
       "周辺環境      17864\n",
       "建物構造         10\n",
       "契約期間         66\n",
       "dtype: int64"
      ]
     },
     "execution_count": 74,
     "metadata": {},
     "output_type": "execute_result"
    }
   ],
   "source": [
    "train.nunique()"
   ]
  },
  {
   "cell_type": "code",
   "execution_count": 73,
   "metadata": {},
   "outputs": [
    {
     "name": "stdout",
     "output_type": "stream",
     "text": [
      "['1K' '1R' '2LDK' '2DK' '1DK' '1LDK' '3LDK' '3DK' '1LDK+S(納戸)' '4K' '2K'\n",
      " '1K+S(納戸)' '4LDK' '3LDK+S(納戸)' '5LDK+S(納戸)' '5LDK' '3K' '4DK'\n",
      " '2LDK+S(納戸)' '2DK+S(納戸)' '4LDK+S(納戸)' '5DK' '3DK+S(納戸)' '1DK+S(納戸)' '5K'\n",
      " '6LDK' '2K+S(納戸)' '1LK+S(納戸)' '5DK+S(納戸)' '3K+S(納戸)']\n"
     ]
    }
   ],
   "source": [
    "print(train[\"間取り\"].unique())"
   ]
  },
  {
   "cell_type": "code",
   "execution_count": 77,
   "metadata": {},
   "outputs": [],
   "source": [
    "temp = train[\"所在階\"][0]"
   ]
  },
  {
   "cell_type": "code",
   "execution_count": 179,
   "metadata": {},
   "outputs": [
    {
     "data": {
      "text/plain": [
       "array(['1階／12階建', '5階／10階建', '12階／15階建', '3階／4階建', '1階／2階建', '6階／12階建',\n",
       "       '6階／8階建', '1階／6階建', '4階／9階建', '2階／3階建', '6階／10階建', '3階／3階建',\n",
       "       '4階／11階建', '4階／5階建', '2階／5階建', '5階／11階建', '8階／12階建', '2階建',\n",
       "       '7階／10階建', '10階／42階建', '2階／4階建', '12階／12階建', '2階／2階建', '10階／10階建',\n",
       "       '1階／10階建', '4階／11階建（地下1階）', '3階／7階建', '4階／10階建', '8階／15階建',\n",
       "       '2階／7階建（地下1階）', '3階／5階建', '3階／4階建（地下2階）', '1階／3階建', '4階／4階建',\n",
       "       '7階／9階建', '11階／13階建', '4階／8階建', '6階／6階建', '1階／4階建', '11階／14階建',\n",
       "       '13階／15階建', '9階／12階建', '3階／6階建', '地下4階／5階建', '10階／11階建', '7階／11階建',\n",
       "       '2階／6階建', '5階／8階建', '6階／15階建', '／3階建', '5階／7階建', '8階／11階建',\n",
       "       '4階／14階建', '5階／9階建', '8階／19階建', '／8階建', '12階／19階建', '5階／15階建',\n",
       "       '3階／15階建', '3階／9階建', '1階／5階建', '7階／13階建', '9階／22階建', '9階／18階建',\n",
       "       '2階／8階建', '12階／14階建', '12階／13階建', '2階／7階建', '1階／8階建',\n",
       "       '2階／14階建（地下1階）', '5階／12階建（地下1階）', '3階建', '3階／13階建（地下2階）',\n",
       "       '9階／10階建', '4階／6階建', '4階／13階建', '9階／13階建', '2階／12階建',\n",
       "       '1階／3階建（地下1階）', '2階／11階建', '3階／14階建', '6階／15階建（地下1階）', '6階／14階建',\n",
       "       '4階／12階建', '3階／8階建', '5階／5階建', '14階／15階建', '10階／32階建（地下2階）',\n",
       "       '5階／6階建', '5階／16階建', '11階／12階建', '6階／9階建', '30階／58階建（地下2階）',\n",
       "       '7階／7階建', '30階／38階建（地下2階）', '19階／58階建（地下2階）', '15階／15階建',\n",
       "       '5階／14階建', '9階／11階建', '3階／12階建'], dtype=object)"
      ]
     },
     "execution_count": 179,
     "metadata": {},
     "output_type": "execute_result"
    }
   ],
   "source": [
    "train[\"所在階\"].unique()[:100]"
   ]
  },
  {
   "cell_type": "code",
   "execution_count": 81,
   "metadata": {},
   "outputs": [],
   "source": [
    "x,y = temp.split(\"／\")"
   ]
  },
  {
   "cell_type": "code",
   "execution_count": 82,
   "metadata": {},
   "outputs": [
    {
     "name": "stdout",
     "output_type": "stream",
     "text": [
      "1階\n",
      "12階建\n"
     ]
    }
   ],
   "source": [
    "print(x)\n",
    "print(y)"
   ]
  },
  {
   "cell_type": "code",
   "execution_count": 89,
   "metadata": {},
   "outputs": [
    {
     "data": {
      "text/plain": [
       "31470"
      ]
     },
     "execution_count": 89,
     "metadata": {},
     "output_type": "execute_result"
    }
   ],
   "source": [
    "train[\"アクセス\"].str.contains(\"徒歩\").count()"
   ]
  },
  {
   "cell_type": "code",
   "execution_count": 103,
   "metadata": {},
   "outputs": [
    {
     "name": "stdout",
     "output_type": "stream",
     "text": [
      "都営三田線\t西巣鴨駅\t徒歩4分\t\t埼京線\t板橋駅\t徒歩14分\t\t都電荒川線\t西ケ原四丁目駅\t徒歩7分\n",
      "<re.Match object; span=(0, 37), match='都営三田線\\t西巣鴨駅\\t徒歩4分\\t\\t埼京線\\t板橋駅\\t徒歩14分\\t\\t都電荒川線'>\n",
      "<re.Match object; span=(11, 50), match='徒歩4分\\t\\t埼京線\\t板橋駅\\t徒歩14分\\t\\t都電荒川線\\t西ケ原四丁目駅\\t徒歩7分'>\n"
     ]
    }
   ],
   "source": [
    "p1 = \".+線.+駅.+分\"\n",
    "p2 = \".+線\"\n",
    "p3 = \"線.+駅\"\n",
    "p4 = \"徒歩.+分\"\n",
    "txt = train[\"アクセス\"][0]\n",
    "\n",
    "base = re.match(p1,txt)[0]\n",
    "print(base)\n",
    "print(re.match(p2,base))\n",
    "print(re.search(p4,base))"
   ]
  },
  {
   "cell_type": "code",
   "execution_count": 104,
   "metadata": {},
   "outputs": [
    {
     "name": "stdout",
     "output_type": "stream",
     "text": [
      "['京急本線', '梅屋敷(東京都)駅', '徒歩5分', '京急空港線', '京急蒲田駅', '徒歩13分', '京浜東北線', '蒲田駅', '徒歩19分']\n"
     ]
    }
   ],
   "source": [
    "print(train[\"アクセス\"][345].split())"
   ]
  },
  {
   "cell_type": "code",
   "execution_count": 88,
   "metadata": {},
   "outputs": [
    {
     "data": {
      "text/plain": [
       "'北'"
      ]
     },
     "execution_count": 88,
     "metadata": {},
     "output_type": "execute_result"
    }
   ],
   "source": [
    "m[0][3:-1]"
   ]
  },
  {
   "cell_type": "code",
   "execution_count": 95,
   "metadata": {},
   "outputs": [
    {
     "data": {
      "text/html": [
       "<div>\n",
       "<style scoped>\n",
       "    .dataframe tbody tr th:only-of-type {\n",
       "        vertical-align: middle;\n",
       "    }\n",
       "\n",
       "    .dataframe tbody tr th {\n",
       "        vertical-align: top;\n",
       "    }\n",
       "\n",
       "    .dataframe thead th {\n",
       "        text-align: right;\n",
       "    }\n",
       "</style>\n",
       "<table border=\"1\" class=\"dataframe\">\n",
       "  <thead>\n",
       "    <tr style=\"text-align: right;\">\n",
       "      <th></th>\n",
       "      <th>id</th>\n",
       "      <th>賃料</th>\n",
       "      <th>所在地</th>\n",
       "      <th>アクセス</th>\n",
       "      <th>間取り</th>\n",
       "      <th>築年数</th>\n",
       "      <th>面積</th>\n",
       "      <th>所在階</th>\n",
       "      <th>バス・トイレ</th>\n",
       "      <th>キッチン</th>\n",
       "      <th>放送・通信</th>\n",
       "      <th>室内設備</th>\n",
       "      <th>駐車場</th>\n",
       "      <th>周辺環境</th>\n",
       "      <th>建物構造</th>\n",
       "      <th>契約期間</th>\n",
       "    </tr>\n",
       "    <tr>\n",
       "      <th>方角</th>\n",
       "      <th></th>\n",
       "      <th></th>\n",
       "      <th></th>\n",
       "      <th></th>\n",
       "      <th></th>\n",
       "      <th></th>\n",
       "      <th></th>\n",
       "      <th></th>\n",
       "      <th></th>\n",
       "      <th></th>\n",
       "      <th></th>\n",
       "      <th></th>\n",
       "      <th></th>\n",
       "      <th></th>\n",
       "      <th></th>\n",
       "      <th></th>\n",
       "    </tr>\n",
       "  </thead>\n",
       "  <tbody>\n",
       "    <tr>\n",
       "      <th>北</th>\n",
       "      <td>1966</td>\n",
       "      <td>1966</td>\n",
       "      <td>1966</td>\n",
       "      <td>1966</td>\n",
       "      <td>1966</td>\n",
       "      <td>1966</td>\n",
       "      <td>1966</td>\n",
       "      <td>1966</td>\n",
       "      <td>1952</td>\n",
       "      <td>1930</td>\n",
       "      <td>1803</td>\n",
       "      <td>1961</td>\n",
       "      <td>1682</td>\n",
       "      <td>1393</td>\n",
       "      <td>1966</td>\n",
       "      <td>1548</td>\n",
       "    </tr>\n",
       "    <tr>\n",
       "      <th>北東</th>\n",
       "      <td>1321</td>\n",
       "      <td>1321</td>\n",
       "      <td>1321</td>\n",
       "      <td>1321</td>\n",
       "      <td>1321</td>\n",
       "      <td>1321</td>\n",
       "      <td>1321</td>\n",
       "      <td>1321</td>\n",
       "      <td>1310</td>\n",
       "      <td>1309</td>\n",
       "      <td>1223</td>\n",
       "      <td>1321</td>\n",
       "      <td>1118</td>\n",
       "      <td>980</td>\n",
       "      <td>1321</td>\n",
       "      <td>1031</td>\n",
       "    </tr>\n",
       "    <tr>\n",
       "      <th>北西</th>\n",
       "      <td>1326</td>\n",
       "      <td>1326</td>\n",
       "      <td>1326</td>\n",
       "      <td>1326</td>\n",
       "      <td>1326</td>\n",
       "      <td>1326</td>\n",
       "      <td>1326</td>\n",
       "      <td>1326</td>\n",
       "      <td>1323</td>\n",
       "      <td>1317</td>\n",
       "      <td>1228</td>\n",
       "      <td>1325</td>\n",
       "      <td>1122</td>\n",
       "      <td>917</td>\n",
       "      <td>1326</td>\n",
       "      <td>1041</td>\n",
       "    </tr>\n",
       "    <tr>\n",
       "      <th>南</th>\n",
       "      <td>8909</td>\n",
       "      <td>8909</td>\n",
       "      <td>8909</td>\n",
       "      <td>8909</td>\n",
       "      <td>8909</td>\n",
       "      <td>8909</td>\n",
       "      <td>8909</td>\n",
       "      <td>8909</td>\n",
       "      <td>8850</td>\n",
       "      <td>8770</td>\n",
       "      <td>7868</td>\n",
       "      <td>8886</td>\n",
       "      <td>7441</td>\n",
       "      <td>6252</td>\n",
       "      <td>8909</td>\n",
       "      <td>6902</td>\n",
       "    </tr>\n",
       "    <tr>\n",
       "      <th>南東</th>\n",
       "      <td>3098</td>\n",
       "      <td>3098</td>\n",
       "      <td>3098</td>\n",
       "      <td>3098</td>\n",
       "      <td>3098</td>\n",
       "      <td>3098</td>\n",
       "      <td>3098</td>\n",
       "      <td>3098</td>\n",
       "      <td>3070</td>\n",
       "      <td>3043</td>\n",
       "      <td>2766</td>\n",
       "      <td>3091</td>\n",
       "      <td>2628</td>\n",
       "      <td>2124</td>\n",
       "      <td>3098</td>\n",
       "      <td>2435</td>\n",
       "    </tr>\n",
       "    <tr>\n",
       "      <th>南西</th>\n",
       "      <td>3080</td>\n",
       "      <td>3080</td>\n",
       "      <td>3080</td>\n",
       "      <td>3080</td>\n",
       "      <td>3080</td>\n",
       "      <td>3080</td>\n",
       "      <td>3080</td>\n",
       "      <td>3080</td>\n",
       "      <td>3058</td>\n",
       "      <td>3022</td>\n",
       "      <td>2768</td>\n",
       "      <td>3075</td>\n",
       "      <td>2585</td>\n",
       "      <td>2191</td>\n",
       "      <td>3080</td>\n",
       "      <td>2407</td>\n",
       "    </tr>\n",
       "    <tr>\n",
       "      <th>東</th>\n",
       "      <td>4995</td>\n",
       "      <td>4995</td>\n",
       "      <td>4995</td>\n",
       "      <td>4995</td>\n",
       "      <td>4995</td>\n",
       "      <td>4995</td>\n",
       "      <td>4995</td>\n",
       "      <td>4995</td>\n",
       "      <td>4953</td>\n",
       "      <td>4927</td>\n",
       "      <td>4531</td>\n",
       "      <td>4989</td>\n",
       "      <td>4247</td>\n",
       "      <td>3608</td>\n",
       "      <td>4995</td>\n",
       "      <td>3952</td>\n",
       "    </tr>\n",
       "    <tr>\n",
       "      <th>西</th>\n",
       "      <td>4026</td>\n",
       "      <td>4026</td>\n",
       "      <td>4026</td>\n",
       "      <td>4026</td>\n",
       "      <td>4026</td>\n",
       "      <td>4026</td>\n",
       "      <td>4026</td>\n",
       "      <td>4026</td>\n",
       "      <td>3983</td>\n",
       "      <td>3967</td>\n",
       "      <td>3660</td>\n",
       "      <td>4019</td>\n",
       "      <td>3405</td>\n",
       "      <td>2853</td>\n",
       "      <td>4026</td>\n",
       "      <td>3169</td>\n",
       "    </tr>\n",
       "  </tbody>\n",
       "</table>\n",
       "</div>"
      ],
      "text/plain": [
       "      id    賃料   所在地  アクセス   間取り   築年数    面積   所在階  バス・トイレ  キッチン  放送・通信  室内設備  \\\n",
       "方角                                                                              \n",
       "北   1966  1966  1966  1966  1966  1966  1966  1966    1952  1930   1803  1961   \n",
       "北東  1321  1321  1321  1321  1321  1321  1321  1321    1310  1309   1223  1321   \n",
       "北西  1326  1326  1326  1326  1326  1326  1326  1326    1323  1317   1228  1325   \n",
       "南   8909  8909  8909  8909  8909  8909  8909  8909    8850  8770   7868  8886   \n",
       "南東  3098  3098  3098  3098  3098  3098  3098  3098    3070  3043   2766  3091   \n",
       "南西  3080  3080  3080  3080  3080  3080  3080  3080    3058  3022   2768  3075   \n",
       "東   4995  4995  4995  4995  4995  4995  4995  4995    4953  4927   4531  4989   \n",
       "西   4026  4026  4026  4026  4026  4026  4026  4026    3983  3967   3660  4019   \n",
       "\n",
       "     駐車場  周辺環境  建物構造  契約期間  \n",
       "方角                          \n",
       "北   1682  1393  1966  1548  \n",
       "北東  1118   980  1321  1031  \n",
       "北西  1122   917  1326  1041  \n",
       "南   7441  6252  8909  6902  \n",
       "南東  2628  2124  3098  2435  \n",
       "南西  2585  2191  3080  2407  \n",
       "東   4247  3608  4995  3952  \n",
       "西   3405  2853  4026  3169  "
      ]
     },
     "execution_count": 95,
     "metadata": {},
     "output_type": "execute_result"
    }
   ],
   "source": [
    "train.groupby(\"方角\").count()"
   ]
  },
  {
   "cell_type": "code",
   "execution_count": 113,
   "metadata": {},
   "outputs": [
    {
     "name": "stdout",
     "output_type": "stream",
     "text": [
      "{'専用バス': 23782, '専用トイレ': 23465, 'バス・トイレ別': 26458, 'シャワー': 28242, '浴室乾燥機': 16337, '': 15533, '温水洗浄便座': 17545, '洗面台独立': 20237, '脱衣所': 12361, '追焚機能': 11989, '共同トイレ': 86, 'バスなし': 141, '共同バス': 34}\n"
     ]
    }
   ],
   "source": [
    "d = {}\n",
    "\n",
    "for i in range(31470):\n",
    "    if train[\"バス・トイレ\"][i] != train[\"バス・トイレ\"][i]:\n",
    "        continue\n",
    "    for key in train[\"バス・トイレ\"][i].split():\n",
    "        pat = \"／\"\n",
    "        if re.sub(pat,\"\",key) not in d:\n",
    "            d[re.sub(pat,\"\",key)] = 1\n",
    "        else:\n",
    "            d[re.sub(pat,\"\",key)] += 1\n",
    "print(d)"
   ]
  },
  {
   "cell_type": "code",
   "execution_count": 150,
   "metadata": {},
   "outputs": [
    {
     "name": "stdout",
     "output_type": "stream",
     "text": [
      "{'ガスコンロ': 20369, 'コンロ2口': 14947, 'システムキッチン': 20534, '': 26364, '給湯': 26368, '独立キッチン': 3907, 'コンロ3口': 5393, 'IHコンロ': 4431, 'コンロ1口': 3057, '冷蔵庫あり': 677, 'コンロ設置可': 2102, 'カウンターキッチン': 3724, 'L字キッチン': 309, '電気コンロ': 525, 'コンロ4口以上': 50}\n"
     ]
    }
   ],
   "source": [
    "d = {}\n",
    "\n",
    "for i in range(31470):\n",
    "    if train[\"キッチン\"][i] != train[\"キッチン\"][i]:\n",
    "        continue\n",
    "    for key in train[\"キッチン\"][i].split():\n",
    "        pat = \"／\"\n",
    "        tmp = re.sub(pat,\"\",key)\n",
    "        if re.match(r\"コンロ設置可.*\",tmp):\n",
    "            tmp = \"コンロ設置可\"\n",
    "        if tmp not in d:\n",
    "            d[tmp] = 1\n",
    "        else:\n",
    "            d[tmp] += 1\n",
    "print(d)"
   ]
  },
  {
   "cell_type": "code",
   "execution_count": 152,
   "metadata": {},
   "outputs": [
    {
     "name": "stdout",
     "output_type": "stream",
     "text": [
      "{'ガスコンロ': 0, 'コンロ2口': 1, 'システムキッチン': 2, '給湯': 3, '独立キッチン': 4, 'コンロ3口': 5, 'IHコンロ': 6, 'コンロ1口': 7, '冷蔵庫あり': 8, 'コンロ設置可': 9, 'カウンターキッチン': 10, 'L字キッチン': 11, '電気コンロ': 12, 'コンロ4口以上': 13}\n"
     ]
    }
   ],
   "source": [
    "l = {}\n",
    "ind = 0\n",
    "for key in d.keys():\n",
    "    if key != \"\": \n",
    "        l[key] = ind\n",
    "        ind += 1\n",
    "print(l)"
   ]
  },
  {
   "cell_type": "code",
   "execution_count": 138,
   "metadata": {},
   "outputs": [
    {
     "name": "stdout",
     "output_type": "stream",
     "text": [
      "コンロ設置可\n"
     ]
    }
   ],
   "source": [
    "key = \"コンロ設置可（コンロ3口）\"\n",
    "pat = \"／\"\n",
    "tmp = re.sub(pat,\"\",key)\n",
    "# tmp = re.search(r\"\\（.+\\）\",tmp)\n",
    "# print(tmp)\n",
    "# print(tmp[0])\n",
    "tmp = re.sub(r\"\\（.+\\）\",\"\",tmp)\n",
    "print(tmp)"
   ]
  },
  {
   "cell_type": "code",
   "execution_count": 153,
   "metadata": {},
   "outputs": [
    {
     "name": "stdout",
     "output_type": "stream",
     "text": [
      "{'エアコン付': 29746, 'シューズボックス': 22947, 'バルコニー': 25112, 'フローリング': 27274, '室内洗濯機置場': 27389, '敷地内ごみ置き場': 16746, '': 24588, 'エレベーター': 16148, '公営水道': 23242, '下水': 23415, '都市ガス': 25533, 'タイル張り': 13677, 'ウォークインクローゼット': 3848, '2面採光': 6636, '24時間換気システム': 10704, '3面採光': 1046, 'ペアガラス': 597, '専用庭': 215, '水道その他': 1685, '冷房': 5179, 'クッションフロア': 394, '床暖房': 1635, 'プロパンガス': 1010, 'ロフト付き': 1241, '出窓': 1314, 'トランクルーム': 504, '汲み取り': 5, 'オール電化': 549, 'ルーフバルコニー': 316, '室外洗濯機置場': 1695, '床下収納': 587, 'バリアフリー': 157, '浄化槽': 10, '防音室': 61, '二重サッシ': 87, '二世帯住宅': 3, 'ガスその他': 16, '洗濯機置場なし': 69, '排水その他': 9, '石油暖房': 1, '地下室': 7, 'ガス暖房': 2, '井戸': 1}\n"
     ]
    }
   ],
   "source": [
    "d = {}\n",
    "\n",
    "for i in range(31470):\n",
    "    if train[\"室内設備\"][i] != train[\"室内設備\"][i]:\n",
    "        continue\n",
    "    for key in train[\"室内設備\"][i].split():\n",
    "        pat = \"／\"\n",
    "        if re.sub(pat,\"\",key) not in d:\n",
    "            d[re.sub(pat,\"\",key)] = 1\n",
    "        else:\n",
    "            d[re.sub(pat,\"\",key)] += 1\n",
    "print(d)"
   ]
  },
  {
   "cell_type": "code",
   "execution_count": 154,
   "metadata": {},
   "outputs": [
    {
     "name": "stdout",
     "output_type": "stream",
     "text": [
      "{'エアコン付': 0, 'シューズボックス': 1, 'バルコニー': 2, 'フローリング': 3, '室内洗濯機置場': 4, '敷地内ごみ置き場': 5, 'エレベーター': 6, '公営水道': 7, '下水': 8, '都市ガス': 9, 'タイル張り': 10, 'ウォークインクローゼット': 11, '2面採光': 12, '24時間換気システム': 13, '3面採光': 14, 'ペアガラス': 15, '専用庭': 16, '水道その他': 17, '冷房': 18, 'クッションフロア': 19, '床暖房': 20, 'プロパンガス': 21, 'ロフト付き': 22, '出窓': 23, 'トランクルーム': 24, 'オール電化': 25, 'ルーフバルコニー': 26, '室外洗濯機置場': 27, '床下収納': 28, 'バリアフリー': 29, '防音室': 30, '二重サッシ': 31, '洗濯機置場なし': 32}\n"
     ]
    }
   ],
   "source": [
    "l = {}\n",
    "ind = 0\n",
    "for key in d.keys():\n",
    "    if d[key] > 50 and key != \"\":\n",
    "        l[key] = ind\n",
    "        ind += 1\n",
    "print(l)"
   ]
  },
  {
   "cell_type": "code",
   "execution_count": 155,
   "metadata": {},
   "outputs": [
    {
     "name": "stdout",
     "output_type": "stream",
     "text": [
      "{'インターネット対応': 17193, 'CATV': 13083, 'CSアンテナ': 9291, 'BSアンテナ': 13453, '光ファイバー': 16306, '高速インターネット': 2498, 'インターネット使用料無料': 5404, '有線放送': 72}\n"
     ]
    }
   ],
   "source": [
    "d = {}\n",
    "\n",
    "for i in range(31470):\n",
    "    if train[\"放送・通信\"][i] != train[\"放送・通信\"][i]:\n",
    "        continue\n",
    "    for key in train[\"放送・通信\"][i].split():\n",
    "        pat = \"／\"\n",
    "        if re.sub(pat,\"\",key) not in d:\n",
    "            d[re.sub(pat,\"\",key)] = 1\n",
    "        else:\n",
    "            d[re.sub(pat,\"\",key)] += 1\n",
    "print(d)"
   ]
  },
  {
   "cell_type": "code",
   "execution_count": 156,
   "metadata": {},
   "outputs": [
    {
     "name": "stdout",
     "output_type": "stream",
     "text": [
      "{'インターネット対応': 0, 'CATV': 1, 'CSアンテナ': 2, 'BSアンテナ': 3, '光ファイバー': 4, '高速インターネット': 5, 'インターネット使用料無料': 6, '有線放送': 7}\n"
     ]
    }
   ],
   "source": [
    "l = {}\n",
    "ind = 0\n",
    "for key in d.keys():\n",
    "    if d[key] > 50 and key != \"\":\n",
    "        l[key] = ind\n",
    "        ind += 1\n",
    "print(l)"
   ]
  },
  {
   "cell_type": "code",
   "execution_count": 167,
   "metadata": {},
   "outputs": [
    {
     "name": "stdout",
     "output_type": "stream",
     "text": [
      "['駐輪場\\\\t空有', '駐車場\\\\t空有', 'バイク置き場\\\\t空有']\n",
      "['駐輪場\\\\t[(無)|(近隣)|(空無)]', '駐車場\\\\t[(無)|(近隣)|(空無)]', 'バイク置き場\\\\t[(無)|(近隣)|(空無)]']\n",
      "{'駐輪場\\t空有': 16490, '駐輪場\\t空': 16505, '駐車場\\t無': 8597, 'バイク置き場\\t無': 12642, '駐車場\\t近': 6627, 'バイク置き場\\t空有': 5096, 'バイク置き場\\t空': 5143, '駐輪場\\t無': 4513, '駐車場\\t空有': 5738, '駐車場\\t空': 6193, 'バイク置き場\\t近': 173, '駐輪場\\t近': 2}\n"
     ]
    }
   ],
   "source": [
    "d = {\"無\":0,\"有\":0}\n",
    "place = [r\"駐輪場\\t\",r\"駐車場\\t\",r\"バイク置き場\\t\"]\n",
    "available = [r\"空有\",r\"[(無)|(近隣)|(空無)]\"]\n",
    "all_pat = []\n",
    "\n",
    "for p in place:\n",
    "    for a in available:\n",
    "        all_pat.append(p+a)\n",
    "exist = all_pat[::2]\n",
    "dont = all_pat[1::2]\n",
    "print(exist)\n",
    "print(dont)\n",
    "\n",
    "\n",
    "for i in range(31470):\n",
    "    if train[\"駐車場\"][i] != train[\"駐車場\"][i]:\n",
    "        continue\n",
    "    for pat in exist:\n",
    "        if re.search(pat,train[\"駐車場\"][i]):\n",
    "            d[\"有\"]　+= 1\n",
    "        else:\n",
    "            d[\"無\"]　+= 1\n",
    "print(d)"
   ]
  },
  {
   "cell_type": "code",
   "execution_count": 173,
   "metadata": {},
   "outputs": [
    {
     "name": "stdout",
     "output_type": "stream",
     "text": [
      "[16490, 5738, 5096, 9693, 20445, 21087]\n"
     ]
    }
   ],
   "source": [
    "d = [0 for i in range(6)]\n",
    "exist = [r\"駐輪場\\t空有\",r\"駐車場\\t空有\",r\"バイク置き場\\t空有\"]\n",
    "# available = [r\"空有\",r\"[(無)|(近隣)|(空無)]\"]\n",
    "# all_pat = []\n",
    "\n",
    "# for p in place:\n",
    "#     for a in available:\n",
    "#         all_pat.append(p+a)\n",
    "# exist = all_pat[::2]\n",
    "# dont = all_pat[1::2]\n",
    "# print(exist)\n",
    "# print(dont)\n",
    "\n",
    "\n",
    "for i in range(31470):\n",
    "    if train[\"駐車場\"][i] != train[\"駐車場\"][i]:\n",
    "        continue\n",
    "    for j in range(len(exist)):\n",
    "        if re.search(exist[j],train[\"駐車場\"][i]):\n",
    "            d[j] += 1\n",
    "        else:\n",
    "            d[j+3] += 1\n",
    "print(d)"
   ]
  },
  {
   "cell_type": "code",
   "execution_count": 174,
   "metadata": {},
   "outputs": [
    {
     "name": "stdout",
     "output_type": "stream",
     "text": [
      "{'【小学校】': 2655, '【大学】': 2052, '【公園】': 3807, '【飲食店】': 6929, '【スーパー】': 40666, '【コンビニ】': 34944, '【ドラッグストア】': 5594, '【郵便局】': 3478, '【病院】': 3804, '【図書館】': 1299, '【銀行】': 1267, '【学校】': 1551, '【幼稚園・保育園】': 1824, '【総合病院】': 1890, '【デパート】': 691, '【レンタルビデオ】': 502, '【クリーニング】': 146, '【コインパーキング】': 22, '【月極駐車場】': 2}\n"
     ]
    }
   ],
   "source": [
    "d = {}\n",
    "\n",
    "for i in range(31470):\n",
    "    if train[\"周辺環境\"][i] != train[\"周辺環境\"][i]:\n",
    "        continue\n",
    "    for key in train[\"周辺環境\"][i].split():\n",
    "        pat = \"／\"\n",
    "        p2 = \"【.*】\"\n",
    "        if re.match(p2,key):\n",
    "            if re.sub(pat,\"\",key) not in d:\n",
    "                d[re.sub(pat,\"\",key)] = 1\n",
    "            else:\n",
    "                d[re.sub(pat,\"\",key)] += 1\n",
    "print(d)"
   ]
  },
  {
   "cell_type": "code",
   "execution_count": 176,
   "metadata": {},
   "outputs": [
    {
     "name": "stdout",
     "output_type": "stream",
     "text": [
      "{'【小学校】': 0, '【大学】': 1, '【公園】': 2, '【飲食店】': 3, '【スーパー】': 4, '【コンビニ】': 5, '【ドラッグストア】': 6, '【郵便局】': 7, '【病院】': 8, '【図書館】': 9, '【銀行】': 10, '【学校】': 11, '【幼稚園・保育園】': 12, '【総合病院】': 13, '【デパート】': 14, '【レンタルビデオ】': 15, '【クリーニング】': 16}\n"
     ]
    }
   ],
   "source": [
    "l = {}\n",
    "ind = 0\n",
    "for key in d.keys():\n",
    "    if d[key] > 50 and key != \"\":\n",
    "        l[key] = ind\n",
    "        ind += 1\n",
    "print(l)"
   ]
  },
  {
   "cell_type": "code",
   "execution_count": 238,
   "metadata": {},
   "outputs": [
    {
     "name": "stdout",
     "output_type": "stream",
     "text": [
      "226000.0\n",
      "id        1901\n",
      "賃料        1901\n",
      "所在地       1901\n",
      "アクセス      1901\n",
      "間取り       1901\n",
      "築年数       1901\n",
      "方角        1840\n",
      "面積        1901\n",
      "所在階       1901\n",
      "バス・トイレ    1895\n",
      "キッチン      1892\n",
      "放送・通信     1749\n",
      "室内設備      1897\n",
      "駐車場       1734\n",
      "周辺環境      1418\n",
      "建物構造      1901\n",
      "契約期間      1522\n",
      "dtype: int64\n"
     ]
    }
   ],
   "source": [
    "Q1 = train[\"賃料\"].quantile(.25)\n",
    "Q3 = train[\"賃料\"].quantile(.75)\n",
    "IQR = Q3 - Q1\n",
    "threshold = Q3 + 1.5 * IQR\n",
    "print(threshold)\n",
    "print(train.query(\"賃料>226000\").count())"
   ]
  },
  {
   "cell_type": "code",
   "execution_count": 241,
   "metadata": {},
   "outputs": [
    {
     "data": {
      "text/plain": [
       "<matplotlib.axes._subplots.AxesSubplot at 0x13d7dcd10>"
      ]
     },
     "execution_count": 241,
     "metadata": {},
     "output_type": "execute_result"
    },
    {
     "data": {
      "image/png": "[encoded data removed]",
      "text/plain": [
       "<Figure size 432x288 with 1 Axes>"
      ]
     },
     "metadata": {
      "needs_background": "light"
     },
     "output_type": "display_data"
    }
   ],
   "source": [
    "train[\"賃料\"].hist(bins=40,range=(0,200000))"
   ]
  },
  {
   "cell_type": "code",
   "execution_count": 236,
   "metadata": {},
   "outputs": [
    {
     "data": {
      "text/plain": [
       "<matplotlib.axes._subplots.AxesSubplot at 0x13d338410>"
      ]
     },
     "execution_count": 236,
     "metadata": {},
     "output_type": "execute_result"
    },
    {
     "data": {
      "image/png": "[encoded data removed]",
      "text/plain": [
       "<Figure size 432x288 with 1 Axes>"
      ]
     },
     "metadata": {
      "needs_background": "light"
     },
     "output_type": "display_data"
    }
   ],
   "source": [
    "train[\"賃料\"].hist(bins=40,range=(226000,2500000))"
   ]
  },
  {
   "cell_type": "code",
   "execution_count": 224,
   "metadata": {},
   "outputs": [
    {
     "data": {
      "text/plain": [
       "<matplotlib.axes._subplots.AxesSubplot at 0x13b9802d0>"
      ]
     },
     "execution_count": 224,
     "metadata": {},
     "output_type": "execute_result"
    },
    {
     "data": {
      "image/png": "[encoded data removed]",
      "text/plain": [
       "<Figure size 432x288 with 1 Axes>"
      ]
     },
     "metadata": {
      "needs_background": "light"
     },
     "output_type": "display_data"
    }
   ],
   "source": [
    "train[\"賃料\"].plot.box()"
   ]
  },
  {
   "cell_type": "code",
   "execution_count": 201,
   "metadata": {},
   "outputs": [
    {
     "data": {
      "text/plain": [
       "(array([1.000e+01, 1.900e+01, 3.500e+01, 6.500e+01, 2.170e+02, 5.040e+02,\n",
       "        1.133e+03, 1.668e+03, 2.538e+03, 2.615e+03, 2.967e+03, 3.324e+03,\n",
       "        3.549e+03, 3.088e+03, 2.571e+03, 1.675e+03, 1.473e+03, 1.193e+03,\n",
       "        8.550e+02, 5.650e+02, 5.780e+02, 2.790e+02, 1.860e+02, 1.050e+02,\n",
       "        7.700e+01, 4.800e+01, 4.200e+01, 1.900e+01, 2.600e+01, 1.300e+01,\n",
       "        7.000e+00, 1.000e+01, 3.000e+00, 5.000e+00, 4.000e+00, 1.000e+00,\n",
       "        1.000e+00, 1.000e+00, 0.000e+00, 1.000e+00]),\n",
       " array([10.1266311 , 10.24176036, 10.35688961, 10.47201887, 10.58714812,\n",
       "        10.70227738, 10.81740663, 10.93253589, 11.04766514, 11.1627944 ,\n",
       "        11.27792365, 11.3930529 , 11.50818216, 11.62331141, 11.73844067,\n",
       "        11.85356992, 11.96869918, 12.08382843, 12.19895769, 12.31408694,\n",
       "        12.4292162 , 12.54434545, 12.65947471, 12.77460396, 12.88973322,\n",
       "        13.00486247, 13.11999172, 13.23512098, 13.35025023, 13.46537949,\n",
       "        13.58050874, 13.695638  , 13.81076725, 13.92589651, 14.04102576,\n",
       "        14.15615502, 14.27128427, 14.38641353, 14.50154278, 14.61667204,\n",
       "        14.73180129]),\n",
       " <a list of 40 Patch objects>)"
      ]
     },
     "execution_count": 201,
     "metadata": {},
     "output_type": "execute_result"
    },
    {
     "data": {
      "image/png": "[encoded data removed]",
      "text/plain": [
       "<Figure size 432x288 with 1 Axes>"
      ]
     },
     "metadata": {
      "needs_background": "light"
     },
     "output_type": "display_data"
    }
   ],
   "source": [
    "temp = train[\"賃料\"].values\n",
    "temp = np.log(temp)\n",
    "fig = plt.figure()\n",
    "ax = fig.add_subplot(1,1,1)\n",
    "ax.hist(temp,bins = 40)"
   ]
  },
  {
   "cell_type": "code",
   "execution_count": 207,
   "metadata": {},
   "outputs": [
    {
     "data": {
      "text/plain": [
       "<matplotlib.collections.PathCollection at 0x136842710>"
      ]
     },
     "execution_count": 207,
     "metadata": {},
     "output_type": "execute_result"
    },
    {
     "data": {
      "image/png": "[encoded data removed]",
      "text/plain": [
       "<Figure size 432x288 with 1 Axes>"
      ]
     },
     "metadata": {
      "needs_background": "light"
     },
     "output_type": "display_data"
    }
   ],
   "source": [
    "\n",
    "class parse_area_size:\n",
    "    def __init__(self):\n",
    "        pass\n",
    "    def fit(self,x,y):\n",
    "        return self\n",
    "    def transform(self,x):\n",
    "        hoge = x.copy()\n",
    "        temp = x[\"面積\"].values\n",
    "        ans = [0 for i in range(len(temp))]\n",
    "        for i in range(len(temp)):\n",
    "            ans[i] = float(re.search(r\"[0-9\\.]+\",temp[i])[0])\n",
    "        hoge = hoge.drop(\"面積\",axis = 1)\n",
    "        hoge = hoge.assign(areasize=ans)\n",
    "        return hoge\n",
    "fig = plt.figure()\n",
    "ax = fig.add_subplot(1,1,1)\n",
    "test = parse_area_size()\n",
    "hoge = test.transform(train)\n",
    "ax.scatter(hoge[\"areasize\"],hoge[\"賃料\"])"
   ]
  },
  {
   "cell_type": "code",
   "execution_count": 208,
   "metadata": {},
   "outputs": [
    {
     "data": {
      "text/plain": [
       "<matplotlib.collections.PathCollection at 0x136b879d0>"
      ]
     },
     "execution_count": 208,
     "metadata": {},
     "output_type": "execute_result"
    },
    {
     "data": {
      "image/png": "[encoded data removed]",
      "text/plain": [
       "<Figure size 432x288 with 1 Axes>"
      ]
     },
     "metadata": {
      "needs_background": "light"
     },
     "output_type": "display_data"
    }
   ],
   "source": [
    "class parse_how_old:\n",
    "    def __init__(self):\n",
    "        self.year_pat = re.compile(r\"[0-9]+年\")\n",
    "        self.month_pat = re.compile(r\"[0-9]+ヶ月\")\n",
    "    def fit(self,x,y):\n",
    "        return self\n",
    "    def transform(self,x):\n",
    "        hoge = x.copy()\n",
    "        temp = x[\"築年数\"].values\n",
    "        add_year = [0 for i in range(len(temp))]\n",
    "        add_month = [0 for i in range(len(temp))]\n",
    "        for i in range(len(temp)):\n",
    "            year = self.year_pat.search(temp[i])\n",
    "            month = self.month_pat.search(temp[i])\n",
    "            if year:\n",
    "                year = year[0][:-1]\n",
    "            else:\n",
    "                year = 0\n",
    "            if month:\n",
    "                month = month[0][:-2]\n",
    "            else:\n",
    "                month = 0\n",
    "            add_year[i] = int(year)\n",
    "            add_month[i] = int(month)\n",
    "        hoge = hoge.drop([\"築年数\"],axis = 1)\n",
    "        hoge  = hoge.assign(year=add_year)\n",
    "        hoge = hoge.assign(month= add_month)\n",
    "        return hoge\n",
    "fig = plt.figure()\n",
    "ax = fig.add_subplot(1,1,1)\n",
    "test = parse_how_old()\n",
    "hoge = test.transform(train)\n",
    "ax.scatter(hoge[\"year\"],hoge[\"賃料\"])"
   ]
  },
  {
   "cell_type": "code",
   "execution_count": 212,
   "metadata": {},
   "outputs": [
    {
     "data": {
      "text/plain": [
       "<matplotlib.collections.PathCollection at 0x13526d6d0>"
      ]
     },
     "execution_count": 212,
     "metadata": {},
     "output_type": "execute_result"
    },
    {
     "data": {
      "image/png": "[encoded data removed]",
      "text/plain": [
       "<Figure size 432x288 with 1 Axes>"
      ]
     },
     "metadata": {
      "needs_background": "light"
     },
     "output_type": "display_data"
    }
   ],
   "source": [
    "fig = plt.figure()\n",
    "ax = fig.add_subplot(1,1,1)\n",
    "test = parse_how_old()\n",
    "hoge = test.transform(train)\n",
    "ax.scatter(hoge[\"month\"],hoge[\"賃料\"])"
   ]
  },
  {
   "cell_type": "code",
   "execution_count": 214,
   "metadata": {},
   "outputs": [
    {
     "data": {
      "text/plain": [
       "<matplotlib.collections.PathCollection at 0x13a5d6e10>"
      ]
     },
     "execution_count": 214,
     "metadata": {},
     "output_type": "execute_result"
    },
    {
     "data": {
      "image/png": "[encoded data removed]",
      "text/plain": [
       "<Figure size 432x288 with 1 Axes>"
      ]
     },
     "metadata": {
      "needs_background": "light"
     },
     "output_type": "display_data"
    }
   ],
   "source": [
    "class parse_contract_time:\n",
    "    def __init__(self):\n",
    "        self.teiki_pat = re.compile(r\".*\\t.*\")\n",
    "        self.year_pat = re.compile(r\"[0-9]+年間\")\n",
    "        self.month_pat = re.compile(r\"[0-9]+ヶ月間\")\n",
    "        self.due_year_pat = re.compile(r\"[0-9]+年\")\n",
    "        self.due_month_pat = re.compile(r\"[0-9]+月まで\")\n",
    "        self.double_pat = re.compile(r\"[0-9]+年[0-9]+ヶ月間\")\n",
    "    def fit(self,x,y):\n",
    "        return self\n",
    "    def transform(self,x):\n",
    "        hoge = x.copy()\n",
    "        temp = x[\"契約期間\"].values\n",
    "        isteiki = [0 for i in range(len(temp))]\n",
    "        add_year = [0 for i in range(len(temp))]\n",
    "        add_month = [0 for i in range(len(temp))]\n",
    "        for i in range(len(temp)):\n",
    "            if not temp[i] == temp[i]:\n",
    "                add_year[i] = 2\n",
    "                add_month[i] = 0   \n",
    "                continue\n",
    "            if self.teiki_pat.match(temp[i]):\n",
    "                isteiki[i] = 1\n",
    "            if self.double_pat.match(temp[i]):\n",
    "                year = self.due_year_pat.search(temp[i])[0][:-1]\n",
    "                month = self.month_pat.search(temp[i])[0][:-3]\n",
    "                add_year[i] = int(year)\n",
    "                add_month[i] = int(month)\n",
    "            else:\n",
    "                if self.due_month_pat.search(temp[i]):\n",
    "                    year = self.due_year_pat.search(temp[i])[0][:-1]\n",
    "                    month = self.due_month_pat.search(temp[i])[0][:-3]\n",
    "                    year = int(year)-2019\n",
    "                    month = int(month)-9\n",
    "                    if month < 0:\n",
    "                        year -= 1\n",
    "                        month += 12\n",
    "                    add_year[i] = int(year)\n",
    "                    add_month[i] = int(month)\n",
    "                else:\n",
    "                    if self.year_pat.match(temp[i]):\n",
    "                        year = self.year_pat.match(temp[i])[0][:-2]\n",
    "                        month = 0\n",
    "                    else:\n",
    "                        year = 0\n",
    "                        month = self.month_pat.match(temp[i])[0][:-3]\n",
    "                    add_year[i] = int(year)\n",
    "                    add_month[i] = int(month)\n",
    "        hoge = hoge.drop([\"契約期間\"],axis = 1)\n",
    "        hoge = hoge.assign(is_teiki=isteiki)\n",
    "        hoge = hoge.assign(cont_year= add_year)\n",
    "        hoge = hoge.assign(cont_month= add_month)\n",
    "        return hoge\n",
    "\n",
    "fig = plt.figure()\n",
    "ax = fig.add_subplot(1,1,1)\n",
    "test = parse_contract_time()\n",
    "hoge = test.transform(train)\n",
    "ax.scatter(hoge[\"is_teiki\"],hoge[\"賃料\"])"
   ]
  },
  {
   "cell_type": "code",
   "execution_count": 217,
   "metadata": {},
   "outputs": [
    {
     "data": {
      "text/plain": [
       "<matplotlib.collections.PathCollection at 0x13ad4aa10>"
      ]
     },
     "execution_count": 217,
     "metadata": {},
     "output_type": "execute_result"
    },
    {
     "data": {
      "image/png": "[encoded data removed]",
      "text/plain": [
       "<Figure size 432x288 with 1 Axes>"
      ]
     },
     "metadata": {
      "needs_background": "light"
     },
     "output_type": "display_data"
    }
   ],
   "source": [
    "fig = plt.figure()\n",
    "ax = fig.add_subplot(1,1,1)\n",
    "test = parse_contract_time()\n",
    "hoge = test.transform(train)\n",
    "ax.scatter(hoge[\"cont_year\"],hoge[\"賃料\"])"
   ]
  },
  {
   "cell_type": "code",
   "execution_count": 218,
   "metadata": {},
   "outputs": [
    {
     "data": {
      "text/plain": [
       "<matplotlib.collections.PathCollection at 0x13ac0b7d0>"
      ]
     },
     "execution_count": 218,
     "metadata": {},
     "output_type": "execute_result"
    },
    {
     "data": {
      "image/png": "[encoded data removed]",
      "text/plain": [
       "<Figure size 432x288 with 1 Axes>"
      ]
     },
     "metadata": {
      "needs_background": "light"
     },
     "output_type": "display_data"
    }
   ],
   "source": [
    "class parse_rooms:\n",
    "    def __init__(self):\n",
    "        pass\n",
    "    def fit(self,x,y):\n",
    "        return self\n",
    "    def transform(self,x):\n",
    "        hoge = x.copy()\n",
    "        temp = x[\"間取り\"].values\n",
    "        room = [0 for i in range(len(temp))]\n",
    "        head = [\"R\",\"L\",\"D\",\"K\",\"S\"]\n",
    "        setubi = [[0 for i in range(len(temp))] for j in range(5)]\n",
    "        for i in range(len(temp)):\n",
    "            room[i] = int(temp[i][0])\n",
    "            for j in range(5):\n",
    "                if head[j] in temp[i]:\n",
    "                    setubi[j][i] = 1\n",
    "        hoge = hoge.drop(\"間取り\",axis = 1)\n",
    "        hoge = hoge.assign(room = room)\n",
    "        hoge = hoge.assign(R = setubi[0])\n",
    "        hoge = hoge.assign(L = setubi[1])\n",
    "        hoge = hoge.assign(D = setubi[2])\n",
    "        hoge = hoge.assign(K = setubi[3])\n",
    "        hoge = hoge.assign(S = setubi[4])\n",
    "        return hoge\n",
    "fig = plt.figure()\n",
    "ax = fig.add_subplot(1,1,1)\n",
    "test = parse_rooms()\n",
    "hoge = test.transform(train)\n",
    "ax.scatter(hoge[\"room\"],hoge[\"賃料\"])"
   ]
  },
  {
   "cell_type": "code",
   "execution_count": 221,
   "metadata": {},
   "outputs": [
    {
     "data": {
      "image/png": "[encoded data removed]",
      "text/plain": [
       "<Figure size 432x288 with 1 Axes>"
      ]
     },
     "metadata": {
      "needs_background": "light"
     },
     "output_type": "display_data"
    },
    {
     "data": {
      "image/png": "[encoded data removed]",
      "text/plain": [
       "<Figure size 432x288 with 1 Axes>"
      ]
     },
     "metadata": {
      "needs_background": "light"
     },
     "output_type": "display_data"
    },
    {
     "data": {
      "image/png": "[encoded data removed]",
      "text/plain": [
       "<Figure size 432x288 with 1 Axes>"
      ]
     },
     "metadata": {
      "needs_background": "light"
     },
     "output_type": "display_data"
    },
    {
     "data": {
      "image/png": "[encoded data removed]",
      "text/plain": [
       "<Figure size 432x288 with 1 Axes>"
      ]
     },
     "metadata": {
      "needs_background": "light"
     },
     "output_type": "display_data"
    },
    {
     "data": {
      "image/png": "[encoded data removed]",
      "text/plain": [
       "<Figure size 432x288 with 1 Axes>"
      ]
     },
     "metadata": {
      "needs_background": "light"
     },
     "output_type": "display_data"
    }
   ],
   "source": [
    "temp = [\"R\",\"L\",\"D\",\"K\",\"S\"]\n",
    "for t in temp:\n",
    "    fig = plt.figure()\n",
    "    ax = fig.add_subplot(1,1,1)\n",
    "    test = parse_rooms()\n",
    "    hoge = test.transform(train)\n",
    "    ax.scatter(hoge[t],hoge[\"賃料\"])"
   ]
  },
  {
   "cell_type": "code",
   "execution_count": 222,
   "metadata": {},
   "outputs": [
    {
     "data": {
      "text/plain": [
       "<matplotlib.collections.PathCollection at 0x13988ee10>"
      ]
     },
     "execution_count": 222,
     "metadata": {},
     "output_type": "execute_result"
    },
    {
     "data": {
      "image/png": "[encoded data removed]",
      "text/plain": [
       "<Figure size 432x288 with 1 Axes>"
      ]
     },
     "metadata": {
      "needs_background": "light"
     },
     "output_type": "display_data"
    }
   ],
   "source": [
    "class height_encoder:\n",
    "    def __init__ (self):\n",
    "        pass\n",
    "    def fit(self,x,y):\n",
    "        return self\n",
    "    def transform(self,x):\n",
    "        fuga = x.copy()\n",
    "        tmp = x[\"所在階\"].values\n",
    "        where = [0 for i in range(len(tmp))]\n",
    "        what = [0 for i in range(len(tmp))]\n",
    "        for i in range(len(tmp)):\n",
    "            hoge =  tmp[i].split(\"／\")\n",
    "            if len(hoge) == 2:\n",
    "                if hoge[0] == \"\":\n",
    "                    hoge[0] = \"2階\"\n",
    "                if hoge[1] == \"\":\n",
    "                    hoge[1] = \"5階建て\"\n",
    "                x = int(re.search(r\"[0-9]+\",hoge[0])[0])\n",
    "                y = int(re.search(r\"[0-9]+\",hoge[1])[0])\n",
    "            else:\n",
    "                x = 2\n",
    "                y = 3\n",
    "            where[i] = x\n",
    "            what[i] = y\n",
    "        fuga = fuga.drop(\"所在階\",axis = 1)\n",
    "        fuga = fuga.assign(what_floor=where)\n",
    "        fuga = fuga.assign(height_bld=what)\n",
    "        return fuga\n",
    "fig = plt.figure()\n",
    "ax = fig.add_subplot(1,1,1)\n",
    "test = height_encoder()\n",
    "hoge = test.transform(train)\n",
    "ax.scatter(hoge[\"what_floor\"],hoge[\"賃料\"])"
   ]
  },
  {
   "cell_type": "code",
   "execution_count": 223,
   "metadata": {},
   "outputs": [
    {
     "data": {
      "text/plain": [
       "<matplotlib.collections.PathCollection at 0x13b96b5d0>"
      ]
     },
     "execution_count": 223,
     "metadata": {},
     "output_type": "execute_result"
    },
    {
     "data": {
      "image/png": "[encoded data removed]",
      "text/plain": [
       "<Figure size 432x288 with 1 Axes>"
      ]
     },
     "metadata": {
      "needs_background": "light"
     },
     "output_type": "display_data"
    }
   ],
   "source": [
    "fig = plt.figure()\n",
    "ax = fig.add_subplot(1,1,1)\n",
    "test = height_encoder()\n",
    "hoge = test.transform(train)\n",
    "ax.scatter(hoge[\"height_bld\"],hoge[\"賃料\"])"
   ]
  },
  {
   "cell_type": "code",
   "execution_count": 256,
   "metadata": {},
   "outputs": [
    {
     "name": "stdout",
     "output_type": "stream",
     "text": [
      "        count           mean           std      min      25%       50%  \\\n",
      "dir0                                                                     \n",
      "0.0   29504.0  117772.716411  73853.049925  25000.0  75750.0  101000.0   \n",
      "1.0    1966.0  126057.842319  71737.317201  28000.0  85000.0  109000.0   \n",
      "\n",
      "           75%        max  \n",
      "dir0                       \n",
      "0.0   136000.0  2500000.0  \n",
      "1.0   141000.0  1300000.0  \n",
      "        count           mean           std      min      25%       50%  \\\n",
      "dir1                                                                     \n",
      "0.0   30149.0  117885.999934  73344.254107  25000.0  76000.0  101000.0   \n",
      "1.0    1321.0  127517.737320  81933.836474  28000.0  87000.0  108000.0   \n",
      "\n",
      "           75%        max  \n",
      "dir1                       \n",
      "0.0   136000.0  2500000.0  \n",
      "1.0   141000.0  1300000.0  \n",
      "        count           mean           std      min      25%       50%  \\\n",
      "dir2                                                                     \n",
      "0.0   30144.0  117520.432458  73003.947683  25000.0  76000.0  101000.0   \n",
      "1.0    1326.0  135791.875566  87233.614138  40000.0  89125.0  116250.0   \n",
      "\n",
      "           75%        max  \n",
      "dir2                       \n",
      "0.0   135000.0  2500000.0  \n",
      "1.0   165000.0  1203500.0  \n",
      "        count           mean           std      min      25%       50%  \\\n",
      "dir3                                                                     \n",
      "0.0   19812.0  122809.526903  77233.574135  26000.0  80000.0  105000.0   \n",
      "1.0   11658.0  110610.190084  66719.430080  25000.0  72000.0   94000.0   \n",
      "\n",
      "           75%        max  \n",
      "dir3                       \n",
      "0.0   141000.0  2500000.0  \n",
      "1.0   128000.0  1800000.0  \n",
      "        count           mean           std      min      25%       50%  \\\n",
      "dir4                                                                     \n",
      "0.0   28372.0  116879.493268  72088.307898  25000.0  76000.0  101000.0   \n",
      "1.0    3098.0  131210.768238  86451.215451  26200.0  78000.0  110000.0   \n",
      "\n",
      "           75%        max  \n",
      "dir4                       \n",
      "0.0   135000.0  2500000.0  \n",
      "1.0   157000.0  1200000.0  \n",
      "        count           mean           std      min      25%       50%  \\\n",
      "dir5                                                                     \n",
      "0.0   28390.0  117373.836844  72915.915935  25000.0  76000.0  101000.0   \n",
      "1.0    3080.0  126737.894481  80546.998621  31000.0  81000.0  107250.0   \n",
      "\n",
      "           75%        max  \n",
      "dir5                       \n",
      "0.0   135000.0  2500000.0  \n",
      "1.0   149250.0  1450000.0  \n",
      "        count           mean           std      min      25%       50%  \\\n",
      "dir6                                                                     \n",
      "0.0   26475.0  119101.429348  74802.208164  25000.0  76000.0  102000.0   \n",
      "1.0    4995.0  113991.111311  67738.112452  28000.0  75000.0  100000.0   \n",
      "\n",
      "           75%        max  \n",
      "dir6                       \n",
      "0.0   137650.0  2500000.0  \n",
      "1.0   132000.0  1390000.0  \n",
      "        count           mean           std      min      25%       50%  \\\n",
      "dir7                                                                     \n",
      "0.0   27444.0  118498.161638  73718.728503  25000.0  76000.0  101500.0   \n",
      "1.0    4026.0  116873.421510  73947.101425  26000.0  78000.0  102300.0   \n",
      "\n",
      "           75%        max  \n",
      "dir7                       \n",
      "0.0   137000.0  1800000.0  \n",
      "1.0   133000.0  2500000.0  \n"
     ]
    },
    {
     "data": {
      "image/png": "[encoded data removed]",
      "text/plain": [
       "<Figure size 432x288 with 1 Axes>"
      ]
     },
     "metadata": {
      "needs_background": "light"
     },
     "output_type": "display_data"
    },
    {
     "data": {
      "image/png": "[encoded data removed]",
      "text/plain": [
       "<Figure size 432x288 with 1 Axes>"
      ]
     },
     "metadata": {
      "needs_background": "light"
     },
     "output_type": "display_data"
    },
    {
     "data": {
      "image/png": "[encoded data removed]",
      "text/plain": [
       "<Figure size 432x288 with 1 Axes>"
      ]
     },
     "metadata": {
      "needs_background": "light"
     },
     "output_type": "display_data"
    },
    {
     "data": {
      "image/png": "[encoded data removed]",
      "text/plain": [
       "<Figure size 432x288 with 1 Axes>"
      ]
     },
     "metadata": {
      "needs_background": "light"
     },
     "output_type": "display_data"
    },
    {
     "data": {
      "image/png": "[encoded data removed]",
      "text/plain": [
       "<Figure size 432x288 with 1 Axes>"
      ]
     },
     "metadata": {
      "needs_background": "light"
     },
     "output_type": "display_data"
    },
    {
     "data": {
      "image/png": "[encoded data removed]",
      "text/plain": [
       "<Figure size 432x288 with 1 Axes>"
      ]
     },
     "metadata": {
      "needs_background": "light"
     },
     "output_type": "display_data"
    },
    {
     "data": {
      "image/png": "[encoded data removed]",
      "text/plain": [
       "<Figure size 432x288 with 1 Axes>"
      ]
     },
     "metadata": {
      "needs_background": "light"
     },
     "output_type": "display_data"
    },
    {
     "data": {
      "image/png": "[encoded data removed]",
      "text/plain": [
       "<Figure size 432x288 with 1 Axes>"
      ]
     },
     "metadata": {
      "needs_background": "light"
     },
     "output_type": "display_data"
    }
   ],
   "source": [
    "class direction_encoder:\n",
    "    def __init__(self):\n",
    "        self.encoder = OneHotEncoder(sparse=False,handle_unknown=\"ignore\")\n",
    "    def fit(self,x,y):\n",
    "        self.encoder.fit(x[\"方角\"].fillna(\"南\").values.reshape(-1,1))\n",
    "        return self\n",
    "    def transform(self,x):\n",
    "        tmp = x[\"方角\"]\n",
    "        tmp = tmp.fillna(\"南\")\n",
    "        tmp = pd.DataFrame(self.encoder.transform(tmp.values.reshape(-1,1)))\n",
    "        c_num = len(tmp.columns)\n",
    "        col = []\n",
    "        for i in range(c_num):\n",
    "            col.append(\"dir\"+str(i))\n",
    "        tmp.columns = col\n",
    "        hoge = x.drop(\"方角\",axis = 1)\n",
    "        tmp.index = hoge.index\n",
    "        return pd.concat([hoge,tmp],axis = 1)\n",
    "    \n",
    "\n",
    "for i in range(8):\n",
    "    fig = plt.figure()\n",
    "    ax = fig.add_subplot(1,1,1)\n",
    "    test = direction_encoder()\n",
    "    test.fit(train,test)\n",
    "    hoge = test.transform(train)\n",
    "    ax.scatter(hoge[\"dir\"+str(i)],hoge[\"賃料\"])\n",
    "    print(hoge.groupby(\"dir\"+str(i))[\"賃料\"].describe())"
   ]
  },
  {
   "cell_type": "code",
   "execution_count": null,
   "metadata": {},
   "outputs": [],
   "source": []
  }
 ],
 "metadata": {
  "kernelspec": {
   "display_name": "Python 3",
   "language": "python",
   "name": "python3"
  },
  "language_info": {
   "codemirror_mode": {
    "name": "ipython",
    "version": 3
   },
   "file_extension": ".py",
   "mimetype": "text/x-python",
   "name": "python",
   "nbconvert_exporter": "python",
   "pygments_lexer": "ipython3",
   "version": "3.7.4"
  }
 },
 "nbformat": 4,
 "nbformat_minor": 4
}
