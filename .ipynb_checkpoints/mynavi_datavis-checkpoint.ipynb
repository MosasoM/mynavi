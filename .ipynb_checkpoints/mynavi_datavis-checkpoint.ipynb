{
 "cells": [
  {
   "cell_type": "code",
   "execution_count": 563,
   "metadata": {},
   "outputs": [],
   "source": [
    "train = pd.read_csv(\"./train.csv\")\n",
    "train = train.dropna(subset=[\"賃料\"])\n",
    "train = train.drop(20926)\n",
    "train = train.drop(20231)\n",
    "train = train.drop(20427)\n",
    "train = train.drop(5775)\n",
    "train_x = train.drop(\"賃料\",axis=1)\n",
    "train_y = train[\"賃料\"]\n",
    "test = pd.read_csv(\"./test.csv\")import matplotlib.pyplot as plt\n",
    "import seaborn as sns\n",
    "import numpy as np\n",
    "import pandas as pd\n",
    "import numpy as np\n",
    "from scipy import stats as st\n",
    "import re\n",
    "from sklearn.preprocessing import OneHotEncoder\n",
    "from scipy.stats import probplot\n",
    "from scipy.stats import shapiro\n",
    "from sklearn.metrics import mean_squared_error\n",
    "from basic_feature import *\n",
    "from sklearn.cluster import KMeans"
   ]
  },
  {
   "cell_type": "code",
   "execution_count": 449,
   "metadata": {},
   "outputs": [],
   "source": [
    "train = pd.read_csv(\"train.csv\")\n",
    "test = pd.read_csv(\"test.csv\")\n",
    "train = train.drop(20926)\n",
    "train = train.drop(20231)\n",
    "train = train.drop(20427)\n",
    "train = train.drop(5775)"
   ]
  },
  {
   "cell_type": "code",
   "execution_count": 668,
   "metadata": {},
   "outputs": [
    {
     "name": "stdout",
     "output_type": "stream",
     "text": [
      "{'ガスコンロ', 'コンロ設置可（コンロ1口）', 'コンロ設置可（コンロ3口）', '給湯', 'コンロ設置可（コンロ2口）', 'コンロ4口以上', 'L字キッチン', '電気コンロ', '冷蔵庫あり', 'コンロ設置可（コンロ4口以上）', 'IHコンロ', 'コンロ3口', '独立キッチン', 'カウンターキッチン', 'コンロ1口', 'コンロ設置可（口数不明）', 'コンロ2口', 'システムキッチン'}\n"
     ]
    }
   ],
   "source": [
    "temp = train[\"周辺環境\"].values\n",
    "d = set()\n",
    "for i in range(len(temp)):\n",
    "    txt = temp[i]\n",
    "    if txt == txt:\n",
    "        txt = re.sub(r\"／\",\"\",txt)\n",
    "        txt = txt.split()\n",
    "        for t in txt:\n",
    "            d.add(t)\n",
    "print(d)"
   ]
  },
  {
   "cell_type": "code",
   "execution_count": 534,
   "metadata": {},
   "outputs": [
    {
     "data": {
      "text/plain": [
       "id        123\n",
       "賃料        123\n",
       "所在地       123\n",
       "アクセス      123\n",
       "間取り       123\n",
       "築年数       123\n",
       "方角        118\n",
       "面積        123\n",
       "所在階       123\n",
       "バス・トイレ    122\n",
       "キッチン      121\n",
       "放送・通信     110\n",
       "室内設備      122\n",
       "駐車場       112\n",
       "周辺環境       96\n",
       "建物構造      123\n",
       "契約期間      111\n",
       "dtype: int64"
      ]
     },
     "execution_count": 534,
     "metadata": {},
     "output_type": "execute_result"
    }
   ],
   "source": [
    "train.query(\"賃料>500000\").count()"
   ]
  },
  {
   "cell_type": "code",
   "execution_count": 557,
   "metadata": {},
   "outputs": [
    {
     "data": {
      "text/html": [
       "<div>\n",
       "<style scoped>\n",
       "    .dataframe tbody tr th:only-of-type {\n",
       "        vertical-align: middle;\n",
       "    }\n",
       "\n",
       "    .dataframe tbody tr th {\n",
       "        vertical-align: top;\n",
       "    }\n",
       "\n",
       "    .dataframe thead th {\n",
       "        text-align: right;\n",
       "    }\n",
       "</style>\n",
       "<table border=\"1\" class=\"dataframe\">\n",
       "  <thead>\n",
       "    <tr style=\"text-align: right;\">\n",
       "      <th></th>\n",
       "      <th>id</th>\n",
       "      <th>賃料</th>\n",
       "    </tr>\n",
       "  </thead>\n",
       "  <tbody>\n",
       "    <tr>\n",
       "      <th>count</th>\n",
       "      <td>123.000000</td>\n",
       "      <td>1.230000e+02</td>\n",
       "    </tr>\n",
       "    <tr>\n",
       "      <th>mean</th>\n",
       "      <td>15374.723577</td>\n",
       "      <td>7.484390e+05</td>\n",
       "    </tr>\n",
       "    <tr>\n",
       "      <th>std</th>\n",
       "      <td>8834.636434</td>\n",
       "      <td>2.922109e+05</td>\n",
       "    </tr>\n",
       "    <tr>\n",
       "      <th>min</th>\n",
       "      <td>275.000000</td>\n",
       "      <td>5.050000e+05</td>\n",
       "    </tr>\n",
       "    <tr>\n",
       "      <th>25%</th>\n",
       "      <td>7766.000000</td>\n",
       "      <td>5.565000e+05</td>\n",
       "    </tr>\n",
       "    <tr>\n",
       "      <th>50%</th>\n",
       "      <td>16614.000000</td>\n",
       "      <td>6.500000e+05</td>\n",
       "    </tr>\n",
       "    <tr>\n",
       "      <th>75%</th>\n",
       "      <td>22023.000000</td>\n",
       "      <td>8.300000e+05</td>\n",
       "    </tr>\n",
       "    <tr>\n",
       "      <th>max</th>\n",
       "      <td>31116.000000</td>\n",
       "      <td>2.500000e+06</td>\n",
       "    </tr>\n",
       "  </tbody>\n",
       "</table>\n",
       "</div>"
      ],
      "text/plain": [
       "                 id            賃料\n",
       "count    123.000000  1.230000e+02\n",
       "mean   15374.723577  7.484390e+05\n",
       "std     8834.636434  2.922109e+05\n",
       "min      275.000000  5.050000e+05\n",
       "25%     7766.000000  5.565000e+05\n",
       "50%    16614.000000  6.500000e+05\n",
       "75%    22023.000000  8.300000e+05\n",
       "max    31116.000000  2.500000e+06"
      ]
     },
     "execution_count": 557,
     "metadata": {},
     "output_type": "execute_result"
    }
   ],
   "source": [
    "th = 500000\n",
    "train.query(\"賃料>@th\").describe()"
   ]
  },
  {
   "cell_type": "code",
   "execution_count": 558,
   "metadata": {},
   "outputs": [
    {
     "name": "stdout",
     "output_type": "stream",
     "text": [
      "[748439.0243902439, 748439.0243902439, 748439.0243902439]\n",
      "291020.66381922073\n"
     ]
    }
   ],
   "source": [
    "t1 = train.query(\"賃料>@th\")[\"賃料\"].mean()\n",
    "t1 = [t1 for i in range(len(train.query(\"賃料>@th\").values))]\n",
    "print(t1[:3])\n",
    "s1 = mean_squared_error(t1,train.query(\"賃料>@th\")[\"賃料\"].values)\n",
    "print(np.sqrt(s1))"
   ]
  },
  {
   "cell_type": "code",
   "execution_count": 559,
   "metadata": {},
   "outputs": [
    {
     "name": "stdout",
     "output_type": "stream",
     "text": [
      "[650000.0, 650000.0, 650000.0]\n",
      "307218.60017369216\n"
     ]
    }
   ],
   "source": [
    "t1 = train.query(\"賃料>@th\")[\"賃料\"].median()\n",
    "t1 = [t1 for i in range(len(train.query(\"賃料>@th\").values))]\n",
    "print(t1[:3])\n",
    "s1 = mean_squared_error(t1,train.query(\"賃料>@th\")[\"賃料\"].values)\n",
    "print(np.sqrt(s1))"
   ]
  },
  {
   "cell_type": "code",
   "execution_count": 562,
   "metadata": {},
   "outputs": [
    {
     "data": {
      "text/plain": [
       "<matplotlib.collections.PathCollection at 0x13fdc0290>"
      ]
     },
     "execution_count": 562,
     "metadata": {},
     "output_type": "execute_result"
    },
    {
     "data": {
      "image/png": "[encoded data removed]",
      "text/plain": [
       "<Figure size 432x288 with 1 Axes>"
      ]
     },
     "metadata": {
      "needs_background": "light"
     },
     "output_type": "display_data"
    }
   ],
   "source": [
    "hoge = parse_area_size()\n",
    "hoge = hoge.transform(train)\n",
    "fig = plt.figure()\n",
    "ax = fig.add_subplot(1,1,1)\n",
    "ax.scatter(hoge[\"賃料\"],hoge[\"mf_areasize\"])"
   ]
  },
  {
   "cell_type": "code",
   "execution_count": 581,
   "metadata": {},
   "outputs": [
    {
     "name": "stdout",
     "output_type": "stream",
     "text": [
      "6141\n",
      "25091\n",
      "234\n"
     ]
    },
    {
     "data": {
      "image/png": "[encoded data removed]",
      "text/plain": [
       "<Figure size 432x288 with 1 Axes>"
      ]
     },
     "metadata": {
      "needs_background": "light"
     },
     "output_type": "display_data"
    }
   ],
   "source": [
    "kmeans = KMeans(n_clusters=3)\n",
    "data = hoge[[\"mf_areasize\",\"賃料\"]].values\n",
    "kmeans.fit(data)\n",
    "cs = [[] for i in range(max(kmeans.labels_) +1)]\n",
    "for i in range(len(data)):\n",
    "    cs[kmeans.labels_[i]].append(data[i])\n",
    "\n",
    "fig = plt.figure()\n",
    "ax = fig.add_subplot(1,1,1)\n",
    "ind = 0\n",
    "for c in cs:\n",
    "    print(len(c))\n",
    "    ct = np.array(c).T\n",
    "    ax.scatter(ct[0],ct[1],label=ind)\n",
    "    ind += 1\n",
    "    ax.legend()"
   ]
  },
  {
   "cell_type": "code",
   "execution_count": 542,
   "metadata": {},
   "outputs": [
    {
     "data": {
      "text/html": [
       "<div>\n",
       "<style scoped>\n",
       "    .dataframe tbody tr th:only-of-type {\n",
       "        vertical-align: middle;\n",
       "    }\n",
       "\n",
       "    .dataframe tbody tr th {\n",
       "        vertical-align: top;\n",
       "    }\n",
       "\n",
       "    .dataframe thead th {\n",
       "        text-align: right;\n",
       "    }\n",
       "</style>\n",
       "<table border=\"1\" class=\"dataframe\">\n",
       "  <thead>\n",
       "    <tr style=\"text-align: right;\">\n",
       "      <th></th>\n",
       "      <th>id</th>\n",
       "      <th>賃料</th>\n",
       "    </tr>\n",
       "  </thead>\n",
       "  <tbody>\n",
       "    <tr>\n",
       "      <th>count</th>\n",
       "      <td>30840.000000</td>\n",
       "      <td>30840.000000</td>\n",
       "    </tr>\n",
       "    <tr>\n",
       "      <th>mean</th>\n",
       "      <td>15726.244293</td>\n",
       "      <td>111682.436543</td>\n",
       "    </tr>\n",
       "    <tr>\n",
       "      <th>std</th>\n",
       "      <td>9084.397972</td>\n",
       "      <td>49890.792874</td>\n",
       "    </tr>\n",
       "    <tr>\n",
       "      <th>min</th>\n",
       "      <td>1.000000</td>\n",
       "      <td>25000.000000</td>\n",
       "    </tr>\n",
       "    <tr>\n",
       "      <th>25%</th>\n",
       "      <td>7856.750000</td>\n",
       "      <td>75500.000000</td>\n",
       "    </tr>\n",
       "    <tr>\n",
       "      <th>50%</th>\n",
       "      <td>15716.500000</td>\n",
       "      <td>100500.000000</td>\n",
       "    </tr>\n",
       "    <tr>\n",
       "      <th>75%</th>\n",
       "      <td>23585.250000</td>\n",
       "      <td>134000.000000</td>\n",
       "    </tr>\n",
       "    <tr>\n",
       "      <th>max</th>\n",
       "      <td>31470.000000</td>\n",
       "      <td>300000.000000</td>\n",
       "    </tr>\n",
       "  </tbody>\n",
       "</table>\n",
       "</div>"
      ],
      "text/plain": [
       "                 id             賃料\n",
       "count  30840.000000   30840.000000\n",
       "mean   15726.244293  111682.436543\n",
       "std     9084.397972   49890.792874\n",
       "min        1.000000   25000.000000\n",
       "25%     7856.750000   75500.000000\n",
       "50%    15716.500000  100500.000000\n",
       "75%    23585.250000  134000.000000\n",
       "max    31470.000000  300000.000000"
      ]
     },
     "execution_count": 542,
     "metadata": {},
     "output_type": "execute_result"
    }
   ],
   "source": [
    "train.query(\"賃料<=@th\").describe()"
   ]
  },
  {
   "cell_type": "code",
   "execution_count": 599,
   "metadata": {},
   "outputs": [
    {
     "name": "stdout",
     "output_type": "stream",
     "text": [
      "駐車場\t空有\t32,400円(税込)\t駐輪場\t空有\tバイク置き場\t空有\n",
      "<re.Match object; span=(0, 6), match='駐車場\\t空有'>\n",
      "駐輪場\t無\tバイク置き場\t無\n",
      "None\n",
      "駐輪場\t空有\tバイク置き場\t無\n",
      "None\n",
      "駐車場\t近隣\t27,000円(税込)\t距離500m\t駐輪場\t無\tバイク置き場\t無\n",
      "None\n",
      "駐輪場\t空有\tバイク置き場\t空有\t駐車場\t近隣\t23,000円\t距離150m\n",
      "None\n",
      "駐車場\t近隣\t15,120円\t距離200m\n",
      "None\n",
      "駐輪場\t空有\n",
      "None\n",
      "駐車場\t無\t駐輪場\t無\tバイク置き場\t無\n",
      "None\n"
     ]
    }
   ],
   "source": [
    "pat = \"駐車場\\t.{,1}有\"\n",
    "for i in range(10,20):\n",
    "    txt = train[\"駐車場\"].values[i]\n",
    "    if txt == txt:\n",
    "        print(txt)\n",
    "        print(re.match(pat,txt))"
   ]
  },
  {
   "cell_type": "code",
   "execution_count": 602,
   "metadata": {},
   "outputs": [
    {
     "data": {
      "text/plain": [
       "0    エアコン付\\tシューズボックス／\\tバルコニー／\\tフローリング／\\t室内洗濯機置場／\\t敷...\n",
       "1    エアコン付\\tシューズボックス／\\tバルコニー／\\tフローリング／\\t室内洗濯機置場／\\t敷...\n",
       "2    エアコン付\\tウォークインクローゼット\\tシューズボックス／\\tバルコニー／\\tフローリング...\n",
       "3    エアコン付\\tシューズボックス／\\tバルコニー／\\t2面採光／\\t室内洗濯機置場／\\tエレベ...\n",
       "4                  バルコニー／\\tフローリング／\\t室内洗濯機置場\\t公営水道／\\t下水\n",
       "Name: 室内設備, dtype: object"
      ]
     },
     "execution_count": 602,
     "metadata": {},
     "output_type": "execute_result"
    }
   ],
   "source": [
    "train[\"室内設備\"].head()"
   ]
  },
  {
   "cell_type": "code",
   "execution_count": 530,
   "metadata": {},
   "outputs": [
    {
     "data": {
      "text/plain": [
       "array([(0.0, 0.0), (0.0, 0.5), (0.0, 1.0), (0.5, 0.0), (0.5, 0.5),\n",
       "       (1.0, 0.0)], dtype=object)"
      ]
     },
     "execution_count": 530,
     "metadata": {},
     "output_type": "execute_result"
    }
   ],
   "source": [
    "hoge.groupby([\"south\",\"east\"]).mean().index.values"
   ]
  },
  {
   "cell_type": "code",
   "execution_count": 601,
   "metadata": {},
   "outputs": [
    {
     "data": {
      "text/plain": [
       "array(['【小学校】 495m\\t【大学】 461m\\t【小学校】 962m\\t【公園】 1103m\\t【飲食店】 378m\\t【スーパー】 311m\\t【コンビニ】 588m\\t【スーパー】 1062m\\t【ドラッグストア】 956m\\t【郵便局】 1246m',\n",
       "       '【スーパー】 1283m',\n",
       "       '【スーパー】 89m\\t【コンビニ】 184m\\t【コンビニ】 392m\\t【スーパー】 492m', ...,\n",
       "       '【小学校】 504m\\t【学校】 233m\\t【幼稚園・保育園】 289m\\t【郵便局】 753m\\t【図書館】 1623m\\t【公園】 749m\\t【病院】 281m',\n",
       "       '【スーパー】 458m\\t【スーパー】 540m\\t【コンビニ】 131m\\t【コンビニ】 265m\\t【公園】 1300m',\n",
       "       '【スーパー】 485m\\t【スーパー】 1051m\\t【コンビニ】 476m\\t【コンビニ】 759m'],\n",
       "      dtype=object)"
      ]
     },
     "execution_count": 601,
     "metadata": {},
     "output_type": "execute_result"
    }
   ],
   "source": [
    "train[\"周辺環境\"].unique()"
   ]
  },
  {
   "cell_type": "code",
   "execution_count": null,
   "metadata": {},
   "outputs": [],
   "source": [
    "temp "
   ]
  }
 ],
 "metadata": {
  "kernelspec": {
   "display_name": "Python 3",
   "language": "python",
   "name": "python3"
  },
  "language_info": {
   "codemirror_mode": {
    "name": "ipython",
    "version": 3
   },
   "file_extension": ".py",
   "mimetype": "text/x-python",
   "name": "python",
   "nbconvert_exporter": "python",
   "pygments_lexer": "ipython3",
   "version": "3.7.4"
  }
 },
 "nbformat": 4,
 "nbformat_minor": 4
}
