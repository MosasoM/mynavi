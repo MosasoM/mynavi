{
 "cells": [
  {
   "cell_type": "code",
   "execution_count": 1,
   "metadata": {},
   "outputs": [
    {
     "name": "stderr",
     "output_type": "stream",
     "text": [
      "Using TensorFlow backend.\n"
     ]
    }
   ],
   "source": [
    "import pandas as pd\n",
    "import numpy as np\n",
    "import xgboost as xgb\n",
    "from sklearn.model_selection import train_test_split\n",
    "from sklearn.metrics import mean_squared_error\n",
    "from keras.models import Sequential\n",
    "from keras.layers import Dense,Dropout\n",
    "from keras.optimizers import Adam\n",
    "from sklearn.decomposition import PCA\n",
    "import matplotlib.pyplot as plt\n",
    "import seaborn as sns\n",
    "from sklearn.model_selection import GridSearchCV\n",
    "from sklearn.model_selection import cross_val_score\n",
    "from sklearn.preprocessing import OneHotEncoder,LabelEncoder\n",
    "from sklearn.pipeline import Pipeline\n",
    "from sklearn.svm import SVR\n",
    "from sklearn.preprocessing import scale\n",
    "from sklearn.ensemble import RandomForestRegressor \n",
    "import re\n",
    "from sklearn.linear_model import LinearRegression\n",
    "import sys\n",
    "from sklearn.linear_model import LogisticRegression\n",
    "sys.path.append(\"./\")\n",
    "from basic_feature import *\n",
    "from my_models import *\n",
    "import warnings\n",
    "warnings.filterwarnings(\"ignore\",category=FutureWarning)\n",
    "train = pd.read_csv(\"./train.csv\")\n",
    "train = train.dropna(subset=[\"賃料\"])\n",
    "train = train.drop(20926)\n",
    "train_x = train.drop(\"賃料\",axis=1)\n",
    "train_y = train[\"賃料\"]"
   ]
  },
  {
   "cell_type": "code",
   "execution_count": 2,
   "metadata": {},
   "outputs": [],
   "source": [
    "\n",
    "# bms = bin_model_score(threshold=500000)\n",
    "# bms.fit(train_x,train_y)\n"
   ]
  },
  {
   "cell_type": "code",
   "execution_count": 3,
   "metadata": {},
   "outputs": [
    {
     "name": "stdout",
     "output_type": "stream",
     "text": [
      "[11:43:06] WARNING: src/objective/regression_obj.cu:152: reg:linear is now deprecated in favor of reg:squarederror.\n",
      "[11:43:15] WARNING: src/objective/regression_obj.cu:152: reg:linear is now deprecated in favor of reg:squarederror.\n",
      "[11:43:19] WARNING: src/objective/regression_obj.cu:152: reg:linear is now deprecated in favor of reg:squarederror.\n",
      "[11:43:35] WARNING: src/objective/regression_obj.cu:152: reg:linear is now deprecated in favor of reg:squarederror.\n",
      "[11:43:44] WARNING: src/objective/regression_obj.cu:152: reg:linear is now deprecated in favor of reg:squarederror.\n",
      "[11:43:48] WARNING: src/objective/regression_obj.cu:152: reg:linear is now deprecated in favor of reg:squarederror.\n",
      "[11:44:05] WARNING: src/objective/regression_obj.cu:152: reg:linear is now deprecated in favor of reg:squarederror.\n",
      "[11:44:14] WARNING: src/objective/regression_obj.cu:152: reg:linear is now deprecated in favor of reg:squarederror.\n",
      "[11:44:19] WARNING: src/objective/regression_obj.cu:152: reg:linear is now deprecated in favor of reg:squarederror.\n"
     ]
    }
   ],
   "source": [
    "scores = cross_val_score(bin_model_score(is_log=True,threshold=200000),train_x,train_y,scoring=\"neg_mean_squared_error\")"
   ]
  },
  {
   "cell_type": "code",
   "execution_count": null,
   "metadata": {},
   "outputs": [],
   "source": []
  },
  {
   "cell_type": "code",
   "execution_count": null,
   "metadata": {},
   "outputs": [],
   "source": []
  },
  {
   "cell_type": "code",
   "execution_count": 4,
   "metadata": {},
   "outputs": [
    {
     "name": "stdout",
     "output_type": "stream",
     "text": [
      "[28589.62943064 25015.87838041 23599.31871877]\n"
     ]
    }
   ],
   "source": [
    "print(np.sqrt(-np.array(scores)))\n",
    "#面積log取らないバージョン\n",
    "#閾値0.9\n",
    "#RandomForestとXGBの加重平均\n",
    "#なんかマシになったぽい"
   ]
  },
  {
   "cell_type": "code",
   "execution_count": 4,
   "metadata": {},
   "outputs": [
    {
     "name": "stdout",
     "output_type": "stream",
     "text": [
      "[31381.11240831 27982.9626141  29498.70232022]\n"
     ]
    }
   ],
   "source": [
    "print(np.sqrt(-np.array(scores)))\n",
    "#面積log取らないバージョン\n",
    "#閾値0.9\n",
    "#線形回帰バージョン"
   ]
  },
  {
   "cell_type": "code",
   "execution_count": 4,
   "metadata": {},
   "outputs": [
    {
     "name": "stdout",
     "output_type": "stream",
     "text": [
      "[29764.36251439 25737.75956184 25349.00059902]\n"
     ]
    }
   ],
   "source": [
    "print(np.sqrt(-np.array(scores)))\n",
    "#面積log取らないバージョン\n",
    "#閾値0.9\n",
    "#ランダムフォレストとの比較のためXGBをチューニングなしでぶっこんだ"
   ]
  },
  {
   "cell_type": "code",
   "execution_count": 4,
   "metadata": {},
   "outputs": [
    {
     "name": "stdout",
     "output_type": "stream",
     "text": [
      "[27486.14989315 25699.20269982 23611.26902551]\n"
     ]
    }
   ],
   "source": [
    "print(np.sqrt(-np.array(scores)))\n",
    "#面積log取らないバージョン\n",
    "#閾値0.9\n",
    "#ランダムフォレスト"
   ]
  },
  {
   "cell_type": "code",
   "execution_count": 4,
   "metadata": {},
   "outputs": [
    {
     "name": "stdout",
     "output_type": "stream",
     "text": [
      "[25937.72924312 22154.03019855 20517.2577945 ]\n"
     ]
    }
   ],
   "source": [
    "print(np.sqrt(-np.array(scores)))\n",
    "#面積log取らないバージョン\n",
    "#閾値0.9"
   ]
  },
  {
   "cell_type": "code",
   "execution_count": 3,
   "metadata": {},
   "outputs": [
    {
     "name": "stdout",
     "output_type": "stream",
     "text": [
      "[25373.97640343 21073.2302127  19278.75458529]\n"
     ]
    }
   ],
   "source": [
    "# print(np.sqrt(-np.array(scores)))\n",
    "#面積log取らないバージョン"
   ]
  },
  {
   "cell_type": "code",
   "execution_count": 4,
   "metadata": {},
   "outputs": [
    {
     "name": "stdout",
     "output_type": "stream",
     "text": [
      "[25357.52421909 21447.1391929  18449.84829596]\n"
     ]
    }
   ],
   "source": [
    "# print(np.sqrt(-np.array(scores)))\n",
    "# #アンサンブルになってなかった(モデルの引数が違った)\n",
    "# #直した"
   ]
  },
  {
   "cell_type": "code",
   "execution_count": 4,
   "metadata": {},
   "outputs": [
    {
     "name": "stdout",
     "output_type": "stream",
     "text": [
      "[25055.61403267 21372.70426949 18621.98159184]\n"
     ]
    }
   ],
   "source": [
    "# print(np.sqrt(-np.array(scores)))\n",
    "#分類モデルの閾値を0.5→0.3にむしろ下げた\n",
    "#たいして変わらないが、分類の影響はこのあたりが限界っぽい。"
   ]
  },
  {
   "cell_type": "code",
   "execution_count": 4,
   "metadata": {},
   "outputs": [
    {
     "name": "stdout",
     "output_type": "stream",
     "text": [
      "[27954.54367869 23115.85356113 26778.12061267]\n"
     ]
    }
   ],
   "source": [
    "# print(np.sqrt(-np.array(scores)))\n",
    "#分類モデルの閾値を0.5→0.95に\n",
    "#精度は悪化したが、過学習感は薄れたか?\n",
    "#ほんとに?"
   ]
  },
  {
   "cell_type": "code",
   "execution_count": 4,
   "metadata": {},
   "outputs": [
    {
     "name": "stdout",
     "output_type": "stream",
     "text": [
      "[140848.6346678  139520.96292192 137773.88130604]\n"
     ]
    }
   ],
   "source": [
    "# print(np.sqrt(-np.array(scores)))\n",
    "#分類モデルの確立でミックスしたら全然うまくいかんかった。"
   ]
  },
  {
   "cell_type": "code",
   "execution_count": 5,
   "metadata": {},
   "outputs": [
    {
     "name": "stdout",
     "output_type": "stream",
     "text": [
      "[24869.19273447 20853.49119503 17830.20135745]\n"
     ]
    }
   ],
   "source": [
    "# print(np.sqrt(-np.array(scores)))"
   ]
  },
  {
   "cell_type": "code",
   "execution_count": 6,
   "metadata": {},
   "outputs": [
    {
     "name": "stdout",
     "output_type": "stream",
     "text": [
      "[01:30:12] WARNING: src/objective/regression_obj.cu:152: reg:linear is now deprecated in favor of reg:squarederror.\n",
      "[01:30:22] WARNING: src/objective/regression_obj.cu:152: reg:linear is now deprecated in favor of reg:squarederror.\n",
      "[01:30:33] WARNING: src/objective/regression_obj.cu:152: reg:linear is now deprecated in favor of reg:squarederror.\n",
      "[01:30:46] WARNING: src/objective/regression_obj.cu:152: reg:linear is now deprecated in favor of reg:squarederror.\n",
      "[01:31:06] WARNING: src/objective/regression_obj.cu:152: reg:linear is now deprecated in favor of reg:squarederror.\n"
     ]
    },
    {
     "data": {
      "text/plain": [
       "<my_models.bin_model_score at 0x10f2a8c50>"
      ]
     },
     "execution_count": 6,
     "metadata": {},
     "output_type": "execute_result"
    }
   ],
   "source": [
    "bms = bin_model_score(threshold=200000)\n",
    "bms.fit(train_x,train_y)"
   ]
  },
  {
   "cell_type": "code",
   "execution_count": 7,
   "metadata": {},
   "outputs": [],
   "source": [
    "rm = bms.rich_model\n",
    "pm = bms.poor_model"
   ]
  },
  {
   "cell_type": "code",
   "execution_count": 4,
   "metadata": {},
   "outputs": [],
   "source": [
    "m1,m2,m3 = pre_checker(train_x,train_y)"
   ]
  },
  {
   "cell_type": "code",
   "execution_count": 5,
   "metadata": {},
   "outputs": [
    {
     "data": {
      "text/html": [
       "<div>\n",
       "<style scoped>\n",
       "    .dataframe tbody tr th:only-of-type {\n",
       "        vertical-align: middle;\n",
       "    }\n",
       "\n",
       "    .dataframe tbody tr th {\n",
       "        vertical-align: top;\n",
       "    }\n",
       "\n",
       "    .dataframe thead th {\n",
       "        text-align: right;\n",
       "    }\n",
       "</style>\n",
       "<table border=\"1\" class=\"dataframe\">\n",
       "  <thead>\n",
       "    <tr style=\"text-align: right;\">\n",
       "      <th></th>\n",
       "      <th>areasize</th>\n",
       "      <th>is_large</th>\n",
       "      <th>area_sq</th>\n",
       "      <th>room</th>\n",
       "      <th>L</th>\n",
       "      <th>D</th>\n",
       "      <th>K</th>\n",
       "      <th>S</th>\n",
       "      <th>apr</th>\n",
       "      <th>year</th>\n",
       "      <th>...</th>\n",
       "      <th>dist18</th>\n",
       "      <th>dist19</th>\n",
       "      <th>dist20</th>\n",
       "      <th>dist21</th>\n",
       "      <th>dist22</th>\n",
       "      <th>walk</th>\n",
       "      <th>avgwalk</th>\n",
       "      <th>park0</th>\n",
       "      <th>park1</th>\n",
       "      <th>park2</th>\n",
       "    </tr>\n",
       "  </thead>\n",
       "  <tbody>\n",
       "    <tr>\n",
       "      <th>0</th>\n",
       "      <td>2.996232</td>\n",
       "      <td>0</td>\n",
       "      <td>4.0</td>\n",
       "      <td>1</td>\n",
       "      <td>0</td>\n",
       "      <td>0</td>\n",
       "      <td>1</td>\n",
       "      <td>0</td>\n",
       "      <td>2.996232</td>\n",
       "      <td>9</td>\n",
       "      <td>...</td>\n",
       "      <td>0.0</td>\n",
       "      <td>0.0</td>\n",
       "      <td>0.0</td>\n",
       "      <td>0.0</td>\n",
       "      <td>0.0</td>\n",
       "      <td>4</td>\n",
       "      <td>8.333333</td>\n",
       "      <td>1</td>\n",
       "      <td>0</td>\n",
       "      <td>0</td>\n",
       "    </tr>\n",
       "    <tr>\n",
       "      <th>1</th>\n",
       "      <td>2.803360</td>\n",
       "      <td>0</td>\n",
       "      <td>4.0</td>\n",
       "      <td>1</td>\n",
       "      <td>0</td>\n",
       "      <td>0</td>\n",
       "      <td>0</td>\n",
       "      <td>0</td>\n",
       "      <td>2.803360</td>\n",
       "      <td>44</td>\n",
       "      <td>...</td>\n",
       "      <td>0.0</td>\n",
       "      <td>0.0</td>\n",
       "      <td>0.0</td>\n",
       "      <td>0.0</td>\n",
       "      <td>0.0</td>\n",
       "      <td>5</td>\n",
       "      <td>11.333333</td>\n",
       "      <td>1</td>\n",
       "      <td>0</td>\n",
       "      <td>0</td>\n",
       "    </tr>\n",
       "    <tr>\n",
       "      <th>2</th>\n",
       "      <td>3.093313</td>\n",
       "      <td>0</td>\n",
       "      <td>5.0</td>\n",
       "      <td>1</td>\n",
       "      <td>0</td>\n",
       "      <td>0</td>\n",
       "      <td>1</td>\n",
       "      <td>0</td>\n",
       "      <td>3.093313</td>\n",
       "      <td>8</td>\n",
       "      <td>...</td>\n",
       "      <td>0.0</td>\n",
       "      <td>0.0</td>\n",
       "      <td>0.0</td>\n",
       "      <td>0.0</td>\n",
       "      <td>0.0</td>\n",
       "      <td>6</td>\n",
       "      <td>10.000000</td>\n",
       "      <td>1</td>\n",
       "      <td>0</td>\n",
       "      <td>1</td>\n",
       "    </tr>\n",
       "    <tr>\n",
       "      <th>3</th>\n",
       "      <td>4.102313</td>\n",
       "      <td>0</td>\n",
       "      <td>8.0</td>\n",
       "      <td>2</td>\n",
       "      <td>1</td>\n",
       "      <td>1</td>\n",
       "      <td>1</td>\n",
       "      <td>0</td>\n",
       "      <td>2.051156</td>\n",
       "      <td>29</td>\n",
       "      <td>...</td>\n",
       "      <td>0.0</td>\n",
       "      <td>0.0</td>\n",
       "      <td>0.0</td>\n",
       "      <td>0.0</td>\n",
       "      <td>0.0</td>\n",
       "      <td>9</td>\n",
       "      <td>8.666667</td>\n",
       "      <td>0</td>\n",
       "      <td>0</td>\n",
       "      <td>0</td>\n",
       "    </tr>\n",
       "    <tr>\n",
       "      <th>4</th>\n",
       "      <td>3.680343</td>\n",
       "      <td>0</td>\n",
       "      <td>6.0</td>\n",
       "      <td>2</td>\n",
       "      <td>0</td>\n",
       "      <td>1</td>\n",
       "      <td>1</td>\n",
       "      <td>0</td>\n",
       "      <td>1.840172</td>\n",
       "      <td>31</td>\n",
       "      <td>...</td>\n",
       "      <td>0.0</td>\n",
       "      <td>0.0</td>\n",
       "      <td>1.0</td>\n",
       "      <td>0.0</td>\n",
       "      <td>0.0</td>\n",
       "      <td>5</td>\n",
       "      <td>9.666667</td>\n",
       "      <td>0</td>\n",
       "      <td>0</td>\n",
       "      <td>0</td>\n",
       "    </tr>\n",
       "  </tbody>\n",
       "</table>\n",
       "<p>5 rows × 44 columns</p>\n",
       "</div>"
      ],
      "text/plain": [
       "   areasize  is_large  area_sq  room  L  D  K  S       apr  year  ...  dist18  \\\n",
       "0  2.996232         0      4.0     1  0  0  1  0  2.996232     9  ...     0.0   \n",
       "1  2.803360         0      4.0     1  0  0  0  0  2.803360    44  ...     0.0   \n",
       "2  3.093313         0      5.0     1  0  0  1  0  3.093313     8  ...     0.0   \n",
       "3  4.102313         0      8.0     2  1  1  1  0  2.051156    29  ...     0.0   \n",
       "4  3.680343         0      6.0     2  0  1  1  0  1.840172    31  ...     0.0   \n",
       "\n",
       "   dist19  dist20  dist21  dist22  walk    avgwalk  park0  park1  park2  \n",
       "0     0.0     0.0     0.0     0.0     4   8.333333      1      0      0  \n",
       "1     0.0     0.0     0.0     0.0     5  11.333333      1      0      0  \n",
       "2     0.0     0.0     0.0     0.0     6  10.000000      1      0      1  \n",
       "3     0.0     0.0     0.0     0.0     9   8.666667      0      0      0  \n",
       "4     0.0     1.0     0.0     0.0     5   9.666667      0      0      0  \n",
       "\n",
       "[5 rows x 44 columns]"
      ]
     },
     "execution_count": 5,
     "metadata": {},
     "output_type": "execute_result"
    }
   ],
   "source": [
    "m1.predict(train).head()"
   ]
  },
  {
   "cell_type": "code",
   "execution_count": 8,
   "metadata": {},
   "outputs": [
    {
     "data": {
      "text/plain": [
       "Index(['areasize', 'is_large', 'area_sq', 'room', 'L', 'D', 'K', 'S', 'apr',\n",
       "       'year', 'year_cat', 'what_floor', 'height_bld', 'height_percent',\n",
       "       'istower', 'ishigh', 'dist0', 'dist1', 'dist2', 'dist3', 'dist4',\n",
       "       'dist5', 'dist6', 'dist7', 'dist8', 'dist9', 'dist10', 'dist11',\n",
       "       'dist12', 'dist13', 'dist14', 'dist15', 'dist16', 'dist17', 'dist18',\n",
       "       'dist19', 'dist20', 'dist21', 'dist22', 'walk', 'avgwalk', 'park0',\n",
       "       'park1', 'park2'],\n",
       "      dtype='object')"
      ]
     },
     "execution_count": 8,
     "metadata": {},
     "output_type": "execute_result"
    }
   ],
   "source": [
    "m1.predict(train).columns"
   ]
  },
  {
   "cell_type": "code",
   "execution_count": 19,
   "metadata": {},
   "outputs": [
    {
     "data": {
      "text/plain": [
       "{'areasize': 833,\n",
       " 'dist16': 83,\n",
       " 'year': 331,\n",
       " 'dist15': 72,\n",
       " 'height_bld': 239,\n",
       " 'avgwalk': 329,\n",
       " 'dist4': 25,\n",
       " 'what_floor': 192,\n",
       " 'walk': 162,\n",
       " 'apr': 333,\n",
       " 'dist17': 41,\n",
       " 'room': 28,\n",
       " 'dist14': 29,\n",
       " 'dist3': 22,\n",
       " 'height_percent': 129,\n",
       " 'S': 14,\n",
       " 'dist1': 9,\n",
       " 'dist10': 16,\n",
       " 'dist9': 7,\n",
       " 'dist5': 15,\n",
       " 'L': 10,\n",
       " 'park2': 17,\n",
       " 'dist0': 6,\n",
       " 'dist11': 16,\n",
       " 'dist8': 16,\n",
       " 'park1': 44,\n",
       " 'dist19': 16,\n",
       " 'dist2': 10,\n",
       " 'park0': 27,\n",
       " 'dist6': 22,\n",
       " 'dist7': 13,\n",
       " 'dist22': 11,\n",
       " 'dist12': 9,\n",
       " 'dist18': 7,\n",
       " 'D': 3}"
      ]
     },
     "execution_count": 19,
     "metadata": {},
     "output_type": "execute_result"
    }
   ],
   "source": [
    "rm[-1].get_booster().get_score(importance_type='weight')"
   ]
  },
  {
   "cell_type": "code",
   "execution_count": 55,
   "metadata": {},
   "outputs": [],
   "source": [
    "ans.to_csv(\"bin_type_fe1.csv\",header=False,index=False)"
   ]
  },
  {
   "cell_type": "code",
   "execution_count": 59,
   "metadata": {
    "collapsed": true,
    "jupyter": {
     "outputs_hidden": true
    }
   },
   "outputs": [
    {
     "name": "stdout",
     "output_type": "stream",
     "text": [
      "Fitting 3 folds for each of 54 candidates, totalling 162 fits\n",
      "[CV] xgb__learning_rate=0.1, xgb__max_depth=7, xgb__min_child_weight=0, xgb__n_estimators=100, xgb__random_state=7777 \n",
      "[17:05:14] WARNING: src/objective/regression_obj.cu:152: reg:linear is now deprecated in favor of reg:squarederror.\n"
     ]
    },
    {
     "name": "stderr",
     "output_type": "stream",
     "text": [
      "[Parallel(n_jobs=1)]: Using backend SequentialBackend with 1 concurrent workers.\n"
     ]
    },
    {
     "name": "stdout",
     "output_type": "stream",
     "text": [
      "[CV]  xgb__learning_rate=0.1, xgb__max_depth=7, xgb__min_child_weight=0, xgb__n_estimators=100, xgb__random_state=7777, score=-20533275032.002, total=   0.6s\n",
      "[CV] xgb__learning_rate=0.1, xgb__max_depth=7, xgb__min_child_weight=0, xgb__n_estimators=100, xgb__random_state=7777 \n",
      "[17:05:14] WARNING: src/objective/regression_obj.cu:152: reg:linear is now deprecated in favor of reg:squarederror.\n"
     ]
    },
    {
     "name": "stderr",
     "output_type": "stream",
     "text": [
      "[Parallel(n_jobs=1)]: Done   1 out of   1 | elapsed:    0.6s remaining:    0.0s\n"
     ]
    },
    {
     "name": "stdout",
     "output_type": "stream",
     "text": [
      "[CV]  xgb__learning_rate=0.1, xgb__max_depth=7, xgb__min_child_weight=0, xgb__n_estimators=100, xgb__random_state=7777, score=-15907774518.319, total=   0.6s\n",
      "[CV] xgb__learning_rate=0.1, xgb__max_depth=7, xgb__min_child_weight=0, xgb__n_estimators=100, xgb__random_state=7777 \n",
      "[17:05:15] WARNING: src/objective/regression_obj.cu:152: reg:linear is now deprecated in favor of reg:squarederror.\n"
     ]
    },
    {
     "name": "stderr",
     "output_type": "stream",
     "text": [
      "[Parallel(n_jobs=1)]: Done   2 out of   2 | elapsed:    1.3s remaining:    0.0s\n"
     ]
    },
    {
     "name": "stdout",
     "output_type": "stream",
     "text": [
      "[CV]  xgb__learning_rate=0.1, xgb__max_depth=7, xgb__min_child_weight=0, xgb__n_estimators=100, xgb__random_state=7777, score=-9381239329.321, total=   0.6s\n",
      "[CV] xgb__learning_rate=0.1, xgb__max_depth=7, xgb__min_child_weight=0, xgb__n_estimators=120, xgb__random_state=7777 \n",
      "[17:05:16] WARNING: src/objective/regression_obj.cu:152: reg:linear is now deprecated in favor of reg:squarederror.\n",
      "[CV]  xgb__learning_rate=0.1, xgb__max_depth=7, xgb__min_child_weight=0, xgb__n_estimators=120, xgb__random_state=7777, score=-20454789224.898, total=   0.7s\n",
      "[CV] xgb__learning_rate=0.1, xgb__max_depth=7, xgb__min_child_weight=0, xgb__n_estimators=120, xgb__random_state=7777 \n",
      "[17:05:16] WARNING: src/objective/regression_obj.cu:152: reg:linear is now deprecated in favor of reg:squarederror.\n",
      "[CV]  xgb__learning_rate=0.1, xgb__max_depth=7, xgb__min_child_weight=0, xgb__n_estimators=120, xgb__random_state=7777, score=-15826305572.156, total=   0.9s\n",
      "[CV] xgb__learning_rate=0.1, xgb__max_depth=7, xgb__min_child_weight=0, xgb__n_estimators=120, xgb__random_state=7777 \n",
      "[17:05:17] WARNING: src/objective/regression_obj.cu:152: reg:linear is now deprecated in favor of reg:squarederror.\n",
      "[CV]  xgb__learning_rate=0.1, xgb__max_depth=7, xgb__min_child_weight=0, xgb__n_estimators=120, xgb__random_state=7777, score=-9344216831.108, total=   0.7s\n",
      "[CV] xgb__learning_rate=0.1, xgb__max_depth=7, xgb__min_child_weight=0, xgb__n_estimators=140, xgb__random_state=7777 \n",
      "[17:05:18] WARNING: src/objective/regression_obj.cu:152: reg:linear is now deprecated in favor of reg:squarederror.\n",
      "[CV]  xgb__learning_rate=0.1, xgb__max_depth=7, xgb__min_child_weight=0, xgb__n_estimators=140, xgb__random_state=7777, score=-20432090424.226, total=   0.8s\n",
      "[CV] xgb__learning_rate=0.1, xgb__max_depth=7, xgb__min_child_weight=0, xgb__n_estimators=140, xgb__random_state=7777 \n",
      "[17:05:19] WARNING: src/objective/regression_obj.cu:152: reg:linear is now deprecated in favor of reg:squarederror.\n",
      "[CV]  xgb__learning_rate=0.1, xgb__max_depth=7, xgb__min_child_weight=0, xgb__n_estimators=140, xgb__random_state=7777, score=-15737042417.208, total=   0.8s\n",
      "[CV] xgb__learning_rate=0.1, xgb__max_depth=7, xgb__min_child_weight=0, xgb__n_estimators=140, xgb__random_state=7777 \n",
      "[17:05:20] WARNING: src/objective/regression_obj.cu:152: reg:linear is now deprecated in favor of reg:squarederror.\n",
      "[CV]  xgb__learning_rate=0.1, xgb__max_depth=7, xgb__min_child_weight=0, xgb__n_estimators=140, xgb__random_state=7777, score=-9349755327.149, total=   0.8s\n",
      "[CV] xgb__learning_rate=0.1, xgb__max_depth=7, xgb__min_child_weight=5, xgb__n_estimators=100, xgb__random_state=7777 \n",
      "[17:05:20] WARNING: src/objective/regression_obj.cu:152: reg:linear is now deprecated in favor of reg:squarederror.\n",
      "[CV]  xgb__learning_rate=0.1, xgb__max_depth=7, xgb__min_child_weight=5, xgb__n_estimators=100, xgb__random_state=7777, score=-19281492539.326, total=   0.6s\n",
      "[CV] xgb__learning_rate=0.1, xgb__max_depth=7, xgb__min_child_weight=5, xgb__n_estimators=100, xgb__random_state=7777 \n",
      "[17:05:21] WARNING: src/objective/regression_obj.cu:152: reg:linear is now deprecated in favor of reg:squarederror.\n",
      "[CV]  xgb__learning_rate=0.1, xgb__max_depth=7, xgb__min_child_weight=5, xgb__n_estimators=100, xgb__random_state=7777, score=-12588586499.195, total=   0.6s\n",
      "[CV] xgb__learning_rate=0.1, xgb__max_depth=7, xgb__min_child_weight=5, xgb__n_estimators=100, xgb__random_state=7777 \n",
      "[17:05:21] WARNING: src/objective/regression_obj.cu:152: reg:linear is now deprecated in favor of reg:squarederror.\n",
      "[CV]  xgb__learning_rate=0.1, xgb__max_depth=7, xgb__min_child_weight=5, xgb__n_estimators=100, xgb__random_state=7777, score=-8927335457.249, total=   0.6s\n",
      "[CV] xgb__learning_rate=0.1, xgb__max_depth=7, xgb__min_child_weight=5, xgb__n_estimators=120, xgb__random_state=7777 \n",
      "[17:05:22] WARNING: src/objective/regression_obj.cu:152: reg:linear is now deprecated in favor of reg:squarederror.\n",
      "[CV]  xgb__learning_rate=0.1, xgb__max_depth=7, xgb__min_child_weight=5, xgb__n_estimators=120, xgb__random_state=7777, score=-19085152003.158, total=   0.7s\n",
      "[CV] xgb__learning_rate=0.1, xgb__max_depth=7, xgb__min_child_weight=5, xgb__n_estimators=120, xgb__random_state=7777 \n",
      "[17:05:23] WARNING: src/objective/regression_obj.cu:152: reg:linear is now deprecated in favor of reg:squarederror.\n",
      "[CV]  xgb__learning_rate=0.1, xgb__max_depth=7, xgb__min_child_weight=5, xgb__n_estimators=120, xgb__random_state=7777, score=-12601545457.041, total=   0.7s\n",
      "[CV] xgb__learning_rate=0.1, xgb__max_depth=7, xgb__min_child_weight=5, xgb__n_estimators=120, xgb__random_state=7777 \n",
      "[17:05:23] WARNING: src/objective/regression_obj.cu:152: reg:linear is now deprecated in favor of reg:squarederror.\n",
      "[CV]  xgb__learning_rate=0.1, xgb__max_depth=7, xgb__min_child_weight=5, xgb__n_estimators=120, xgb__random_state=7777, score=-8963294859.760, total=   0.7s\n",
      "[CV] xgb__learning_rate=0.1, xgb__max_depth=7, xgb__min_child_weight=5, xgb__n_estimators=140, xgb__random_state=7777 \n",
      "[17:05:24] WARNING: src/objective/regression_obj.cu:152: reg:linear is now deprecated in favor of reg:squarederror.\n",
      "[CV]  xgb__learning_rate=0.1, xgb__max_depth=7, xgb__min_child_weight=5, xgb__n_estimators=140, xgb__random_state=7777, score=-19024633588.377, total=   0.8s\n",
      "[CV] xgb__learning_rate=0.1, xgb__max_depth=7, xgb__min_child_weight=5, xgb__n_estimators=140, xgb__random_state=7777 \n",
      "[17:05:25] WARNING: src/objective/regression_obj.cu:152: reg:linear is now deprecated in favor of reg:squarederror.\n",
      "[CV]  xgb__learning_rate=0.1, xgb__max_depth=7, xgb__min_child_weight=5, xgb__n_estimators=140, xgb__random_state=7777, score=-12501917433.676, total=   0.8s\n",
      "[CV] xgb__learning_rate=0.1, xgb__max_depth=7, xgb__min_child_weight=5, xgb__n_estimators=140, xgb__random_state=7777 \n",
      "[17:05:26] WARNING: src/objective/regression_obj.cu:152: reg:linear is now deprecated in favor of reg:squarederror.\n",
      "[CV]  xgb__learning_rate=0.1, xgb__max_depth=7, xgb__min_child_weight=5, xgb__n_estimators=140, xgb__random_state=7777, score=-9065834367.318, total=   0.8s\n",
      "[CV] xgb__learning_rate=0.1, xgb__max_depth=7, xgb__min_child_weight=15, xgb__n_estimators=100, xgb__random_state=7777 \n",
      "[17:05:27] WARNING: src/objective/regression_obj.cu:152: reg:linear is now deprecated in favor of reg:squarederror.\n",
      "[CV]  xgb__learning_rate=0.1, xgb__max_depth=7, xgb__min_child_weight=15, xgb__n_estimators=100, xgb__random_state=7777, score=-25294512024.048, total=   0.8s\n",
      "[CV] xgb__learning_rate=0.1, xgb__max_depth=7, xgb__min_child_weight=15, xgb__n_estimators=100, xgb__random_state=7777 \n",
      "[17:05:27] WARNING: src/objective/regression_obj.cu:152: reg:linear is now deprecated in favor of reg:squarederror.\n",
      "[CV]  xgb__learning_rate=0.1, xgb__max_depth=7, xgb__min_child_weight=15, xgb__n_estimators=100, xgb__random_state=7777, score=-13617868639.385, total=   0.6s\n",
      "[CV] xgb__learning_rate=0.1, xgb__max_depth=7, xgb__min_child_weight=15, xgb__n_estimators=100, xgb__random_state=7777 \n",
      "[17:05:28] WARNING: src/objective/regression_obj.cu:152: reg:linear is now deprecated in favor of reg:squarederror.\n",
      "[CV]  xgb__learning_rate=0.1, xgb__max_depth=7, xgb__min_child_weight=15, xgb__n_estimators=100, xgb__random_state=7777, score=-7546605604.323, total=   0.6s\n",
      "[CV] xgb__learning_rate=0.1, xgb__max_depth=7, xgb__min_child_weight=15, xgb__n_estimators=120, xgb__random_state=7777 \n",
      "[17:05:28] WARNING: src/objective/regression_obj.cu:152: reg:linear is now deprecated in favor of reg:squarederror.\n",
      "[CV]  xgb__learning_rate=0.1, xgb__max_depth=7, xgb__min_child_weight=15, xgb__n_estimators=120, xgb__random_state=7777, score=-24889504841.799, total=   0.7s\n",
      "[CV] xgb__learning_rate=0.1, xgb__max_depth=7, xgb__min_child_weight=15, xgb__n_estimators=120, xgb__random_state=7777 \n",
      "[17:05:29] WARNING: src/objective/regression_obj.cu:152: reg:linear is now deprecated in favor of reg:squarederror.\n",
      "[CV]  xgb__learning_rate=0.1, xgb__max_depth=7, xgb__min_child_weight=15, xgb__n_estimators=120, xgb__random_state=7777, score=-13352949146.832, total=   0.7s\n",
      "[CV] xgb__learning_rate=0.1, xgb__max_depth=7, xgb__min_child_weight=15, xgb__n_estimators=120, xgb__random_state=7777 \n",
      "[17:05:30] WARNING: src/objective/regression_obj.cu:152: reg:linear is now deprecated in favor of reg:squarederror.\n",
      "[CV]  xgb__learning_rate=0.1, xgb__max_depth=7, xgb__min_child_weight=15, xgb__n_estimators=120, xgb__random_state=7777, score=-7800317632.719, total=   0.7s\n",
      "[CV] xgb__learning_rate=0.1, xgb__max_depth=7, xgb__min_child_weight=15, xgb__n_estimators=140, xgb__random_state=7777 \n",
      "[17:05:30] WARNING: src/objective/regression_obj.cu:152: reg:linear is now deprecated in favor of reg:squarederror.\n",
      "[CV]  xgb__learning_rate=0.1, xgb__max_depth=7, xgb__min_child_weight=15, xgb__n_estimators=140, xgb__random_state=7777, score=-24598357010.996, total=   0.8s\n",
      "[CV] xgb__learning_rate=0.1, xgb__max_depth=7, xgb__min_child_weight=15, xgb__n_estimators=140, xgb__random_state=7777 \n",
      "[17:05:31] WARNING: src/objective/regression_obj.cu:152: reg:linear is now deprecated in favor of reg:squarederror.\n",
      "[CV]  xgb__learning_rate=0.1, xgb__max_depth=7, xgb__min_child_weight=15, xgb__n_estimators=140, xgb__random_state=7777, score=-13390394141.260, total=   0.9s\n",
      "[CV] xgb__learning_rate=0.1, xgb__max_depth=7, xgb__min_child_weight=15, xgb__n_estimators=140, xgb__random_state=7777 \n",
      "[17:05:32] WARNING: src/objective/regression_obj.cu:152: reg:linear is now deprecated in favor of reg:squarederror.\n",
      "[CV]  xgb__learning_rate=0.1, xgb__max_depth=7, xgb__min_child_weight=15, xgb__n_estimators=140, xgb__random_state=7777, score=-7833974177.644, total=   1.0s\n",
      "[CV] xgb__learning_rate=0.1, xgb__max_depth=8, xgb__min_child_weight=0, xgb__n_estimators=100, xgb__random_state=7777 \n",
      "[17:05:33] WARNING: src/objective/regression_obj.cu:152: reg:linear is now deprecated in favor of reg:squarederror.\n",
      "[CV]  xgb__learning_rate=0.1, xgb__max_depth=8, xgb__min_child_weight=0, xgb__n_estimators=100, xgb__random_state=7777, score=-20346813179.084, total=   0.8s\n",
      "[CV] xgb__learning_rate=0.1, xgb__max_depth=8, xgb__min_child_weight=0, xgb__n_estimators=100, xgb__random_state=7777 \n",
      "[17:05:34] WARNING: src/objective/regression_obj.cu:152: reg:linear is now deprecated in favor of reg:squarederror.\n",
      "[CV]  xgb__learning_rate=0.1, xgb__max_depth=8, xgb__min_child_weight=0, xgb__n_estimators=100, xgb__random_state=7777, score=-16514974765.446, total=   0.7s\n",
      "[CV] xgb__learning_rate=0.1, xgb__max_depth=8, xgb__min_child_weight=0, xgb__n_estimators=100, xgb__random_state=7777 \n",
      "[17:05:35] WARNING: src/objective/regression_obj.cu:152: reg:linear is now deprecated in favor of reg:squarederror.\n",
      "[CV]  xgb__learning_rate=0.1, xgb__max_depth=8, xgb__min_child_weight=0, xgb__n_estimators=100, xgb__random_state=7777, score=-10123918320.484, total=   0.7s\n",
      "[CV] xgb__learning_rate=0.1, xgb__max_depth=8, xgb__min_child_weight=0, xgb__n_estimators=120, xgb__random_state=7777 \n",
      "[17:05:35] WARNING: src/objective/regression_obj.cu:152: reg:linear is now deprecated in favor of reg:squarederror.\n",
      "[CV]  xgb__learning_rate=0.1, xgb__max_depth=8, xgb__min_child_weight=0, xgb__n_estimators=120, xgb__random_state=7777, score=-20295615134.759, total=   0.8s\n",
      "[CV] xgb__learning_rate=0.1, xgb__max_depth=8, xgb__min_child_weight=0, xgb__n_estimators=120, xgb__random_state=7777 \n",
      "[17:05:36] WARNING: src/objective/regression_obj.cu:152: reg:linear is now deprecated in favor of reg:squarederror.\n",
      "[CV]  xgb__learning_rate=0.1, xgb__max_depth=8, xgb__min_child_weight=0, xgb__n_estimators=120, xgb__random_state=7777, score=-16417372230.032, total=   0.9s\n",
      "[CV] xgb__learning_rate=0.1, xgb__max_depth=8, xgb__min_child_weight=0, xgb__n_estimators=120, xgb__random_state=7777 \n",
      "[17:05:37] WARNING: src/objective/regression_obj.cu:152: reg:linear is now deprecated in favor of reg:squarederror.\n",
      "[CV]  xgb__learning_rate=0.1, xgb__max_depth=8, xgb__min_child_weight=0, xgb__n_estimators=120, xgb__random_state=7777, score=-10117206105.257, total=   1.0s\n",
      "[CV] xgb__learning_rate=0.1, xgb__max_depth=8, xgb__min_child_weight=0, xgb__n_estimators=140, xgb__random_state=7777 \n",
      "[17:05:38] WARNING: src/objective/regression_obj.cu:152: reg:linear is now deprecated in favor of reg:squarederror.\n",
      "[CV]  xgb__learning_rate=0.1, xgb__max_depth=8, xgb__min_child_weight=0, xgb__n_estimators=140, xgb__random_state=7777, score=-20273407538.885, total=   0.9s\n",
      "[CV] xgb__learning_rate=0.1, xgb__max_depth=8, xgb__min_child_weight=0, xgb__n_estimators=140, xgb__random_state=7777 \n",
      "[17:05:39] WARNING: src/objective/regression_obj.cu:152: reg:linear is now deprecated in favor of reg:squarederror.\n",
      "[CV]  xgb__learning_rate=0.1, xgb__max_depth=8, xgb__min_child_weight=0, xgb__n_estimators=140, xgb__random_state=7777, score=-16403004857.830, total=   0.8s\n",
      "[CV] xgb__learning_rate=0.1, xgb__max_depth=8, xgb__min_child_weight=0, xgb__n_estimators=140, xgb__random_state=7777 \n",
      "[17:05:40] WARNING: src/objective/regression_obj.cu:152: reg:linear is now deprecated in favor of reg:squarederror.\n",
      "[CV]  xgb__learning_rate=0.1, xgb__max_depth=8, xgb__min_child_weight=0, xgb__n_estimators=140, xgb__random_state=7777, score=-10115012469.775, total=   0.8s\n",
      "[CV] xgb__learning_rate=0.1, xgb__max_depth=8, xgb__min_child_weight=5, xgb__n_estimators=100, xgb__random_state=7777 \n",
      "[17:05:41] WARNING: src/objective/regression_obj.cu:152: reg:linear is now deprecated in favor of reg:squarederror.\n",
      "[CV]  xgb__learning_rate=0.1, xgb__max_depth=8, xgb__min_child_weight=5, xgb__n_estimators=100, xgb__random_state=7777, score=-19343516265.916, total=   0.6s\n",
      "[CV] xgb__learning_rate=0.1, xgb__max_depth=8, xgb__min_child_weight=5, xgb__n_estimators=100, xgb__random_state=7777 \n",
      "[17:05:41] WARNING: src/objective/regression_obj.cu:152: reg:linear is now deprecated in favor of reg:squarederror.\n",
      "[CV]  xgb__learning_rate=0.1, xgb__max_depth=8, xgb__min_child_weight=5, xgb__n_estimators=100, xgb__random_state=7777, score=-13041504230.050, total=   0.6s\n",
      "[CV] xgb__learning_rate=0.1, xgb__max_depth=8, xgb__min_child_weight=5, xgb__n_estimators=100, xgb__random_state=7777 \n",
      "[17:05:42] WARNING: src/objective/regression_obj.cu:152: reg:linear is now deprecated in favor of reg:squarederror.\n",
      "[CV]  xgb__learning_rate=0.1, xgb__max_depth=8, xgb__min_child_weight=5, xgb__n_estimators=100, xgb__random_state=7777, score=-8733665645.523, total=   0.6s\n",
      "[CV] xgb__learning_rate=0.1, xgb__max_depth=8, xgb__min_child_weight=5, xgb__n_estimators=120, xgb__random_state=7777 \n",
      "[17:05:43] WARNING: src/objective/regression_obj.cu:152: reg:linear is now deprecated in favor of reg:squarederror.\n",
      "[CV]  xgb__learning_rate=0.1, xgb__max_depth=8, xgb__min_child_weight=5, xgb__n_estimators=120, xgb__random_state=7777, score=-19168806231.813, total=   0.7s\n",
      "[CV] xgb__learning_rate=0.1, xgb__max_depth=8, xgb__min_child_weight=5, xgb__n_estimators=120, xgb__random_state=7777 \n",
      "[17:05:43] WARNING: src/objective/regression_obj.cu:152: reg:linear is now deprecated in favor of reg:squarederror.\n",
      "[CV]  xgb__learning_rate=0.1, xgb__max_depth=8, xgb__min_child_weight=5, xgb__n_estimators=120, xgb__random_state=7777, score=-12923225883.166, total=   0.7s\n",
      "[CV] xgb__learning_rate=0.1, xgb__max_depth=8, xgb__min_child_weight=5, xgb__n_estimators=120, xgb__random_state=7777 \n",
      "[17:05:44] WARNING: src/objective/regression_obj.cu:152: reg:linear is now deprecated in favor of reg:squarederror.\n",
      "[CV]  xgb__learning_rate=0.1, xgb__max_depth=8, xgb__min_child_weight=5, xgb__n_estimators=120, xgb__random_state=7777, score=-8839460286.832, total=   0.7s\n",
      "[CV] xgb__learning_rate=0.1, xgb__max_depth=8, xgb__min_child_weight=5, xgb__n_estimators=140, xgb__random_state=7777 \n",
      "[17:05:45] WARNING: src/objective/regression_obj.cu:152: reg:linear is now deprecated in favor of reg:squarederror.\n",
      "[CV]  xgb__learning_rate=0.1, xgb__max_depth=8, xgb__min_child_weight=5, xgb__n_estimators=140, xgb__random_state=7777, score=-19137024612.139, total=   0.9s\n",
      "[CV] xgb__learning_rate=0.1, xgb__max_depth=8, xgb__min_child_weight=5, xgb__n_estimators=140, xgb__random_state=7777 \n",
      "[17:05:46] WARNING: src/objective/regression_obj.cu:152: reg:linear is now deprecated in favor of reg:squarederror.\n",
      "[CV]  xgb__learning_rate=0.1, xgb__max_depth=8, xgb__min_child_weight=5, xgb__n_estimators=140, xgb__random_state=7777, score=-12958878911.871, total=   1.0s\n",
      "[CV] xgb__learning_rate=0.1, xgb__max_depth=8, xgb__min_child_weight=5, xgb__n_estimators=140, xgb__random_state=7777 \n",
      "[17:05:47] WARNING: src/objective/regression_obj.cu:152: reg:linear is now deprecated in favor of reg:squarederror.\n",
      "[CV]  xgb__learning_rate=0.1, xgb__max_depth=8, xgb__min_child_weight=5, xgb__n_estimators=140, xgb__random_state=7777, score=-9061560977.310, total=   0.9s\n",
      "[CV] xgb__learning_rate=0.1, xgb__max_depth=8, xgb__min_child_weight=15, xgb__n_estimators=100, xgb__random_state=7777 \n",
      "[17:05:47] WARNING: src/objective/regression_obj.cu:152: reg:linear is now deprecated in favor of reg:squarederror.\n",
      "[CV]  xgb__learning_rate=0.1, xgb__max_depth=8, xgb__min_child_weight=15, xgb__n_estimators=100, xgb__random_state=7777, score=-25403443493.504, total=   0.6s\n",
      "[CV] xgb__learning_rate=0.1, xgb__max_depth=8, xgb__min_child_weight=15, xgb__n_estimators=100, xgb__random_state=7777 \n",
      "[17:05:48] WARNING: src/objective/regression_obj.cu:152: reg:linear is now deprecated in favor of reg:squarederror.\n",
      "[CV]  xgb__learning_rate=0.1, xgb__max_depth=8, xgb__min_child_weight=15, xgb__n_estimators=100, xgb__random_state=7777, score=-14026303477.436, total=   0.6s\n",
      "[CV] xgb__learning_rate=0.1, xgb__max_depth=8, xgb__min_child_weight=15, xgb__n_estimators=100, xgb__random_state=7777 \n",
      "[17:05:49] WARNING: src/objective/regression_obj.cu:152: reg:linear is now deprecated in favor of reg:squarederror.\n",
      "[CV]  xgb__learning_rate=0.1, xgb__max_depth=8, xgb__min_child_weight=15, xgb__n_estimators=100, xgb__random_state=7777, score=-8276420139.330, total=   0.6s\n",
      "[CV] xgb__learning_rate=0.1, xgb__max_depth=8, xgb__min_child_weight=15, xgb__n_estimators=120, xgb__random_state=7777 \n",
      "[17:05:49] WARNING: src/objective/regression_obj.cu:152: reg:linear is now deprecated in favor of reg:squarederror.\n",
      "[CV]  xgb__learning_rate=0.1, xgb__max_depth=8, xgb__min_child_weight=15, xgb__n_estimators=120, xgb__random_state=7777, score=-24830891069.117, total=   0.7s\n",
      "[CV] xgb__learning_rate=0.1, xgb__max_depth=8, xgb__min_child_weight=15, xgb__n_estimators=120, xgb__random_state=7777 \n",
      "[17:05:50] WARNING: src/objective/regression_obj.cu:152: reg:linear is now deprecated in favor of reg:squarederror.\n",
      "[CV]  xgb__learning_rate=0.1, xgb__max_depth=8, xgb__min_child_weight=15, xgb__n_estimators=120, xgb__random_state=7777, score=-13812764666.637, total=   0.7s\n",
      "[CV] xgb__learning_rate=0.1, xgb__max_depth=8, xgb__min_child_weight=15, xgb__n_estimators=120, xgb__random_state=7777 \n",
      "[17:05:51] WARNING: src/objective/regression_obj.cu:152: reg:linear is now deprecated in favor of reg:squarederror.\n",
      "[CV]  xgb__learning_rate=0.1, xgb__max_depth=8, xgb__min_child_weight=15, xgb__n_estimators=120, xgb__random_state=7777, score=-8238397881.800, total=   0.7s\n",
      "[CV] xgb__learning_rate=0.1, xgb__max_depth=8, xgb__min_child_weight=15, xgb__n_estimators=140, xgb__random_state=7777 \n",
      "[17:05:52] WARNING: src/objective/regression_obj.cu:152: reg:linear is now deprecated in favor of reg:squarederror.\n",
      "[CV]  xgb__learning_rate=0.1, xgb__max_depth=8, xgb__min_child_weight=15, xgb__n_estimators=140, xgb__random_state=7777, score=-24366597613.085, total=   0.8s\n",
      "[CV] xgb__learning_rate=0.1, xgb__max_depth=8, xgb__min_child_weight=15, xgb__n_estimators=140, xgb__random_state=7777 \n",
      "[17:05:52] WARNING: src/objective/regression_obj.cu:152: reg:linear is now deprecated in favor of reg:squarederror.\n",
      "[CV]  xgb__learning_rate=0.1, xgb__max_depth=8, xgb__min_child_weight=15, xgb__n_estimators=140, xgb__random_state=7777, score=-13915697366.388, total=   0.8s\n",
      "[CV] xgb__learning_rate=0.1, xgb__max_depth=8, xgb__min_child_weight=15, xgb__n_estimators=140, xgb__random_state=7777 \n",
      "[17:05:53] WARNING: src/objective/regression_obj.cu:152: reg:linear is now deprecated in favor of reg:squarederror.\n",
      "[CV]  xgb__learning_rate=0.1, xgb__max_depth=8, xgb__min_child_weight=15, xgb__n_estimators=140, xgb__random_state=7777, score=-8355761232.857, total=   0.8s\n",
      "[CV] xgb__learning_rate=0.1, xgb__max_depth=9, xgb__min_child_weight=0, xgb__n_estimators=100, xgb__random_state=7777 \n",
      "[17:05:54] WARNING: src/objective/regression_obj.cu:152: reg:linear is now deprecated in favor of reg:squarederror.\n",
      "[CV]  xgb__learning_rate=0.1, xgb__max_depth=9, xgb__min_child_weight=0, xgb__n_estimators=100, xgb__random_state=7777, score=-21304206114.800, total=   0.7s\n",
      "[CV] xgb__learning_rate=0.1, xgb__max_depth=9, xgb__min_child_weight=0, xgb__n_estimators=100, xgb__random_state=7777 \n",
      "[17:05:55] WARNING: src/objective/regression_obj.cu:152: reg:linear is now deprecated in favor of reg:squarederror.\n",
      "[CV]  xgb__learning_rate=0.1, xgb__max_depth=9, xgb__min_child_weight=0, xgb__n_estimators=100, xgb__random_state=7777, score=-16985220127.604, total=   0.7s\n",
      "[CV] xgb__learning_rate=0.1, xgb__max_depth=9, xgb__min_child_weight=0, xgb__n_estimators=100, xgb__random_state=7777 \n",
      "[17:05:55] WARNING: src/objective/regression_obj.cu:152: reg:linear is now deprecated in favor of reg:squarederror.\n",
      "[CV]  xgb__learning_rate=0.1, xgb__max_depth=9, xgb__min_child_weight=0, xgb__n_estimators=100, xgb__random_state=7777, score=-10216197261.518, total=   0.7s\n",
      "[CV] xgb__learning_rate=0.1, xgb__max_depth=9, xgb__min_child_weight=0, xgb__n_estimators=120, xgb__random_state=7777 \n",
      "[17:05:56] WARNING: src/objective/regression_obj.cu:152: reg:linear is now deprecated in favor of reg:squarederror.\n",
      "[CV]  xgb__learning_rate=0.1, xgb__max_depth=9, xgb__min_child_weight=0, xgb__n_estimators=120, xgb__random_state=7777, score=-21257787195.069, total=   0.9s\n",
      "[CV] xgb__learning_rate=0.1, xgb__max_depth=9, xgb__min_child_weight=0, xgb__n_estimators=120, xgb__random_state=7777 \n",
      "[17:05:57] WARNING: src/objective/regression_obj.cu:152: reg:linear is now deprecated in favor of reg:squarederror.\n",
      "[CV]  xgb__learning_rate=0.1, xgb__max_depth=9, xgb__min_child_weight=0, xgb__n_estimators=120, xgb__random_state=7777, score=-16869888831.521, total=   0.8s\n",
      "[CV] xgb__learning_rate=0.1, xgb__max_depth=9, xgb__min_child_weight=0, xgb__n_estimators=120, xgb__random_state=7777 \n",
      "[17:05:58] WARNING: src/objective/regression_obj.cu:152: reg:linear is now deprecated in favor of reg:squarederror.\n",
      "[CV]  xgb__learning_rate=0.1, xgb__max_depth=9, xgb__min_child_weight=0, xgb__n_estimators=120, xgb__random_state=7777, score=-10225547603.747, total=   1.4s\n",
      "[CV] xgb__learning_rate=0.1, xgb__max_depth=9, xgb__min_child_weight=0, xgb__n_estimators=140, xgb__random_state=7777 \n",
      "[17:05:59] WARNING: src/objective/regression_obj.cu:152: reg:linear is now deprecated in favor of reg:squarederror.\n",
      "[CV]  xgb__learning_rate=0.1, xgb__max_depth=9, xgb__min_child_weight=0, xgb__n_estimators=140, xgb__random_state=7777, score=-21233297747.244, total=   1.3s\n",
      "[CV] xgb__learning_rate=0.1, xgb__max_depth=9, xgb__min_child_weight=0, xgb__n_estimators=140, xgb__random_state=7777 \n",
      "[17:06:00] WARNING: src/objective/regression_obj.cu:152: reg:linear is now deprecated in favor of reg:squarederror.\n",
      "[CV]  xgb__learning_rate=0.1, xgb__max_depth=9, xgb__min_child_weight=0, xgb__n_estimators=140, xgb__random_state=7777, score=-16835666815.551, total=   1.4s\n",
      "[CV] xgb__learning_rate=0.1, xgb__max_depth=9, xgb__min_child_weight=0, xgb__n_estimators=140, xgb__random_state=7777 \n",
      "[17:06:02] WARNING: src/objective/regression_obj.cu:152: reg:linear is now deprecated in favor of reg:squarederror.\n",
      "[CV]  xgb__learning_rate=0.1, xgb__max_depth=9, xgb__min_child_weight=0, xgb__n_estimators=140, xgb__random_state=7777, score=-10215378551.775, total=   1.2s\n",
      "[CV] xgb__learning_rate=0.1, xgb__max_depth=9, xgb__min_child_weight=5, xgb__n_estimators=100, xgb__random_state=7777 \n",
      "[17:06:03] WARNING: src/objective/regression_obj.cu:152: reg:linear is now deprecated in favor of reg:squarederror.\n",
      "[CV]  xgb__learning_rate=0.1, xgb__max_depth=9, xgb__min_child_weight=5, xgb__n_estimators=100, xgb__random_state=7777, score=-19931237647.185, total=   0.7s\n",
      "[CV] xgb__learning_rate=0.1, xgb__max_depth=9, xgb__min_child_weight=5, xgb__n_estimators=100, xgb__random_state=7777 \n",
      "[17:06:04] WARNING: src/objective/regression_obj.cu:152: reg:linear is now deprecated in favor of reg:squarederror.\n",
      "[CV]  xgb__learning_rate=0.1, xgb__max_depth=9, xgb__min_child_weight=5, xgb__n_estimators=100, xgb__random_state=7777, score=-13613317697.918, total=   0.7s\n",
      "[CV] xgb__learning_rate=0.1, xgb__max_depth=9, xgb__min_child_weight=5, xgb__n_estimators=100, xgb__random_state=7777 \n",
      "[17:06:04] WARNING: src/objective/regression_obj.cu:152: reg:linear is now deprecated in favor of reg:squarederror.\n",
      "[CV]  xgb__learning_rate=0.1, xgb__max_depth=9, xgb__min_child_weight=5, xgb__n_estimators=100, xgb__random_state=7777, score=-9412994942.226, total=   0.8s\n",
      "[CV] xgb__learning_rate=0.1, xgb__max_depth=9, xgb__min_child_weight=5, xgb__n_estimators=120, xgb__random_state=7777 \n",
      "[17:06:05] WARNING: src/objective/regression_obj.cu:152: reg:linear is now deprecated in favor of reg:squarederror.\n",
      "[CV]  xgb__learning_rate=0.1, xgb__max_depth=9, xgb__min_child_weight=5, xgb__n_estimators=120, xgb__random_state=7777, score=-20019368387.262, total=   1.3s\n",
      "[CV] xgb__learning_rate=0.1, xgb__max_depth=9, xgb__min_child_weight=5, xgb__n_estimators=120, xgb__random_state=7777 \n",
      "[17:06:07] WARNING: src/objective/regression_obj.cu:152: reg:linear is now deprecated in favor of reg:squarederror.\n",
      "[CV]  xgb__learning_rate=0.1, xgb__max_depth=9, xgb__min_child_weight=5, xgb__n_estimators=120, xgb__random_state=7777, score=-13576887726.663, total=   1.2s\n",
      "[CV] xgb__learning_rate=0.1, xgb__max_depth=9, xgb__min_child_weight=5, xgb__n_estimators=120, xgb__random_state=7777 \n",
      "[17:06:08] WARNING: src/objective/regression_obj.cu:152: reg:linear is now deprecated in favor of reg:squarederror.\n",
      "[CV]  xgb__learning_rate=0.1, xgb__max_depth=9, xgb__min_child_weight=5, xgb__n_estimators=120, xgb__random_state=7777, score=-9617033373.086, total=   2.4s\n",
      "[CV] xgb__learning_rate=0.1, xgb__max_depth=9, xgb__min_child_weight=5, xgb__n_estimators=140, xgb__random_state=7777 \n",
      "[17:06:10] WARNING: src/objective/regression_obj.cu:152: reg:linear is now deprecated in favor of reg:squarederror.\n",
      "[CV]  xgb__learning_rate=0.1, xgb__max_depth=9, xgb__min_child_weight=5, xgb__n_estimators=140, xgb__random_state=7777, score=-20097839735.399, total=   2.8s\n",
      "[CV] xgb__learning_rate=0.1, xgb__max_depth=9, xgb__min_child_weight=5, xgb__n_estimators=140, xgb__random_state=7777 \n",
      "[17:06:13] WARNING: src/objective/regression_obj.cu:152: reg:linear is now deprecated in favor of reg:squarederror.\n",
      "[CV]  xgb__learning_rate=0.1, xgb__max_depth=9, xgb__min_child_weight=5, xgb__n_estimators=140, xgb__random_state=7777, score=-13540130709.907, total=   1.2s\n",
      "[CV] xgb__learning_rate=0.1, xgb__max_depth=9, xgb__min_child_weight=5, xgb__n_estimators=140, xgb__random_state=7777 \n",
      "[17:06:14] WARNING: src/objective/regression_obj.cu:152: reg:linear is now deprecated in favor of reg:squarederror.\n",
      "[CV]  xgb__learning_rate=0.1, xgb__max_depth=9, xgb__min_child_weight=5, xgb__n_estimators=140, xgb__random_state=7777, score=-9867172146.532, total=   0.9s\n",
      "[CV] xgb__learning_rate=0.1, xgb__max_depth=9, xgb__min_child_weight=15, xgb__n_estimators=100, xgb__random_state=7777 \n",
      "[17:06:15] WARNING: src/objective/regression_obj.cu:152: reg:linear is now deprecated in favor of reg:squarederror.\n",
      "[CV]  xgb__learning_rate=0.1, xgb__max_depth=9, xgb__min_child_weight=15, xgb__n_estimators=100, xgb__random_state=7777, score=-24877914374.101, total=   0.6s\n",
      "[CV] xgb__learning_rate=0.1, xgb__max_depth=9, xgb__min_child_weight=15, xgb__n_estimators=100, xgb__random_state=7777 \n",
      "[17:06:16] WARNING: src/objective/regression_obj.cu:152: reg:linear is now deprecated in favor of reg:squarederror.\n",
      "[CV]  xgb__learning_rate=0.1, xgb__max_depth=9, xgb__min_child_weight=15, xgb__n_estimators=100, xgb__random_state=7777, score=-14207044883.454, total=   0.7s\n",
      "[CV] xgb__learning_rate=0.1, xgb__max_depth=9, xgb__min_child_weight=15, xgb__n_estimators=100, xgb__random_state=7777 \n",
      "[17:06:16] WARNING: src/objective/regression_obj.cu:152: reg:linear is now deprecated in favor of reg:squarederror.\n",
      "[CV]  xgb__learning_rate=0.1, xgb__max_depth=9, xgb__min_child_weight=15, xgb__n_estimators=100, xgb__random_state=7777, score=-7629203700.163, total=   0.6s\n",
      "[CV] xgb__learning_rate=0.1, xgb__max_depth=9, xgb__min_child_weight=15, xgb__n_estimators=120, xgb__random_state=7777 \n",
      "[17:06:17] WARNING: src/objective/regression_obj.cu:152: reg:linear is now deprecated in favor of reg:squarederror.\n",
      "[CV]  xgb__learning_rate=0.1, xgb__max_depth=9, xgb__min_child_weight=15, xgb__n_estimators=120, xgb__random_state=7777, score=-24603979575.403, total=   0.7s\n",
      "[CV] xgb__learning_rate=0.1, xgb__max_depth=9, xgb__min_child_weight=15, xgb__n_estimators=120, xgb__random_state=7777 \n",
      "[17:06:18] WARNING: src/objective/regression_obj.cu:152: reg:linear is now deprecated in favor of reg:squarederror.\n",
      "[CV]  xgb__learning_rate=0.1, xgb__max_depth=9, xgb__min_child_weight=15, xgb__n_estimators=120, xgb__random_state=7777, score=-13947981913.156, total=   0.9s\n",
      "[CV] xgb__learning_rate=0.1, xgb__max_depth=9, xgb__min_child_weight=15, xgb__n_estimators=120, xgb__random_state=7777 \n",
      "[17:06:19] WARNING: src/objective/regression_obj.cu:152: reg:linear is now deprecated in favor of reg:squarederror.\n",
      "[CV]  xgb__learning_rate=0.1, xgb__max_depth=9, xgb__min_child_weight=15, xgb__n_estimators=120, xgb__random_state=7777, score=-7749437080.856, total=   0.9s\n",
      "[CV] xgb__learning_rate=0.1, xgb__max_depth=9, xgb__min_child_weight=15, xgb__n_estimators=140, xgb__random_state=7777 \n",
      "[17:06:20] WARNING: src/objective/regression_obj.cu:152: reg:linear is now deprecated in favor of reg:squarederror.\n",
      "[CV]  xgb__learning_rate=0.1, xgb__max_depth=9, xgb__min_child_weight=15, xgb__n_estimators=140, xgb__random_state=7777, score=-24214058715.020, total=   1.1s\n",
      "[CV] xgb__learning_rate=0.1, xgb__max_depth=9, xgb__min_child_weight=15, xgb__n_estimators=140, xgb__random_state=7777 \n",
      "[17:06:21] WARNING: src/objective/regression_obj.cu:152: reg:linear is now deprecated in favor of reg:squarederror.\n",
      "[CV]  xgb__learning_rate=0.1, xgb__max_depth=9, xgb__min_child_weight=15, xgb__n_estimators=140, xgb__random_state=7777, score=-13979335975.382, total=   1.2s\n",
      "[CV] xgb__learning_rate=0.1, xgb__max_depth=9, xgb__min_child_weight=15, xgb__n_estimators=140, xgb__random_state=7777 \n",
      "[17:06:22] WARNING: src/objective/regression_obj.cu:152: reg:linear is now deprecated in favor of reg:squarederror.\n",
      "[CV]  xgb__learning_rate=0.1, xgb__max_depth=9, xgb__min_child_weight=15, xgb__n_estimators=140, xgb__random_state=7777, score=-7574448122.705, total=   1.0s\n",
      "[CV] xgb__learning_rate=0.2, xgb__max_depth=7, xgb__min_child_weight=0, xgb__n_estimators=100, xgb__random_state=7777 \n",
      "[17:06:23] WARNING: src/objective/regression_obj.cu:152: reg:linear is now deprecated in favor of reg:squarederror.\n",
      "[CV]  xgb__learning_rate=0.2, xgb__max_depth=7, xgb__min_child_weight=0, xgb__n_estimators=100, xgb__random_state=7777, score=-19833787069.287, total=   0.6s\n",
      "[CV] xgb__learning_rate=0.2, xgb__max_depth=7, xgb__min_child_weight=0, xgb__n_estimators=100, xgb__random_state=7777 \n",
      "[17:06:23] WARNING: src/objective/regression_obj.cu:152: reg:linear is now deprecated in favor of reg:squarederror.\n",
      "[CV]  xgb__learning_rate=0.2, xgb__max_depth=7, xgb__min_child_weight=0, xgb__n_estimators=100, xgb__random_state=7777, score=-16617737475.016, total=   0.6s\n",
      "[CV] xgb__learning_rate=0.2, xgb__max_depth=7, xgb__min_child_weight=0, xgb__n_estimators=100, xgb__random_state=7777 \n",
      "[17:06:24] WARNING: src/objective/regression_obj.cu:152: reg:linear is now deprecated in favor of reg:squarederror.\n",
      "[CV]  xgb__learning_rate=0.2, xgb__max_depth=7, xgb__min_child_weight=0, xgb__n_estimators=100, xgb__random_state=7777, score=-7986408808.231, total=   0.7s\n",
      "[CV] xgb__learning_rate=0.2, xgb__max_depth=7, xgb__min_child_weight=0, xgb__n_estimators=120, xgb__random_state=7777 \n",
      "[17:06:25] WARNING: src/objective/regression_obj.cu:152: reg:linear is now deprecated in favor of reg:squarederror.\n",
      "[CV]  xgb__learning_rate=0.2, xgb__max_depth=7, xgb__min_child_weight=0, xgb__n_estimators=120, xgb__random_state=7777, score=-19818276449.431, total=   0.8s\n",
      "[CV] xgb__learning_rate=0.2, xgb__max_depth=7, xgb__min_child_weight=0, xgb__n_estimators=120, xgb__random_state=7777 \n",
      "[17:06:26] WARNING: src/objective/regression_obj.cu:152: reg:linear is now deprecated in favor of reg:squarederror.\n",
      "[CV]  xgb__learning_rate=0.2, xgb__max_depth=7, xgb__min_child_weight=0, xgb__n_estimators=120, xgb__random_state=7777, score=-16595950156.919, total=   0.7s\n",
      "[CV] xgb__learning_rate=0.2, xgb__max_depth=7, xgb__min_child_weight=0, xgb__n_estimators=120, xgb__random_state=7777 \n",
      "[17:06:26] WARNING: src/objective/regression_obj.cu:152: reg:linear is now deprecated in favor of reg:squarederror.\n",
      "[CV]  xgb__learning_rate=0.2, xgb__max_depth=7, xgb__min_child_weight=0, xgb__n_estimators=120, xgb__random_state=7777, score=-7984158445.138, total=   0.7s\n",
      "[CV] xgb__learning_rate=0.2, xgb__max_depth=7, xgb__min_child_weight=0, xgb__n_estimators=140, xgb__random_state=7777 \n",
      "[17:06:27] WARNING: src/objective/regression_obj.cu:152: reg:linear is now deprecated in favor of reg:squarederror.\n",
      "[CV]  xgb__learning_rate=0.2, xgb__max_depth=7, xgb__min_child_weight=0, xgb__n_estimators=140, xgb__random_state=7777, score=-19818355106.732, total=   0.9s\n",
      "[CV] xgb__learning_rate=0.2, xgb__max_depth=7, xgb__min_child_weight=0, xgb__n_estimators=140, xgb__random_state=7777 \n",
      "[17:06:28] WARNING: src/objective/regression_obj.cu:152: reg:linear is now deprecated in favor of reg:squarederror.\n",
      "[CV]  xgb__learning_rate=0.2, xgb__max_depth=7, xgb__min_child_weight=0, xgb__n_estimators=140, xgb__random_state=7777, score=-16594779520.838, total=   1.1s\n",
      "[CV] xgb__learning_rate=0.2, xgb__max_depth=7, xgb__min_child_weight=0, xgb__n_estimators=140, xgb__random_state=7777 \n",
      "[17:06:29] WARNING: src/objective/regression_obj.cu:152: reg:linear is now deprecated in favor of reg:squarederror.\n",
      "[CV]  xgb__learning_rate=0.2, xgb__max_depth=7, xgb__min_child_weight=0, xgb__n_estimators=140, xgb__random_state=7777, score=-7980402935.652, total=   0.8s\n",
      "[CV] xgb__learning_rate=0.2, xgb__max_depth=7, xgb__min_child_weight=5, xgb__n_estimators=100, xgb__random_state=7777 \n",
      "[17:06:30] WARNING: src/objective/regression_obj.cu:152: reg:linear is now deprecated in favor of reg:squarederror.\n",
      "[CV]  xgb__learning_rate=0.2, xgb__max_depth=7, xgb__min_child_weight=5, xgb__n_estimators=100, xgb__random_state=7777, score=-19192803049.628, total=   0.6s\n",
      "[CV] xgb__learning_rate=0.2, xgb__max_depth=7, xgb__min_child_weight=5, xgb__n_estimators=100, xgb__random_state=7777 \n",
      "[17:06:30] WARNING: src/objective/regression_obj.cu:152: reg:linear is now deprecated in favor of reg:squarederror.\n",
      "[CV]  xgb__learning_rate=0.2, xgb__max_depth=7, xgb__min_child_weight=5, xgb__n_estimators=100, xgb__random_state=7777, score=-13579818705.582, total=   0.6s\n",
      "[CV] xgb__learning_rate=0.2, xgb__max_depth=7, xgb__min_child_weight=5, xgb__n_estimators=100, xgb__random_state=7777 \n",
      "[17:06:31] WARNING: src/objective/regression_obj.cu:152: reg:linear is now deprecated in favor of reg:squarederror.\n",
      "[CV]  xgb__learning_rate=0.2, xgb__max_depth=7, xgb__min_child_weight=5, xgb__n_estimators=100, xgb__random_state=7777, score=-9352732046.398, total=   0.9s\n",
      "[CV] xgb__learning_rate=0.2, xgb__max_depth=7, xgb__min_child_weight=5, xgb__n_estimators=120, xgb__random_state=7777 \n",
      "[17:06:32] WARNING: src/objective/regression_obj.cu:152: reg:linear is now deprecated in favor of reg:squarederror.\n",
      "[CV]  xgb__learning_rate=0.2, xgb__max_depth=7, xgb__min_child_weight=5, xgb__n_estimators=120, xgb__random_state=7777, score=-19203399577.352, total=   0.7s\n",
      "[CV] xgb__learning_rate=0.2, xgb__max_depth=7, xgb__min_child_weight=5, xgb__n_estimators=120, xgb__random_state=7777 \n",
      "[17:06:33] WARNING: src/objective/regression_obj.cu:152: reg:linear is now deprecated in favor of reg:squarederror.\n",
      "[CV]  xgb__learning_rate=0.2, xgb__max_depth=7, xgb__min_child_weight=5, xgb__n_estimators=120, xgb__random_state=7777, score=-13775679557.479, total=   0.7s\n",
      "[CV] xgb__learning_rate=0.2, xgb__max_depth=7, xgb__min_child_weight=5, xgb__n_estimators=120, xgb__random_state=7777 \n",
      "[17:06:33] WARNING: src/objective/regression_obj.cu:152: reg:linear is now deprecated in favor of reg:squarederror.\n",
      "[CV]  xgb__learning_rate=0.2, xgb__max_depth=7, xgb__min_child_weight=5, xgb__n_estimators=120, xgb__random_state=7777, score=-9417162598.792, total=   0.7s\n",
      "[CV] xgb__learning_rate=0.2, xgb__max_depth=7, xgb__min_child_weight=5, xgb__n_estimators=140, xgb__random_state=7777 \n",
      "[17:06:34] WARNING: src/objective/regression_obj.cu:152: reg:linear is now deprecated in favor of reg:squarederror.\n",
      "[CV]  xgb__learning_rate=0.2, xgb__max_depth=7, xgb__min_child_weight=5, xgb__n_estimators=140, xgb__random_state=7777, score=-19213583946.257, total=   0.8s\n",
      "[CV] xgb__learning_rate=0.2, xgb__max_depth=7, xgb__min_child_weight=5, xgb__n_estimators=140, xgb__random_state=7777 \n",
      "[17:06:35] WARNING: src/objective/regression_obj.cu:152: reg:linear is now deprecated in favor of reg:squarederror.\n",
      "[CV]  xgb__learning_rate=0.2, xgb__max_depth=7, xgb__min_child_weight=5, xgb__n_estimators=140, xgb__random_state=7777, score=-13780351439.923, total=   0.8s\n",
      "[CV] xgb__learning_rate=0.2, xgb__max_depth=7, xgb__min_child_weight=5, xgb__n_estimators=140, xgb__random_state=7777 \n",
      "[17:06:35] WARNING: src/objective/regression_obj.cu:152: reg:linear is now deprecated in favor of reg:squarederror.\n",
      "[CV]  xgb__learning_rate=0.2, xgb__max_depth=7, xgb__min_child_weight=5, xgb__n_estimators=140, xgb__random_state=7777, score=-9440277104.836, total=   0.8s\n",
      "[CV] xgb__learning_rate=0.2, xgb__max_depth=7, xgb__min_child_weight=15, xgb__n_estimators=100, xgb__random_state=7777 \n",
      "[17:06:36] WARNING: src/objective/regression_obj.cu:152: reg:linear is now deprecated in favor of reg:squarederror.\n",
      "[CV]  xgb__learning_rate=0.2, xgb__max_depth=7, xgb__min_child_weight=15, xgb__n_estimators=100, xgb__random_state=7777, score=-24152130398.365, total=   0.6s\n",
      "[CV] xgb__learning_rate=0.2, xgb__max_depth=7, xgb__min_child_weight=15, xgb__n_estimators=100, xgb__random_state=7777 \n",
      "[17:06:37] WARNING: src/objective/regression_obj.cu:152: reg:linear is now deprecated in favor of reg:squarederror.\n",
      "[CV]  xgb__learning_rate=0.2, xgb__max_depth=7, xgb__min_child_weight=15, xgb__n_estimators=100, xgb__random_state=7777, score=-14414901785.638, total=   0.6s\n",
      "[CV] xgb__learning_rate=0.2, xgb__max_depth=7, xgb__min_child_weight=15, xgb__n_estimators=100, xgb__random_state=7777 \n",
      "[17:06:37] WARNING: src/objective/regression_obj.cu:152: reg:linear is now deprecated in favor of reg:squarederror.\n",
      "[CV]  xgb__learning_rate=0.2, xgb__max_depth=7, xgb__min_child_weight=15, xgb__n_estimators=100, xgb__random_state=7777, score=-8047668507.383, total=   0.6s\n",
      "[CV] xgb__learning_rate=0.2, xgb__max_depth=7, xgb__min_child_weight=15, xgb__n_estimators=120, xgb__random_state=7777 \n",
      "[17:06:38] WARNING: src/objective/regression_obj.cu:152: reg:linear is now deprecated in favor of reg:squarederror.\n",
      "[CV]  xgb__learning_rate=0.2, xgb__max_depth=7, xgb__min_child_weight=15, xgb__n_estimators=120, xgb__random_state=7777, score=-23404562498.363, total=   0.7s\n",
      "[CV] xgb__learning_rate=0.2, xgb__max_depth=7, xgb__min_child_weight=15, xgb__n_estimators=120, xgb__random_state=7777 \n",
      "[17:06:39] WARNING: src/objective/regression_obj.cu:152: reg:linear is now deprecated in favor of reg:squarederror.\n",
      "[CV]  xgb__learning_rate=0.2, xgb__max_depth=7, xgb__min_child_weight=15, xgb__n_estimators=120, xgb__random_state=7777, score=-14093346668.068, total=   0.7s\n",
      "[CV] xgb__learning_rate=0.2, xgb__max_depth=7, xgb__min_child_weight=15, xgb__n_estimators=120, xgb__random_state=7777 \n",
      "[17:06:39] WARNING: src/objective/regression_obj.cu:152: reg:linear is now deprecated in favor of reg:squarederror.\n",
      "[CV]  xgb__learning_rate=0.2, xgb__max_depth=7, xgb__min_child_weight=15, xgb__n_estimators=120, xgb__random_state=7777, score=-7977711484.598, total=   0.8s\n",
      "[CV] xgb__learning_rate=0.2, xgb__max_depth=7, xgb__min_child_weight=15, xgb__n_estimators=140, xgb__random_state=7777 \n",
      "[17:06:40] WARNING: src/objective/regression_obj.cu:152: reg:linear is now deprecated in favor of reg:squarederror.\n",
      "[CV]  xgb__learning_rate=0.2, xgb__max_depth=7, xgb__min_child_weight=15, xgb__n_estimators=140, xgb__random_state=7777, score=-23070244541.633, total=   0.7s\n",
      "[CV] xgb__learning_rate=0.2, xgb__max_depth=7, xgb__min_child_weight=15, xgb__n_estimators=140, xgb__random_state=7777 \n",
      "[17:06:41] WARNING: src/objective/regression_obj.cu:152: reg:linear is now deprecated in favor of reg:squarederror.\n",
      "[CV]  xgb__learning_rate=0.2, xgb__max_depth=7, xgb__min_child_weight=15, xgb__n_estimators=140, xgb__random_state=7777, score=-13975748687.599, total=   0.7s\n",
      "[CV] xgb__learning_rate=0.2, xgb__max_depth=7, xgb__min_child_weight=15, xgb__n_estimators=140, xgb__random_state=7777 \n",
      "[17:06:42] WARNING: src/objective/regression_obj.cu:152: reg:linear is now deprecated in favor of reg:squarederror.\n",
      "[CV]  xgb__learning_rate=0.2, xgb__max_depth=7, xgb__min_child_weight=15, xgb__n_estimators=140, xgb__random_state=7777, score=-7875041585.510, total=   0.8s\n",
      "[CV] xgb__learning_rate=0.2, xgb__max_depth=8, xgb__min_child_weight=0, xgb__n_estimators=100, xgb__random_state=7777 \n",
      "[17:06:42] WARNING: src/objective/regression_obj.cu:152: reg:linear is now deprecated in favor of reg:squarederror.\n",
      "[CV]  xgb__learning_rate=0.2, xgb__max_depth=8, xgb__min_child_weight=0, xgb__n_estimators=100, xgb__random_state=7777, score=-21902123090.857, total=   0.6s\n",
      "[CV] xgb__learning_rate=0.2, xgb__max_depth=8, xgb__min_child_weight=0, xgb__n_estimators=100, xgb__random_state=7777 \n",
      "[17:06:43] WARNING: src/objective/regression_obj.cu:152: reg:linear is now deprecated in favor of reg:squarederror.\n",
      "[CV]  xgb__learning_rate=0.2, xgb__max_depth=8, xgb__min_child_weight=0, xgb__n_estimators=100, xgb__random_state=7777, score=-16110846740.899, total=   0.6s\n",
      "[CV] xgb__learning_rate=0.2, xgb__max_depth=8, xgb__min_child_weight=0, xgb__n_estimators=100, xgb__random_state=7777 \n",
      "[17:06:44] WARNING: src/objective/regression_obj.cu:152: reg:linear is now deprecated in favor of reg:squarederror.\n",
      "[CV]  xgb__learning_rate=0.2, xgb__max_depth=8, xgb__min_child_weight=0, xgb__n_estimators=100, xgb__random_state=7777, score=-8676906591.220, total=   0.7s\n",
      "[CV] xgb__learning_rate=0.2, xgb__max_depth=8, xgb__min_child_weight=0, xgb__n_estimators=120, xgb__random_state=7777 \n",
      "[17:06:44] WARNING: src/objective/regression_obj.cu:152: reg:linear is now deprecated in favor of reg:squarederror.\n",
      "[CV]  xgb__learning_rate=0.2, xgb__max_depth=8, xgb__min_child_weight=0, xgb__n_estimators=120, xgb__random_state=7777, score=-21896477818.156, total=   0.8s\n",
      "[CV] xgb__learning_rate=0.2, xgb__max_depth=8, xgb__min_child_weight=0, xgb__n_estimators=120, xgb__random_state=7777 \n",
      "[17:06:45] WARNING: src/objective/regression_obj.cu:152: reg:linear is now deprecated in favor of reg:squarederror.\n",
      "[CV]  xgb__learning_rate=0.2, xgb__max_depth=8, xgb__min_child_weight=0, xgb__n_estimators=120, xgb__random_state=7777, score=-16098614564.203, total=   0.8s\n",
      "[CV] xgb__learning_rate=0.2, xgb__max_depth=8, xgb__min_child_weight=0, xgb__n_estimators=120, xgb__random_state=7777 \n",
      "[17:06:46] WARNING: src/objective/regression_obj.cu:152: reg:linear is now deprecated in favor of reg:squarederror.\n",
      "[CV]  xgb__learning_rate=0.2, xgb__max_depth=8, xgb__min_child_weight=0, xgb__n_estimators=120, xgb__random_state=7777, score=-8676303186.644, total=   0.8s\n",
      "[CV] xgb__learning_rate=0.2, xgb__max_depth=8, xgb__min_child_weight=0, xgb__n_estimators=140, xgb__random_state=7777 \n",
      "[17:06:47] WARNING: src/objective/regression_obj.cu:152: reg:linear is now deprecated in favor of reg:squarederror.\n",
      "[CV]  xgb__learning_rate=0.2, xgb__max_depth=8, xgb__min_child_weight=0, xgb__n_estimators=140, xgb__random_state=7777, score=-21896942400.286, total=   0.9s\n",
      "[CV] xgb__learning_rate=0.2, xgb__max_depth=8, xgb__min_child_weight=0, xgb__n_estimators=140, xgb__random_state=7777 \n",
      "[17:06:48] WARNING: src/objective/regression_obj.cu:152: reg:linear is now deprecated in favor of reg:squarederror.\n",
      "[CV]  xgb__learning_rate=0.2, xgb__max_depth=8, xgb__min_child_weight=0, xgb__n_estimators=140, xgb__random_state=7777, score=-16095554729.859, total=   0.9s\n",
      "[CV] xgb__learning_rate=0.2, xgb__max_depth=8, xgb__min_child_weight=0, xgb__n_estimators=140, xgb__random_state=7777 \n",
      "[17:06:48] WARNING: src/objective/regression_obj.cu:152: reg:linear is now deprecated in favor of reg:squarederror.\n",
      "[CV]  xgb__learning_rate=0.2, xgb__max_depth=8, xgb__min_child_weight=0, xgb__n_estimators=140, xgb__random_state=7777, score=-8676340941.533, total=   0.9s\n",
      "[CV] xgb__learning_rate=0.2, xgb__max_depth=8, xgb__min_child_weight=5, xgb__n_estimators=100, xgb__random_state=7777 \n",
      "[17:06:49] WARNING: src/objective/regression_obj.cu:152: reg:linear is now deprecated in favor of reg:squarederror.\n",
      "[CV]  xgb__learning_rate=0.2, xgb__max_depth=8, xgb__min_child_weight=5, xgb__n_estimators=100, xgb__random_state=7777, score=-20481032026.681, total=   0.6s\n",
      "[CV] xgb__learning_rate=0.2, xgb__max_depth=8, xgb__min_child_weight=5, xgb__n_estimators=100, xgb__random_state=7777 \n",
      "[17:06:50] WARNING: src/objective/regression_obj.cu:152: reg:linear is now deprecated in favor of reg:squarederror.\n",
      "[CV]  xgb__learning_rate=0.2, xgb__max_depth=8, xgb__min_child_weight=5, xgb__n_estimators=100, xgb__random_state=7777, score=-14186580832.975, total=   0.6s\n",
      "[CV] xgb__learning_rate=0.2, xgb__max_depth=8, xgb__min_child_weight=5, xgb__n_estimators=100, xgb__random_state=7777 \n",
      "[17:06:51] WARNING: src/objective/regression_obj.cu:152: reg:linear is now deprecated in favor of reg:squarederror.\n",
      "[CV]  xgb__learning_rate=0.2, xgb__max_depth=8, xgb__min_child_weight=5, xgb__n_estimators=100, xgb__random_state=7777, score=-9490702761.411, total=   0.6s\n",
      "[CV] xgb__learning_rate=0.2, xgb__max_depth=8, xgb__min_child_weight=5, xgb__n_estimators=120, xgb__random_state=7777 \n",
      "[17:06:51] WARNING: src/objective/regression_obj.cu:152: reg:linear is now deprecated in favor of reg:squarederror.\n",
      "[CV]  xgb__learning_rate=0.2, xgb__max_depth=8, xgb__min_child_weight=5, xgb__n_estimators=120, xgb__random_state=7777, score=-20538772100.925, total=   0.7s\n",
      "[CV] xgb__learning_rate=0.2, xgb__max_depth=8, xgb__min_child_weight=5, xgb__n_estimators=120, xgb__random_state=7777 \n",
      "[17:06:52] WARNING: src/objective/regression_obj.cu:152: reg:linear is now deprecated in favor of reg:squarederror.\n",
      "[CV]  xgb__learning_rate=0.2, xgb__max_depth=8, xgb__min_child_weight=5, xgb__n_estimators=120, xgb__random_state=7777, score=-14228125023.217, total=   0.7s\n",
      "[CV] xgb__learning_rate=0.2, xgb__max_depth=8, xgb__min_child_weight=5, xgb__n_estimators=120, xgb__random_state=7777 \n",
      "[17:06:53] WARNING: src/objective/regression_obj.cu:152: reg:linear is now deprecated in favor of reg:squarederror.\n",
      "[CV]  xgb__learning_rate=0.2, xgb__max_depth=8, xgb__min_child_weight=5, xgb__n_estimators=120, xgb__random_state=7777, score=-9561995715.357, total=   0.7s\n",
      "[CV] xgb__learning_rate=0.2, xgb__max_depth=8, xgb__min_child_weight=5, xgb__n_estimators=140, xgb__random_state=7777 \n",
      "[17:06:53] WARNING: src/objective/regression_obj.cu:152: reg:linear is now deprecated in favor of reg:squarederror.\n",
      "[CV]  xgb__learning_rate=0.2, xgb__max_depth=8, xgb__min_child_weight=5, xgb__n_estimators=140, xgb__random_state=7777, score=-20596359826.323, total=   0.8s\n",
      "[CV] xgb__learning_rate=0.2, xgb__max_depth=8, xgb__min_child_weight=5, xgb__n_estimators=140, xgb__random_state=7777 \n",
      "[17:06:54] WARNING: src/objective/regression_obj.cu:152: reg:linear is now deprecated in favor of reg:squarederror.\n",
      "[CV]  xgb__learning_rate=0.2, xgb__max_depth=8, xgb__min_child_weight=5, xgb__n_estimators=140, xgb__random_state=7777, score=-14281772376.415, total=   0.8s\n",
      "[CV] xgb__learning_rate=0.2, xgb__max_depth=8, xgb__min_child_weight=5, xgb__n_estimators=140, xgb__random_state=7777 \n",
      "[17:06:55] WARNING: src/objective/regression_obj.cu:152: reg:linear is now deprecated in favor of reg:squarederror.\n",
      "[CV]  xgb__learning_rate=0.2, xgb__max_depth=8, xgb__min_child_weight=5, xgb__n_estimators=140, xgb__random_state=7777, score=-9543826868.356, total=   0.8s\n",
      "[CV] xgb__learning_rate=0.2, xgb__max_depth=8, xgb__min_child_weight=15, xgb__n_estimators=100, xgb__random_state=7777 \n",
      "[17:06:56] WARNING: src/objective/regression_obj.cu:152: reg:linear is now deprecated in favor of reg:squarederror.\n",
      "[CV]  xgb__learning_rate=0.2, xgb__max_depth=8, xgb__min_child_weight=15, xgb__n_estimators=100, xgb__random_state=7777, score=-22720931295.604, total=   0.6s\n",
      "[CV] xgb__learning_rate=0.2, xgb__max_depth=8, xgb__min_child_weight=15, xgb__n_estimators=100, xgb__random_state=7777 \n",
      "[17:06:57] WARNING: src/objective/regression_obj.cu:152: reg:linear is now deprecated in favor of reg:squarederror.\n",
      "[CV]  xgb__learning_rate=0.2, xgb__max_depth=8, xgb__min_child_weight=15, xgb__n_estimators=100, xgb__random_state=7777, score=-13142834053.392, total=   0.6s\n",
      "[CV] xgb__learning_rate=0.2, xgb__max_depth=8, xgb__min_child_weight=15, xgb__n_estimators=100, xgb__random_state=7777 \n",
      "[17:06:57] WARNING: src/objective/regression_obj.cu:152: reg:linear is now deprecated in favor of reg:squarederror.\n",
      "[CV]  xgb__learning_rate=0.2, xgb__max_depth=8, xgb__min_child_weight=15, xgb__n_estimators=100, xgb__random_state=7777, score=-8168836376.754, total=   0.6s\n",
      "[CV] xgb__learning_rate=0.2, xgb__max_depth=8, xgb__min_child_weight=15, xgb__n_estimators=120, xgb__random_state=7777 \n",
      "[17:06:58] WARNING: src/objective/regression_obj.cu:152: reg:linear is now deprecated in favor of reg:squarederror.\n",
      "[CV]  xgb__learning_rate=0.2, xgb__max_depth=8, xgb__min_child_weight=15, xgb__n_estimators=120, xgb__random_state=7777, score=-22332176930.582, total=   0.7s\n",
      "[CV] xgb__learning_rate=0.2, xgb__max_depth=8, xgb__min_child_weight=15, xgb__n_estimators=120, xgb__random_state=7777 \n",
      "[17:06:58] WARNING: src/objective/regression_obj.cu:152: reg:linear is now deprecated in favor of reg:squarederror.\n",
      "[CV]  xgb__learning_rate=0.2, xgb__max_depth=8, xgb__min_child_weight=15, xgb__n_estimators=120, xgb__random_state=7777, score=-13073887642.880, total=   0.7s\n",
      "[CV] xgb__learning_rate=0.2, xgb__max_depth=8, xgb__min_child_weight=15, xgb__n_estimators=120, xgb__random_state=7777 \n",
      "[17:06:59] WARNING: src/objective/regression_obj.cu:152: reg:linear is now deprecated in favor of reg:squarederror.\n",
      "[CV]  xgb__learning_rate=0.2, xgb__max_depth=8, xgb__min_child_weight=15, xgb__n_estimators=120, xgb__random_state=7777, score=-8006409836.486, total=   0.7s\n",
      "[CV] xgb__learning_rate=0.2, xgb__max_depth=8, xgb__min_child_weight=15, xgb__n_estimators=140, xgb__random_state=7777 \n",
      "[17:07:00] WARNING: src/objective/regression_obj.cu:152: reg:linear is now deprecated in favor of reg:squarederror.\n",
      "[CV]  xgb__learning_rate=0.2, xgb__max_depth=8, xgb__min_child_weight=15, xgb__n_estimators=140, xgb__random_state=7777, score=-22162733255.018, total=   0.8s\n",
      "[CV] xgb__learning_rate=0.2, xgb__max_depth=8, xgb__min_child_weight=15, xgb__n_estimators=140, xgb__random_state=7777 \n",
      "[17:07:01] WARNING: src/objective/regression_obj.cu:152: reg:linear is now deprecated in favor of reg:squarederror.\n",
      "[CV]  xgb__learning_rate=0.2, xgb__max_depth=8, xgb__min_child_weight=15, xgb__n_estimators=140, xgb__random_state=7777, score=-13331187963.696, total=   0.8s\n",
      "[CV] xgb__learning_rate=0.2, xgb__max_depth=8, xgb__min_child_weight=15, xgb__n_estimators=140, xgb__random_state=7777 \n",
      "[17:07:02] WARNING: src/objective/regression_obj.cu:152: reg:linear is now deprecated in favor of reg:squarederror.\n",
      "[CV]  xgb__learning_rate=0.2, xgb__max_depth=8, xgb__min_child_weight=15, xgb__n_estimators=140, xgb__random_state=7777, score=-7766296761.579, total=   0.9s\n",
      "[CV] xgb__learning_rate=0.2, xgb__max_depth=9, xgb__min_child_weight=0, xgb__n_estimators=100, xgb__random_state=7777 \n",
      "[17:07:02] WARNING: src/objective/regression_obj.cu:152: reg:linear is now deprecated in favor of reg:squarederror.\n",
      "[CV]  xgb__learning_rate=0.2, xgb__max_depth=9, xgb__min_child_weight=0, xgb__n_estimators=100, xgb__random_state=7777, score=-21938329632.513, total=   0.7s\n",
      "[CV] xgb__learning_rate=0.2, xgb__max_depth=9, xgb__min_child_weight=0, xgb__n_estimators=100, xgb__random_state=7777 \n",
      "[17:07:03] WARNING: src/objective/regression_obj.cu:152: reg:linear is now deprecated in favor of reg:squarederror.\n",
      "[CV]  xgb__learning_rate=0.2, xgb__max_depth=9, xgb__min_child_weight=0, xgb__n_estimators=100, xgb__random_state=7777, score=-19025448493.862, total=   0.7s\n",
      "[CV] xgb__learning_rate=0.2, xgb__max_depth=9, xgb__min_child_weight=0, xgb__n_estimators=100, xgb__random_state=7777 \n",
      "[17:07:04] WARNING: src/objective/regression_obj.cu:152: reg:linear is now deprecated in favor of reg:squarederror.\n",
      "[CV]  xgb__learning_rate=0.2, xgb__max_depth=9, xgb__min_child_weight=0, xgb__n_estimators=100, xgb__random_state=7777, score=-8774538596.680, total=   0.7s\n",
      "[CV] xgb__learning_rate=0.2, xgb__max_depth=9, xgb__min_child_weight=0, xgb__n_estimators=120, xgb__random_state=7777 \n",
      "[17:07:05] WARNING: src/objective/regression_obj.cu:152: reg:linear is now deprecated in favor of reg:squarederror.\n",
      "[CV]  xgb__learning_rate=0.2, xgb__max_depth=9, xgb__min_child_weight=0, xgb__n_estimators=120, xgb__random_state=7777, score=-21937700840.974, total=   0.8s\n",
      "[CV] xgb__learning_rate=0.2, xgb__max_depth=9, xgb__min_child_weight=0, xgb__n_estimators=120, xgb__random_state=7777 \n",
      "[17:07:05] WARNING: src/objective/regression_obj.cu:152: reg:linear is now deprecated in favor of reg:squarederror.\n",
      "[CV]  xgb__learning_rate=0.2, xgb__max_depth=9, xgb__min_child_weight=0, xgb__n_estimators=120, xgb__random_state=7777, score=-19025353827.361, total=   0.8s\n",
      "[CV] xgb__learning_rate=0.2, xgb__max_depth=9, xgb__min_child_weight=0, xgb__n_estimators=120, xgb__random_state=7777 \n",
      "[17:07:06] WARNING: src/objective/regression_obj.cu:152: reg:linear is now deprecated in favor of reg:squarederror.\n",
      "[CV]  xgb__learning_rate=0.2, xgb__max_depth=9, xgb__min_child_weight=0, xgb__n_estimators=120, xgb__random_state=7777, score=-8773622892.991, total=   0.8s\n",
      "[CV] xgb__learning_rate=0.2, xgb__max_depth=9, xgb__min_child_weight=0, xgb__n_estimators=140, xgb__random_state=7777 \n",
      "[17:07:07] WARNING: src/objective/regression_obj.cu:152: reg:linear is now deprecated in favor of reg:squarederror.\n",
      "[CV]  xgb__learning_rate=0.2, xgb__max_depth=9, xgb__min_child_weight=0, xgb__n_estimators=140, xgb__random_state=7777, score=-21937160100.412, total=   0.9s\n",
      "[CV] xgb__learning_rate=0.2, xgb__max_depth=9, xgb__min_child_weight=0, xgb__n_estimators=140, xgb__random_state=7777 \n",
      "[17:07:08] WARNING: src/objective/regression_obj.cu:152: reg:linear is now deprecated in favor of reg:squarederror.\n",
      "[CV]  xgb__learning_rate=0.2, xgb__max_depth=9, xgb__min_child_weight=0, xgb__n_estimators=140, xgb__random_state=7777, score=-19024529052.899, total=   0.9s\n",
      "[CV] xgb__learning_rate=0.2, xgb__max_depth=9, xgb__min_child_weight=0, xgb__n_estimators=140, xgb__random_state=7777 \n",
      "[17:07:09] WARNING: src/objective/regression_obj.cu:152: reg:linear is now deprecated in favor of reg:squarederror.\n",
      "[CV]  xgb__learning_rate=0.2, xgb__max_depth=9, xgb__min_child_weight=0, xgb__n_estimators=140, xgb__random_state=7777, score=-8773222549.761, total=   1.0s\n",
      "[CV] xgb__learning_rate=0.2, xgb__max_depth=9, xgb__min_child_weight=5, xgb__n_estimators=100, xgb__random_state=7777 \n",
      "[17:07:10] WARNING: src/objective/regression_obj.cu:152: reg:linear is now deprecated in favor of reg:squarederror.\n",
      "[CV]  xgb__learning_rate=0.2, xgb__max_depth=9, xgb__min_child_weight=5, xgb__n_estimators=100, xgb__random_state=7777, score=-21279926021.764, total=   0.7s\n",
      "[CV] xgb__learning_rate=0.2, xgb__max_depth=9, xgb__min_child_weight=5, xgb__n_estimators=100, xgb__random_state=7777 \n",
      "[17:07:11] WARNING: src/objective/regression_obj.cu:152: reg:linear is now deprecated in favor of reg:squarederror.\n",
      "[CV]  xgb__learning_rate=0.2, xgb__max_depth=9, xgb__min_child_weight=5, xgb__n_estimators=100, xgb__random_state=7777, score=-14738841984.418, total=   0.8s\n",
      "[CV] xgb__learning_rate=0.2, xgb__max_depth=9, xgb__min_child_weight=5, xgb__n_estimators=100, xgb__random_state=7777 \n",
      "[17:07:11] WARNING: src/objective/regression_obj.cu:152: reg:linear is now deprecated in favor of reg:squarederror.\n",
      "[CV]  xgb__learning_rate=0.2, xgb__max_depth=9, xgb__min_child_weight=5, xgb__n_estimators=100, xgb__random_state=7777, score=-10446313225.131, total=   0.8s\n",
      "[CV] xgb__learning_rate=0.2, xgb__max_depth=9, xgb__min_child_weight=5, xgb__n_estimators=120, xgb__random_state=7777 \n",
      "[17:07:12] WARNING: src/objective/regression_obj.cu:152: reg:linear is now deprecated in favor of reg:squarederror.\n",
      "[CV]  xgb__learning_rate=0.2, xgb__max_depth=9, xgb__min_child_weight=5, xgb__n_estimators=120, xgb__random_state=7777, score=-21387219624.668, total=   0.8s\n",
      "[CV] xgb__learning_rate=0.2, xgb__max_depth=9, xgb__min_child_weight=5, xgb__n_estimators=120, xgb__random_state=7777 \n",
      "[17:07:13] WARNING: src/objective/regression_obj.cu:152: reg:linear is now deprecated in favor of reg:squarederror.\n",
      "[CV]  xgb__learning_rate=0.2, xgb__max_depth=9, xgb__min_child_weight=5, xgb__n_estimators=120, xgb__random_state=7777, score=-14823789822.664, total=   0.8s\n",
      "[CV] xgb__learning_rate=0.2, xgb__max_depth=9, xgb__min_child_weight=5, xgb__n_estimators=120, xgb__random_state=7777 \n",
      "[17:07:14] WARNING: src/objective/regression_obj.cu:152: reg:linear is now deprecated in favor of reg:squarederror.\n",
      "[CV]  xgb__learning_rate=0.2, xgb__max_depth=9, xgb__min_child_weight=5, xgb__n_estimators=120, xgb__random_state=7777, score=-10413870354.337, total=   0.8s\n",
      "[CV] xgb__learning_rate=0.2, xgb__max_depth=9, xgb__min_child_weight=5, xgb__n_estimators=140, xgb__random_state=7777 \n",
      "[17:07:15] WARNING: src/objective/regression_obj.cu:152: reg:linear is now deprecated in favor of reg:squarederror.\n",
      "[CV]  xgb__learning_rate=0.2, xgb__max_depth=9, xgb__min_child_weight=5, xgb__n_estimators=140, xgb__random_state=7777, score=-21408651922.927, total=   0.9s\n",
      "[CV] xgb__learning_rate=0.2, xgb__max_depth=9, xgb__min_child_weight=5, xgb__n_estimators=140, xgb__random_state=7777 \n",
      "[17:07:15] WARNING: src/objective/regression_obj.cu:152: reg:linear is now deprecated in favor of reg:squarederror.\n",
      "[CV]  xgb__learning_rate=0.2, xgb__max_depth=9, xgb__min_child_weight=5, xgb__n_estimators=140, xgb__random_state=7777, score=-14791107244.729, total=   0.9s\n",
      "[CV] xgb__learning_rate=0.2, xgb__max_depth=9, xgb__min_child_weight=5, xgb__n_estimators=140, xgb__random_state=7777 \n",
      "[17:07:16] WARNING: src/objective/regression_obj.cu:152: reg:linear is now deprecated in favor of reg:squarederror.\n",
      "[CV]  xgb__learning_rate=0.2, xgb__max_depth=9, xgb__min_child_weight=5, xgb__n_estimators=140, xgb__random_state=7777, score=-10417976879.897, total=   0.9s\n",
      "[CV] xgb__learning_rate=0.2, xgb__max_depth=9, xgb__min_child_weight=15, xgb__n_estimators=100, xgb__random_state=7777 \n",
      "[17:07:17] WARNING: src/objective/regression_obj.cu:152: reg:linear is now deprecated in favor of reg:squarederror.\n",
      "[CV]  xgb__learning_rate=0.2, xgb__max_depth=9, xgb__min_child_weight=15, xgb__n_estimators=100, xgb__random_state=7777, score=-24167301551.201, total=   0.7s\n",
      "[CV] xgb__learning_rate=0.2, xgb__max_depth=9, xgb__min_child_weight=15, xgb__n_estimators=100, xgb__random_state=7777 \n",
      "[17:07:18] WARNING: src/objective/regression_obj.cu:152: reg:linear is now deprecated in favor of reg:squarederror.\n",
      "[CV]  xgb__learning_rate=0.2, xgb__max_depth=9, xgb__min_child_weight=15, xgb__n_estimators=100, xgb__random_state=7777, score=-13731881333.384, total=   0.7s\n",
      "[CV] xgb__learning_rate=0.2, xgb__max_depth=9, xgb__min_child_weight=15, xgb__n_estimators=100, xgb__random_state=7777 \n",
      "[17:07:19] WARNING: src/objective/regression_obj.cu:152: reg:linear is now deprecated in favor of reg:squarederror.\n",
      "[CV]  xgb__learning_rate=0.2, xgb__max_depth=9, xgb__min_child_weight=15, xgb__n_estimators=100, xgb__random_state=7777, score=-7793557738.406, total=   0.7s\n",
      "[CV] xgb__learning_rate=0.2, xgb__max_depth=9, xgb__min_child_weight=15, xgb__n_estimators=120, xgb__random_state=7777 \n",
      "[17:07:19] WARNING: src/objective/regression_obj.cu:152: reg:linear is now deprecated in favor of reg:squarederror.\n",
      "[CV]  xgb__learning_rate=0.2, xgb__max_depth=9, xgb__min_child_weight=15, xgb__n_estimators=120, xgb__random_state=7777, score=-23898587874.679, total=   0.8s\n",
      "[CV] xgb__learning_rate=0.2, xgb__max_depth=9, xgb__min_child_weight=15, xgb__n_estimators=120, xgb__random_state=7777 \n",
      "[17:07:20] WARNING: src/objective/regression_obj.cu:152: reg:linear is now deprecated in favor of reg:squarederror.\n",
      "[CV]  xgb__learning_rate=0.2, xgb__max_depth=9, xgb__min_child_weight=15, xgb__n_estimators=120, xgb__random_state=7777, score=-13648338887.465, total=   0.8s\n",
      "[CV] xgb__learning_rate=0.2, xgb__max_depth=9, xgb__min_child_weight=15, xgb__n_estimators=120, xgb__random_state=7777 \n",
      "[17:07:21] WARNING: src/objective/regression_obj.cu:152: reg:linear is now deprecated in favor of reg:squarederror.\n",
      "[CV]  xgb__learning_rate=0.2, xgb__max_depth=9, xgb__min_child_weight=15, xgb__n_estimators=120, xgb__random_state=7777, score=-7607453238.927, total=   0.8s\n",
      "[CV] xgb__learning_rate=0.2, xgb__max_depth=9, xgb__min_child_weight=15, xgb__n_estimators=140, xgb__random_state=7777 \n",
      "[17:07:21] WARNING: src/objective/regression_obj.cu:152: reg:linear is now deprecated in favor of reg:squarederror.\n",
      "[CV]  xgb__learning_rate=0.2, xgb__max_depth=9, xgb__min_child_weight=15, xgb__n_estimators=140, xgb__random_state=7777, score=-23636580627.569, total=   0.9s\n",
      "[CV] xgb__learning_rate=0.2, xgb__max_depth=9, xgb__min_child_weight=15, xgb__n_estimators=140, xgb__random_state=7777 \n",
      "[17:07:22] WARNING: src/objective/regression_obj.cu:152: reg:linear is now deprecated in favor of reg:squarederror.\n",
      "[CV]  xgb__learning_rate=0.2, xgb__max_depth=9, xgb__min_child_weight=15, xgb__n_estimators=140, xgb__random_state=7777, score=-13314021094.416, total=   0.9s\n",
      "[CV] xgb__learning_rate=0.2, xgb__max_depth=9, xgb__min_child_weight=15, xgb__n_estimators=140, xgb__random_state=7777 \n",
      "[17:07:23] WARNING: src/objective/regression_obj.cu:152: reg:linear is now deprecated in favor of reg:squarederror.\n",
      "[CV]  xgb__learning_rate=0.2, xgb__max_depth=9, xgb__min_child_weight=15, xgb__n_estimators=140, xgb__random_state=7777, score=-7520749179.250, total=   0.9s\n",
      "[17:07:24] WARNING: src/objective/regression_obj.cu:152: reg:linear is now deprecated in favor of reg:squarederror.\n"
     ]
    },
    {
     "name": "stderr",
     "output_type": "stream",
     "text": [
      "[Parallel(n_jobs=1)]: Done 162 out of 162 | elapsed:  2.2min finished\n"
     ]
    },
    {
     "data": {
      "text/plain": [
       "GridSearchCV(cv=3, error_score='raise-deprecating',\n",
       "             estimator=Pipeline(memory=None,\n",
       "                                steps=[('drop_id',\n",
       "                                        <my_class.drop_id object at 0x134b3b690>),\n",
       "                                       ('parse_area',\n",
       "                                        <my_class.parse_area_size object at 0x136792550>),\n",
       "                                       ('parse_room',\n",
       "                                        <my_class.parse_rooms object at 0x136792a50>),\n",
       "                                       ('parse_old',\n",
       "                                        <my_class.parse_how_old object at 0x136792990>),\n",
       "                                       ('str_label',\n",
       "                                        <my_class.structure_lab...\n",
       "                                                     seed=None, silent=None,\n",
       "                                                     subsample=1,\n",
       "                                                     verbosity=1))],\n",
       "                                verbose=False),\n",
       "             iid='warn', n_jobs=None,\n",
       "             param_grid={'xgb__learning_rate': [0.1, 0.2],\n",
       "                         'xgb__max_depth': [7, 8, 9],\n",
       "                         'xgb__min_child_weight': [0, 5, 15],\n",
       "                         'xgb__n_estimators': [100, 120, 140],\n",
       "                         'xgb__random_state': [7777]},\n",
       "             pre_dispatch='2*n_jobs', refit=True, return_train_score=False,\n",
       "             scoring='neg_mean_squared_error', verbose=3)"
      ]
     },
     "execution_count": 59,
     "metadata": {},
     "output_type": "execute_result"
    }
   ],
   "source": [
    "grid_params2={\n",
    "    \"xgb__n_estimators\":[100,120,140],\n",
    "    \"xgb__max_depth\":[7,8,9],\n",
    "    \"xgb__min_child_weight\":[0,5,15],\n",
    "    \"xgb__learning_rate\":[0.1,0.2],\n",
    "    \"xgb__random_state\":[7777]\n",
    "}\n",
    "GCV2 = GridSearchCV(\n",
    "    Pipeline(steps=rich_step),\n",
    "    grid_params2,\n",
    "    cv = 3,\n",
    "    scoring=\"neg_mean_squared_error\",\n",
    "    verbose=3\n",
    ")\n",
    "GCV2.fit(temp_x_rich,temp_y_rich)"
   ]
  },
  {
   "cell_type": "code",
   "execution_count": null,
   "metadata": {},
   "outputs": [],
   "source": []
  },
  {
   "cell_type": "code",
   "execution_count": null,
   "metadata": {},
   "outputs": [],
   "source": []
  },
  {
   "cell_type": "code",
   "execution_count": 810,
   "metadata": {},
   "outputs": [
    {
     "name": "stdout",
     "output_type": "stream",
     "text": [
      "650000.0\n",
      "301848.99189789325\n"
     ]
    }
   ],
   "source": [
    "crazy_pred = crazy[\"賃料\"].median()\n",
    "print(crazy_pred)\n",
    "pred = pd.DataFrame([crazy_pred for i in range(len(crazy.index))])\n",
    "print(np.sqrt(mean_squared_error(crazy[\"賃料\"],pred)))"
   ]
  },
  {
   "cell_type": "code",
   "execution_count": null,
   "metadata": {},
   "outputs": [],
   "source": []
  }
 ],
 "metadata": {
  "kernelspec": {
   "display_name": "Python 3",
   "language": "python",
   "name": "python3"
  },
  "language_info": {
   "codemirror_mode": {
    "name": "ipython",
    "version": 3
   },
   "file_extension": ".py",
   "mimetype": "text/x-python",
   "name": "python",
   "nbconvert_exporter": "python",
   "pygments_lexer": "ipython3",
   "version": "3.7.4"
  }
 },
 "nbformat": 4,
 "nbformat_minor": 4
}
