{
 "cells": [
  {
   "cell_type": "code",
   "execution_count": 1,
   "metadata": {},
   "outputs": [
    {
     "name": "stderr",
     "output_type": "stream",
     "text": [
      "/Users/kakeru/PycharmProjects/main_env/lib/python3.7/site-packages/lightgbm/__init__.py:46: UserWarning: Starting from version 2.2.1, the library file in distribution wheels for macOS is built by the Apple Clang (Xcode_8.3.3) compiler.\n",
      "This means that in case of installing LightGBM from PyPI via the ``pip install lightgbm`` command, you don't need to install the gcc compiler anymore.\n",
      "Instead of that, you need to install the OpenMP library, which is required for running LightGBM on the system with the Apple Clang compiler.\n",
      "You can install the OpenMP library by the following command: ``brew install libomp``.\n",
      "  \"You can install the OpenMP library by the following command: ``brew install libomp``.\", UserWarning)\n"
     ]
    }
   ],
   "source": [
    "import re\n",
    "import sys\n",
    "sys.path.append(\"./\")\n",
    "# sys.path.append(\"./modules/\")\n",
    "import warnings\n",
    "warnings.filterwarnings(\"ignore\",category=FutureWarning)\n",
    "import pandas as pd\n",
    "import numpy as np\n",
    "from sklearn.model_selection import train_test_split\n",
    "\n",
    "from models import *\n",
    "from my_util import *\n",
    "\n",
    "train = pd.read_csv(\"./train_with_ido.csv\")\n",
    "train = train.dropna(subset=[\"賃料\"])\n",
    "train = train.drop(20926)\n",
    "train = train.drop(20231)\n",
    "train = train.drop(20427)\n",
    "train = train.drop(5775)\n",
    "train = train.drop(\"Unnamed: 0\",axis=1)\n",
    "\n",
    "test = pd.read_csv(\"./test_with_ido.csv\")\n",
    "test = test.drop(\"Unnamed: 0\",axis=1)\n",
    "\n",
    "train_height = pd.read_csv(\"./train_height.csv\",header=None)\n",
    "train_height = train_height.values[0][:-1]\n",
    "test_height = pd.read_csv(\"./test_height.csv\",header=None)\n",
    "test_height = test_height.values[0][:-1]\n",
    "\n",
    "train = train.assign(field_height=train_height)\n",
    "test = test.assign(field_height=test_height)\n",
    "\n",
    "train_x = train.drop(\"賃料\",axis=1)\n",
    "train_y = train[\"賃料\"]\n",
    "\n",
    "hoge, x_small, fuga, y_small = train_test_split(train_x, train_y,test_size=0.01)"
   ]
  },
  {
   "cell_type": "code",
   "execution_count": 2,
   "metadata": {},
   "outputs": [
    {
     "name": "stdout",
     "output_type": "stream",
     "text": [
      "[21:59:34] WARNING: src/objective/regression_obj.cu:152: reg:linear is now deprecated in favor of reg:squarederror.\n",
      "[22:00:46] WARNING: src/objective/regression_obj.cu:152: reg:linear is now deprecated in favor of reg:squarederror.\n",
      "[22:01:59] WARNING: src/objective/regression_obj.cu:152: reg:linear is now deprecated in favor of reg:squarederror.\n",
      "[22:03:22] WARNING: src/objective/regression_obj.cu:152: reg:linear is now deprecated in favor of reg:squarederror.\n",
      "[19235.97625012 16530.24267579 17215.5011304  14654.15630795]\n"
     ]
    }
   ],
   "source": [
    "comment = \"\"\"shortestと所属してるところのラベルを追加\"\"\"\n",
    "check_model(comment,train_x,train_y,write_importance=False)"
   ]
  },
  {
   "cell_type": "code",
   "execution_count": 3,
   "metadata": {},
   "outputs": [
    {
     "name": "stdout",
     "output_type": "stream",
     "text": [
      "[18:35:20] WARNING: src/objective/regression_obj.cu:152: reg:linear is now deprecated in favor of reg:squarederror.\n"
     ]
    },
    {
     "name": "stderr",
     "output_type": "stream",
     "text": [
      "/Users/kakeru/PycharmProjects/main_env/lib/python3.7/site-packages/sklearn/linear_model/coordinate_descent.py:475: ConvergenceWarning: Objective did not converge. You might want to increase the number of iterations. Duality gap: 1910816699.5073817, tolerance: 182750892.83814284\n",
      "  positive)\n"
     ]
    },
    {
     "name": "stdout",
     "output_type": "stream",
     "text": [
      "[18:36:12] WARNING: src/objective/regression_obj.cu:152: reg:linear is now deprecated in favor of reg:squarederror.\n",
      "[18:36:20] WARNING: src/objective/regression_obj.cu:152: reg:linear is now deprecated in favor of reg:squarederror.\n",
      "[18:37:10] WARNING: src/objective/regression_obj.cu:152: reg:linear is now deprecated in favor of reg:squarederror.\n",
      "[18:38:00] WARNING: src/objective/regression_obj.cu:152: reg:linear is now deprecated in favor of reg:squarederror.\n"
     ]
    },
    {
     "name": "stderr",
     "output_type": "stream",
     "text": [
      "/Users/kakeru/PycharmProjects/main_env/lib/python3.7/site-packages/sklearn/linear_model/coordinate_descent.py:475: ConvergenceWarning: Objective did not converge. You might want to increase the number of iterations. Duality gap: 2154895536.912623, tolerance: 196614586.68195242\n",
      "  positive)\n"
     ]
    },
    {
     "name": "stdout",
     "output_type": "stream",
     "text": [
      "[18:38:52] WARNING: src/objective/regression_obj.cu:152: reg:linear is now deprecated in favor of reg:squarederror.\n",
      "[18:38:59] WARNING: src/objective/regression_obj.cu:152: reg:linear is now deprecated in favor of reg:squarederror.\n",
      "[18:39:51] WARNING: src/objective/regression_obj.cu:152: reg:linear is now deprecated in favor of reg:squarederror.\n",
      "[18:40:42] WARNING: src/objective/regression_obj.cu:152: reg:linear is now deprecated in favor of reg:squarederror.\n"
     ]
    },
    {
     "name": "stderr",
     "output_type": "stream",
     "text": [
      "/Users/kakeru/PycharmProjects/main_env/lib/python3.7/site-packages/sklearn/linear_model/coordinate_descent.py:475: ConvergenceWarning: Objective did not converge. You might want to increase the number of iterations. Duality gap: 3589930270.843651, tolerance: 167948951.35714287\n",
      "  positive)\n"
     ]
    },
    {
     "name": "stdout",
     "output_type": "stream",
     "text": [
      "[18:41:33] WARNING: src/objective/regression_obj.cu:152: reg:linear is now deprecated in favor of reg:squarederror.\n",
      "[18:41:41] WARNING: src/objective/regression_obj.cu:152: reg:linear is now deprecated in favor of reg:squarederror.\n",
      "[18:42:29] WARNING: src/objective/regression_obj.cu:152: reg:linear is now deprecated in favor of reg:squarederror.\n"
     ]
    },
    {
     "name": "stderr",
     "output_type": "stream",
     "text": [
      "/Users/kakeru/PycharmProjects/main_env/lib/python3.7/site-packages/sklearn/linear_model/coordinate_descent.py:475: ConvergenceWarning: Objective did not converge. You might want to increase the number of iterations. Duality gap: 157120655143.76218, tolerance: 273775088.5874921\n",
      "  positive)\n"
     ]
    },
    {
     "name": "stdout",
     "output_type": "stream",
     "text": [
      "[18:43:24] WARNING: src/objective/regression_obj.cu:152: reg:linear is now deprecated in favor of reg:squarederror.\n"
     ]
    },
    {
     "name": "stderr",
     "output_type": "stream",
     "text": [
      "/Users/kakeru/PycharmProjects/main_env/lib/python3.7/site-packages/sklearn/linear_model/coordinate_descent.py:475: ConvergenceWarning: Objective did not converge. You might want to increase the number of iterations. Duality gap: 17528625551.472218, tolerance: 273775088.5874921\n",
      "  positive)\n"
     ]
    },
    {
     "name": "stdout",
     "output_type": "stream",
     "text": [
      "[18:45:11] WARNING: src/objective/regression_obj.cu:152: reg:linear is now deprecated in favor of reg:squarederror.\n",
      "[18:45:22] WARNING: src/objective/regression_obj.cu:152: reg:linear is now deprecated in favor of reg:squarederror.\n",
      "[18:46:41] WARNING: src/objective/regression_obj.cu:152: reg:linear is now deprecated in favor of reg:squarederror.\n"
     ]
    },
    {
     "data": {
      "text/plain": [
       "array([ 88727.71807287, 712907.71352043, 157127.01653794,  67177.97132614,\n",
       "        61480.19525513,  64686.98840988,  52406.67783302,  76830.08883327,\n",
       "       204217.27841704,  91183.65373571,  82427.73486669,  46892.98176981,\n",
       "        74586.59082292, 109476.46397185, 121109.93809449,  82034.20353715,\n",
       "        86031.75970447, 101900.93519066,  69893.79879765, 401455.91206411,\n",
       "       118602.19512127, 116811.38087572, 104420.02737977,  90079.79118518,\n",
       "        80846.27266939,  74475.69628292,  92371.33439261,  76442.23049763,\n",
       "        91254.01848551,  55328.53115812, 909284.59990779, 136375.71404968,\n",
       "        49122.50139344,  75209.34279693, 104466.84191166,  70419.36668695,\n",
       "        83060.7447669 , 100007.7729904 ,  85523.18550095, 153731.82506606,\n",
       "        84625.98276   ,  93863.66603502,  50399.99840062,  82919.50145599,\n",
       "        73472.47597702,  52241.13206204,  99842.42643299,  61287.5809612 ,\n",
       "        64865.57779796,  62886.13571515, 110130.72965593, 151434.07108907,\n",
       "        40995.83294368,  64645.04278215,  63910.6425659 , 110773.98657373,\n",
       "        77428.35772844, 100128.77662879, 116478.99721987,  56174.270649  ,\n",
       "        74968.0764036 , 144332.04522057, 156894.14582958,  62771.74492414,\n",
       "       114688.12503303,  73245.08219637, 177310.14006529,  58172.16888618,\n",
       "       194731.73613173, 131241.18298301, 467043.8226738 ,  55846.62653321,\n",
       "       174490.52175066, 104763.53088296, 103242.76778643, 154636.19304045,\n",
       "        76592.38959792,  96580.4618526 ,  66340.5907304 ,  84859.24506068,\n",
       "       143084.0906735 ,  85476.30562948,  44966.17986417,  92728.62990626,\n",
       "        78195.97561456,  95045.29003963, 111120.68040738, 210761.92943585,\n",
       "       132660.26100316, 156331.60434957, 186443.4636669 ,  94727.71143247,\n",
       "       146744.79719342,  54962.80531311,  94376.03697117, 130464.78472534,\n",
       "        56254.66429663,  94437.70553744, 377801.56853044, 135188.77511086,\n",
       "        67748.78964732,  68224.57006104, 373674.21238859, 175249.23433513,\n",
       "       173533.67989784, 128313.43582334, 419807.46001469, 103052.27196931,\n",
       "        73645.34232911,  77495.9203257 ,  93543.88250429,  65004.00556709,\n",
       "       386262.48344214,  59738.26336554,  57515.6748022 , 126062.0339809 ,\n",
       "       173388.46698699, 102460.87873908, 105998.11533371,  70677.94714511,\n",
       "        99810.25544424,  86223.74575786, 192904.68336398,  49156.46293931,\n",
       "        81977.34869154,  72128.82497202, 148317.10139954, 199202.62164708,\n",
       "       233680.56659685, 169454.09755075, 144714.0395008 ,  83165.92481749,\n",
       "       112646.30870195, 162576.47491752,  94707.50414581,  82407.70165964,\n",
       "        78517.88779815,  91003.70476426, 130047.08392265, 273839.90522571,\n",
       "        67172.64314433, 141563.51163212, 172595.66237801, 177555.81505523,\n",
       "        83976.68778023,  61217.19096797,  64154.2728017 ,  62482.51664425,\n",
       "       139899.83993412,  90424.67148787,  67570.986886  ,  65950.30383691,\n",
       "       159813.56853303, 160246.48513051,  99500.36166921,  77382.28422877,\n",
       "        76504.86731157,  40195.3233339 , 116969.88523297,  98031.74963928,\n",
       "        93884.05150065,  77640.74567633,  84994.39668301,  63693.10584645,\n",
       "        93416.40661104, 132138.74977916, 475170.35630402, 126664.91889041,\n",
       "       101392.14498359,  93676.68317829, 178577.49791758, 204701.97706082,\n",
       "        69276.01325512,  98848.87861508, 129087.79365561,  44776.40071193,\n",
       "       765130.43395558, 201821.35264462, 170603.46013816, 113561.64205474,\n",
       "       101554.5716472 ,  75991.39429934, 573868.5080887 , 216329.15378629,\n",
       "        58657.691875  ,  96575.97137522, 114364.32125531, 116202.72874555,\n",
       "       146045.56462172, 173947.17627222, 117997.97339255,  75879.96386571,\n",
       "        57781.8102176 , 267608.06535113, 222969.13873424, 109874.27065834,\n",
       "       106758.79743809,  52824.80294433,  76485.79742377,  59326.14824548,\n",
       "        81511.34109454,  72278.28201103, 103582.68274186, 149012.71837214,\n",
       "        47675.4598562 ,  88753.47463803,  72573.89947329,  80322.2654014 ,\n",
       "       138723.34715547,  73179.23771882,  93218.52829692,  71471.38456265,\n",
       "        61121.99513505,  95528.70042051, 102151.99012341, 126125.6218603 ,\n",
       "       143770.21607241, 122827.97688378,  51602.04864078,  90735.16673399,\n",
       "       174730.33417401,  63697.20253321,  53418.00848893, 122604.38430211,\n",
       "        67361.72269796, 121717.07093151, 132546.69116803,  99614.84687506,\n",
       "        54351.74976385, 195808.95686277, 114024.14347049, 123542.3075532 ,\n",
       "        44254.93223997,  98780.12761882,  62999.85049036,  91101.49217738,\n",
       "        97211.26701563,  45182.18079336,  70186.36844284, 130146.94854498,\n",
       "        99366.19013056,  72393.41500243, 236626.83288264, 138790.63380263,\n",
       "       111417.85210531, 122051.93174297, 117373.53784502, 254611.06510963,\n",
       "        56178.85116371, 171009.90390464, 348350.58402773,  46313.30531257,\n",
       "        44988.06854258, 112591.01760139,  75153.97095541,  86686.57135063,\n",
       "       119127.70802741,  93786.67329523,  66639.93739838,  70276.52842664,\n",
       "        60288.27202878, 100796.37685294,  78932.71650542,  55640.37640832,\n",
       "        47161.23215709, 127788.16196532, 369982.97776823, 110920.21434584,\n",
       "       392866.2109082 ,  61033.45275029, 117141.36848656,  81580.49130005,\n",
       "       123765.82948855, 157009.64264634, 102780.27857083, 290733.0638326 ,\n",
       "       136099.1977798 ,  60166.20970995,  97949.62592985,  54749.25614551,\n",
       "       185148.73479465,  83885.72797768,  96186.95827098, 908386.98397372,\n",
       "        61096.90747615,  92186.81806928, 136407.41705913, 175549.25915222,\n",
       "       111746.50616494,  77676.35073291,  71049.03072613, 118342.56045366,\n",
       "        41026.55661974, 121993.4864413 ,  84214.80486354,  53039.50468059,\n",
       "        93654.85101411, 190243.79465702, 122930.81546831, 141521.13940446,\n",
       "       170729.86245722,  57998.12680828,  71047.10647975, 198447.44768734,\n",
       "        60849.08884905, 111211.661684  ,  54353.14539401, 111425.51323308,\n",
       "        70947.10390388, 103248.07522811,  41008.79237913,  59893.00973303,\n",
       "        71989.21899318, 141634.50772096,  79830.3226401 ])"
      ]
     },
     "execution_count": 3,
     "metadata": {},
     "output_type": "execute_result"
    }
   ],
   "source": [
    "hoge = stacking_model()\n",
    "hoge.fit(x_small,y_small)\n",
    "pred = hoge.predict(x_small)"
   ]
  },
  {
   "cell_type": "code",
   "execution_count": 4,
   "metadata": {},
   "outputs": [
    {
     "name": "stdout",
     "output_type": "stream",
     "text": [
      "[00:02:04] WARNING: src/objective/regression_obj.cu:152: reg:linear is now deprecated in favor of reg:squarederror.\n",
      "[00:02:35] WARNING: src/objective/regression_obj.cu:152: reg:linear is now deprecated in favor of reg:squarederror.\n",
      "[00:03:20] WARNING: src/objective/regression_obj.cu:152: reg:linear is now deprecated in favor of reg:squarederror.\n",
      "[00:03:25] WARNING: src/objective/regression_obj.cu:152: reg:linear is now deprecated in favor of reg:squarederror.\n",
      "[00:10:59] WARNING: src/objective/regression_obj.cu:152: reg:linear is now deprecated in favor of reg:squarederror.\n"
     ]
    },
    {
     "ename": "TypeError",
     "evalue": "expected string or bytes-like object",
     "output_type": "error",
     "traceback": [
      "\u001b[0;31m---------------------------------------------------------------------------\u001b[0m",
      "\u001b[0;31mTypeError\u001b[0m                                 Traceback (most recent call last)",
      "\u001b[0;32m<ipython-input-4-14080c2f8349>\u001b[0m in \u001b[0;36m<module>\u001b[0;34m\u001b[0m\n\u001b[0;32m----> 1\u001b[0;31m \u001b[0mcommit\u001b[0m\u001b[0;34m(\u001b[0m\u001b[0mtrain_x\u001b[0m\u001b[0;34m,\u001b[0m\u001b[0mtrain_y\u001b[0m\u001b[0;34m,\u001b[0m\u001b[0mtest\u001b[0m\u001b[0;34m,\u001b[0m\u001b[0;34m\"submit_20\"\u001b[0m\u001b[0;34m,\u001b[0m\u001b[0mseeds\u001b[0m\u001b[0;34m=\u001b[0m\u001b[0;34m[\u001b[0m\u001b[0;36m7777\u001b[0m\u001b[0;34m,\u001b[0m\u001b[0;36m8888\u001b[0m\u001b[0;34m,\u001b[0m\u001b[0;36m5555\u001b[0m\u001b[0;34m]\u001b[0m\u001b[0;34m)\u001b[0m\u001b[0;34m\u001b[0m\u001b[0;34m\u001b[0m\u001b[0m\n\u001b[0m",
      "\u001b[0;32m~/notebook/mynavi/single_model.py\u001b[0m in \u001b[0;36mcommit\u001b[0;34m(train_x, train_y, test, name, seeds)\u001b[0m\n\u001b[1;32m    378\u001b[0m         \u001b[0mmodel\u001b[0m \u001b[0;34m=\u001b[0m \u001b[0mmy_model\u001b[0m\u001b[0;34m(\u001b[0m\u001b[0mseeds\u001b[0m\u001b[0;34m[\u001b[0m\u001b[0mi\u001b[0m\u001b[0;34m]\u001b[0m\u001b[0;34m)\u001b[0m\u001b[0;34m\u001b[0m\u001b[0;34m\u001b[0m\u001b[0m\n\u001b[1;32m    379\u001b[0m         \u001b[0mmodel\u001b[0m\u001b[0;34m.\u001b[0m\u001b[0mfit\u001b[0m\u001b[0;34m(\u001b[0m\u001b[0mtrain_x\u001b[0m\u001b[0;34m,\u001b[0m\u001b[0mtrain_y\u001b[0m\u001b[0;34m)\u001b[0m\u001b[0;34m\u001b[0m\u001b[0;34m\u001b[0m\u001b[0m\n\u001b[0;32m--> 380\u001b[0;31m         \u001b[0mpred\u001b[0m \u001b[0;34m=\u001b[0m \u001b[0mmodel\u001b[0m\u001b[0;34m.\u001b[0m\u001b[0mpredict\u001b[0m\u001b[0;34m(\u001b[0m\u001b[0mtest\u001b[0m\u001b[0;34m)\u001b[0m\u001b[0;34m\u001b[0m\u001b[0;34m\u001b[0m\u001b[0m\n\u001b[0m\u001b[1;32m    381\u001b[0m         \u001b[0mpred_all\u001b[0m\u001b[0;34m.\u001b[0m\u001b[0mappend\u001b[0m\u001b[0;34m(\u001b[0m\u001b[0mpred\u001b[0m\u001b[0;34m)\u001b[0m\u001b[0;34m\u001b[0m\u001b[0;34m\u001b[0m\u001b[0m\n\u001b[1;32m    382\u001b[0m         \u001b[0mpickle\u001b[0m\u001b[0;34m.\u001b[0m\u001b[0mdump\u001b[0m\u001b[0;34m(\u001b[0m\u001b[0mmodel\u001b[0m\u001b[0;34m,\u001b[0m \u001b[0mopen\u001b[0m\u001b[0;34m(\u001b[0m\u001b[0mname\u001b[0m\u001b[0;34m+\u001b[0m\u001b[0;34m\"seed_\"\u001b[0m\u001b[0;34m+\u001b[0m\u001b[0mstr\u001b[0m\u001b[0;34m(\u001b[0m\u001b[0mseeds\u001b[0m\u001b[0;34m[\u001b[0m\u001b[0mi\u001b[0m\u001b[0;34m]\u001b[0m\u001b[0;34m)\u001b[0m\u001b[0;34m+\u001b[0m\u001b[0;34m\".pkl\"\u001b[0m\u001b[0;34m,\u001b[0m \u001b[0;34m\"wb\"\u001b[0m\u001b[0;34m)\u001b[0m\u001b[0;34m)\u001b[0m\u001b[0;34m\u001b[0m\u001b[0;34m\u001b[0m\u001b[0m\n",
      "\u001b[0;32m~/notebook/mynavi/single_model.py\u001b[0m in \u001b[0;36mpredict\u001b[0;34m(self, x)\u001b[0m\n\u001b[1;32m    269\u001b[0m         \u001b[0mtemp\u001b[0m \u001b[0;34m=\u001b[0m \u001b[0mnp\u001b[0m\u001b[0;34m.\u001b[0m\u001b[0mzeros\u001b[0m\u001b[0;34m(\u001b[0m\u001b[0mlen\u001b[0m\u001b[0;34m(\u001b[0m\u001b[0mx\u001b[0m\u001b[0;34m.\u001b[0m\u001b[0mvalues\u001b[0m\u001b[0;34m)\u001b[0m\u001b[0;34m)\u001b[0m\u001b[0;34m\u001b[0m\u001b[0;34m\u001b[0m\u001b[0m\n\u001b[1;32m    270\u001b[0m         \u001b[0;32mfor\u001b[0m \u001b[0mmodel\u001b[0m \u001b[0;32min\u001b[0m \u001b[0mself\u001b[0m\u001b[0;34m.\u001b[0m\u001b[0mmodels\u001b[0m\u001b[0;34m:\u001b[0m\u001b[0;34m\u001b[0m\u001b[0;34m\u001b[0m\u001b[0m\n\u001b[0;32m--> 271\u001b[0;31m             \u001b[0mpred\u001b[0m \u001b[0;34m=\u001b[0m \u001b[0mmodel\u001b[0m\u001b[0;34m.\u001b[0m\u001b[0mpredict\u001b[0m\u001b[0;34m(\u001b[0m\u001b[0mx\u001b[0m\u001b[0;34m)\u001b[0m\u001b[0;34m\u001b[0m\u001b[0;34m\u001b[0m\u001b[0m\n\u001b[0m\u001b[1;32m    272\u001b[0m             \u001b[0mtemp\u001b[0m \u001b[0;34m+=\u001b[0m \u001b[0mnp\u001b[0m\u001b[0;34m.\u001b[0m\u001b[0marray\u001b[0m\u001b[0;34m(\u001b[0m\u001b[0mpred\u001b[0m\u001b[0;34m)\u001b[0m\u001b[0;34m\u001b[0m\u001b[0;34m\u001b[0m\u001b[0m\n\u001b[1;32m    273\u001b[0m         \u001b[0mtemp\u001b[0m \u001b[0;34m=\u001b[0m \u001b[0mtemp\u001b[0m\u001b[0;34m/\u001b[0m\u001b[0mlen\u001b[0m\u001b[0;34m(\u001b[0m\u001b[0mself\u001b[0m\u001b[0;34m.\u001b[0m\u001b[0mmodels\u001b[0m\u001b[0;34m)\u001b[0m\u001b[0;34m\u001b[0m\u001b[0;34m\u001b[0m\u001b[0m\n",
      "\u001b[0;32m~/PycharmProjects/main_env/lib/python3.7/site-packages/sklearn/utils/metaestimators.py\u001b[0m in \u001b[0;36m<lambda>\u001b[0;34m(*args, **kwargs)\u001b[0m\n\u001b[1;32m    114\u001b[0m \u001b[0;34m\u001b[0m\u001b[0m\n\u001b[1;32m    115\u001b[0m         \u001b[0;31m# lambda, but not partial, allows help() to work with update_wrapper\u001b[0m\u001b[0;34m\u001b[0m\u001b[0;34m\u001b[0m\u001b[0;34m\u001b[0m\u001b[0m\n\u001b[0;32m--> 116\u001b[0;31m         \u001b[0mout\u001b[0m \u001b[0;34m=\u001b[0m \u001b[0;32mlambda\u001b[0m \u001b[0;34m*\u001b[0m\u001b[0margs\u001b[0m\u001b[0;34m,\u001b[0m \u001b[0;34m**\u001b[0m\u001b[0mkwargs\u001b[0m\u001b[0;34m:\u001b[0m \u001b[0mself\u001b[0m\u001b[0;34m.\u001b[0m\u001b[0mfn\u001b[0m\u001b[0;34m(\u001b[0m\u001b[0mobj\u001b[0m\u001b[0;34m,\u001b[0m \u001b[0;34m*\u001b[0m\u001b[0margs\u001b[0m\u001b[0;34m,\u001b[0m \u001b[0;34m**\u001b[0m\u001b[0mkwargs\u001b[0m\u001b[0;34m)\u001b[0m\u001b[0;34m\u001b[0m\u001b[0;34m\u001b[0m\u001b[0m\n\u001b[0m\u001b[1;32m    117\u001b[0m         \u001b[0;31m# update the docstring of the returned function\u001b[0m\u001b[0;34m\u001b[0m\u001b[0;34m\u001b[0m\u001b[0;34m\u001b[0m\u001b[0m\n\u001b[1;32m    118\u001b[0m         \u001b[0mupdate_wrapper\u001b[0m\u001b[0;34m(\u001b[0m\u001b[0mout\u001b[0m\u001b[0;34m,\u001b[0m \u001b[0mself\u001b[0m\u001b[0;34m.\u001b[0m\u001b[0mfn\u001b[0m\u001b[0;34m)\u001b[0m\u001b[0;34m\u001b[0m\u001b[0;34m\u001b[0m\u001b[0m\n",
      "\u001b[0;32m~/PycharmProjects/main_env/lib/python3.7/site-packages/sklearn/pipeline.py\u001b[0m in \u001b[0;36mpredict\u001b[0;34m(self, X, **predict_params)\u001b[0m\n\u001b[1;32m    419\u001b[0m         \u001b[0mXt\u001b[0m \u001b[0;34m=\u001b[0m \u001b[0mX\u001b[0m\u001b[0;34m\u001b[0m\u001b[0;34m\u001b[0m\u001b[0m\n\u001b[1;32m    420\u001b[0m         \u001b[0;32mfor\u001b[0m \u001b[0m_\u001b[0m\u001b[0;34m,\u001b[0m \u001b[0mname\u001b[0m\u001b[0;34m,\u001b[0m \u001b[0mtransform\u001b[0m \u001b[0;32min\u001b[0m \u001b[0mself\u001b[0m\u001b[0;34m.\u001b[0m\u001b[0m_iter\u001b[0m\u001b[0;34m(\u001b[0m\u001b[0mwith_final\u001b[0m\u001b[0;34m=\u001b[0m\u001b[0;32mFalse\u001b[0m\u001b[0;34m)\u001b[0m\u001b[0;34m:\u001b[0m\u001b[0;34m\u001b[0m\u001b[0;34m\u001b[0m\u001b[0m\n\u001b[0;32m--> 421\u001b[0;31m             \u001b[0mXt\u001b[0m \u001b[0;34m=\u001b[0m \u001b[0mtransform\u001b[0m\u001b[0;34m.\u001b[0m\u001b[0mtransform\u001b[0m\u001b[0;34m(\u001b[0m\u001b[0mXt\u001b[0m\u001b[0;34m)\u001b[0m\u001b[0;34m\u001b[0m\u001b[0;34m\u001b[0m\u001b[0m\n\u001b[0m\u001b[1;32m    422\u001b[0m         \u001b[0;32mreturn\u001b[0m \u001b[0mself\u001b[0m\u001b[0;34m.\u001b[0m\u001b[0msteps\u001b[0m\u001b[0;34m[\u001b[0m\u001b[0;34m-\u001b[0m\u001b[0;36m1\u001b[0m\u001b[0;34m]\u001b[0m\u001b[0;34m[\u001b[0m\u001b[0;34m-\u001b[0m\u001b[0;36m1\u001b[0m\u001b[0;34m]\u001b[0m\u001b[0;34m.\u001b[0m\u001b[0mpredict\u001b[0m\u001b[0;34m(\u001b[0m\u001b[0mXt\u001b[0m\u001b[0;34m,\u001b[0m \u001b[0;34m**\u001b[0m\u001b[0mpredict_params\u001b[0m\u001b[0;34m)\u001b[0m\u001b[0;34m\u001b[0m\u001b[0;34m\u001b[0m\u001b[0m\n\u001b[1;32m    423\u001b[0m \u001b[0;34m\u001b[0m\u001b[0m\n",
      "\u001b[0;32m~/notebook/mynavi/single_model.py\u001b[0m in \u001b[0;36mtransform\u001b[0;34m(self, x)\u001b[0m\n\u001b[1;32m     93\u001b[0m \u001b[0;34m\u001b[0m\u001b[0m\n\u001b[1;32m     94\u001b[0m     \u001b[0;32mdef\u001b[0m \u001b[0mtransform\u001b[0m\u001b[0;34m(\u001b[0m\u001b[0mself\u001b[0m\u001b[0;34m,\u001b[0m\u001b[0mx\u001b[0m\u001b[0;34m)\u001b[0m\u001b[0;34m:\u001b[0m\u001b[0;34m\u001b[0m\u001b[0;34m\u001b[0m\u001b[0m\n\u001b[0;32m---> 95\u001b[0;31m         \u001b[0mdata\u001b[0m \u001b[0;34m=\u001b[0m \u001b[0mself\u001b[0m\u001b[0;34m.\u001b[0m\u001b[0mpreprocess\u001b[0m\u001b[0;34m.\u001b[0m\u001b[0mpredict\u001b[0m\u001b[0;34m(\u001b[0m\u001b[0mx\u001b[0m\u001b[0;34m)\u001b[0m\u001b[0;34m\u001b[0m\u001b[0;34m\u001b[0m\u001b[0m\n\u001b[0m\u001b[1;32m     96\u001b[0m         \u001b[0mdata\u001b[0m \u001b[0;34m=\u001b[0m \u001b[0mscale\u001b[0m\u001b[0;34m(\u001b[0m\u001b[0mdata\u001b[0m\u001b[0;34m)\u001b[0m\u001b[0;34m\u001b[0m\u001b[0;34m\u001b[0m\u001b[0m\n\u001b[1;32m     97\u001b[0m         \u001b[0mpred\u001b[0m \u001b[0;34m=\u001b[0m \u001b[0mself\u001b[0m\u001b[0;34m.\u001b[0m\u001b[0mmodel\u001b[0m\u001b[0;34m.\u001b[0m\u001b[0mpredict\u001b[0m\u001b[0;34m(\u001b[0m\u001b[0mdata\u001b[0m\u001b[0;34m)\u001b[0m\u001b[0;34m\u001b[0m\u001b[0;34m\u001b[0m\u001b[0m\n",
      "\u001b[0;32m~/PycharmProjects/main_env/lib/python3.7/site-packages/sklearn/utils/metaestimators.py\u001b[0m in \u001b[0;36m<lambda>\u001b[0;34m(*args, **kwargs)\u001b[0m\n\u001b[1;32m    114\u001b[0m \u001b[0;34m\u001b[0m\u001b[0m\n\u001b[1;32m    115\u001b[0m         \u001b[0;31m# lambda, but not partial, allows help() to work with update_wrapper\u001b[0m\u001b[0;34m\u001b[0m\u001b[0;34m\u001b[0m\u001b[0;34m\u001b[0m\u001b[0m\n\u001b[0;32m--> 116\u001b[0;31m         \u001b[0mout\u001b[0m \u001b[0;34m=\u001b[0m \u001b[0;32mlambda\u001b[0m \u001b[0;34m*\u001b[0m\u001b[0margs\u001b[0m\u001b[0;34m,\u001b[0m \u001b[0;34m**\u001b[0m\u001b[0mkwargs\u001b[0m\u001b[0;34m:\u001b[0m \u001b[0mself\u001b[0m\u001b[0;34m.\u001b[0m\u001b[0mfn\u001b[0m\u001b[0;34m(\u001b[0m\u001b[0mobj\u001b[0m\u001b[0;34m,\u001b[0m \u001b[0;34m*\u001b[0m\u001b[0margs\u001b[0m\u001b[0;34m,\u001b[0m \u001b[0;34m**\u001b[0m\u001b[0mkwargs\u001b[0m\u001b[0;34m)\u001b[0m\u001b[0;34m\u001b[0m\u001b[0;34m\u001b[0m\u001b[0m\n\u001b[0m\u001b[1;32m    117\u001b[0m         \u001b[0;31m# update the docstring of the returned function\u001b[0m\u001b[0;34m\u001b[0m\u001b[0;34m\u001b[0m\u001b[0;34m\u001b[0m\u001b[0m\n\u001b[1;32m    118\u001b[0m         \u001b[0mupdate_wrapper\u001b[0m\u001b[0;34m(\u001b[0m\u001b[0mout\u001b[0m\u001b[0;34m,\u001b[0m \u001b[0mself\u001b[0m\u001b[0;34m.\u001b[0m\u001b[0mfn\u001b[0m\u001b[0;34m)\u001b[0m\u001b[0;34m\u001b[0m\u001b[0;34m\u001b[0m\u001b[0m\n",
      "\u001b[0;32m~/PycharmProjects/main_env/lib/python3.7/site-packages/sklearn/pipeline.py\u001b[0m in \u001b[0;36mpredict\u001b[0;34m(self, X, **predict_params)\u001b[0m\n\u001b[1;32m    419\u001b[0m         \u001b[0mXt\u001b[0m \u001b[0;34m=\u001b[0m \u001b[0mX\u001b[0m\u001b[0;34m\u001b[0m\u001b[0;34m\u001b[0m\u001b[0m\n\u001b[1;32m    420\u001b[0m         \u001b[0;32mfor\u001b[0m \u001b[0m_\u001b[0m\u001b[0;34m,\u001b[0m \u001b[0mname\u001b[0m\u001b[0;34m,\u001b[0m \u001b[0mtransform\u001b[0m \u001b[0;32min\u001b[0m \u001b[0mself\u001b[0m\u001b[0;34m.\u001b[0m\u001b[0m_iter\u001b[0m\u001b[0;34m(\u001b[0m\u001b[0mwith_final\u001b[0m\u001b[0;34m=\u001b[0m\u001b[0;32mFalse\u001b[0m\u001b[0;34m)\u001b[0m\u001b[0;34m:\u001b[0m\u001b[0;34m\u001b[0m\u001b[0;34m\u001b[0m\u001b[0m\n\u001b[0;32m--> 421\u001b[0;31m             \u001b[0mXt\u001b[0m \u001b[0;34m=\u001b[0m \u001b[0mtransform\u001b[0m\u001b[0;34m.\u001b[0m\u001b[0mtransform\u001b[0m\u001b[0;34m(\u001b[0m\u001b[0mXt\u001b[0m\u001b[0;34m)\u001b[0m\u001b[0;34m\u001b[0m\u001b[0;34m\u001b[0m\u001b[0m\n\u001b[0m\u001b[1;32m    422\u001b[0m         \u001b[0;32mreturn\u001b[0m \u001b[0mself\u001b[0m\u001b[0;34m.\u001b[0m\u001b[0msteps\u001b[0m\u001b[0;34m[\u001b[0m\u001b[0;34m-\u001b[0m\u001b[0;36m1\u001b[0m\u001b[0;34m]\u001b[0m\u001b[0;34m[\u001b[0m\u001b[0;34m-\u001b[0m\u001b[0;36m1\u001b[0m\u001b[0;34m]\u001b[0m\u001b[0;34m.\u001b[0m\u001b[0mpredict\u001b[0m\u001b[0;34m(\u001b[0m\u001b[0mXt\u001b[0m\u001b[0;34m,\u001b[0m \u001b[0;34m**\u001b[0m\u001b[0mpredict_params\u001b[0m\u001b[0;34m)\u001b[0m\u001b[0;34m\u001b[0m\u001b[0;34m\u001b[0m\u001b[0m\n\u001b[1;32m    423\u001b[0m \u001b[0;34m\u001b[0m\u001b[0m\n",
      "\u001b[0;32m~/PycharmProjects/main_env/lib/python3.7/site-packages/sklearn/pipeline.py\u001b[0m in \u001b[0;36m_transform\u001b[0;34m(self, X)\u001b[0m\n\u001b[1;32m    538\u001b[0m         \u001b[0mXt\u001b[0m \u001b[0;34m=\u001b[0m \u001b[0mX\u001b[0m\u001b[0;34m\u001b[0m\u001b[0;34m\u001b[0m\u001b[0m\n\u001b[1;32m    539\u001b[0m         \u001b[0;32mfor\u001b[0m \u001b[0m_\u001b[0m\u001b[0;34m,\u001b[0m \u001b[0m_\u001b[0m\u001b[0;34m,\u001b[0m \u001b[0mtransform\u001b[0m \u001b[0;32min\u001b[0m \u001b[0mself\u001b[0m\u001b[0;34m.\u001b[0m\u001b[0m_iter\u001b[0m\u001b[0;34m(\u001b[0m\u001b[0;34m)\u001b[0m\u001b[0;34m:\u001b[0m\u001b[0;34m\u001b[0m\u001b[0;34m\u001b[0m\u001b[0m\n\u001b[0;32m--> 540\u001b[0;31m             \u001b[0mXt\u001b[0m \u001b[0;34m=\u001b[0m \u001b[0mtransform\u001b[0m\u001b[0;34m.\u001b[0m\u001b[0mtransform\u001b[0m\u001b[0;34m(\u001b[0m\u001b[0mXt\u001b[0m\u001b[0;34m)\u001b[0m\u001b[0;34m\u001b[0m\u001b[0;34m\u001b[0m\u001b[0m\n\u001b[0m\u001b[1;32m    541\u001b[0m         \u001b[0;32mreturn\u001b[0m \u001b[0mXt\u001b[0m\u001b[0;34m\u001b[0m\u001b[0;34m\u001b[0m\u001b[0m\n\u001b[1;32m    542\u001b[0m \u001b[0;34m\u001b[0m\u001b[0m\n",
      "\u001b[0;32m~/notebook/mynavi/basic.py\u001b[0m in \u001b[0;36mtransform\u001b[0;34m(self, x)\u001b[0m\n\u001b[1;32m     51\u001b[0m         \u001b[0;32mreturn\u001b[0m \u001b[0mself\u001b[0m\u001b[0;34m\u001b[0m\u001b[0;34m\u001b[0m\u001b[0m\n\u001b[1;32m     52\u001b[0m     \u001b[0;32mdef\u001b[0m \u001b[0mtransform\u001b[0m\u001b[0;34m(\u001b[0m\u001b[0mself\u001b[0m\u001b[0;34m,\u001b[0m\u001b[0mx\u001b[0m\u001b[0;34m)\u001b[0m\u001b[0;34m:\u001b[0m\u001b[0;34m\u001b[0m\u001b[0;34m\u001b[0m\u001b[0m\n\u001b[0;32m---> 53\u001b[0;31m         \u001b[0mwhere\u001b[0m\u001b[0;34m,\u001b[0m\u001b[0mwhat\u001b[0m\u001b[0;34m,\u001b[0m\u001b[0mhas_under\u001b[0m\u001b[0;34m,\u001b[0m\u001b[0mall_of_bld\u001b[0m\u001b[0;34m=\u001b[0m\u001b[0mheight_of_it_\u001b[0m\u001b[0;34m(\u001b[0m\u001b[0mx\u001b[0m\u001b[0;34m)\u001b[0m\u001b[0;34m\u001b[0m\u001b[0;34m\u001b[0m\u001b[0m\n\u001b[0m\u001b[1;32m     54\u001b[0m         \u001b[0mfuga\u001b[0m \u001b[0;34m=\u001b[0m \u001b[0mx\u001b[0m\u001b[0;34m.\u001b[0m\u001b[0mcopy\u001b[0m\u001b[0;34m(\u001b[0m\u001b[0;34m)\u001b[0m\u001b[0;34m\u001b[0m\u001b[0;34m\u001b[0m\u001b[0m\n\u001b[1;32m     55\u001b[0m         \u001b[0mfuga\u001b[0m \u001b[0;34m=\u001b[0m \u001b[0mfuga\u001b[0m\u001b[0;34m.\u001b[0m\u001b[0massign\u001b[0m\u001b[0;34m(\u001b[0m\u001b[0mmf_what_floor\u001b[0m\u001b[0;34m=\u001b[0m\u001b[0mwhere\u001b[0m\u001b[0;34m)\u001b[0m\u001b[0;34m\u001b[0m\u001b[0;34m\u001b[0m\u001b[0m\n",
      "\u001b[0;32m~/notebook/mynavi/single.py\u001b[0m in \u001b[0;36mheight_of_it_\u001b[0;34m(x)\u001b[0m\n\u001b[1;32m     72\u001b[0m \u001b[0;34m\u001b[0m\u001b[0m\n\u001b[1;32m     73\u001b[0m     \u001b[0;32mfor\u001b[0m \u001b[0mi\u001b[0m \u001b[0;32min\u001b[0m \u001b[0mrange\u001b[0m\u001b[0;34m(\u001b[0m\u001b[0mlen\u001b[0m\u001b[0;34m(\u001b[0m\u001b[0mtmp\u001b[0m\u001b[0;34m)\u001b[0m\u001b[0;34m)\u001b[0m\u001b[0;34m:\u001b[0m\u001b[0;34m\u001b[0m\u001b[0;34m\u001b[0m\u001b[0m\n\u001b[0;32m---> 74\u001b[0;31m         \u001b[0;32mif\u001b[0m \u001b[0mnot_all_pat\u001b[0m\u001b[0;34m.\u001b[0m\u001b[0msearch\u001b[0m\u001b[0;34m(\u001b[0m\u001b[0mtmp\u001b[0m\u001b[0;34m[\u001b[0m\u001b[0mi\u001b[0m\u001b[0;34m]\u001b[0m\u001b[0;34m)\u001b[0m\u001b[0;34m:\u001b[0m\u001b[0;34m\u001b[0m\u001b[0;34m\u001b[0m\u001b[0m\n\u001b[0m\u001b[1;32m     75\u001b[0m             \u001b[0mhoge\u001b[0m \u001b[0;34m=\u001b[0m  \u001b[0mtmp\u001b[0m\u001b[0;34m[\u001b[0m\u001b[0mi\u001b[0m\u001b[0;34m]\u001b[0m\u001b[0;34m.\u001b[0m\u001b[0msplit\u001b[0m\u001b[0;34m(\u001b[0m\u001b[0;34m\"／\"\u001b[0m\u001b[0;34m)\u001b[0m\u001b[0;34m\u001b[0m\u001b[0;34m\u001b[0m\u001b[0m\n\u001b[1;32m     76\u001b[0m             \u001b[0;32mif\u001b[0m \u001b[0mhoge\u001b[0m\u001b[0;34m[\u001b[0m\u001b[0;36m0\u001b[0m\u001b[0;34m]\u001b[0m \u001b[0;34m==\u001b[0m \u001b[0;34m\"\"\u001b[0m\u001b[0;34m:\u001b[0m\u001b[0;34m\u001b[0m\u001b[0;34m\u001b[0m\u001b[0m\n",
      "\u001b[0;31mTypeError\u001b[0m: expected string or bytes-like object"
     ]
    }
   ],
   "source": [
    "commit(train_x,train_y,test,\"submit_20\",seeds=[7777,8888,5555])"
   ]
  },
  {
   "cell_type": "code",
   "execution_count": null,
   "metadata": {},
   "outputs": [],
   "source": [
    "x_small,x_valid,y_small,y_valid = train_test_split(train_x,train_y,random_state=48321)\n",
    "model = my_model()\n",
    "model.fit(x_small,y_small)\n",
    "pred = model.predict(x_valid)\n",
    "hoge = x_valid.assign(abs_diff = abs(y_valid.values)-pred)\n",
    "hoge= hoge.assign(diff = y_valid.values-pred)\n",
    "hoge = hoge.assign(pred=pred)\n",
    "hoge = hoge.assign(actual=y_valid.values)\n",
    "hoge = hoge.sort_values(\"abs_diff\",ascending= False)\n",
    "hoge[:100].to_csv(\"human_check.csv\")"
   ]
  },
  {
   "cell_type": "code",
   "execution_count": 3,
   "metadata": {},
   "outputs": [
    {
     "name": "stdout",
     "output_type": "stream",
     "text": [
      "31462\n",
      "31262\n"
     ]
    }
   ],
   "source": [
    "train_height = pd.read_csv(\"./train_height.csv\",header=None)\n",
    "train_height = train_height.values[0][:-1]\n",
    "test_height = pd.read_csv(\"./test_height.csv\",header=None)\n",
    "test_height = test_height.values[0][:-1]\n",
    "print(len(train_height))\n",
    "print(len(test_height))"
   ]
  },
  {
   "cell_type": "code",
   "execution_count": 4,
   "metadata": {},
   "outputs": [
    {
     "data": {
      "text/plain": [
       "id        31262\n",
       "所在地       31262\n",
       "アクセス      31262\n",
       "間取り       31262\n",
       "築年数       31262\n",
       "方角        28454\n",
       "面積        31262\n",
       "所在階       31261\n",
       "バス・トイレ    30942\n",
       "キッチン      30627\n",
       "放送・通信     27808\n",
       "室内設備      31189\n",
       "駐車場       25906\n",
       "周辺環境      22021\n",
       "建物構造      31262\n",
       "契約期間      24281\n",
       "ido       31262\n",
       "keido     31262\n",
       "dtype: int64"
      ]
     },
     "execution_count": 4,
     "metadata": {},
     "output_type": "execute_result"
    }
   ],
   "source": [
    "test.count()"
   ]
  },
  {
   "cell_type": "code",
   "execution_count": 30,
   "metadata": {},
   "outputs": [
    {
     "data": {
      "text/html": [
       "<div>\n",
       "<style scoped>\n",
       "    .dataframe tbody tr th:only-of-type {\n",
       "        vertical-align: middle;\n",
       "    }\n",
       "\n",
       "    .dataframe tbody tr th {\n",
       "        vertical-align: top;\n",
       "    }\n",
       "\n",
       "    .dataframe thead th {\n",
       "        text-align: right;\n",
       "    }\n",
       "</style>\n",
       "<table border=\"1\" class=\"dataframe\">\n",
       "  <thead>\n",
       "    <tr style=\"text-align: right;\">\n",
       "      <th></th>\n",
       "      <th>ido</th>\n",
       "      <th>keido</th>\n",
       "      <th>price</th>\n",
       "    </tr>\n",
       "  </thead>\n",
       "  <tbody>\n",
       "    <tr>\n",
       "      <th>952</th>\n",
       "      <td>35.742359</td>\n",
       "      <td>139.570052</td>\n",
       "      <td>325000</td>\n",
       "    </tr>\n",
       "    <tr>\n",
       "      <th>953</th>\n",
       "      <td>35.729468</td>\n",
       "      <td>139.570256</td>\n",
       "      <td>362000</td>\n",
       "    </tr>\n",
       "    <tr>\n",
       "      <th>963</th>\n",
       "      <td>35.733581</td>\n",
       "      <td>139.573902</td>\n",
       "      <td>346000</td>\n",
       "    </tr>\n",
       "    <tr>\n",
       "      <th>964</th>\n",
       "      <td>35.757737</td>\n",
       "      <td>139.573904</td>\n",
       "      <td>256000</td>\n",
       "    </tr>\n",
       "    <tr>\n",
       "      <th>968</th>\n",
       "      <td>35.722818</td>\n",
       "      <td>139.574655</td>\n",
       "      <td>490000</td>\n",
       "    </tr>\n",
       "  </tbody>\n",
       "</table>\n",
       "</div>"
      ],
      "text/plain": [
       "           ido       keido   price\n",
       "952  35.742359  139.570052  325000\n",
       "953  35.729468  139.570256  362000\n",
       "963  35.733581  139.573902  346000\n",
       "964  35.757737  139.573904  256000\n",
       "968  35.722818  139.574655  490000"
      ]
     },
     "execution_count": 30,
     "metadata": {},
     "output_type": "execute_result"
    }
   ],
   "source": [
    "df.head()"
   ]
  },
  {
   "cell_type": "code",
   "execution_count": 28,
   "metadata": {},
   "outputs": [
    {
     "data": {
      "text/plain": [
       "ido      712\n",
       "keido    712\n",
       "price    712\n",
       "dtype: int64"
      ]
     },
     "execution_count": 28,
     "metadata": {},
     "output_type": "execute_result"
    }
   ],
   "source": [
    "\n",
    "df.count()"
   ]
  },
  {
   "cell_type": "code",
   "execution_count": 45,
   "metadata": {},
   "outputs": [],
   "source": [
    "def build_year_decoder(txt):\n",
    "    is_heisei = False\n",
    "    if \"平成\" in txt:\n",
    "        is_heisei = True\n",
    "    hoge = re.search(r\"[0-9０-９]+\",txt)\n",
    "    if hoge:\n",
    "        hoge = int(hoge[0])\n",
    "    else:\n",
    "        hoge = 1\n",
    "    if is_heisei:\n",
    "        base = 1988\n",
    "    else:\n",
    "        base = 1925\n",
    "    built = base+hoge\n",
    "    return 2019-built"
   ]
  },
  {
   "cell_type": "code",
   "execution_count": 96,
   "metadata": {},
   "outputs": [],
   "source": [
    "df = pd.read_csv(\"./hudousan_2017_1_2019_1.csv\")\n",
    "df = df.dropna(subset=[\"今後の利用目的\",\"建築年\",\"間取り\",\"市区町村名\",\"最寄駅：距離（分）\",\"面積（㎡）\"])\n",
    "df = df[df[\"今後の利用目的\"].str.contains(\"住宅\")]\n",
    "df = df[df[\"市区町村名\"].str.contains(\"区\")]\n",
    "df = df[[\"市区町村名\",\"地区名\",\"最寄駅：距離（分）\",\"取引価格（総額）\",\"間取り\",\"面積（㎡）\",\"建築年\"]]\n",
    "\n",
    "hoge = df[\"建築年\"].values\n",
    "buf = [0 for i in range(len(hoge))]\n",
    "for i in range(len(hoge)):\n",
    "    buf[i] = build_year_decoder(hoge[i])\n",
    "\n",
    "df = df.drop(\"建築年\",axis=1)\n",
    "df = df.assign(old=buf)"
   ]
  },
  {
   "cell_type": "code",
   "execution_count": 98,
   "metadata": {},
   "outputs": [
    {
     "data": {
      "text/plain": [
       "市区町村名        22208\n",
       "地区名          22208\n",
       "最寄駅：距離（分）    22208\n",
       "取引価格（総額）     22208\n",
       "間取り          22208\n",
       "面積（㎡）        22208\n",
       "old          22208\n",
       "dtype: int64"
      ]
     },
     "execution_count": 98,
     "metadata": {},
     "output_type": "execute_result"
    }
   ],
   "source": [
    "df.count()"
   ]
  },
  {
   "cell_type": "code",
   "execution_count": 84,
   "metadata": {},
   "outputs": [],
   "source": [
    "def address_of_it_(x):\n",
    "    pat = re.compile(r\"東京都.+区\")\n",
    "    p2 = re.compile(r\"区.+?[0-9|０-９]丁目\")\n",
    "    p3 = re.compile(r\"区.+?町\")\n",
    "    p4 = re.compile(r\"区.+?[0-9|０-９]\")\n",
    "    dist = [\"\" for i in range(len(x.values))]\n",
    "    area = [\"\" for i in range(len(x.values))]\n",
    "    tmp = x[\"所在地\"].values\n",
    "    for i in range(len(tmp)):\n",
    "        m = pat.search(tmp[i])\n",
    "        dist[i] = m[0][3:]\n",
    "        m = p2.search(tmp[i])\n",
    "        if m:\n",
    "            area[i] = m[0][1:-3]\n",
    "        else:\n",
    "            m = p3.search(tmp[i])\n",
    "            if m:\n",
    "                area[i] = m[0][1:]\n",
    "            else:\n",
    "                m = p4.search(tmp[i])\n",
    "                if m:\n",
    "                    area[i] = m[0][1:-1]\n",
    "    return dist,area\n",
    "class extract_district:\n",
    "    def __init__(self):\n",
    "        pass\n",
    "    def fit(self,x,y):\n",
    "        return self\n",
    "    def transform(self,x):\n",
    "        dist,area = address_of_it_(x)\n",
    "        hoge = x.copy()\n",
    "        hoge = hoge.drop(\"所在地\",axis = 1)\n",
    "        hoge = hoge.assign(district=dist)\n",
    "        hoge = hoge.assign(city = area)\n",
    "        return hoge"
   ]
  },
  {
   "cell_type": "code",
   "execution_count": 85,
   "metadata": {},
   "outputs": [],
   "source": [
    "temp = extract_district()\n",
    "hoge = temp.transform(train)"
   ]
  },
  {
   "cell_type": "code",
   "execution_count": 92,
   "metadata": {},
   "outputs": [],
   "source": [
    "a = set(hoge[\"city\"].unique())"
   ]
  },
  {
   "cell_type": "code",
   "execution_count": 93,
   "metadata": {},
   "outputs": [],
   "source": [
    "b = set(df[\"地区名\"].unique())"
   ]
  },
  {
   "cell_type": "code",
   "execution_count": 94,
   "metadata": {},
   "outputs": [
    {
     "name": "stdout",
     "output_type": "stream",
     "text": [
      "{'', '3-', '片町', '千駄ヶ谷', '神田練塀町', '富ヶ谷', '幡ヶ谷', '紀尾井町', '西ヶ原', '三栄町', '神南', '揚場町', '鍛冶町', '関町', '桐ヶ丘', '羽田旭町', '日ノ出町', '神田美土代町', '神田西福田町', '神田紺屋町', '愛宕', '東榎町', '堀之内'}\n"
     ]
    }
   ],
   "source": [
    "print(a-b)"
   ]
  },
  {
   "cell_type": "code",
   "execution_count": 40,
   "metadata": {},
   "outputs": [
    {
     "data": {
      "text/html": [
       "<div>\n",
       "<style scoped>\n",
       "    .dataframe tbody tr th:only-of-type {\n",
       "        vertical-align: middle;\n",
       "    }\n",
       "\n",
       "    .dataframe tbody tr th {\n",
       "        vertical-align: top;\n",
       "    }\n",
       "\n",
       "    .dataframe thead th {\n",
       "        text-align: right;\n",
       "    }\n",
       "</style>\n",
       "<table border=\"1\" class=\"dataframe\">\n",
       "  <thead>\n",
       "    <tr style=\"text-align: right;\">\n",
       "      <th></th>\n",
       "      <th>市区町村名</th>\n",
       "      <th>地区名</th>\n",
       "      <th>最寄駅：距離（分）</th>\n",
       "      <th>取引価格（総額）</th>\n",
       "      <th>間取り</th>\n",
       "      <th>面積（㎡）</th>\n",
       "      <th>建築年</th>\n",
       "    </tr>\n",
       "  </thead>\n",
       "  <tbody>\n",
       "    <tr>\n",
       "      <th>0</th>\n",
       "      <td>千代田区</td>\n",
       "      <td>飯田橋</td>\n",
       "      <td>3</td>\n",
       "      <td>24000000</td>\n",
       "      <td>１ＬＤＫ</td>\n",
       "      <td>35</td>\n",
       "      <td>昭和60年</td>\n",
       "    </tr>\n",
       "    <tr>\n",
       "      <th>1</th>\n",
       "      <td>千代田区</td>\n",
       "      <td>飯田橋</td>\n",
       "      <td>4</td>\n",
       "      <td>13000000</td>\n",
       "      <td>１Ｋ</td>\n",
       "      <td>20</td>\n",
       "      <td>昭和57年</td>\n",
       "    </tr>\n",
       "    <tr>\n",
       "      <th>3</th>\n",
       "      <td>千代田区</td>\n",
       "      <td>飯田橋</td>\n",
       "      <td>3</td>\n",
       "      <td>22000000</td>\n",
       "      <td>１Ｋ</td>\n",
       "      <td>30</td>\n",
       "      <td>昭和60年</td>\n",
       "    </tr>\n",
       "    <tr>\n",
       "      <th>4</th>\n",
       "      <td>千代田区</td>\n",
       "      <td>飯田橋</td>\n",
       "      <td>1</td>\n",
       "      <td>69000000</td>\n",
       "      <td>２ＬＤＫ</td>\n",
       "      <td>70</td>\n",
       "      <td>昭和59年</td>\n",
       "    </tr>\n",
       "    <tr>\n",
       "      <th>7</th>\n",
       "      <td>千代田区</td>\n",
       "      <td>飯田橋</td>\n",
       "      <td>4</td>\n",
       "      <td>45000000</td>\n",
       "      <td>１ＬＤＫ</td>\n",
       "      <td>45</td>\n",
       "      <td>昭和57年</td>\n",
       "    </tr>\n",
       "  </tbody>\n",
       "</table>\n",
       "</div>"
      ],
      "text/plain": [
       "  市区町村名  地区名 最寄駅：距離（分）  取引価格（総額）   間取り 面積（㎡）    建築年\n",
       "0  千代田区  飯田橋         3  24000000  １ＬＤＫ    35  昭和60年\n",
       "1  千代田区  飯田橋         4  13000000    １Ｋ    20  昭和57年\n",
       "3  千代田区  飯田橋         3  22000000    １Ｋ    30  昭和60年\n",
       "4  千代田区  飯田橋         1  69000000  ２ＬＤＫ    70  昭和59年\n",
       "7  千代田区  飯田橋         4  45000000  １ＬＤＫ    45  昭和57年"
      ]
     },
     "execution_count": 40,
     "metadata": {},
     "output_type": "execute_result"
    }
   ],
   "source": [
    "df.head()"
   ]
  },
  {
   "cell_type": "code",
   "execution_count": 2,
   "metadata": {},
   "outputs": [
    {
     "name": "stdout",
     "output_type": "stream",
     "text": [
      "[29820.89148608 25508.78508811 29149.0942691  24828.6590633 ]\n"
     ]
    }
   ],
   "source": [
    "comment = \"\"\"elastic net\"\"\"\n",
    "check_nn(comment,train_x,train_y)"
   ]
  },
  {
   "cell_type": "code",
   "execution_count": null,
   "metadata": {},
   "outputs": [],
   "source": [
    "ridge\n",
    "[25069.32411078 21772.64874326 22907.98359895 20810.2771734 ]\n",
    "elastic net\n",
    "[29820.89148608 25508.78508811 29149.0942691  24828.6590633 ]\n",
    "lasso\n",
    "[28236.78496342 26278.71400056 30587.13911905 28911.92178873]\n",
    "nn\n",
    "[32465.61245262 26831.62645537 32918.01658902 25516.8817778]"
   ]
  },
  {
   "cell_type": "code",
   "execution_count": 2,
   "metadata": {},
   "outputs": [
    {
     "name": "stdout",
     "output_type": "stream",
     "text": [
      "[21:34:16] WARNING: src/objective/regression_obj.cu:152: reg:linear is now deprecated in favor of reg:squarederror.\n",
      "[21:34:39] WARNING: src/objective/regression_obj.cu:152: reg:linear is now deprecated in favor of reg:squarederror.\n",
      "[21:35:49] WARNING: src/objective/regression_obj.cu:152: reg:linear is now deprecated in favor of reg:squarederror.\n",
      "[21:36:07] WARNING: src/objective/regression_obj.cu:152: reg:linear is now deprecated in favor of reg:squarederror.\n"
     ]
    },
    {
     "name": "stderr",
     "output_type": "stream",
     "text": [
      "/Users/kakeru/PycharmProjects/main_env/lib/python3.7/site-packages/sklearn/svm/base.py:929: ConvergenceWarning: Liblinear failed to converge, increase the number of iterations.\n",
      "  \"the number of iterations.\", ConvergenceWarning)\n"
     ]
    },
    {
     "name": "stdout",
     "output_type": "stream",
     "text": [
      "[21:37:46] WARNING: src/objective/regression_obj.cu:152: reg:linear is now deprecated in favor of reg:squarederror.\n",
      "[21:38:01] WARNING: src/objective/regression_obj.cu:152: reg:linear is now deprecated in favor of reg:squarederror.\n",
      "[21:38:21] WARNING: src/objective/regression_obj.cu:152: reg:linear is now deprecated in favor of reg:squarederror.\n",
      "[21:39:06] WARNING: src/objective/regression_obj.cu:152: reg:linear is now deprecated in favor of reg:squarederror.\n",
      "[21:39:20] WARNING: src/objective/regression_obj.cu:152: reg:linear is now deprecated in favor of reg:squarederror.\n",
      "[21:39:40] WARNING: src/objective/regression_obj.cu:152: reg:linear is now deprecated in favor of reg:squarederror.\n",
      "[21:40:25] WARNING: src/objective/regression_obj.cu:152: reg:linear is now deprecated in favor of reg:squarederror.\n",
      "[21:40:38] WARNING: src/objective/regression_obj.cu:152: reg:linear is now deprecated in favor of reg:squarederror.\n",
      "[21:40:58] WARNING: src/objective/regression_obj.cu:152: reg:linear is now deprecated in favor of reg:squarederror.\n",
      "[21:41:42] WARNING: src/objective/regression_obj.cu:152: reg:linear is now deprecated in favor of reg:squarederror.\n",
      "[21:41:56] WARNING: src/objective/regression_obj.cu:152: reg:linear is now deprecated in favor of reg:squarederror.\n",
      "[21:42:18] WARNING: src/objective/regression_obj.cu:152: reg:linear is now deprecated in favor of reg:squarederror.\n",
      "[21:43:06] WARNING: src/objective/regression_obj.cu:152: reg:linear is now deprecated in favor of reg:squarederror.\n",
      "[21:43:24] WARNING: src/objective/regression_obj.cu:152: reg:linear is now deprecated in favor of reg:squarederror.\n",
      "[21:43:52] WARNING: src/objective/regression_obj.cu:152: reg:linear is now deprecated in favor of reg:squarederror.\n",
      "[21:44:44] WARNING: src/objective/regression_obj.cu:152: reg:linear is now deprecated in favor of reg:squarederror.\n",
      "[21:45:02] WARNING: src/objective/regression_obj.cu:152: reg:linear is now deprecated in favor of reg:squarederror.\n",
      "[21:45:29] WARNING: src/objective/regression_obj.cu:152: reg:linear is now deprecated in favor of reg:squarederror.\n",
      "[21:46:41] WARNING: src/objective/regression_obj.cu:152: reg:linear is now deprecated in favor of reg:squarederror.\n",
      "[21:46:59] WARNING: src/objective/regression_obj.cu:152: reg:linear is now deprecated in favor of reg:squarederror.\n",
      "[21:48:06] WARNING: src/objective/regression_obj.cu:152: reg:linear is now deprecated in favor of reg:squarederror.\n",
      "[21:48:25] WARNING: src/objective/regression_obj.cu:152: reg:linear is now deprecated in favor of reg:squarederror.\n",
      "[21:49:44] WARNING: src/objective/regression_obj.cu:152: reg:linear is now deprecated in favor of reg:squarederror.\n",
      "[21:49:57] WARNING: src/objective/regression_obj.cu:152: reg:linear is now deprecated in favor of reg:squarederror.\n",
      "[21:50:18] WARNING: src/objective/regression_obj.cu:152: reg:linear is now deprecated in favor of reg:squarederror.\n",
      "[21:51:02] WARNING: src/objective/regression_obj.cu:152: reg:linear is now deprecated in favor of reg:squarederror.\n",
      "[21:51:16] WARNING: src/objective/regression_obj.cu:152: reg:linear is now deprecated in favor of reg:squarederror.\n",
      "[21:51:36] WARNING: src/objective/regression_obj.cu:152: reg:linear is now deprecated in favor of reg:squarederror.\n",
      "[21:52:20] WARNING: src/objective/regression_obj.cu:152: reg:linear is now deprecated in favor of reg:squarederror.\n",
      "[21:52:34] WARNING: src/objective/regression_obj.cu:152: reg:linear is now deprecated in favor of reg:squarederror.\n",
      "[21:52:54] WARNING: src/objective/regression_obj.cu:152: reg:linear is now deprecated in favor of reg:squarederror.\n",
      "[21:53:38] WARNING: src/objective/regression_obj.cu:152: reg:linear is now deprecated in favor of reg:squarederror.\n",
      "[21:53:52] WARNING: src/objective/regression_obj.cu:152: reg:linear is now deprecated in favor of reg:squarederror.\n",
      "[21:54:12] WARNING: src/objective/regression_obj.cu:152: reg:linear is now deprecated in favor of reg:squarederror.\n",
      "[21:55:00] WARNING: src/objective/regression_obj.cu:152: reg:linear is now deprecated in favor of reg:squarederror.\n",
      "[21:55:18] WARNING: src/objective/regression_obj.cu:152: reg:linear is now deprecated in favor of reg:squarederror.\n",
      "[21:55:45] WARNING: src/objective/regression_obj.cu:152: reg:linear is now deprecated in favor of reg:squarederror.\n",
      "[21:56:37] WARNING: src/objective/regression_obj.cu:152: reg:linear is now deprecated in favor of reg:squarederror.\n",
      "[21:56:55] WARNING: src/objective/regression_obj.cu:152: reg:linear is now deprecated in favor of reg:squarederror.\n",
      "[21:57:22] WARNING: src/objective/regression_obj.cu:152: reg:linear is now deprecated in favor of reg:squarederror.\n",
      "[21:58:34] WARNING: src/objective/regression_obj.cu:152: reg:linear is now deprecated in favor of reg:squarederror.\n",
      "[21:58:52] WARNING: src/objective/regression_obj.cu:152: reg:linear is now deprecated in favor of reg:squarederror.\n",
      "[21:59:59] WARNING: src/objective/regression_obj.cu:152: reg:linear is now deprecated in favor of reg:squarederror.\n",
      "[22:00:17] WARNING: src/objective/regression_obj.cu:152: reg:linear is now deprecated in favor of reg:squarederror.\n"
     ]
    },
    {
     "name": "stderr",
     "output_type": "stream",
     "text": [
      "/Users/kakeru/PycharmProjects/main_env/lib/python3.7/site-packages/sklearn/svm/base.py:929: ConvergenceWarning: Liblinear failed to converge, increase the number of iterations.\n",
      "  \"the number of iterations.\", ConvergenceWarning)\n"
     ]
    },
    {
     "name": "stdout",
     "output_type": "stream",
     "text": [
      "[22:01:40] WARNING: src/objective/regression_obj.cu:152: reg:linear is now deprecated in favor of reg:squarederror.\n",
      "[22:01:53] WARNING: src/objective/regression_obj.cu:152: reg:linear is now deprecated in favor of reg:squarederror.\n",
      "[22:02:14] WARNING: src/objective/regression_obj.cu:152: reg:linear is now deprecated in favor of reg:squarederror.\n",
      "[22:02:59] WARNING: src/objective/regression_obj.cu:152: reg:linear is now deprecated in favor of reg:squarederror.\n",
      "[22:03:12] WARNING: src/objective/regression_obj.cu:152: reg:linear is now deprecated in favor of reg:squarederror.\n",
      "[22:03:32] WARNING: src/objective/regression_obj.cu:152: reg:linear is now deprecated in favor of reg:squarederror.\n",
      "[22:04:16] WARNING: src/objective/regression_obj.cu:152: reg:linear is now deprecated in favor of reg:squarederror.\n",
      "[22:04:30] WARNING: src/objective/regression_obj.cu:152: reg:linear is now deprecated in favor of reg:squarederror.\n",
      "[22:04:49] WARNING: src/objective/regression_obj.cu:152: reg:linear is now deprecated in favor of reg:squarederror.\n",
      "[22:05:33] WARNING: src/objective/regression_obj.cu:152: reg:linear is now deprecated in favor of reg:squarederror.\n",
      "[22:05:47] WARNING: src/objective/regression_obj.cu:152: reg:linear is now deprecated in favor of reg:squarederror.\n",
      "[22:06:07] WARNING: src/objective/regression_obj.cu:152: reg:linear is now deprecated in favor of reg:squarederror.\n",
      "[22:06:54] WARNING: src/objective/regression_obj.cu:152: reg:linear is now deprecated in favor of reg:squarederror.\n",
      "[22:07:13] WARNING: src/objective/regression_obj.cu:152: reg:linear is now deprecated in favor of reg:squarederror.\n",
      "[22:07:39] WARNING: src/objective/regression_obj.cu:152: reg:linear is now deprecated in favor of reg:squarederror.\n",
      "[22:08:31] WARNING: src/objective/regression_obj.cu:152: reg:linear is now deprecated in favor of reg:squarederror.\n",
      "[22:08:50] WARNING: src/objective/regression_obj.cu:152: reg:linear is now deprecated in favor of reg:squarederror.\n",
      "[22:09:17] WARNING: src/objective/regression_obj.cu:152: reg:linear is now deprecated in favor of reg:squarederror.\n",
      "[22:10:28] WARNING: src/objective/regression_obj.cu:152: reg:linear is now deprecated in favor of reg:squarederror.\n",
      "[22:10:46] WARNING: src/objective/regression_obj.cu:152: reg:linear is now deprecated in favor of reg:squarederror.\n",
      "[22:11:53] WARNING: src/objective/regression_obj.cu:152: reg:linear is now deprecated in favor of reg:squarederror.\n",
      "[22:12:11] WARNING: src/objective/regression_obj.cu:152: reg:linear is now deprecated in favor of reg:squarederror.\n",
      "[22:13:26] WARNING: src/objective/regression_obj.cu:152: reg:linear is now deprecated in favor of reg:squarederror.\n",
      "[22:13:40] WARNING: src/objective/regression_obj.cu:152: reg:linear is now deprecated in favor of reg:squarederror.\n",
      "[22:14:00] WARNING: src/objective/regression_obj.cu:152: reg:linear is now deprecated in favor of reg:squarederror.\n",
      "[22:14:55] WARNING: src/objective/regression_obj.cu:152: reg:linear is now deprecated in favor of reg:squarederror.\n",
      "[22:15:09] WARNING: src/objective/regression_obj.cu:152: reg:linear is now deprecated in favor of reg:squarederror.\n",
      "[22:15:31] WARNING: src/objective/regression_obj.cu:152: reg:linear is now deprecated in favor of reg:squarederror.\n",
      "[22:16:21] WARNING: src/objective/regression_obj.cu:152: reg:linear is now deprecated in favor of reg:squarederror.\n",
      "[22:16:36] WARNING: src/objective/regression_obj.cu:152: reg:linear is now deprecated in favor of reg:squarederror.\n",
      "[22:16:57] WARNING: src/objective/regression_obj.cu:152: reg:linear is now deprecated in favor of reg:squarederror.\n",
      "[22:17:47] WARNING: src/objective/regression_obj.cu:152: reg:linear is now deprecated in favor of reg:squarederror.\n",
      "[22:18:02] WARNING: src/objective/regression_obj.cu:152: reg:linear is now deprecated in favor of reg:squarederror.\n",
      "[22:18:26] WARNING: src/objective/regression_obj.cu:152: reg:linear is now deprecated in favor of reg:squarederror.\n",
      "[22:19:20] WARNING: src/objective/regression_obj.cu:152: reg:linear is now deprecated in favor of reg:squarederror.\n",
      "[22:19:40] WARNING: src/objective/regression_obj.cu:152: reg:linear is now deprecated in favor of reg:squarederror.\n",
      "[22:20:12] WARNING: src/objective/regression_obj.cu:152: reg:linear is now deprecated in favor of reg:squarederror.\n",
      "[22:21:09] WARNING: src/objective/regression_obj.cu:152: reg:linear is now deprecated in favor of reg:squarederror.\n",
      "[22:21:29] WARNING: src/objective/regression_obj.cu:152: reg:linear is now deprecated in favor of reg:squarederror.\n",
      "[22:21:59] WARNING: src/objective/regression_obj.cu:152: reg:linear is now deprecated in favor of reg:squarederror.\n",
      "[17694.50623744 19433.5377466  22374.5843336  18135.91444063]\n"
     ]
    }
   ],
   "source": [
    "\"\"\"差分予測を足す対象を30マン異常に変更　かつ誤差予測10マン以上\"\"\"\n",
    "scores = cross_val_score(split_double_predict_model(),train_x,train_y,scoring=\"neg_mean_squared_error\",cv=4)\n",
    "scores = np.sqrt(-np.array(scores))\n",
    "print(scores)"
   ]
  },
  {
   "cell_type": "code",
   "execution_count": 2,
   "metadata": {},
   "outputs": [
    {
     "name": "stdout",
     "output_type": "stream",
     "text": [
      "[13:23:43] WARNING: src/objective/regression_obj.cu:152: reg:linear is now deprecated in favor of reg:squarederror.\n",
      "[13:24:01] WARNING: src/objective/regression_obj.cu:152: reg:linear is now deprecated in favor of reg:squarederror.\n",
      "[13:25:15] WARNING: src/objective/regression_obj.cu:152: reg:linear is now deprecated in favor of reg:squarederror.\n",
      "[13:25:33] WARNING: src/objective/regression_obj.cu:152: reg:linear is now deprecated in favor of reg:squarederror.\n",
      "[13:26:55] WARNING: src/objective/regression_obj.cu:152: reg:linear is now deprecated in favor of reg:squarederror.\n",
      "[13:27:09] WARNING: src/objective/regression_obj.cu:152: reg:linear is now deprecated in favor of reg:squarederror.\n",
      "[13:27:29] WARNING: src/objective/regression_obj.cu:152: reg:linear is now deprecated in favor of reg:squarederror.\n",
      "[13:28:14] WARNING: src/objective/regression_obj.cu:152: reg:linear is now deprecated in favor of reg:squarederror.\n",
      "[13:28:28] WARNING: src/objective/regression_obj.cu:152: reg:linear is now deprecated in favor of reg:squarederror.\n",
      "[13:28:48] WARNING: src/objective/regression_obj.cu:152: reg:linear is now deprecated in favor of reg:squarederror.\n",
      "[13:29:32] WARNING: src/objective/regression_obj.cu:152: reg:linear is now deprecated in favor of reg:squarederror.\n",
      "[13:29:45] WARNING: src/objective/regression_obj.cu:152: reg:linear is now deprecated in favor of reg:squarederror.\n",
      "[13:30:05] WARNING: src/objective/regression_obj.cu:152: reg:linear is now deprecated in favor of reg:squarederror.\n",
      "[13:30:50] WARNING: src/objective/regression_obj.cu:152: reg:linear is now deprecated in favor of reg:squarederror.\n",
      "[13:31:04] WARNING: src/objective/regression_obj.cu:152: reg:linear is now deprecated in favor of reg:squarederror.\n",
      "[13:31:24] WARNING: src/objective/regression_obj.cu:152: reg:linear is now deprecated in favor of reg:squarederror.\n",
      "[13:32:12] WARNING: src/objective/regression_obj.cu:152: reg:linear is now deprecated in favor of reg:squarederror.\n",
      "[13:32:30] WARNING: src/objective/regression_obj.cu:152: reg:linear is now deprecated in favor of reg:squarederror.\n",
      "[13:32:58] WARNING: src/objective/regression_obj.cu:152: reg:linear is now deprecated in favor of reg:squarederror.\n",
      "[13:33:51] WARNING: src/objective/regression_obj.cu:152: reg:linear is now deprecated in favor of reg:squarederror.\n",
      "[13:34:09] WARNING: src/objective/regression_obj.cu:152: reg:linear is now deprecated in favor of reg:squarederror.\n",
      "[13:34:36] WARNING: src/objective/regression_obj.cu:152: reg:linear is now deprecated in favor of reg:squarederror.\n",
      "[13:35:49] WARNING: src/objective/regression_obj.cu:152: reg:linear is now deprecated in favor of reg:squarederror.\n",
      "[13:36:07] WARNING: src/objective/regression_obj.cu:152: reg:linear is now deprecated in favor of reg:squarederror.\n",
      "[13:37:19] WARNING: src/objective/regression_obj.cu:152: reg:linear is now deprecated in favor of reg:squarederror.\n",
      "[13:37:37] WARNING: src/objective/regression_obj.cu:152: reg:linear is now deprecated in favor of reg:squarederror.\n",
      "[13:38:59] WARNING: src/objective/regression_obj.cu:152: reg:linear is now deprecated in favor of reg:squarederror.\n",
      "[13:39:12] WARNING: src/objective/regression_obj.cu:152: reg:linear is now deprecated in favor of reg:squarederror.\n",
      "[13:39:32] WARNING: src/objective/regression_obj.cu:152: reg:linear is now deprecated in favor of reg:squarederror.\n",
      "[13:40:17] WARNING: src/objective/regression_obj.cu:152: reg:linear is now deprecated in favor of reg:squarederror.\n",
      "[13:40:31] WARNING: src/objective/regression_obj.cu:152: reg:linear is now deprecated in favor of reg:squarederror.\n",
      "[13:40:51] WARNING: src/objective/regression_obj.cu:152: reg:linear is now deprecated in favor of reg:squarederror.\n",
      "[13:41:35] WARNING: src/objective/regression_obj.cu:152: reg:linear is now deprecated in favor of reg:squarederror.\n",
      "[13:41:49] WARNING: src/objective/regression_obj.cu:152: reg:linear is now deprecated in favor of reg:squarederror.\n",
      "[13:42:08] WARNING: src/objective/regression_obj.cu:152: reg:linear is now deprecated in favor of reg:squarederror.\n",
      "[13:42:52] WARNING: src/objective/regression_obj.cu:152: reg:linear is now deprecated in favor of reg:squarederror.\n",
      "[13:43:06] WARNING: src/objective/regression_obj.cu:152: reg:linear is now deprecated in favor of reg:squarederror.\n",
      "[13:43:26] WARNING: src/objective/regression_obj.cu:152: reg:linear is now deprecated in favor of reg:squarederror.\n",
      "[13:44:13] WARNING: src/objective/regression_obj.cu:152: reg:linear is now deprecated in favor of reg:squarederror.\n",
      "[13:44:32] WARNING: src/objective/regression_obj.cu:152: reg:linear is now deprecated in favor of reg:squarederror.\n",
      "[13:44:59] WARNING: src/objective/regression_obj.cu:152: reg:linear is now deprecated in favor of reg:squarederror.\n",
      "[13:45:52] WARNING: src/objective/regression_obj.cu:152: reg:linear is now deprecated in favor of reg:squarederror.\n",
      "[13:46:10] WARNING: src/objective/regression_obj.cu:152: reg:linear is now deprecated in favor of reg:squarederror.\n",
      "[13:46:37] WARNING: src/objective/regression_obj.cu:152: reg:linear is now deprecated in favor of reg:squarederror.\n",
      "[13:47:49] WARNING: src/objective/regression_obj.cu:152: reg:linear is now deprecated in favor of reg:squarederror.\n",
      "[13:48:07] WARNING: src/objective/regression_obj.cu:152: reg:linear is now deprecated in favor of reg:squarederror.\n",
      "[13:49:20] WARNING: src/objective/regression_obj.cu:152: reg:linear is now deprecated in favor of reg:squarederror.\n",
      "[13:49:38] WARNING: src/objective/regression_obj.cu:152: reg:linear is now deprecated in favor of reg:squarederror.\n",
      "[13:51:00] WARNING: src/objective/regression_obj.cu:152: reg:linear is now deprecated in favor of reg:squarederror.\n",
      "[13:51:13] WARNING: src/objective/regression_obj.cu:152: reg:linear is now deprecated in favor of reg:squarederror.\n",
      "[13:51:34] WARNING: src/objective/regression_obj.cu:152: reg:linear is now deprecated in favor of reg:squarederror.\n",
      "[13:52:18] WARNING: src/objective/regression_obj.cu:152: reg:linear is now deprecated in favor of reg:squarederror.\n",
      "[13:52:32] WARNING: src/objective/regression_obj.cu:152: reg:linear is now deprecated in favor of reg:squarederror.\n",
      "[13:52:52] WARNING: src/objective/regression_obj.cu:152: reg:linear is now deprecated in favor of reg:squarederror.\n",
      "[13:53:37] WARNING: src/objective/regression_obj.cu:152: reg:linear is now deprecated in favor of reg:squarederror.\n",
      "[13:53:50] WARNING: src/objective/regression_obj.cu:152: reg:linear is now deprecated in favor of reg:squarederror.\n",
      "[13:54:11] WARNING: src/objective/regression_obj.cu:152: reg:linear is now deprecated in favor of reg:squarederror.\n",
      "[13:54:54] WARNING: src/objective/regression_obj.cu:152: reg:linear is now deprecated in favor of reg:squarederror.\n",
      "[13:55:12] WARNING: src/objective/regression_obj.cu:152: reg:linear is now deprecated in favor of reg:squarederror.\n",
      "[13:55:35] WARNING: src/objective/regression_obj.cu:152: reg:linear is now deprecated in favor of reg:squarederror.\n",
      "[13:56:58] WARNING: src/objective/regression_obj.cu:152: reg:linear is now deprecated in favor of reg:squarederror.\n",
      "[13:57:18] WARNING: src/objective/regression_obj.cu:152: reg:linear is now deprecated in favor of reg:squarederror.\n",
      "[13:57:56] WARNING: src/objective/regression_obj.cu:152: reg:linear is now deprecated in favor of reg:squarederror.\n",
      "[13:58:57] WARNING: src/objective/regression_obj.cu:152: reg:linear is now deprecated in favor of reg:squarederror.\n",
      "[13:59:20] WARNING: src/objective/regression_obj.cu:152: reg:linear is now deprecated in favor of reg:squarederror.\n",
      "[13:59:49] WARNING: src/objective/regression_obj.cu:152: reg:linear is now deprecated in favor of reg:squarederror.\n",
      "[14:01:25] WARNING: src/objective/regression_obj.cu:152: reg:linear is now deprecated in favor of reg:squarederror.\n",
      "[14:01:47] WARNING: src/objective/regression_obj.cu:152: reg:linear is now deprecated in favor of reg:squarederror.\n",
      "[14:03:08] WARNING: src/objective/regression_obj.cu:152: reg:linear is now deprecated in favor of reg:squarederror.\n",
      "[14:03:28] WARNING: src/objective/regression_obj.cu:152: reg:linear is now deprecated in favor of reg:squarederror.\n",
      "[14:04:53] WARNING: src/objective/regression_obj.cu:152: reg:linear is now deprecated in favor of reg:squarederror.\n",
      "[14:05:07] WARNING: src/objective/regression_obj.cu:152: reg:linear is now deprecated in favor of reg:squarederror.\n",
      "[14:05:27] WARNING: src/objective/regression_obj.cu:152: reg:linear is now deprecated in favor of reg:squarederror.\n",
      "[14:06:12] WARNING: src/objective/regression_obj.cu:152: reg:linear is now deprecated in favor of reg:squarederror.\n",
      "[14:06:26] WARNING: src/objective/regression_obj.cu:152: reg:linear is now deprecated in favor of reg:squarederror.\n",
      "[14:06:46] WARNING: src/objective/regression_obj.cu:152: reg:linear is now deprecated in favor of reg:squarederror.\n",
      "[14:07:30] WARNING: src/objective/regression_obj.cu:152: reg:linear is now deprecated in favor of reg:squarederror.\n",
      "[14:07:44] WARNING: src/objective/regression_obj.cu:152: reg:linear is now deprecated in favor of reg:squarederror.\n",
      "[14:08:04] WARNING: src/objective/regression_obj.cu:152: reg:linear is now deprecated in favor of reg:squarederror.\n",
      "[14:08:48] WARNING: src/objective/regression_obj.cu:152: reg:linear is now deprecated in favor of reg:squarederror.\n",
      "[14:09:02] WARNING: src/objective/regression_obj.cu:152: reg:linear is now deprecated in favor of reg:squarederror.\n",
      "[14:09:21] WARNING: src/objective/regression_obj.cu:152: reg:linear is now deprecated in favor of reg:squarederror.\n",
      "[14:10:09] WARNING: src/objective/regression_obj.cu:152: reg:linear is now deprecated in favor of reg:squarederror.\n",
      "[14:10:28] WARNING: src/objective/regression_obj.cu:152: reg:linear is now deprecated in favor of reg:squarederror.\n",
      "[14:10:55] WARNING: src/objective/regression_obj.cu:152: reg:linear is now deprecated in favor of reg:squarederror.\n",
      "[14:11:48] WARNING: src/objective/regression_obj.cu:152: reg:linear is now deprecated in favor of reg:squarederror.\n",
      "[14:12:06] WARNING: src/objective/regression_obj.cu:152: reg:linear is now deprecated in favor of reg:squarederror.\n",
      "[14:12:33] WARNING: src/objective/regression_obj.cu:152: reg:linear is now deprecated in favor of reg:squarederror.\n",
      "[18652.51610507 16608.52558796 21525.90614919 16664.83192261]\n"
     ]
    }
   ],
   "source": [
    "\"\"\"差分予測を足す対象を20マン以上かつ、誤差予測が2マンを超えるやつに限定\"\"\"\n",
    "scores = cross_val_score(split_double_predict_model(),train_x,train_y,scoring=\"neg_mean_squared_error\",cv=4)\n",
    "scores = np.sqrt(-np.array(scores))\n",
    "print(scores)"
   ]
  },
  {
   "cell_type": "code",
   "execution_count": 2,
   "metadata": {},
   "outputs": [
    {
     "name": "stdout",
     "output_type": "stream",
     "text": [
      "[12:21:35] WARNING: src/objective/regression_obj.cu:152: reg:linear is now deprecated in favor of reg:squarederror.\n",
      "[12:21:53] WARNING: src/objective/regression_obj.cu:152: reg:linear is now deprecated in favor of reg:squarederror.\n",
      "[12:23:10] WARNING: src/objective/regression_obj.cu:152: reg:linear is now deprecated in favor of reg:squarederror.\n",
      "[12:23:28] WARNING: src/objective/regression_obj.cu:152: reg:linear is now deprecated in favor of reg:squarederror.\n",
      "[12:24:53] WARNING: src/objective/regression_obj.cu:152: reg:linear is now deprecated in favor of reg:squarederror.\n",
      "[12:25:07] WARNING: src/objective/regression_obj.cu:152: reg:linear is now deprecated in favor of reg:squarederror.\n",
      "[12:25:27] WARNING: src/objective/regression_obj.cu:152: reg:linear is now deprecated in favor of reg:squarederror.\n",
      "[12:26:12] WARNING: src/objective/regression_obj.cu:152: reg:linear is now deprecated in favor of reg:squarederror.\n",
      "[12:26:25] WARNING: src/objective/regression_obj.cu:152: reg:linear is now deprecated in favor of reg:squarederror.\n",
      "[12:26:45] WARNING: src/objective/regression_obj.cu:152: reg:linear is now deprecated in favor of reg:squarederror.\n",
      "[12:27:29] WARNING: src/objective/regression_obj.cu:152: reg:linear is now deprecated in favor of reg:squarederror.\n",
      "[12:27:43] WARNING: src/objective/regression_obj.cu:152: reg:linear is now deprecated in favor of reg:squarederror.\n",
      "[12:28:03] WARNING: src/objective/regression_obj.cu:152: reg:linear is now deprecated in favor of reg:squarederror.\n",
      "[12:28:47] WARNING: src/objective/regression_obj.cu:152: reg:linear is now deprecated in favor of reg:squarederror.\n",
      "[12:29:01] WARNING: src/objective/regression_obj.cu:152: reg:linear is now deprecated in favor of reg:squarederror.\n",
      "[12:29:21] WARNING: src/objective/regression_obj.cu:152: reg:linear is now deprecated in favor of reg:squarederror.\n",
      "[12:30:09] WARNING: src/objective/regression_obj.cu:152: reg:linear is now deprecated in favor of reg:squarederror.\n",
      "[12:30:27] WARNING: src/objective/regression_obj.cu:152: reg:linear is now deprecated in favor of reg:squarederror.\n",
      "[12:30:54] WARNING: src/objective/regression_obj.cu:152: reg:linear is now deprecated in favor of reg:squarederror.\n",
      "[12:31:47] WARNING: src/objective/regression_obj.cu:152: reg:linear is now deprecated in favor of reg:squarederror.\n",
      "[12:32:05] WARNING: src/objective/regression_obj.cu:152: reg:linear is now deprecated in favor of reg:squarederror.\n",
      "[12:32:32] WARNING: src/objective/regression_obj.cu:152: reg:linear is now deprecated in favor of reg:squarederror.\n",
      "[12:33:44] WARNING: src/objective/regression_obj.cu:152: reg:linear is now deprecated in favor of reg:squarederror.\n",
      "[12:34:02] WARNING: src/objective/regression_obj.cu:152: reg:linear is now deprecated in favor of reg:squarederror.\n",
      "[12:35:16] WARNING: src/objective/regression_obj.cu:152: reg:linear is now deprecated in favor of reg:squarederror.\n",
      "[12:35:34] WARNING: src/objective/regression_obj.cu:152: reg:linear is now deprecated in favor of reg:squarederror.\n",
      "[12:36:55] WARNING: src/objective/regression_obj.cu:152: reg:linear is now deprecated in favor of reg:squarederror.\n",
      "[12:37:09] WARNING: src/objective/regression_obj.cu:152: reg:linear is now deprecated in favor of reg:squarederror.\n",
      "[12:37:29] WARNING: src/objective/regression_obj.cu:152: reg:linear is now deprecated in favor of reg:squarederror.\n",
      "[12:38:13] WARNING: src/objective/regression_obj.cu:152: reg:linear is now deprecated in favor of reg:squarederror.\n",
      "[12:38:27] WARNING: src/objective/regression_obj.cu:152: reg:linear is now deprecated in favor of reg:squarederror.\n",
      "[12:38:47] WARNING: src/objective/regression_obj.cu:152: reg:linear is now deprecated in favor of reg:squarederror.\n",
      "[12:39:31] WARNING: src/objective/regression_obj.cu:152: reg:linear is now deprecated in favor of reg:squarederror.\n",
      "[12:39:44] WARNING: src/objective/regression_obj.cu:152: reg:linear is now deprecated in favor of reg:squarederror.\n",
      "[12:40:04] WARNING: src/objective/regression_obj.cu:152: reg:linear is now deprecated in favor of reg:squarederror.\n",
      "[12:40:49] WARNING: src/objective/regression_obj.cu:152: reg:linear is now deprecated in favor of reg:squarederror.\n",
      "[12:41:03] WARNING: src/objective/regression_obj.cu:152: reg:linear is now deprecated in favor of reg:squarederror.\n",
      "[12:41:23] WARNING: src/objective/regression_obj.cu:152: reg:linear is now deprecated in favor of reg:squarederror.\n",
      "[12:42:11] WARNING: src/objective/regression_obj.cu:152: reg:linear is now deprecated in favor of reg:squarederror.\n",
      "[12:42:30] WARNING: src/objective/regression_obj.cu:152: reg:linear is now deprecated in favor of reg:squarederror.\n",
      "[12:42:57] WARNING: src/objective/regression_obj.cu:152: reg:linear is now deprecated in favor of reg:squarederror.\n",
      "[12:43:49] WARNING: src/objective/regression_obj.cu:152: reg:linear is now deprecated in favor of reg:squarederror.\n",
      "[12:44:07] WARNING: src/objective/regression_obj.cu:152: reg:linear is now deprecated in favor of reg:squarederror.\n",
      "[12:44:34] WARNING: src/objective/regression_obj.cu:152: reg:linear is now deprecated in favor of reg:squarederror.\n",
      "[12:45:45] WARNING: src/objective/regression_obj.cu:152: reg:linear is now deprecated in favor of reg:squarederror.\n",
      "[12:46:03] WARNING: src/objective/regression_obj.cu:152: reg:linear is now deprecated in favor of reg:squarederror.\n",
      "[12:47:16] WARNING: src/objective/regression_obj.cu:152: reg:linear is now deprecated in favor of reg:squarederror.\n",
      "[12:47:34] WARNING: src/objective/regression_obj.cu:152: reg:linear is now deprecated in favor of reg:squarederror.\n",
      "[12:48:54] WARNING: src/objective/regression_obj.cu:152: reg:linear is now deprecated in favor of reg:squarederror.\n",
      "[12:49:08] WARNING: src/objective/regression_obj.cu:152: reg:linear is now deprecated in favor of reg:squarederror.\n",
      "[12:49:28] WARNING: src/objective/regression_obj.cu:152: reg:linear is now deprecated in favor of reg:squarederror.\n",
      "[12:50:12] WARNING: src/objective/regression_obj.cu:152: reg:linear is now deprecated in favor of reg:squarederror.\n",
      "[12:50:26] WARNING: src/objective/regression_obj.cu:152: reg:linear is now deprecated in favor of reg:squarederror.\n",
      "[12:50:46] WARNING: src/objective/regression_obj.cu:152: reg:linear is now deprecated in favor of reg:squarederror.\n",
      "[12:51:30] WARNING: src/objective/regression_obj.cu:152: reg:linear is now deprecated in favor of reg:squarederror.\n",
      "[12:51:43] WARNING: src/objective/regression_obj.cu:152: reg:linear is now deprecated in favor of reg:squarederror.\n",
      "[12:52:03] WARNING: src/objective/regression_obj.cu:152: reg:linear is now deprecated in favor of reg:squarederror.\n",
      "[12:52:47] WARNING: src/objective/regression_obj.cu:152: reg:linear is now deprecated in favor of reg:squarederror.\n",
      "[12:53:00] WARNING: src/objective/regression_obj.cu:152: reg:linear is now deprecated in favor of reg:squarederror.\n",
      "[12:53:20] WARNING: src/objective/regression_obj.cu:152: reg:linear is now deprecated in favor of reg:squarederror.\n",
      "[12:54:08] WARNING: src/objective/regression_obj.cu:152: reg:linear is now deprecated in favor of reg:squarederror.\n",
      "[12:54:26] WARNING: src/objective/regression_obj.cu:152: reg:linear is now deprecated in favor of reg:squarederror.\n",
      "[12:54:53] WARNING: src/objective/regression_obj.cu:152: reg:linear is now deprecated in favor of reg:squarederror.\n",
      "[12:55:44] WARNING: src/objective/regression_obj.cu:152: reg:linear is now deprecated in favor of reg:squarederror.\n",
      "[12:56:03] WARNING: src/objective/regression_obj.cu:152: reg:linear is now deprecated in favor of reg:squarederror.\n",
      "[12:56:29] WARNING: src/objective/regression_obj.cu:152: reg:linear is now deprecated in favor of reg:squarederror.\n",
      "[12:57:40] WARNING: src/objective/regression_obj.cu:152: reg:linear is now deprecated in favor of reg:squarederror.\n",
      "[12:57:58] WARNING: src/objective/regression_obj.cu:152: reg:linear is now deprecated in favor of reg:squarederror.\n",
      "[12:59:13] WARNING: src/objective/regression_obj.cu:152: reg:linear is now deprecated in favor of reg:squarederror.\n",
      "[12:59:37] WARNING: src/objective/regression_obj.cu:152: reg:linear is now deprecated in favor of reg:squarederror.\n",
      "[13:01:21] WARNING: src/objective/regression_obj.cu:152: reg:linear is now deprecated in favor of reg:squarederror.\n",
      "[13:01:37] WARNING: src/objective/regression_obj.cu:152: reg:linear is now deprecated in favor of reg:squarederror.\n",
      "[13:02:01] WARNING: src/objective/regression_obj.cu:152: reg:linear is now deprecated in favor of reg:squarederror.\n",
      "[13:02:48] WARNING: src/objective/regression_obj.cu:152: reg:linear is now deprecated in favor of reg:squarederror.\n",
      "[13:03:02] WARNING: src/objective/regression_obj.cu:152: reg:linear is now deprecated in favor of reg:squarederror.\n",
      "[13:03:23] WARNING: src/objective/regression_obj.cu:152: reg:linear is now deprecated in favor of reg:squarederror.\n",
      "[13:04:11] WARNING: src/objective/regression_obj.cu:152: reg:linear is now deprecated in favor of reg:squarederror.\n",
      "[13:04:25] WARNING: src/objective/regression_obj.cu:152: reg:linear is now deprecated in favor of reg:squarederror.\n",
      "[13:04:46] WARNING: src/objective/regression_obj.cu:152: reg:linear is now deprecated in favor of reg:squarederror.\n",
      "[13:05:34] WARNING: src/objective/regression_obj.cu:152: reg:linear is now deprecated in favor of reg:squarederror.\n",
      "[13:05:49] WARNING: src/objective/regression_obj.cu:152: reg:linear is now deprecated in favor of reg:squarederror.\n",
      "[13:06:11] WARNING: src/objective/regression_obj.cu:152: reg:linear is now deprecated in favor of reg:squarederror.\n",
      "[13:07:04] WARNING: src/objective/regression_obj.cu:152: reg:linear is now deprecated in favor of reg:squarederror.\n",
      "[13:07:26] WARNING: src/objective/regression_obj.cu:152: reg:linear is now deprecated in favor of reg:squarederror.\n",
      "[13:07:56] WARNING: src/objective/regression_obj.cu:152: reg:linear is now deprecated in favor of reg:squarederror.\n",
      "[13:08:59] WARNING: src/objective/regression_obj.cu:152: reg:linear is now deprecated in favor of reg:squarederror.\n",
      "[13:09:25] WARNING: src/objective/regression_obj.cu:152: reg:linear is now deprecated in favor of reg:squarederror.\n",
      "[13:09:55] WARNING: src/objective/regression_obj.cu:152: reg:linear is now deprecated in favor of reg:squarederror.\n",
      "[17736.9686763  17214.8265388  23935.32415724 16530.30109201]\n"
     ]
    }
   ],
   "source": [
    "\"\"\"あとから差分予測を足すやつ。ただし20マン以上の物件に限る\"\"\"\n",
    "scores = cross_val_score(split_double_predict_model(),train_x,train_y,scoring=\"neg_mean_squared_error\",cv=4)\n",
    "scores = np.sqrt(-np.array(scores))\n",
    "print(scores)"
   ]
  },
  {
   "cell_type": "code",
   "execution_count": 3,
   "metadata": {},
   "outputs": [
    {
     "ename": "SyntaxError",
     "evalue": "invalid syntax (<ipython-input-3-3669524f8b02>, line 4)",
     "output_type": "error",
     "traceback": [
      "\u001b[0;36m  File \u001b[0;32m\"<ipython-input-3-3669524f8b02>\"\u001b[0;36m, line \u001b[0;32m4\u001b[0m\n\u001b[0;31m    double predict ver\u001b[0m\n\u001b[0m                 ^\u001b[0m\n\u001b[0;31mSyntaxError\u001b[0m\u001b[0;31m:\u001b[0m invalid syntax\n"
     ]
    }
   ],
   "source": [
    "\"\"\"\n",
    "[19347.45623967 19555.8384499  19624.68770516 16668.90473882]\n",
    "\"\"\"\n",
    "double predict ver"
   ]
  },
  {
   "cell_type": "code",
   "execution_count": 4,
   "metadata": {},
   "outputs": [
    {
     "name": "stdout",
     "output_type": "stream",
     "text": [
      "[22:39:50] WARNING: src/objective/regression_obj.cu:152: reg:linear is now deprecated in favor of reg:squarederror.\n",
      "[22:40:08] WARNING: src/objective/regression_obj.cu:152: reg:linear is now deprecated in favor of reg:squarederror.\n",
      "[22:41:28] WARNING: src/objective/regression_obj.cu:152: reg:linear is now deprecated in favor of reg:squarederror.\n",
      "[22:41:47] WARNING: src/objective/regression_obj.cu:152: reg:linear is now deprecated in favor of reg:squarederror.\n",
      "[22:43:13] WARNING: src/objective/regression_obj.cu:152: reg:linear is now deprecated in favor of reg:squarederror.\n",
      "[22:43:26] WARNING: src/objective/regression_obj.cu:152: reg:linear is now deprecated in favor of reg:squarederror.\n",
      "[22:43:46] WARNING: src/objective/regression_obj.cu:152: reg:linear is now deprecated in favor of reg:squarederror.\n",
      "[22:44:31] WARNING: src/objective/regression_obj.cu:152: reg:linear is now deprecated in favor of reg:squarederror.\n",
      "[22:44:45] WARNING: src/objective/regression_obj.cu:152: reg:linear is now deprecated in favor of reg:squarederror.\n",
      "[22:45:05] WARNING: src/objective/regression_obj.cu:152: reg:linear is now deprecated in favor of reg:squarederror.\n",
      "[22:45:49] WARNING: src/objective/regression_obj.cu:152: reg:linear is now deprecated in favor of reg:squarederror.\n",
      "[22:46:03] WARNING: src/objective/regression_obj.cu:152: reg:linear is now deprecated in favor of reg:squarederror.\n",
      "[22:46:23] WARNING: src/objective/regression_obj.cu:152: reg:linear is now deprecated in favor of reg:squarederror.\n",
      "[22:47:09] WARNING: src/objective/regression_obj.cu:152: reg:linear is now deprecated in favor of reg:squarederror.\n",
      "[22:47:23] WARNING: src/objective/regression_obj.cu:152: reg:linear is now deprecated in favor of reg:squarederror.\n",
      "[22:47:44] WARNING: src/objective/regression_obj.cu:152: reg:linear is now deprecated in favor of reg:squarederror.\n",
      "[22:48:35] WARNING: src/objective/regression_obj.cu:152: reg:linear is now deprecated in favor of reg:squarederror.\n",
      "[22:48:53] WARNING: src/objective/regression_obj.cu:152: reg:linear is now deprecated in favor of reg:squarederror.\n",
      "[22:49:20] WARNING: src/objective/regression_obj.cu:152: reg:linear is now deprecated in favor of reg:squarederror.\n",
      "[22:50:13] WARNING: src/objective/regression_obj.cu:152: reg:linear is now deprecated in favor of reg:squarederror.\n",
      "[22:50:31] WARNING: src/objective/regression_obj.cu:152: reg:linear is now deprecated in favor of reg:squarederror.\n",
      "[22:50:58] WARNING: src/objective/regression_obj.cu:152: reg:linear is now deprecated in favor of reg:squarederror.\n"
     ]
    },
    {
     "data": {
      "text/plain": [
       "<single_model.split_double_predict_model at 0x10a68c190>"
      ]
     },
     "execution_count": 4,
     "metadata": {},
     "output_type": "execute_result"
    }
   ],
   "source": [
    "x_small,x_valid,y_small,y_valid = train_test_split(train_x,train_y,random_state=48321)\n",
    "temp = split_double_predict_model()\n",
    "temp.fit(x_small,y_small)"
   ]
  },
  {
   "cell_type": "code",
   "execution_count": 5,
   "metadata": {},
   "outputs": [],
   "source": [
    "d1 = temp.model.models[0][-1].get_booster().get_score(importance_type='gain')"
   ]
  },
  {
   "cell_type": "code",
   "execution_count": 6,
   "metadata": {},
   "outputs": [
    {
     "name": "stdout",
     "output_type": "stream",
     "text": [
      "avg_cross_pred 1052397879113.4421\n",
      "cont_year 1174340747.2916667\n",
      "knn_area_price 10724001704.568966\n",
      "mf_year 933194838.9787415\n",
      "pre_diff_cross_isrich 16021161213.255623\n",
      "tr_wa_nmf5 1060333776.28125\n",
      "dist_main_st2 1015596621.7166667\n",
      "year_floor 1112623994.5568182\n",
      "knn_pred 2902710161.181818\n",
      "fac_nmf13 722565848.8780488\n",
      "str_p_max 1405420031.7741935\n",
      "dist_main_st0 1122941756.592\n",
      "acr_all_sq 1072650414.2962962\n",
      "dist_main_st3 1015466473.0654205\n",
      "mf_height_bld 1193234142.52\n",
      "p_dist 342387622.37096775\n",
      "bath4 2175393928.5128207\n",
      "moyori 1280507617.75\n",
      "pred_area 1449370948.2566137\n",
      "bath3 611508259.2380953\n"
     ]
    }
   ],
   "source": [
    "ind = 0\n",
    "for key in d1:\n",
    "    if ind < 20:\n",
    "        print(key,end=\" \")\n",
    "        print(d1[key])\n",
    "    ind += 1"
   ]
  },
  {
   "cell_type": "code",
   "execution_count": 4,
   "metadata": {
    "collapsed": true,
    "jupyter": {
     "outputs_hidden": true
    }
   },
   "outputs": [
    {
     "name": "stdout",
     "output_type": "stream",
     "text": [
      "[11:17:12] WARNING: src/objective/regression_obj.cu:152: reg:linear is now deprecated in favor of reg:squarederror.\n",
      "[11:17:31] WARNING: src/objective/regression_obj.cu:152: reg:linear is now deprecated in favor of reg:squarederror.\n",
      "[11:17:59] WARNING: src/objective/regression_obj.cu:152: reg:linear is now deprecated in favor of reg:squarederror.\n",
      "[11:18:59] WARNING: src/objective/regression_obj.cu:152: reg:linear is now deprecated in favor of reg:squarederror.\n",
      "[11:19:21] WARNING: src/objective/regression_obj.cu:152: reg:linear is now deprecated in favor of reg:squarederror.\n",
      "[11:19:49] WARNING: src/objective/regression_obj.cu:152: reg:linear is now deprecated in favor of reg:squarederror.\n",
      "[11:20:50] WARNING: src/objective/regression_obj.cu:152: reg:linear is now deprecated in favor of reg:squarederror.\n",
      "[11:21:09] WARNING: src/objective/regression_obj.cu:152: reg:linear is now deprecated in favor of reg:squarederror.\n",
      "[11:21:37] WARNING: src/objective/regression_obj.cu:152: reg:linear is now deprecated in favor of reg:squarederror.\n",
      "[11:22:37] WARNING: src/objective/regression_obj.cu:152: reg:linear is now deprecated in favor of reg:squarederror.\n",
      "[11:22:56] WARNING: src/objective/regression_obj.cu:152: reg:linear is now deprecated in favor of reg:squarederror.\n",
      "[11:23:27] WARNING: src/objective/regression_obj.cu:152: reg:linear is now deprecated in favor of reg:squarederror.\n",
      "[11:24:38] WARNING: src/objective/regression_obj.cu:152: reg:linear is now deprecated in favor of reg:squarederror.\n",
      "[11:25:03] WARNING: src/objective/regression_obj.cu:152: reg:linear is now deprecated in favor of reg:squarederror.\n",
      "[11:25:42] WARNING: src/objective/regression_obj.cu:152: reg:linear is now deprecated in favor of reg:squarederror.\n",
      "[11:26:54] WARNING: src/objective/regression_obj.cu:152: reg:linear is now deprecated in favor of reg:squarederror.\n",
      "[11:27:20] WARNING: src/objective/regression_obj.cu:152: reg:linear is now deprecated in favor of reg:squarederror.\n",
      "[11:28:01] WARNING: src/objective/regression_obj.cu:152: reg:linear is now deprecated in favor of reg:squarederror.\n"
     ]
    },
    {
     "data": {
      "text/plain": [
       "<single_model.double_predict_model at 0x13550e810>"
      ]
     },
     "execution_count": 4,
     "metadata": {},
     "output_type": "execute_result"
    }
   ],
   "source": [
    "temp modelouble_predict_model()\n",
    "temp.fit(train_x,train_y)"
   ]
  },
  {
   "cell_type": "code",
   "execution_count": 5,
   "metadata": {},
   "outputs": [],
   "source": [
    "hoge = temp.predict(train_x)"
   ]
  },
  {
   "cell_type": "code",
   "execution_count": 6,
   "metadata": {},
   "outputs": [
    {
     "data": {
      "text/html": [
       "<div>\n",
       "<style scoped>\n",
       "    .dataframe tbody tr th:only-of-type {\n",
       "        vertical-align: middle;\n",
       "    }\n",
       "\n",
       "    .dataframe tbody tr th {\n",
       "        vertical-align: top;\n",
       "    }\n",
       "\n",
       "    .dataframe thead th {\n",
       "        text-align: right;\n",
       "    }\n",
       "</style>\n",
       "<table border=\"1\" class=\"dataframe\">\n",
       "  <thead>\n",
       "    <tr style=\"text-align: right;\">\n",
       "      <th></th>\n",
       "      <th>id</th>\n",
       "      <th>所在地</th>\n",
       "      <th>アクセス</th>\n",
       "      <th>間取り</th>\n",
       "      <th>築年数</th>\n",
       "      <th>方角</th>\n",
       "      <th>面積</th>\n",
       "      <th>所在階</th>\n",
       "      <th>バス・トイレ</th>\n",
       "      <th>キッチン</th>\n",
       "      <th>放送・通信</th>\n",
       "      <th>室内設備</th>\n",
       "      <th>駐車場</th>\n",
       "      <th>周辺環境</th>\n",
       "      <th>建物構造</th>\n",
       "      <th>契約期間</th>\n",
       "      <th>ido</th>\n",
       "      <th>keido</th>\n",
       "      <th>pre_diff</th>\n",
       "    </tr>\n",
       "  </thead>\n",
       "  <tbody>\n",
       "    <tr>\n",
       "      <th>0</th>\n",
       "      <td>1</td>\n",
       "      <td>東京都北区滝野川３丁目</td>\n",
       "      <td>都営三田線\\t西巣鴨駅\\t徒歩4分\\t\\t埼京線\\t板橋駅\\t徒歩14分\\t\\t都電荒川線\\...</td>\n",
       "      <td>1K</td>\n",
       "      <td>9年9ヶ月</td>\n",
       "      <td>南東</td>\n",
       "      <td>20.01m2</td>\n",
       "      <td>1階／12階建</td>\n",
       "      <td>専用バス／\\t専用トイレ／\\tバス・トイレ別／\\tシャワー／\\t浴室乾燥機\\t／\\t温水洗浄便座</td>\n",
       "      <td>ガスコンロ／\\tコンロ2口／\\tシステムキッチン\\t／\\t給湯</td>\n",
       "      <td>インターネット対応／\\tCATV／\\tCSアンテナ／\\tBSアンテナ</td>\n",
       "      <td>エアコン付\\tシューズボックス／\\tバルコニー／\\tフローリング／\\t室内洗濯機置場／\\t敷...</td>\n",
       "      <td>駐輪場\\t空有</td>\n",
       "      <td>【小学校】 495m\\t【大学】 461m\\t【小学校】 962m\\t【公園】 1103m\\...</td>\n",
       "      <td>RC（鉄筋コンクリート）</td>\n",
       "      <td>2年間</td>\n",
       "      <td>35.748593</td>\n",
       "      <td>139.728979</td>\n",
       "      <td>-1417.624756</td>\n",
       "    </tr>\n",
       "    <tr>\n",
       "      <th>1</th>\n",
       "      <td>2</td>\n",
       "      <td>東京都中央区月島３丁目</td>\n",
       "      <td>都営大江戸線\\t勝どき駅\\t徒歩5分\\t\\t有楽町線\\t月島駅\\t徒歩9分\\t\\t日比谷線\\...</td>\n",
       "      <td>1R</td>\n",
       "      <td>44年10ヶ月</td>\n",
       "      <td>NaN</td>\n",
       "      <td>16.5m2</td>\n",
       "      <td>5階／10階建</td>\n",
       "      <td>専用トイレ／\\tシャワー／\\t温水洗浄便座</td>\n",
       "      <td>ガスコンロ／\\tシステムキッチン\\t／\\t給湯</td>\n",
       "      <td>インターネット対応</td>\n",
       "      <td>エアコン付\\tシューズボックス／\\tバルコニー／\\tフローリング／\\t室内洗濯機置場／\\t敷...</td>\n",
       "      <td>駐輪場\\t空有\\t駐車場\\t無\\tバイク置き場\\t無</td>\n",
       "      <td>【スーパー】 1283m</td>\n",
       "      <td>鉄骨造</td>\n",
       "      <td>2年間</td>\n",
       "      <td>35.662900</td>\n",
       "      <td>139.779212</td>\n",
       "      <td>-1711.848755</td>\n",
       "    </tr>\n",
       "    <tr>\n",
       "      <th>2</th>\n",
       "      <td>3</td>\n",
       "      <td>東京都渋谷区笹塚２丁目</td>\n",
       "      <td>京王線\\t笹塚駅\\t徒歩6分\\t\\t京王線\\t代田橋駅\\t徒歩7分\\t\\t京王線\\t明大前駅...</td>\n",
       "      <td>1K</td>\n",
       "      <td>8年6ヶ月</td>\n",
       "      <td>南</td>\n",
       "      <td>22.05m2</td>\n",
       "      <td>12階／15階建</td>\n",
       "      <td>専用バス／\\t専用トイレ／\\tバス・トイレ別／\\tシャワー／\\t浴室乾燥機\\t／\\t温水洗浄...</td>\n",
       "      <td>ガスコンロ／\\tコンロ2口／\\tシステムキッチン\\t／\\t給湯</td>\n",
       "      <td>インターネット対応／\\t光ファイバー／\\tCSアンテナ／\\tBSアンテナ</td>\n",
       "      <td>エアコン付\\tウォークインクローゼット\\tシューズボックス／\\tバルコニー／\\tフローリング...</td>\n",
       "      <td>駐輪場\\t空有\\tバイク置き場\\t空有\\t駐車場\\t近隣\\t30,000円(税込)\\t距離100m</td>\n",
       "      <td>【スーパー】 89m\\t【コンビニ】 184m\\t【コンビニ】 392m\\t【スーパー】 492m</td>\n",
       "      <td>RC（鉄筋コンクリート）</td>\n",
       "      <td>2年間</td>\n",
       "      <td>35.675148</td>\n",
       "      <td>139.667012</td>\n",
       "      <td>1165.752197</td>\n",
       "    </tr>\n",
       "    <tr>\n",
       "      <th>3</th>\n",
       "      <td>4</td>\n",
       "      <td>東京都杉並区高円寺南２丁目23-2</td>\n",
       "      <td>総武線・中央線（各停）\\t高円寺駅\\t徒歩9分\\t\\t丸ノ内線(池袋－荻窪)\\t新高円寺駅\\...</td>\n",
       "      <td>2LDK</td>\n",
       "      <td>29年4ヶ月</td>\n",
       "      <td>南</td>\n",
       "      <td>60.48m2</td>\n",
       "      <td>3階／4階建</td>\n",
       "      <td>専用バス／\\t専用トイレ／\\tバス・トイレ別／\\tシャワー／\\t温水洗浄便座／\\t洗面台独立</td>\n",
       "      <td>ガスコンロ／\\t給湯</td>\n",
       "      <td>インターネット対応／\\t光ファイバー</td>\n",
       "      <td>エアコン付\\tシューズボックス／\\tバルコニー／\\t2面採光／\\t室内洗濯機置場／\\tエレベ...</td>\n",
       "      <td>駐車場\\t無\\t駐輪場\\t無\\tバイク置き場\\t無</td>\n",
       "      <td>【スーパー】 225m\\t【スーパー】 448m\\t【スーパー】 619m\\t【スーパー】 ...</td>\n",
       "      <td>RC（鉄筋コンクリート）</td>\n",
       "      <td>2年間\\t※この物件は\\t定期借家\\tです。</td>\n",
       "      <td>35.700200</td>\n",
       "      <td>139.651335</td>\n",
       "      <td>-430.941467</td>\n",
       "    </tr>\n",
       "    <tr>\n",
       "      <th>4</th>\n",
       "      <td>5</td>\n",
       "      <td>東京都葛飾区金町３丁目7-2</td>\n",
       "      <td>京成金町線\\t京成金町駅\\t徒歩5分\\t\\t常磐線\\t金町(東京都)駅\\t徒歩7分\\t\\t京...</td>\n",
       "      <td>2DK</td>\n",
       "      <td>31年7ヶ月</td>\n",
       "      <td>南</td>\n",
       "      <td>39.66m2</td>\n",
       "      <td>1階／2階建</td>\n",
       "      <td>専用バス／\\t専用トイレ／\\tバス・トイレ別／\\tシャワー／\\t追焚機能</td>\n",
       "      <td>給湯／\\t独立キッチン</td>\n",
       "      <td>NaN</td>\n",
       "      <td>バルコニー／\\tフローリング／\\t室内洗濯機置場\\t公営水道／\\t下水</td>\n",
       "      <td>駐車場\\t近隣\\t17,000円(税込)\\t距離300m\\t駐輪場\\t無\\tバイク置き場\\t無</td>\n",
       "      <td>【スーパー】 193m\\t【スーパー】 298m\\t【スーパー】 660m\\t【スーパー】 ...</td>\n",
       "      <td>木造</td>\n",
       "      <td>2年間</td>\n",
       "      <td>35.766807</td>\n",
       "      <td>139.875451</td>\n",
       "      <td>2187.242920</td>\n",
       "    </tr>\n",
       "  </tbody>\n",
       "</table>\n",
       "</div>"
      ],
      "text/plain": [
       "   id                所在地                                               アクセス  \\\n",
       "0   1        東京都北区滝野川３丁目  都営三田線\\t西巣鴨駅\\t徒歩4分\\t\\t埼京線\\t板橋駅\\t徒歩14分\\t\\t都電荒川線\\...   \n",
       "1   2        東京都中央区月島３丁目  都営大江戸線\\t勝どき駅\\t徒歩5分\\t\\t有楽町線\\t月島駅\\t徒歩9分\\t\\t日比谷線\\...   \n",
       "2   3        東京都渋谷区笹塚２丁目  京王線\\t笹塚駅\\t徒歩6分\\t\\t京王線\\t代田橋駅\\t徒歩7分\\t\\t京王線\\t明大前駅...   \n",
       "3   4  東京都杉並区高円寺南２丁目23-2  総武線・中央線（各停）\\t高円寺駅\\t徒歩9分\\t\\t丸ノ内線(池袋－荻窪)\\t新高円寺駅\\...   \n",
       "4   5     東京都葛飾区金町３丁目7-2  京成金町線\\t京成金町駅\\t徒歩5分\\t\\t常磐線\\t金町(東京都)駅\\t徒歩7分\\t\\t京...   \n",
       "\n",
       "    間取り      築年数   方角       面積       所在階  \\\n",
       "0    1K    9年9ヶ月   南東  20.01m2   1階／12階建   \n",
       "1    1R  44年10ヶ月  NaN   16.5m2   5階／10階建   \n",
       "2    1K    8年6ヶ月    南  22.05m2  12階／15階建   \n",
       "3  2LDK   29年4ヶ月    南  60.48m2    3階／4階建   \n",
       "4   2DK   31年7ヶ月    南  39.66m2    1階／2階建   \n",
       "\n",
       "                                              バス・トイレ  \\\n",
       "0   専用バス／\\t専用トイレ／\\tバス・トイレ別／\\tシャワー／\\t浴室乾燥機\\t／\\t温水洗浄便座   \n",
       "1                              専用トイレ／\\tシャワー／\\t温水洗浄便座   \n",
       "2  専用バス／\\t専用トイレ／\\tバス・トイレ別／\\tシャワー／\\t浴室乾燥機\\t／\\t温水洗浄...   \n",
       "3     専用バス／\\t専用トイレ／\\tバス・トイレ別／\\tシャワー／\\t温水洗浄便座／\\t洗面台独立   \n",
       "4               専用バス／\\t専用トイレ／\\tバス・トイレ別／\\tシャワー／\\t追焚機能   \n",
       "\n",
       "                              キッチン                                 放送・通信  \\\n",
       "0  ガスコンロ／\\tコンロ2口／\\tシステムキッチン\\t／\\t給湯    インターネット対応／\\tCATV／\\tCSアンテナ／\\tBSアンテナ   \n",
       "1          ガスコンロ／\\tシステムキッチン\\t／\\t給湯                             インターネット対応   \n",
       "2  ガスコンロ／\\tコンロ2口／\\tシステムキッチン\\t／\\t給湯  インターネット対応／\\t光ファイバー／\\tCSアンテナ／\\tBSアンテナ   \n",
       "3                       ガスコンロ／\\t給湯                    インターネット対応／\\t光ファイバー   \n",
       "4                      給湯／\\t独立キッチン                                   NaN   \n",
       "\n",
       "                                                室内設備  \\\n",
       "0  エアコン付\\tシューズボックス／\\tバルコニー／\\tフローリング／\\t室内洗濯機置場／\\t敷...   \n",
       "1  エアコン付\\tシューズボックス／\\tバルコニー／\\tフローリング／\\t室内洗濯機置場／\\t敷...   \n",
       "2  エアコン付\\tウォークインクローゼット\\tシューズボックス／\\tバルコニー／\\tフローリング...   \n",
       "3  エアコン付\\tシューズボックス／\\tバルコニー／\\t2面採光／\\t室内洗濯機置場／\\tエレベ...   \n",
       "4                バルコニー／\\tフローリング／\\t室内洗濯機置場\\t公営水道／\\t下水   \n",
       "\n",
       "                                                 駐車場  \\\n",
       "0                                            駐輪場\\t空有   \n",
       "1                         駐輪場\\t空有\\t駐車場\\t無\\tバイク置き場\\t無   \n",
       "2  駐輪場\\t空有\\tバイク置き場\\t空有\\t駐車場\\t近隣\\t30,000円(税込)\\t距離100m   \n",
       "3                          駐車場\\t無\\t駐輪場\\t無\\tバイク置き場\\t無   \n",
       "4    駐車場\\t近隣\\t17,000円(税込)\\t距離300m\\t駐輪場\\t無\\tバイク置き場\\t無   \n",
       "\n",
       "                                                周辺環境          建物構造  \\\n",
       "0  【小学校】 495m\\t【大学】 461m\\t【小学校】 962m\\t【公園】 1103m\\...  RC（鉄筋コンクリート）   \n",
       "1                                       【スーパー】 1283m           鉄骨造   \n",
       "2  【スーパー】 89m\\t【コンビニ】 184m\\t【コンビニ】 392m\\t【スーパー】 492m  RC（鉄筋コンクリート）   \n",
       "3  【スーパー】 225m\\t【スーパー】 448m\\t【スーパー】 619m\\t【スーパー】 ...  RC（鉄筋コンクリート）   \n",
       "4  【スーパー】 193m\\t【スーパー】 298m\\t【スーパー】 660m\\t【スーパー】 ...            木造   \n",
       "\n",
       "                     契約期間        ido       keido     pre_diff  \n",
       "0                     2年間  35.748593  139.728979 -1417.624756  \n",
       "1                     2年間  35.662900  139.779212 -1711.848755  \n",
       "2                     2年間  35.675148  139.667012  1165.752197  \n",
       "3  2年間\\t※この物件は\\t定期借家\\tです。  35.700200  139.651335  -430.941467  \n",
       "4                     2年間  35.766807  139.875451  2187.242920  "
      ]
     },
     "execution_count": 6,
     "metadata": {},
     "output_type": "execute_result"
    }
   ],
   "source": [
    "hoge.head()"
   ]
  },
  {
   "cell_type": "code",
   "execution_count": 8,
   "metadata": {},
   "outputs": [],
   "source": [
    "for col in hoge.columns:\n",
    "    if hoge[col].dtype == \"object\":\n",
    "        print(col)"
   ]
  },
  {
   "cell_type": "code",
   "execution_count": 1,
   "metadata": {},
   "outputs": [
    {
     "ename": "NameError",
     "evalue": "name 'commit' is not defined",
     "output_type": "error",
     "traceback": [
      "\u001b[0;31m---------------------------------------------------------------------------\u001b[0m",
      "\u001b[0;31mNameError\u001b[0m                                 Traceback (most recent call last)",
      "\u001b[0;32m<ipython-input-1-0b43488b605e>\u001b[0m in \u001b[0;36m<module>\u001b[0;34m\u001b[0m\n\u001b[0;32m----> 1\u001b[0;31m \u001b[0mcommit\u001b[0m\u001b[0;34m(\u001b[0m\u001b[0mtrain_x\u001b[0m\u001b[0;34m,\u001b[0m\u001b[0mtrain_y\u001b[0m\u001b[0;34m,\u001b[0m\u001b[0mtest\u001b[0m\u001b[0;34m,\u001b[0m\u001b[0;34m\"submit_13\"\u001b[0m\u001b[0;34m,\u001b[0m\u001b[0mseeds\u001b[0m\u001b[0;34m=\u001b[0m\u001b[0;34m[\u001b[0m\u001b[0;36m7777\u001b[0m\u001b[0;34m,\u001b[0m\u001b[0;36m8888\u001b[0m\u001b[0;34m,\u001b[0m\u001b[0;36m5555\u001b[0m\u001b[0;34m,\u001b[0m\u001b[0;36m1111\u001b[0m\u001b[0;34m,\u001b[0m\u001b[0;36m1997\u001b[0m\u001b[0;34m]\u001b[0m\u001b[0;34m)\u001b[0m\u001b[0;34m\u001b[0m\u001b[0;34m\u001b[0m\u001b[0m\n\u001b[0m",
      "\u001b[0;31mNameError\u001b[0m: name 'commit' is not defined"
     ]
    }
   ],
   "source": []
  },
  {
   "cell_type": "code",
   "execution_count": null,
   "metadata": {},
   "outputs": [],
   "source": [
    "d = [[1,1,1,1,1,1],\n",
    "     [2,2,2,2,2,2],\n",
    "     [3,3,3,3,3,3]]\n",
    "print (np.mean(d,axis=0))"
   ]
  },
  {
   "cell_type": "code",
   "execution_count": 3,
   "metadata": {},
   "outputs": [
    {
     "name": "stdout",
     "output_type": "stream",
     "text": [
      "[10:01:47] WARNING: src/objective/regression_obj.cu:152: reg:linear is now deprecated in favor of reg:squarederror.\n"
     ]
    }
   ],
   "source": [
    "m = pre_checker(train_x,train_y)\n",
    "hoge = m.predict(train)"
   ]
  },
  {
   "cell_type": "code",
   "execution_count": 4,
   "metadata": {},
   "outputs": [
    {
     "data": {
      "text/html": [
       "<div>\n",
       "<style scoped>\n",
       "    .dataframe tbody tr th:only-of-type {\n",
       "        vertical-align: middle;\n",
       "    }\n",
       "\n",
       "    .dataframe tbody tr th {\n",
       "        vertical-align: top;\n",
       "    }\n",
       "\n",
       "    .dataframe thead th {\n",
       "        text-align: right;\n",
       "    }\n",
       "</style>\n",
       "<table border=\"1\" class=\"dataframe\">\n",
       "  <thead>\n",
       "    <tr style=\"text-align: right;\">\n",
       "      <th></th>\n",
       "      <th>Unnamed: 0</th>\n",
       "      <th>ido</th>\n",
       "      <th>keido</th>\n",
       "      <th>mf_areasize</th>\n",
       "      <th>mf_area_sq</th>\n",
       "      <th>mf_r</th>\n",
       "      <th>mf_l</th>\n",
       "      <th>mf_d</th>\n",
       "      <th>mf_k</th>\n",
       "      <th>mf_s</th>\n",
       "      <th>...</th>\n",
       "      <th>dist_main_st0</th>\n",
       "      <th>dist_main_st1</th>\n",
       "      <th>dist_main_st2</th>\n",
       "      <th>dist_main_st3</th>\n",
       "      <th>dist_main_st4</th>\n",
       "      <th>dist_main_st5</th>\n",
       "      <th>dist_main_st6</th>\n",
       "      <th>shortest_mainst</th>\n",
       "      <th>pred_area</th>\n",
       "      <th>area_diff</th>\n",
       "    </tr>\n",
       "  </thead>\n",
       "  <tbody>\n",
       "    <tr>\n",
       "      <th>0</th>\n",
       "      <td>0</td>\n",
       "      <td>35.748593</td>\n",
       "      <td>139.728979</td>\n",
       "      <td>20.01</td>\n",
       "      <td>400.4001</td>\n",
       "      <td>1</td>\n",
       "      <td>0</td>\n",
       "      <td>0</td>\n",
       "      <td>1</td>\n",
       "      <td>0</td>\n",
       "      <td>...</td>\n",
       "      <td>2680.392140</td>\n",
       "      <td>7042.774466</td>\n",
       "      <td>10379.576633</td>\n",
       "      <td>8252.841756</td>\n",
       "      <td>5817.141634</td>\n",
       "      <td>13401.130238</td>\n",
       "      <td>9529.072804</td>\n",
       "      <td>2680.392140</td>\n",
       "      <td>20.023508</td>\n",
       "      <td>-0.013508</td>\n",
       "    </tr>\n",
       "    <tr>\n",
       "      <th>1</th>\n",
       "      <td>1</td>\n",
       "      <td>35.662900</td>\n",
       "      <td>139.779212</td>\n",
       "      <td>16.50</td>\n",
       "      <td>272.2500</td>\n",
       "      <td>1</td>\n",
       "      <td>0</td>\n",
       "      <td>0</td>\n",
       "      <td>0</td>\n",
       "      <td>0</td>\n",
       "      <td>...</td>\n",
       "      <td>1926.998496</td>\n",
       "      <td>7728.405997</td>\n",
       "      <td>7037.280149</td>\n",
       "      <td>2315.401095</td>\n",
       "      <td>5709.344063</td>\n",
       "      <td>5299.058734</td>\n",
       "      <td>1926.998496</td>\n",
       "      <td>1926.998496</td>\n",
       "      <td>16.369177</td>\n",
       "      <td>0.130823</td>\n",
       "    </tr>\n",
       "    <tr>\n",
       "      <th>2</th>\n",
       "      <td>2</td>\n",
       "      <td>35.675148</td>\n",
       "      <td>139.667012</td>\n",
       "      <td>22.05</td>\n",
       "      <td>486.2025</td>\n",
       "      <td>1</td>\n",
       "      <td>0</td>\n",
       "      <td>0</td>\n",
       "      <td>1</td>\n",
       "      <td>0</td>\n",
       "      <td>...</td>\n",
       "      <td>3427.403872</td>\n",
       "      <td>3427.403872</td>\n",
       "      <td>3665.353210</td>\n",
       "      <td>9078.094214</td>\n",
       "      <td>10884.840336</td>\n",
       "      <td>8313.782950</td>\n",
       "      <td>8316.630133</td>\n",
       "      <td>3427.403872</td>\n",
       "      <td>22.081244</td>\n",
       "      <td>-0.031244</td>\n",
       "    </tr>\n",
       "    <tr>\n",
       "      <th>3</th>\n",
       "      <td>3</td>\n",
       "      <td>35.700200</td>\n",
       "      <td>139.651335</td>\n",
       "      <td>60.48</td>\n",
       "      <td>3657.8304</td>\n",
       "      <td>2</td>\n",
       "      <td>1</td>\n",
       "      <td>1</td>\n",
       "      <td>1</td>\n",
       "      <td>0</td>\n",
       "      <td>...</td>\n",
       "      <td>4585.343751</td>\n",
       "      <td>4585.343751</td>\n",
       "      <td>6536.126981</td>\n",
       "      <td>10679.449131</td>\n",
       "      <td>11501.726366</td>\n",
       "      <td>11237.229630</td>\n",
       "      <td>10382.063976</td>\n",
       "      <td>4585.343751</td>\n",
       "      <td>60.609699</td>\n",
       "      <td>-0.129699</td>\n",
       "    </tr>\n",
       "    <tr>\n",
       "      <th>4</th>\n",
       "      <td>4</td>\n",
       "      <td>35.766807</td>\n",
       "      <td>139.875451</td>\n",
       "      <td>39.66</td>\n",
       "      <td>1572.9156</td>\n",
       "      <td>2</td>\n",
       "      <td>0</td>\n",
       "      <td>1</td>\n",
       "      <td>1</td>\n",
       "      <td>0</td>\n",
       "      <td>...</td>\n",
       "      <td>10621.303770</td>\n",
       "      <td>17996.509046</td>\n",
       "      <td>19835.280580</td>\n",
       "      <td>13659.408140</td>\n",
       "      <td>10621.303770</td>\n",
       "      <td>19744.564094</td>\n",
       "      <td>15395.435610</td>\n",
       "      <td>10621.303770</td>\n",
       "      <td>39.588711</td>\n",
       "      <td>0.071289</td>\n",
       "    </tr>\n",
       "  </tbody>\n",
       "</table>\n",
       "<p>5 rows × 261 columns</p>\n",
       "</div>"
      ],
      "text/plain": [
       "   Unnamed: 0        ido       keido  mf_areasize  mf_area_sq  mf_r  mf_l  \\\n",
       "0           0  35.748593  139.728979        20.01    400.4001     1     0   \n",
       "1           1  35.662900  139.779212        16.50    272.2500     1     0   \n",
       "2           2  35.675148  139.667012        22.05    486.2025     1     0   \n",
       "3           3  35.700200  139.651335        60.48   3657.8304     2     1   \n",
       "4           4  35.766807  139.875451        39.66   1572.9156     2     0   \n",
       "\n",
       "   mf_d  mf_k  mf_s  ...  dist_main_st0  dist_main_st1  dist_main_st2  \\\n",
       "0     0     1     0  ...    2680.392140    7042.774466   10379.576633   \n",
       "1     0     0     0  ...    1926.998496    7728.405997    7037.280149   \n",
       "2     0     1     0  ...    3427.403872    3427.403872    3665.353210   \n",
       "3     1     1     0  ...    4585.343751    4585.343751    6536.126981   \n",
       "4     1     1     0  ...   10621.303770   17996.509046   19835.280580   \n",
       "\n",
       "   dist_main_st3  dist_main_st4  dist_main_st5  dist_main_st6  \\\n",
       "0    8252.841756    5817.141634   13401.130238    9529.072804   \n",
       "1    2315.401095    5709.344063    5299.058734    1926.998496   \n",
       "2    9078.094214   10884.840336    8313.782950    8316.630133   \n",
       "3   10679.449131   11501.726366   11237.229630   10382.063976   \n",
       "4   13659.408140   10621.303770   19744.564094   15395.435610   \n",
       "\n",
       "   shortest_mainst  pred_area  area_diff  \n",
       "0      2680.392140  20.023508  -0.013508  \n",
       "1      1926.998496  16.369177   0.130823  \n",
       "2      3427.403872  22.081244  -0.031244  \n",
       "3      4585.343751  60.609699  -0.129699  \n",
       "4     10621.303770  39.588711   0.071289  \n",
       "\n",
       "[5 rows x 261 columns]"
      ]
     },
     "execution_count": 4,
     "metadata": {},
     "output_type": "execute_result"
    }
   ],
   "source": [
    "hoge.head()"
   ]
  },
  {
   "cell_type": "code",
   "execution_count": 5,
   "metadata": {},
   "outputs": [
    {
     "data": {
      "text/plain": [
       "0    20.023508\n",
       "1    16.369177\n",
       "2    22.081244\n",
       "3    60.609699\n",
       "4    39.588711\n",
       "Name: pred_area, dtype: float32"
      ]
     },
     "execution_count": 5,
     "metadata": {},
     "output_type": "execute_result"
    }
   ],
   "source": [
    "hoge[\"pred_area\"].head()"
   ]
  },
  {
   "cell_type": "code",
   "execution_count": 7,
   "metadata": {},
   "outputs": [
    {
     "data": {
      "text/plain": [
       "3.9455108642578125"
      ]
     },
     "execution_count": 7,
     "metadata": {},
     "output_type": "execute_result"
    }
   ],
   "source": [
    "hoge[\"area_diff\"].max()"
   ]
  },
  {
   "cell_type": "code",
   "execution_count": 3,
   "metadata": {},
   "outputs": [
    {
     "name": "stdout",
     "output_type": "stream",
     "text": [
      "[00:21:34] WARNING: src/objective/regression_obj.cu:152: reg:linear is now deprecated in favor of reg:squarederror.\n",
      "[00:22:00] WARNING: src/objective/regression_obj.cu:152: reg:linear is now deprecated in favor of reg:squarederror.\n",
      "[00:22:40] WARNING: src/objective/regression_obj.cu:152: reg:linear is now deprecated in favor of reg:squarederror.\n"
     ]
    }
   ],
   "source": []
  },
  {
   "cell_type": "code",
   "execution_count": 3,
   "metadata": {},
   "outputs": [],
   "source": [
    "x_small,x_valid,y_small,y_valid = train_test_split(train_x,train_y,random_state=31740)\n",
    "# model = my_model()\n",
    "model = non_tree_model()\n",
    "model.fit(x_small,y_small)\n",
    "pred = model.predict(x_valid)\n",
    "hoge = x_valid.assign(abs_diff = abs(y_valid.values-pred))\n",
    "hoge= hoge.assign(diff = y_valid.values-pred)\n",
    "hoge = hoge.assign(pred=pred)\n",
    "hoge = hoge.assign(actual=y_valid.values)\n",
    "hoge = hoge.sort_values(\"abs_diff\",ascending= False)\n",
    "hoge[:100].to_csv(\"human_check.csv\")"
   ]
  },
  {
   "cell_type": "code",
   "execution_count": 16,
   "metadata": {},
   "outputs": [
    {
     "data": {
      "text/plain": [
       "'高く見積もってる方'"
      ]
     },
     "execution_count": 16,
     "metadata": {},
     "output_type": "execute_result"
    }
   ],
   "source": [
    "hoge.query(\"diff < 0\").describe()[[\"actual\",\"pred\",\"diff\"]]\n",
    "\"高く見積もってる方\""
   ]
  },
  {
   "cell_type": "code",
   "execution_count": 17,
   "metadata": {},
   "outputs": [
    {
     "data": {
      "text/plain": [
       "'低く見積もってる方'"
      ]
     },
     "execution_count": 17,
     "metadata": {},
     "output_type": "execute_result"
    }
   ],
   "source": [
    "hoge.query(\"diff > 0\").describe()[[\"actual\",\"pred\",\"diff\"]]\n",
    "\"低く見積もってる方\""
   ]
  },
  {
   "cell_type": "code",
   "execution_count": 14,
   "metadata": {},
   "outputs": [
    {
     "data": {
      "text/plain": [
       "<matplotlib.axes._subplots.AxesSubplot at 0x1320b9c50>"
      ]
     },
     "execution_count": 14,
     "metadata": {},
     "output_type": "execute_result"
    },
    {
     "data": {
      "image/png": "[encoded data removed]",
      "text/plain": [
       "<Figure size 432x288 with 1 Axes>"
      ]
     },
     "metadata": {
      "needs_background": "light"
     },
     "output_type": "display_data"
    }
   ],
   "source": [
    "hoge.query(\"diff < 0\")[\"abs_diff\"].hist()"
   ]
  },
  {
   "cell_type": "code",
   "execution_count": 59,
   "metadata": {
    "collapsed": true,
    "jupyter": {
     "outputs_hidden": true
    }
   },
   "outputs": [
    {
     "name": "stdout",
     "output_type": "stream",
     "text": [
      "Fitting 3 folds for each of 54 candidates, totalling 162 fits\n",
      "[CV] xgb__learning_rate=0.1, xgb__max_depth=7, xgb__min_child_weight=0, xgb__n_estimators=100, xgb__random_state=7777 \n",
      "[17:05:14] WARNING: src/objective/regression_obj.cu:152: reg:linear is now deprecated in favor of reg:squarederror.\n"
     ]
    },
    {
     "name": "stderr",
     "output_type": "stream",
     "text": [
      "[Parallel(n_jobs=1)]: Using backend SequentialBackend with 1 concurrent workers.\n"
     ]
    },
    {
     "name": "stdout",
     "output_type": "stream",
     "text": [
      "[CV]  xgb__learning_rate=0.1, xgb__max_depth=7, xgb__min_child_weight=0, xgb__n_estimators=100, xgb__random_state=7777, score=-20533275032.002, total=   0.6s\n",
      "[CV] xgb__learning_rate=0.1, xgb__max_depth=7, xgb__min_child_weight=0, xgb__n_estimators=100, xgb__random_state=7777 \n",
      "[17:05:14] WARNING: src/objective/regression_obj.cu:152: reg:linear is now deprecated in favor of reg:squarederror.\n"
     ]
    },
    {
     "name": "stderr",
     "output_type": "stream",
     "text": [
      "[Parallel(n_jobs=1)]: Done   1 out of   1 | elapsed:    0.6s remaining:    0.0s\n"
     ]
    },
    {
     "name": "stdout",
     "output_type": "stream",
     "text": [
      "[CV]  xgb__learning_rate=0.1, xgb__max_depth=7, xgb__min_child_weight=0, xgb__n_estimators=100, xgb__random_state=7777, score=-15907774518.319, total=   0.6s\n",
      "[CV] xgb__learning_rate=0.1, xgb__max_depth=7, xgb__min_child_weight=0, xgb__n_estimators=100, xgb__random_state=7777 \n",
      "[17:05:15] WARNING: src/objective/regression_obj.cu:152: reg:linear is now deprecated in favor of reg:squarederror.\n"
     ]
    },
    {
     "name": "stderr",
     "output_type": "stream",
     "text": [
      "[Parallel(n_jobs=1)]: Done   2 out of   2 | elapsed:    1.3s remaining:    0.0s\n"
     ]
    },
    {
     "name": "stdout",
     "output_type": "stream",
     "text": [
      "[CV]  xgb__learning_rate=0.1, xgb__max_depth=7, xgb__min_child_weight=0, xgb__n_estimators=100, xgb__random_state=7777, score=-9381239329.321, total=   0.6s\n",
      "[CV] xgb__learning_rate=0.1, xgb__max_depth=7, xgb__min_child_weight=0, xgb__n_estimators=120, xgb__random_state=7777 \n",
      "[17:05:16] WARNING: src/objective/regression_obj.cu:152: reg:linear is now deprecated in favor of reg:squarederror.\n",
      "[CV]  xgb__learning_rate=0.1, xgb__max_depth=7, xgb__min_child_weight=0, xgb__n_estimators=120, xgb__random_state=7777, score=-20454789224.898, total=   0.7s\n",
      "[CV] xgb__learning_rate=0.1, xgb__max_depth=7, xgb__min_child_weight=0, xgb__n_estimators=120, xgb__random_state=7777 \n",
      "[17:05:16] WARNING: src/objective/regression_obj.cu:152: reg:linear is now deprecated in favor of reg:squarederror.\n",
      "[CV]  xgb__learning_rate=0.1, xgb__max_depth=7, xgb__min_child_weight=0, xgb__n_estimators=120, xgb__random_state=7777, score=-15826305572.156, total=   0.9s\n",
      "[CV] xgb__learning_rate=0.1, xgb__max_depth=7, xgb__min_child_weight=0, xgb__n_estimators=120, xgb__random_state=7777 \n",
      "[17:05:17] WARNING: src/objective/regression_obj.cu:152: reg:linear is now deprecated in favor of reg:squarederror.\n",
      "[CV]  xgb__learning_rate=0.1, xgb__max_depth=7, xgb__min_child_weight=0, xgb__n_estimators=120, xgb__random_state=7777, score=-9344216831.108, total=   0.7s\n",
      "[CV] xgb__learning_rate=0.1, xgb__max_depth=7, xgb__min_child_weight=0, xgb__n_estimators=140, xgb__random_state=7777 \n",
      "[17:05:18] WARNING: src/objective/regression_obj.cu:152: reg:linear is now deprecated in favor of reg:squarederror.\n",
      "[CV]  xgb__learning_rate=0.1, xgb__max_depth=7, xgb__min_child_weight=0, xgb__n_estimators=140, xgb__random_state=7777, score=-20432090424.226, total=   0.8s\n",
      "[CV] xgb__learning_rate=0.1, xgb__max_depth=7, xgb__min_child_weight=0, xgb__n_estimators=140, xgb__random_state=7777 \n",
      "[17:05:19] WARNING: src/objective/regression_obj.cu:152: reg:linear is now deprecated in favor of reg:squarederror.\n",
      "[CV]  xgb__learning_rate=0.1, xgb__max_depth=7, xgb__min_child_weight=0, xgb__n_estimators=140, xgb__random_state=7777, score=-15737042417.208, total=   0.8s\n",
      "[CV] xgb__learning_rate=0.1, xgb__max_depth=7, xgb__min_child_weight=0, xgb__n_estimators=140, xgb__random_state=7777 \n",
      "[17:05:20] WARNING: src/objective/regression_obj.cu:152: reg:linear is now deprecated in favor of reg:squarederror.\n",
      "[CV]  xgb__learning_rate=0.1, xgb__max_depth=7, xgb__min_child_weight=0, xgb__n_estimators=140, xgb__random_state=7777, score=-9349755327.149, total=   0.8s\n",
      "[CV] xgb__learning_rate=0.1, xgb__max_depth=7, xgb__min_child_weight=5, xgb__n_estimators=100, xgb__random_state=7777 \n",
      "[17:05:20] WARNING: src/objective/regression_obj.cu:152: reg:linear is now deprecated in favor of reg:squarederror.\n",
      "[CV]  xgb__learning_rate=0.1, xgb__max_depth=7, xgb__min_child_weight=5, xgb__n_estimators=100, xgb__random_state=7777, score=-19281492539.326, total=   0.6s\n",
      "[CV] xgb__learning_rate=0.1, xgb__max_depth=7, xgb__min_child_weight=5, xgb__n_estimators=100, xgb__random_state=7777 \n",
      "[17:05:21] WARNING: src/objective/regression_obj.cu:152: reg:linear is now deprecated in favor of reg:squarederror.\n",
      "[CV]  xgb__learning_rate=0.1, xgb__max_depth=7, xgb__min_child_weight=5, xgb__n_estimators=100, xgb__random_state=7777, score=-12588586499.195, total=   0.6s\n",
      "[CV] xgb__learning_rate=0.1, xgb__max_depth=7, xgb__min_child_weight=5, xgb__n_estimators=100, xgb__random_state=7777 \n",
      "[17:05:21] WARNING: src/objective/regression_obj.cu:152: reg:linear is now deprecated in favor of reg:squarederror.\n",
      "[CV]  xgb__learning_rate=0.1, xgb__max_depth=7, xgb__min_child_weight=5, xgb__n_estimators=100, xgb__random_state=7777, score=-8927335457.249, total=   0.6s\n",
      "[CV] xgb__learning_rate=0.1, xgb__max_depth=7, xgb__min_child_weight=5, xgb__n_estimators=120, xgb__random_state=7777 \n",
      "[17:05:22] WARNING: src/objective/regression_obj.cu:152: reg:linear is now deprecated in favor of reg:squarederror.\n",
      "[CV]  xgb__learning_rate=0.1, xgb__max_depth=7, xgb__min_child_weight=5, xgb__n_estimators=120, xgb__random_state=7777, score=-19085152003.158, total=   0.7s\n",
      "[CV] xgb__learning_rate=0.1, xgb__max_depth=7, xgb__min_child_weight=5, xgb__n_estimators=120, xgb__random_state=7777 \n",
      "[17:05:23] WARNING: src/objective/regression_obj.cu:152: reg:linear is now deprecated in favor of reg:squarederror.\n",
      "[CV]  xgb__learning_rate=0.1, xgb__max_depth=7, xgb__min_child_weight=5, xgb__n_estimators=120, xgb__random_state=7777, score=-12601545457.041, total=   0.7s\n",
      "[CV] xgb__learning_rate=0.1, xgb__max_depth=7, xgb__min_child_weight=5, xgb__n_estimators=120, xgb__random_state=7777 \n",
      "[17:05:23] WARNING: src/objective/regression_obj.cu:152: reg:linear is now deprecated in favor of reg:squarederror.\n",
      "[CV]  xgb__learning_rate=0.1, xgb__max_depth=7, xgb__min_child_weight=5, xgb__n_estimators=120, xgb__random_state=7777, score=-8963294859.760, total=   0.7s\n",
      "[CV] xgb__learning_rate=0.1, xgb__max_depth=7, xgb__min_child_weight=5, xgb__n_estimators=140, xgb__random_state=7777 \n",
      "[17:05:24] WARNING: src/objective/regression_obj.cu:152: reg:linear is now deprecated in favor of reg:squarederror.\n",
      "[CV]  xgb__learning_rate=0.1, xgb__max_depth=7, xgb__min_child_weight=5, xgb__n_estimators=140, xgb__random_state=7777, score=-19024633588.377, total=   0.8s\n",
      "[CV] xgb__learning_rate=0.1, xgb__max_depth=7, xgb__min_child_weight=5, xgb__n_estimators=140, xgb__random_state=7777 \n",
      "[17:05:25] WARNING: src/objective/regression_obj.cu:152: reg:linear is now deprecated in favor of reg:squarederror.\n",
      "[CV]  xgb__learning_rate=0.1, xgb__max_depth=7, xgb__min_child_weight=5, xgb__n_estimators=140, xgb__random_state=7777, score=-12501917433.676, total=   0.8s\n",
      "[CV] xgb__learning_rate=0.1, xgb__max_depth=7, xgb__min_child_weight=5, xgb__n_estimators=140, xgb__random_state=7777 \n",
      "[17:05:26] WARNING: src/objective/regression_obj.cu:152: reg:linear is now deprecated in favor of reg:squarederror.\n",
      "[CV]  xgb__learning_rate=0.1, xgb__max_depth=7, xgb__min_child_weight=5, xgb__n_estimators=140, xgb__random_state=7777, score=-9065834367.318, total=   0.8s\n",
      "[CV] xgb__learning_rate=0.1, xgb__max_depth=7, xgb__min_child_weight=15, xgb__n_estimators=100, xgb__random_state=7777 \n",
      "[17:05:27] WARNING: src/objective/regression_obj.cu:152: reg:linear is now deprecated in favor of reg:squarederror.\n",
      "[CV]  xgb__learning_rate=0.1, xgb__max_depth=7, xgb__min_child_weight=15, xgb__n_estimators=100, xgb__random_state=7777, score=-25294512024.048, total=   0.8s\n",
      "[CV] xgb__learning_rate=0.1, xgb__max_depth=7, xgb__min_child_weight=15, xgb__n_estimators=100, xgb__random_state=7777 \n",
      "[17:05:27] WARNING: src/objective/regression_obj.cu:152: reg:linear is now deprecated in favor of reg:squarederror.\n",
      "[CV]  xgb__learning_rate=0.1, xgb__max_depth=7, xgb__min_child_weight=15, xgb__n_estimators=100, xgb__random_state=7777, score=-13617868639.385, total=   0.6s\n",
      "[CV] xgb__learning_rate=0.1, xgb__max_depth=7, xgb__min_child_weight=15, xgb__n_estimators=100, xgb__random_state=7777 \n",
      "[17:05:28] WARNING: src/objective/regression_obj.cu:152: reg:linear is now deprecated in favor of reg:squarederror.\n",
      "[CV]  xgb__learning_rate=0.1, xgb__max_depth=7, xgb__min_child_weight=15, xgb__n_estimators=100, xgb__random_state=7777, score=-7546605604.323, total=   0.6s\n",
      "[CV] xgb__learning_rate=0.1, xgb__max_depth=7, xgb__min_child_weight=15, xgb__n_estimators=120, xgb__random_state=7777 \n",
      "[17:05:28] WARNING: src/objective/regression_obj.cu:152: reg:linear is now deprecated in favor of reg:squarederror.\n",
      "[CV]  xgb__learning_rate=0.1, xgb__max_depth=7, xgb__min_child_weight=15, xgb__n_estimators=120, xgb__random_state=7777, score=-24889504841.799, total=   0.7s\n",
      "[CV] xgb__learning_rate=0.1, xgb__max_depth=7, xgb__min_child_weight=15, xgb__n_estimators=120, xgb__random_state=7777 \n",
      "[17:05:29] WARNING: src/objective/regression_obj.cu:152: reg:linear is now deprecated in favor of reg:squarederror.\n",
      "[CV]  xgb__learning_rate=0.1, xgb__max_depth=7, xgb__min_child_weight=15, xgb__n_estimators=120, xgb__random_state=7777, score=-13352949146.832, total=   0.7s\n",
      "[CV] xgb__learning_rate=0.1, xgb__max_depth=7, xgb__min_child_weight=15, xgb__n_estimators=120, xgb__random_state=7777 \n",
      "[17:05:30] WARNING: src/objective/regression_obj.cu:152: reg:linear is now deprecated in favor of reg:squarederror.\n",
      "[CV]  xgb__learning_rate=0.1, xgb__max_depth=7, xgb__min_child_weight=15, xgb__n_estimators=120, xgb__random_state=7777, score=-7800317632.719, total=   0.7s\n",
      "[CV] xgb__learning_rate=0.1, xgb__max_depth=7, xgb__min_child_weight=15, xgb__n_estimators=140, xgb__random_state=7777 \n",
      "[17:05:30] WARNING: src/objective/regression_obj.cu:152: reg:linear is now deprecated in favor of reg:squarederror.\n",
      "[CV]  xgb__learning_rate=0.1, xgb__max_depth=7, xgb__min_child_weight=15, xgb__n_estimators=140, xgb__random_state=7777, score=-24598357010.996, total=   0.8s\n",
      "[CV] xgb__learning_rate=0.1, xgb__max_depth=7, xgb__min_child_weight=15, xgb__n_estimators=140, xgb__random_state=7777 \n",
      "[17:05:31] WARNING: src/objective/regression_obj.cu:152: reg:linear is now deprecated in favor of reg:squarederror.\n",
      "[CV]  xgb__learning_rate=0.1, xgb__max_depth=7, xgb__min_child_weight=15, xgb__n_estimators=140, xgb__random_state=7777, score=-13390394141.260, total=   0.9s\n",
      "[CV] xgb__learning_rate=0.1, xgb__max_depth=7, xgb__min_child_weight=15, xgb__n_estimators=140, xgb__random_state=7777 \n",
      "[17:05:32] WARNING: src/objective/regression_obj.cu:152: reg:linear is now deprecated in favor of reg:squarederror.\n",
      "[CV]  xgb__learning_rate=0.1, xgb__max_depth=7, xgb__min_child_weight=15, xgb__n_estimators=140, xgb__random_state=7777, score=-7833974177.644, total=   1.0s\n",
      "[CV] xgb__learning_rate=0.1, xgb__max_depth=8, xgb__min_child_weight=0, xgb__n_estimators=100, xgb__random_state=7777 \n",
      "[17:05:33] WARNING: src/objective/regression_obj.cu:152: reg:linear is now deprecated in favor of reg:squarederror.\n",
      "[CV]  xgb__learning_rate=0.1, xgb__max_depth=8, xgb__min_child_weight=0, xgb__n_estimators=100, xgb__random_state=7777, score=-20346813179.084, total=   0.8s\n",
      "[CV] xgb__learning_rate=0.1, xgb__max_depth=8, xgb__min_child_weight=0, xgb__n_estimators=100, xgb__random_state=7777 \n",
      "[17:05:34] WARNING: src/objective/regression_obj.cu:152: reg:linear is now deprecated in favor of reg:squarederror.\n",
      "[CV]  xgb__learning_rate=0.1, xgb__max_depth=8, xgb__min_child_weight=0, xgb__n_estimators=100, xgb__random_state=7777, score=-16514974765.446, total=   0.7s\n",
      "[CV] xgb__learning_rate=0.1, xgb__max_depth=8, xgb__min_child_weight=0, xgb__n_estimators=100, xgb__random_state=7777 \n",
      "[17:05:35] WARNING: src/objective/regression_obj.cu:152: reg:linear is now deprecated in favor of reg:squarederror.\n",
      "[CV]  xgb__learning_rate=0.1, xgb__max_depth=8, xgb__min_child_weight=0, xgb__n_estimators=100, xgb__random_state=7777, score=-10123918320.484, total=   0.7s\n",
      "[CV] xgb__learning_rate=0.1, xgb__max_depth=8, xgb__min_child_weight=0, xgb__n_estimators=120, xgb__random_state=7777 \n",
      "[17:05:35] WARNING: src/objective/regression_obj.cu:152: reg:linear is now deprecated in favor of reg:squarederror.\n",
      "[CV]  xgb__learning_rate=0.1, xgb__max_depth=8, xgb__min_child_weight=0, xgb__n_estimators=120, xgb__random_state=7777, score=-20295615134.759, total=   0.8s\n",
      "[CV] xgb__learning_rate=0.1, xgb__max_depth=8, xgb__min_child_weight=0, xgb__n_estimators=120, xgb__random_state=7777 \n",
      "[17:05:36] WARNING: src/objective/regression_obj.cu:152: reg:linear is now deprecated in favor of reg:squarederror.\n",
      "[CV]  xgb__learning_rate=0.1, xgb__max_depth=8, xgb__min_child_weight=0, xgb__n_estimators=120, xgb__random_state=7777, score=-16417372230.032, total=   0.9s\n",
      "[CV] xgb__learning_rate=0.1, xgb__max_depth=8, xgb__min_child_weight=0, xgb__n_estimators=120, xgb__random_state=7777 \n",
      "[17:05:37] WARNING: src/objective/regression_obj.cu:152: reg:linear is now deprecated in favor of reg:squarederror.\n",
      "[CV]  xgb__learning_rate=0.1, xgb__max_depth=8, xgb__min_child_weight=0, xgb__n_estimators=120, xgb__random_state=7777, score=-10117206105.257, total=   1.0s\n",
      "[CV] xgb__learning_rate=0.1, xgb__max_depth=8, xgb__min_child_weight=0, xgb__n_estimators=140, xgb__random_state=7777 \n",
      "[17:05:38] WARNING: src/objective/regression_obj.cu:152: reg:linear is now deprecated in favor of reg:squarederror.\n",
      "[CV]  xgb__learning_rate=0.1, xgb__max_depth=8, xgb__min_child_weight=0, xgb__n_estimators=140, xgb__random_state=7777, score=-20273407538.885, total=   0.9s\n",
      "[CV] xgb__learning_rate=0.1, xgb__max_depth=8, xgb__min_child_weight=0, xgb__n_estimators=140, xgb__random_state=7777 \n",
      "[17:05:39] WARNING: src/objective/regression_obj.cu:152: reg:linear is now deprecated in favor of reg:squarederror.\n",
      "[CV]  xgb__learning_rate=0.1, xgb__max_depth=8, xgb__min_child_weight=0, xgb__n_estimators=140, xgb__random_state=7777, score=-16403004857.830, total=   0.8s\n",
      "[CV] xgb__learning_rate=0.1, xgb__max_depth=8, xgb__min_child_weight=0, xgb__n_estimators=140, xgb__random_state=7777 \n",
      "[17:05:40] WARNING: src/objective/regression_obj.cu:152: reg:linear is now deprecated in favor of reg:squarederror.\n",
      "[CV]  xgb__learning_rate=0.1, xgb__max_depth=8, xgb__min_child_weight=0, xgb__n_estimators=140, xgb__random_state=7777, score=-10115012469.775, total=   0.8s\n",
      "[CV] xgb__learning_rate=0.1, xgb__max_depth=8, xgb__min_child_weight=5, xgb__n_estimators=100, xgb__random_state=7777 \n",
      "[17:05:41] WARNING: src/objective/regression_obj.cu:152: reg:linear is now deprecated in favor of reg:squarederror.\n",
      "[CV]  xgb__learning_rate=0.1, xgb__max_depth=8, xgb__min_child_weight=5, xgb__n_estimators=100, xgb__random_state=7777, score=-19343516265.916, total=   0.6s\n",
      "[CV] xgb__learning_rate=0.1, xgb__max_depth=8, xgb__min_child_weight=5, xgb__n_estimators=100, xgb__random_state=7777 \n",
      "[17:05:41] WARNING: src/objective/regression_obj.cu:152: reg:linear is now deprecated in favor of reg:squarederror.\n",
      "[CV]  xgb__learning_rate=0.1, xgb__max_depth=8, xgb__min_child_weight=5, xgb__n_estimators=100, xgb__random_state=7777, score=-13041504230.050, total=   0.6s\n",
      "[CV] xgb__learning_rate=0.1, xgb__max_depth=8, xgb__min_child_weight=5, xgb__n_estimators=100, xgb__random_state=7777 \n",
      "[17:05:42] WARNING: src/objective/regression_obj.cu:152: reg:linear is now deprecated in favor of reg:squarederror.\n",
      "[CV]  xgb__learning_rate=0.1, xgb__max_depth=8, xgb__min_child_weight=5, xgb__n_estimators=100, xgb__random_state=7777, score=-8733665645.523, total=   0.6s\n",
      "[CV] xgb__learning_rate=0.1, xgb__max_depth=8, xgb__min_child_weight=5, xgb__n_estimators=120, xgb__random_state=7777 \n",
      "[17:05:43] WARNING: src/objective/regression_obj.cu:152: reg:linear is now deprecated in favor of reg:squarederror.\n",
      "[CV]  xgb__learning_rate=0.1, xgb__max_depth=8, xgb__min_child_weight=5, xgb__n_estimators=120, xgb__random_state=7777, score=-19168806231.813, total=   0.7s\n",
      "[CV] xgb__learning_rate=0.1, xgb__max_depth=8, xgb__min_child_weight=5, xgb__n_estimators=120, xgb__random_state=7777 \n",
      "[17:05:43] WARNING: src/objective/regression_obj.cu:152: reg:linear is now deprecated in favor of reg:squarederror.\n",
      "[CV]  xgb__learning_rate=0.1, xgb__max_depth=8, xgb__min_child_weight=5, xgb__n_estimators=120, xgb__random_state=7777, score=-12923225883.166, total=   0.7s\n",
      "[CV] xgb__learning_rate=0.1, xgb__max_depth=8, xgb__min_child_weight=5, xgb__n_estimators=120, xgb__random_state=7777 \n",
      "[17:05:44] WARNING: src/objective/regression_obj.cu:152: reg:linear is now deprecated in favor of reg:squarederror.\n",
      "[CV]  xgb__learning_rate=0.1, xgb__max_depth=8, xgb__min_child_weight=5, xgb__n_estimators=120, xgb__random_state=7777, score=-8839460286.832, total=   0.7s\n",
      "[CV] xgb__learning_rate=0.1, xgb__max_depth=8, xgb__min_child_weight=5, xgb__n_estimators=140, xgb__random_state=7777 \n",
      "[17:05:45] WARNING: src/objective/regression_obj.cu:152: reg:linear is now deprecated in favor of reg:squarederror.\n",
      "[CV]  xgb__learning_rate=0.1, xgb__max_depth=8, xgb__min_child_weight=5, xgb__n_estimators=140, xgb__random_state=7777, score=-19137024612.139, total=   0.9s\n",
      "[CV] xgb__learning_rate=0.1, xgb__max_depth=8, xgb__min_child_weight=5, xgb__n_estimators=140, xgb__random_state=7777 \n",
      "[17:05:46] WARNING: src/objective/regression_obj.cu:152: reg:linear is now deprecated in favor of reg:squarederror.\n",
      "[CV]  xgb__learning_rate=0.1, xgb__max_depth=8, xgb__min_child_weight=5, xgb__n_estimators=140, xgb__random_state=7777, score=-12958878911.871, total=   1.0s\n",
      "[CV] xgb__learning_rate=0.1, xgb__max_depth=8, xgb__min_child_weight=5, xgb__n_estimators=140, xgb__random_state=7777 \n",
      "[17:05:47] WARNING: src/objective/regression_obj.cu:152: reg:linear is now deprecated in favor of reg:squarederror.\n",
      "[CV]  xgb__learning_rate=0.1, xgb__max_depth=8, xgb__min_child_weight=5, xgb__n_estimators=140, xgb__random_state=7777, score=-9061560977.310, total=   0.9s\n",
      "[CV] xgb__learning_rate=0.1, xgb__max_depth=8, xgb__min_child_weight=15, xgb__n_estimators=100, xgb__random_state=7777 \n",
      "[17:05:47] WARNING: src/objective/regression_obj.cu:152: reg:linear is now deprecated in favor of reg:squarederror.\n",
      "[CV]  xgb__learning_rate=0.1, xgb__max_depth=8, xgb__min_child_weight=15, xgb__n_estimators=100, xgb__random_state=7777, score=-25403443493.504, total=   0.6s\n",
      "[CV] xgb__learning_rate=0.1, xgb__max_depth=8, xgb__min_child_weight=15, xgb__n_estimators=100, xgb__random_state=7777 \n",
      "[17:05:48] WARNING: src/objective/regression_obj.cu:152: reg:linear is now deprecated in favor of reg:squarederror.\n",
      "[CV]  xgb__learning_rate=0.1, xgb__max_depth=8, xgb__min_child_weight=15, xgb__n_estimators=100, xgb__random_state=7777, score=-14026303477.436, total=   0.6s\n",
      "[CV] xgb__learning_rate=0.1, xgb__max_depth=8, xgb__min_child_weight=15, xgb__n_estimators=100, xgb__random_state=7777 \n",
      "[17:05:49] WARNING: src/objective/regression_obj.cu:152: reg:linear is now deprecated in favor of reg:squarederror.\n",
      "[CV]  xgb__learning_rate=0.1, xgb__max_depth=8, xgb__min_child_weight=15, xgb__n_estimators=100, xgb__random_state=7777, score=-8276420139.330, total=   0.6s\n",
      "[CV] xgb__learning_rate=0.1, xgb__max_depth=8, xgb__min_child_weight=15, xgb__n_estimators=120, xgb__random_state=7777 \n",
      "[17:05:49] WARNING: src/objective/regression_obj.cu:152: reg:linear is now deprecated in favor of reg:squarederror.\n",
      "[CV]  xgb__learning_rate=0.1, xgb__max_depth=8, xgb__min_child_weight=15, xgb__n_estimators=120, xgb__random_state=7777, score=-24830891069.117, total=   0.7s\n",
      "[CV] xgb__learning_rate=0.1, xgb__max_depth=8, xgb__min_child_weight=15, xgb__n_estimators=120, xgb__random_state=7777 \n",
      "[17:05:50] WARNING: src/objective/regression_obj.cu:152: reg:linear is now deprecated in favor of reg:squarederror.\n",
      "[CV]  xgb__learning_rate=0.1, xgb__max_depth=8, xgb__min_child_weight=15, xgb__n_estimators=120, xgb__random_state=7777, score=-13812764666.637, total=   0.7s\n",
      "[CV] xgb__learning_rate=0.1, xgb__max_depth=8, xgb__min_child_weight=15, xgb__n_estimators=120, xgb__random_state=7777 \n",
      "[17:05:51] WARNING: src/objective/regression_obj.cu:152: reg:linear is now deprecated in favor of reg:squarederror.\n",
      "[CV]  xgb__learning_rate=0.1, xgb__max_depth=8, xgb__min_child_weight=15, xgb__n_estimators=120, xgb__random_state=7777, score=-8238397881.800, total=   0.7s\n",
      "[CV] xgb__learning_rate=0.1, xgb__max_depth=8, xgb__min_child_weight=15, xgb__n_estimators=140, xgb__random_state=7777 \n",
      "[17:05:52] WARNING: src/objective/regression_obj.cu:152: reg:linear is now deprecated in favor of reg:squarederror.\n",
      "[CV]  xgb__learning_rate=0.1, xgb__max_depth=8, xgb__min_child_weight=15, xgb__n_estimators=140, xgb__random_state=7777, score=-24366597613.085, total=   0.8s\n",
      "[CV] xgb__learning_rate=0.1, xgb__max_depth=8, xgb__min_child_weight=15, xgb__n_estimators=140, xgb__random_state=7777 \n",
      "[17:05:52] WARNING: src/objective/regression_obj.cu:152: reg:linear is now deprecated in favor of reg:squarederror.\n",
      "[CV]  xgb__learning_rate=0.1, xgb__max_depth=8, xgb__min_child_weight=15, xgb__n_estimators=140, xgb__random_state=7777, score=-13915697366.388, total=   0.8s\n",
      "[CV] xgb__learning_rate=0.1, xgb__max_depth=8, xgb__min_child_weight=15, xgb__n_estimators=140, xgb__random_state=7777 \n",
      "[17:05:53] WARNING: src/objective/regression_obj.cu:152: reg:linear is now deprecated in favor of reg:squarederror.\n",
      "[CV]  xgb__learning_rate=0.1, xgb__max_depth=8, xgb__min_child_weight=15, xgb__n_estimators=140, xgb__random_state=7777, score=-8355761232.857, total=   0.8s\n",
      "[CV] xgb__learning_rate=0.1, xgb__max_depth=9, xgb__min_child_weight=0, xgb__n_estimators=100, xgb__random_state=7777 \n",
      "[17:05:54] WARNING: src/objective/regression_obj.cu:152: reg:linear is now deprecated in favor of reg:squarederror.\n",
      "[CV]  xgb__learning_rate=0.1, xgb__max_depth=9, xgb__min_child_weight=0, xgb__n_estimators=100, xgb__random_state=7777, score=-21304206114.800, total=   0.7s\n",
      "[CV] xgb__learning_rate=0.1, xgb__max_depth=9, xgb__min_child_weight=0, xgb__n_estimators=100, xgb__random_state=7777 \n",
      "[17:05:55] WARNING: src/objective/regression_obj.cu:152: reg:linear is now deprecated in favor of reg:squarederror.\n",
      "[CV]  xgb__learning_rate=0.1, xgb__max_depth=9, xgb__min_child_weight=0, xgb__n_estimators=100, xgb__random_state=7777, score=-16985220127.604, total=   0.7s\n",
      "[CV] xgb__learning_rate=0.1, xgb__max_depth=9, xgb__min_child_weight=0, xgb__n_estimators=100, xgb__random_state=7777 \n",
      "[17:05:55] WARNING: src/objective/regression_obj.cu:152: reg:linear is now deprecated in favor of reg:squarederror.\n",
      "[CV]  xgb__learning_rate=0.1, xgb__max_depth=9, xgb__min_child_weight=0, xgb__n_estimators=100, xgb__random_state=7777, score=-10216197261.518, total=   0.7s\n",
      "[CV] xgb__learning_rate=0.1, xgb__max_depth=9, xgb__min_child_weight=0, xgb__n_estimators=120, xgb__random_state=7777 \n",
      "[17:05:56] WARNING: src/objective/regression_obj.cu:152: reg:linear is now deprecated in favor of reg:squarederror.\n",
      "[CV]  xgb__learning_rate=0.1, xgb__max_depth=9, xgb__min_child_weight=0, xgb__n_estimators=120, xgb__random_state=7777, score=-21257787195.069, total=   0.9s\n",
      "[CV] xgb__learning_rate=0.1, xgb__max_depth=9, xgb__min_child_weight=0, xgb__n_estimators=120, xgb__random_state=7777 \n",
      "[17:05:57] WARNING: src/objective/regression_obj.cu:152: reg:linear is now deprecated in favor of reg:squarederror.\n",
      "[CV]  xgb__learning_rate=0.1, xgb__max_depth=9, xgb__min_child_weight=0, xgb__n_estimators=120, xgb__random_state=7777, score=-16869888831.521, total=   0.8s\n",
      "[CV] xgb__learning_rate=0.1, xgb__max_depth=9, xgb__min_child_weight=0, xgb__n_estimators=120, xgb__random_state=7777 \n",
      "[17:05:58] WARNING: src/objective/regression_obj.cu:152: reg:linear is now deprecated in favor of reg:squarederror.\n",
      "[CV]  xgb__learning_rate=0.1, xgb__max_depth=9, xgb__min_child_weight=0, xgb__n_estimators=120, xgb__random_state=7777, score=-10225547603.747, total=   1.4s\n",
      "[CV] xgb__learning_rate=0.1, xgb__max_depth=9, xgb__min_child_weight=0, xgb__n_estimators=140, xgb__random_state=7777 \n",
      "[17:05:59] WARNING: src/objective/regression_obj.cu:152: reg:linear is now deprecated in favor of reg:squarederror.\n",
      "[CV]  xgb__learning_rate=0.1, xgb__max_depth=9, xgb__min_child_weight=0, xgb__n_estimators=140, xgb__random_state=7777, score=-21233297747.244, total=   1.3s\n",
      "[CV] xgb__learning_rate=0.1, xgb__max_depth=9, xgb__min_child_weight=0, xgb__n_estimators=140, xgb__random_state=7777 \n",
      "[17:06:00] WARNING: src/objective/regression_obj.cu:152: reg:linear is now deprecated in favor of reg:squarederror.\n",
      "[CV]  xgb__learning_rate=0.1, xgb__max_depth=9, xgb__min_child_weight=0, xgb__n_estimators=140, xgb__random_state=7777, score=-16835666815.551, total=   1.4s\n",
      "[CV] xgb__learning_rate=0.1, xgb__max_depth=9, xgb__min_child_weight=0, xgb__n_estimators=140, xgb__random_state=7777 \n",
      "[17:06:02] WARNING: src/objective/regression_obj.cu:152: reg:linear is now deprecated in favor of reg:squarederror.\n",
      "[CV]  xgb__learning_rate=0.1, xgb__max_depth=9, xgb__min_child_weight=0, xgb__n_estimators=140, xgb__random_state=7777, score=-10215378551.775, total=   1.2s\n",
      "[CV] xgb__learning_rate=0.1, xgb__max_depth=9, xgb__min_child_weight=5, xgb__n_estimators=100, xgb__random_state=7777 \n",
      "[17:06:03] WARNING: src/objective/regression_obj.cu:152: reg:linear is now deprecated in favor of reg:squarederror.\n",
      "[CV]  xgb__learning_rate=0.1, xgb__max_depth=9, xgb__min_child_weight=5, xgb__n_estimators=100, xgb__random_state=7777, score=-19931237647.185, total=   0.7s\n",
      "[CV] xgb__learning_rate=0.1, xgb__max_depth=9, xgb__min_child_weight=5, xgb__n_estimators=100, xgb__random_state=7777 \n",
      "[17:06:04] WARNING: src/objective/regression_obj.cu:152: reg:linear is now deprecated in favor of reg:squarederror.\n",
      "[CV]  xgb__learning_rate=0.1, xgb__max_depth=9, xgb__min_child_weight=5, xgb__n_estimators=100, xgb__random_state=7777, score=-13613317697.918, total=   0.7s\n",
      "[CV] xgb__learning_rate=0.1, xgb__max_depth=9, xgb__min_child_weight=5, xgb__n_estimators=100, xgb__random_state=7777 \n",
      "[17:06:04] WARNING: src/objective/regression_obj.cu:152: reg:linear is now deprecated in favor of reg:squarederror.\n",
      "[CV]  xgb__learning_rate=0.1, xgb__max_depth=9, xgb__min_child_weight=5, xgb__n_estimators=100, xgb__random_state=7777, score=-9412994942.226, total=   0.8s\n",
      "[CV] xgb__learning_rate=0.1, xgb__max_depth=9, xgb__min_child_weight=5, xgb__n_estimators=120, xgb__random_state=7777 \n",
      "[17:06:05] WARNING: src/objective/regression_obj.cu:152: reg:linear is now deprecated in favor of reg:squarederror.\n",
      "[CV]  xgb__learning_rate=0.1, xgb__max_depth=9, xgb__min_child_weight=5, xgb__n_estimators=120, xgb__random_state=7777, score=-20019368387.262, total=   1.3s\n",
      "[CV] xgb__learning_rate=0.1, xgb__max_depth=9, xgb__min_child_weight=5, xgb__n_estimators=120, xgb__random_state=7777 \n",
      "[17:06:07] WARNING: src/objective/regression_obj.cu:152: reg:linear is now deprecated in favor of reg:squarederror.\n",
      "[CV]  xgb__learning_rate=0.1, xgb__max_depth=9, xgb__min_child_weight=5, xgb__n_estimators=120, xgb__random_state=7777, score=-13576887726.663, total=   1.2s\n",
      "[CV] xgb__learning_rate=0.1, xgb__max_depth=9, xgb__min_child_weight=5, xgb__n_estimators=120, xgb__random_state=7777 \n",
      "[17:06:08] WARNING: src/objective/regression_obj.cu:152: reg:linear is now deprecated in favor of reg:squarederror.\n",
      "[CV]  xgb__learning_rate=0.1, xgb__max_depth=9, xgb__min_child_weight=5, xgb__n_estimators=120, xgb__random_state=7777, score=-9617033373.086, total=   2.4s\n",
      "[CV] xgb__learning_rate=0.1, xgb__max_depth=9, xgb__min_child_weight=5, xgb__n_estimators=140, xgb__random_state=7777 \n",
      "[17:06:10] WARNING: src/objective/regression_obj.cu:152: reg:linear is now deprecated in favor of reg:squarederror.\n",
      "[CV]  xgb__learning_rate=0.1, xgb__max_depth=9, xgb__min_child_weight=5, xgb__n_estimators=140, xgb__random_state=7777, score=-20097839735.399, total=   2.8s\n",
      "[CV] xgb__learning_rate=0.1, xgb__max_depth=9, xgb__min_child_weight=5, xgb__n_estimators=140, xgb__random_state=7777 \n",
      "[17:06:13] WARNING: src/objective/regression_obj.cu:152: reg:linear is now deprecated in favor of reg:squarederror.\n",
      "[CV]  xgb__learning_rate=0.1, xgb__max_depth=9, xgb__min_child_weight=5, xgb__n_estimators=140, xgb__random_state=7777, score=-13540130709.907, total=   1.2s\n",
      "[CV] xgb__learning_rate=0.1, xgb__max_depth=9, xgb__min_child_weight=5, xgb__n_estimators=140, xgb__random_state=7777 \n",
      "[17:06:14] WARNING: src/objective/regression_obj.cu:152: reg:linear is now deprecated in favor of reg:squarederror.\n",
      "[CV]  xgb__learning_rate=0.1, xgb__max_depth=9, xgb__min_child_weight=5, xgb__n_estimators=140, xgb__random_state=7777, score=-9867172146.532, total=   0.9s\n",
      "[CV] xgb__learning_rate=0.1, xgb__max_depth=9, xgb__min_child_weight=15, xgb__n_estimators=100, xgb__random_state=7777 \n",
      "[17:06:15] WARNING: src/objective/regression_obj.cu:152: reg:linear is now deprecated in favor of reg:squarederror.\n",
      "[CV]  xgb__learning_rate=0.1, xgb__max_depth=9, xgb__min_child_weight=15, xgb__n_estimators=100, xgb__random_state=7777, score=-24877914374.101, total=   0.6s\n",
      "[CV] xgb__learning_rate=0.1, xgb__max_depth=9, xgb__min_child_weight=15, xgb__n_estimators=100, xgb__random_state=7777 \n",
      "[17:06:16] WARNING: src/objective/regression_obj.cu:152: reg:linear is now deprecated in favor of reg:squarederror.\n",
      "[CV]  xgb__learning_rate=0.1, xgb__max_depth=9, xgb__min_child_weight=15, xgb__n_estimators=100, xgb__random_state=7777, score=-14207044883.454, total=   0.7s\n",
      "[CV] xgb__learning_rate=0.1, xgb__max_depth=9, xgb__min_child_weight=15, xgb__n_estimators=100, xgb__random_state=7777 \n",
      "[17:06:16] WARNING: src/objective/regression_obj.cu:152: reg:linear is now deprecated in favor of reg:squarederror.\n",
      "[CV]  xgb__learning_rate=0.1, xgb__max_depth=9, xgb__min_child_weight=15, xgb__n_estimators=100, xgb__random_state=7777, score=-7629203700.163, total=   0.6s\n",
      "[CV] xgb__learning_rate=0.1, xgb__max_depth=9, xgb__min_child_weight=15, xgb__n_estimators=120, xgb__random_state=7777 \n",
      "[17:06:17] WARNING: src/objective/regression_obj.cu:152: reg:linear is now deprecated in favor of reg:squarederror.\n",
      "[CV]  xgb__learning_rate=0.1, xgb__max_depth=9, xgb__min_child_weight=15, xgb__n_estimators=120, xgb__random_state=7777, score=-24603979575.403, total=   0.7s\n",
      "[CV] xgb__learning_rate=0.1, xgb__max_depth=9, xgb__min_child_weight=15, xgb__n_estimators=120, xgb__random_state=7777 \n",
      "[17:06:18] WARNING: src/objective/regression_obj.cu:152: reg:linear is now deprecated in favor of reg:squarederror.\n",
      "[CV]  xgb__learning_rate=0.1, xgb__max_depth=9, xgb__min_child_weight=15, xgb__n_estimators=120, xgb__random_state=7777, score=-13947981913.156, total=   0.9s\n",
      "[CV] xgb__learning_rate=0.1, xgb__max_depth=9, xgb__min_child_weight=15, xgb__n_estimators=120, xgb__random_state=7777 \n",
      "[17:06:19] WARNING: src/objective/regression_obj.cu:152: reg:linear is now deprecated in favor of reg:squarederror.\n",
      "[CV]  xgb__learning_rate=0.1, xgb__max_depth=9, xgb__min_child_weight=15, xgb__n_estimators=120, xgb__random_state=7777, score=-7749437080.856, total=   0.9s\n",
      "[CV] xgb__learning_rate=0.1, xgb__max_depth=9, xgb__min_child_weight=15, xgb__n_estimators=140, xgb__random_state=7777 \n",
      "[17:06:20] WARNING: src/objective/regression_obj.cu:152: reg:linear is now deprecated in favor of reg:squarederror.\n",
      "[CV]  xgb__learning_rate=0.1, xgb__max_depth=9, xgb__min_child_weight=15, xgb__n_estimators=140, xgb__random_state=7777, score=-24214058715.020, total=   1.1s\n",
      "[CV] xgb__learning_rate=0.1, xgb__max_depth=9, xgb__min_child_weight=15, xgb__n_estimators=140, xgb__random_state=7777 \n",
      "[17:06:21] WARNING: src/objective/regression_obj.cu:152: reg:linear is now deprecated in favor of reg:squarederror.\n",
      "[CV]  xgb__learning_rate=0.1, xgb__max_depth=9, xgb__min_child_weight=15, xgb__n_estimators=140, xgb__random_state=7777, score=-13979335975.382, total=   1.2s\n",
      "[CV] xgb__learning_rate=0.1, xgb__max_depth=9, xgb__min_child_weight=15, xgb__n_estimators=140, xgb__random_state=7777 \n",
      "[17:06:22] WARNING: src/objective/regression_obj.cu:152: reg:linear is now deprecated in favor of reg:squarederror.\n",
      "[CV]  xgb__learning_rate=0.1, xgb__max_depth=9, xgb__min_child_weight=15, xgb__n_estimators=140, xgb__random_state=7777, score=-7574448122.705, total=   1.0s\n",
      "[CV] xgb__learning_rate=0.2, xgb__max_depth=7, xgb__min_child_weight=0, xgb__n_estimators=100, xgb__random_state=7777 \n",
      "[17:06:23] WARNING: src/objective/regression_obj.cu:152: reg:linear is now deprecated in favor of reg:squarederror.\n",
      "[CV]  xgb__learning_rate=0.2, xgb__max_depth=7, xgb__min_child_weight=0, xgb__n_estimators=100, xgb__random_state=7777, score=-19833787069.287, total=   0.6s\n",
      "[CV] xgb__learning_rate=0.2, xgb__max_depth=7, xgb__min_child_weight=0, xgb__n_estimators=100, xgb__random_state=7777 \n",
      "[17:06:23] WARNING: src/objective/regression_obj.cu:152: reg:linear is now deprecated in favor of reg:squarederror.\n",
      "[CV]  xgb__learning_rate=0.2, xgb__max_depth=7, xgb__min_child_weight=0, xgb__n_estimators=100, xgb__random_state=7777, score=-16617737475.016, total=   0.6s\n",
      "[CV] xgb__learning_rate=0.2, xgb__max_depth=7, xgb__min_child_weight=0, xgb__n_estimators=100, xgb__random_state=7777 \n",
      "[17:06:24] WARNING: src/objective/regression_obj.cu:152: reg:linear is now deprecated in favor of reg:squarederror.\n",
      "[CV]  xgb__learning_rate=0.2, xgb__max_depth=7, xgb__min_child_weight=0, xgb__n_estimators=100, xgb__random_state=7777, score=-7986408808.231, total=   0.7s\n",
      "[CV] xgb__learning_rate=0.2, xgb__max_depth=7, xgb__min_child_weight=0, xgb__n_estimators=120, xgb__random_state=7777 \n",
      "[17:06:25] WARNING: src/objective/regression_obj.cu:152: reg:linear is now deprecated in favor of reg:squarederror.\n",
      "[CV]  xgb__learning_rate=0.2, xgb__max_depth=7, xgb__min_child_weight=0, xgb__n_estimators=120, xgb__random_state=7777, score=-19818276449.431, total=   0.8s\n",
      "[CV] xgb__learning_rate=0.2, xgb__max_depth=7, xgb__min_child_weight=0, xgb__n_estimators=120, xgb__random_state=7777 \n",
      "[17:06:26] WARNING: src/objective/regression_obj.cu:152: reg:linear is now deprecated in favor of reg:squarederror.\n",
      "[CV]  xgb__learning_rate=0.2, xgb__max_depth=7, xgb__min_child_weight=0, xgb__n_estimators=120, xgb__random_state=7777, score=-16595950156.919, total=   0.7s\n",
      "[CV] xgb__learning_rate=0.2, xgb__max_depth=7, xgb__min_child_weight=0, xgb__n_estimators=120, xgb__random_state=7777 \n",
      "[17:06:26] WARNING: src/objective/regression_obj.cu:152: reg:linear is now deprecated in favor of reg:squarederror.\n",
      "[CV]  xgb__learning_rate=0.2, xgb__max_depth=7, xgb__min_child_weight=0, xgb__n_estimators=120, xgb__random_state=7777, score=-7984158445.138, total=   0.7s\n",
      "[CV] xgb__learning_rate=0.2, xgb__max_depth=7, xgb__min_child_weight=0, xgb__n_estimators=140, xgb__random_state=7777 \n",
      "[17:06:27] WARNING: src/objective/regression_obj.cu:152: reg:linear is now deprecated in favor of reg:squarederror.\n",
      "[CV]  xgb__learning_rate=0.2, xgb__max_depth=7, xgb__min_child_weight=0, xgb__n_estimators=140, xgb__random_state=7777, score=-19818355106.732, total=   0.9s\n",
      "[CV] xgb__learning_rate=0.2, xgb__max_depth=7, xgb__min_child_weight=0, xgb__n_estimators=140, xgb__random_state=7777 \n",
      "[17:06:28] WARNING: src/objective/regression_obj.cu:152: reg:linear is now deprecated in favor of reg:squarederror.\n",
      "[CV]  xgb__learning_rate=0.2, xgb__max_depth=7, xgb__min_child_weight=0, xgb__n_estimators=140, xgb__random_state=7777, score=-16594779520.838, total=   1.1s\n",
      "[CV] xgb__learning_rate=0.2, xgb__max_depth=7, xgb__min_child_weight=0, xgb__n_estimators=140, xgb__random_state=7777 \n",
      "[17:06:29] WARNING: src/objective/regression_obj.cu:152: reg:linear is now deprecated in favor of reg:squarederror.\n",
      "[CV]  xgb__learning_rate=0.2, xgb__max_depth=7, xgb__min_child_weight=0, xgb__n_estimators=140, xgb__random_state=7777, score=-7980402935.652, total=   0.8s\n",
      "[CV] xgb__learning_rate=0.2, xgb__max_depth=7, xgb__min_child_weight=5, xgb__n_estimators=100, xgb__random_state=7777 \n",
      "[17:06:30] WARNING: src/objective/regression_obj.cu:152: reg:linear is now deprecated in favor of reg:squarederror.\n",
      "[CV]  xgb__learning_rate=0.2, xgb__max_depth=7, xgb__min_child_weight=5, xgb__n_estimators=100, xgb__random_state=7777, score=-19192803049.628, total=   0.6s\n",
      "[CV] xgb__learning_rate=0.2, xgb__max_depth=7, xgb__min_child_weight=5, xgb__n_estimators=100, xgb__random_state=7777 \n",
      "[17:06:30] WARNING: src/objective/regression_obj.cu:152: reg:linear is now deprecated in favor of reg:squarederror.\n",
      "[CV]  xgb__learning_rate=0.2, xgb__max_depth=7, xgb__min_child_weight=5, xgb__n_estimators=100, xgb__random_state=7777, score=-13579818705.582, total=   0.6s\n",
      "[CV] xgb__learning_rate=0.2, xgb__max_depth=7, xgb__min_child_weight=5, xgb__n_estimators=100, xgb__random_state=7777 \n",
      "[17:06:31] WARNING: src/objective/regression_obj.cu:152: reg:linear is now deprecated in favor of reg:squarederror.\n",
      "[CV]  xgb__learning_rate=0.2, xgb__max_depth=7, xgb__min_child_weight=5, xgb__n_estimators=100, xgb__random_state=7777, score=-9352732046.398, total=   0.9s\n",
      "[CV] xgb__learning_rate=0.2, xgb__max_depth=7, xgb__min_child_weight=5, xgb__n_estimators=120, xgb__random_state=7777 \n",
      "[17:06:32] WARNING: src/objective/regression_obj.cu:152: reg:linear is now deprecated in favor of reg:squarederror.\n",
      "[CV]  xgb__learning_rate=0.2, xgb__max_depth=7, xgb__min_child_weight=5, xgb__n_estimators=120, xgb__random_state=7777, score=-19203399577.352, total=   0.7s\n",
      "[CV] xgb__learning_rate=0.2, xgb__max_depth=7, xgb__min_child_weight=5, xgb__n_estimators=120, xgb__random_state=7777 \n",
      "[17:06:33] WARNING: src/objective/regression_obj.cu:152: reg:linear is now deprecated in favor of reg:squarederror.\n",
      "[CV]  xgb__learning_rate=0.2, xgb__max_depth=7, xgb__min_child_weight=5, xgb__n_estimators=120, xgb__random_state=7777, score=-13775679557.479, total=   0.7s\n",
      "[CV] xgb__learning_rate=0.2, xgb__max_depth=7, xgb__min_child_weight=5, xgb__n_estimators=120, xgb__random_state=7777 \n",
      "[17:06:33] WARNING: src/objective/regression_obj.cu:152: reg:linear is now deprecated in favor of reg:squarederror.\n",
      "[CV]  xgb__learning_rate=0.2, xgb__max_depth=7, xgb__min_child_weight=5, xgb__n_estimators=120, xgb__random_state=7777, score=-9417162598.792, total=   0.7s\n",
      "[CV] xgb__learning_rate=0.2, xgb__max_depth=7, xgb__min_child_weight=5, xgb__n_estimators=140, xgb__random_state=7777 \n",
      "[17:06:34] WARNING: src/objective/regression_obj.cu:152: reg:linear is now deprecated in favor of reg:squarederror.\n",
      "[CV]  xgb__learning_rate=0.2, xgb__max_depth=7, xgb__min_child_weight=5, xgb__n_estimators=140, xgb__random_state=7777, score=-19213583946.257, total=   0.8s\n",
      "[CV] xgb__learning_rate=0.2, xgb__max_depth=7, xgb__min_child_weight=5, xgb__n_estimators=140, xgb__random_state=7777 \n",
      "[17:06:35] WARNING: src/objective/regression_obj.cu:152: reg:linear is now deprecated in favor of reg:squarederror.\n",
      "[CV]  xgb__learning_rate=0.2, xgb__max_depth=7, xgb__min_child_weight=5, xgb__n_estimators=140, xgb__random_state=7777, score=-13780351439.923, total=   0.8s\n",
      "[CV] xgb__learning_rate=0.2, xgb__max_depth=7, xgb__min_child_weight=5, xgb__n_estimators=140, xgb__random_state=7777 \n",
      "[17:06:35] WARNING: src/objective/regression_obj.cu:152: reg:linear is now deprecated in favor of reg:squarederror.\n",
      "[CV]  xgb__learning_rate=0.2, xgb__max_depth=7, xgb__min_child_weight=5, xgb__n_estimators=140, xgb__random_state=7777, score=-9440277104.836, total=   0.8s\n",
      "[CV] xgb__learning_rate=0.2, xgb__max_depth=7, xgb__min_child_weight=15, xgb__n_estimators=100, xgb__random_state=7777 \n",
      "[17:06:36] WARNING: src/objective/regression_obj.cu:152: reg:linear is now deprecated in favor of reg:squarederror.\n",
      "[CV]  xgb__learning_rate=0.2, xgb__max_depth=7, xgb__min_child_weight=15, xgb__n_estimators=100, xgb__random_state=7777, score=-24152130398.365, total=   0.6s\n",
      "[CV] xgb__learning_rate=0.2, xgb__max_depth=7, xgb__min_child_weight=15, xgb__n_estimators=100, xgb__random_state=7777 \n",
      "[17:06:37] WARNING: src/objective/regression_obj.cu:152: reg:linear is now deprecated in favor of reg:squarederror.\n",
      "[CV]  xgb__learning_rate=0.2, xgb__max_depth=7, xgb__min_child_weight=15, xgb__n_estimators=100, xgb__random_state=7777, score=-14414901785.638, total=   0.6s\n",
      "[CV] xgb__learning_rate=0.2, xgb__max_depth=7, xgb__min_child_weight=15, xgb__n_estimators=100, xgb__random_state=7777 \n",
      "[17:06:37] WARNING: src/objective/regression_obj.cu:152: reg:linear is now deprecated in favor of reg:squarederror.\n",
      "[CV]  xgb__learning_rate=0.2, xgb__max_depth=7, xgb__min_child_weight=15, xgb__n_estimators=100, xgb__random_state=7777, score=-8047668507.383, total=   0.6s\n",
      "[CV] xgb__learning_rate=0.2, xgb__max_depth=7, xgb__min_child_weight=15, xgb__n_estimators=120, xgb__random_state=7777 \n",
      "[17:06:38] WARNING: src/objective/regression_obj.cu:152: reg:linear is now deprecated in favor of reg:squarederror.\n",
      "[CV]  xgb__learning_rate=0.2, xgb__max_depth=7, xgb__min_child_weight=15, xgb__n_estimators=120, xgb__random_state=7777, score=-23404562498.363, total=   0.7s\n",
      "[CV] xgb__learning_rate=0.2, xgb__max_depth=7, xgb__min_child_weight=15, xgb__n_estimators=120, xgb__random_state=7777 \n",
      "[17:06:39] WARNING: src/objective/regression_obj.cu:152: reg:linear is now deprecated in favor of reg:squarederror.\n",
      "[CV]  xgb__learning_rate=0.2, xgb__max_depth=7, xgb__min_child_weight=15, xgb__n_estimators=120, xgb__random_state=7777, score=-14093346668.068, total=   0.7s\n",
      "[CV] xgb__learning_rate=0.2, xgb__max_depth=7, xgb__min_child_weight=15, xgb__n_estimators=120, xgb__random_state=7777 \n",
      "[17:06:39] WARNING: src/objective/regression_obj.cu:152: reg:linear is now deprecated in favor of reg:squarederror.\n",
      "[CV]  xgb__learning_rate=0.2, xgb__max_depth=7, xgb__min_child_weight=15, xgb__n_estimators=120, xgb__random_state=7777, score=-7977711484.598, total=   0.8s\n",
      "[CV] xgb__learning_rate=0.2, xgb__max_depth=7, xgb__min_child_weight=15, xgb__n_estimators=140, xgb__random_state=7777 \n",
      "[17:06:40] WARNING: src/objective/regression_obj.cu:152: reg:linear is now deprecated in favor of reg:squarederror.\n",
      "[CV]  xgb__learning_rate=0.2, xgb__max_depth=7, xgb__min_child_weight=15, xgb__n_estimators=140, xgb__random_state=7777, score=-23070244541.633, total=   0.7s\n",
      "[CV] xgb__learning_rate=0.2, xgb__max_depth=7, xgb__min_child_weight=15, xgb__n_estimators=140, xgb__random_state=7777 \n",
      "[17:06:41] WARNING: src/objective/regression_obj.cu:152: reg:linear is now deprecated in favor of reg:squarederror.\n",
      "[CV]  xgb__learning_rate=0.2, xgb__max_depth=7, xgb__min_child_weight=15, xgb__n_estimators=140, xgb__random_state=7777, score=-13975748687.599, total=   0.7s\n",
      "[CV] xgb__learning_rate=0.2, xgb__max_depth=7, xgb__min_child_weight=15, xgb__n_estimators=140, xgb__random_state=7777 \n",
      "[17:06:42] WARNING: src/objective/regression_obj.cu:152: reg:linear is now deprecated in favor of reg:squarederror.\n",
      "[CV]  xgb__learning_rate=0.2, xgb__max_depth=7, xgb__min_child_weight=15, xgb__n_estimators=140, xgb__random_state=7777, score=-7875041585.510, total=   0.8s\n",
      "[CV] xgb__learning_rate=0.2, xgb__max_depth=8, xgb__min_child_weight=0, xgb__n_estimators=100, xgb__random_state=7777 \n",
      "[17:06:42] WARNING: src/objective/regression_obj.cu:152: reg:linear is now deprecated in favor of reg:squarederror.\n",
      "[CV]  xgb__learning_rate=0.2, xgb__max_depth=8, xgb__min_child_weight=0, xgb__n_estimators=100, xgb__random_state=7777, score=-21902123090.857, total=   0.6s\n",
      "[CV] xgb__learning_rate=0.2, xgb__max_depth=8, xgb__min_child_weight=0, xgb__n_estimators=100, xgb__random_state=7777 \n",
      "[17:06:43] WARNING: src/objective/regression_obj.cu:152: reg:linear is now deprecated in favor of reg:squarederror.\n",
      "[CV]  xgb__learning_rate=0.2, xgb__max_depth=8, xgb__min_child_weight=0, xgb__n_estimators=100, xgb__random_state=7777, score=-16110846740.899, total=   0.6s\n",
      "[CV] xgb__learning_rate=0.2, xgb__max_depth=8, xgb__min_child_weight=0, xgb__n_estimators=100, xgb__random_state=7777 \n",
      "[17:06:44] WARNING: src/objective/regression_obj.cu:152: reg:linear is now deprecated in favor of reg:squarederror.\n",
      "[CV]  xgb__learning_rate=0.2, xgb__max_depth=8, xgb__min_child_weight=0, xgb__n_estimators=100, xgb__random_state=7777, score=-8676906591.220, total=   0.7s\n",
      "[CV] xgb__learning_rate=0.2, xgb__max_depth=8, xgb__min_child_weight=0, xgb__n_estimators=120, xgb__random_state=7777 \n",
      "[17:06:44] WARNING: src/objective/regression_obj.cu:152: reg:linear is now deprecated in favor of reg:squarederror.\n",
      "[CV]  xgb__learning_rate=0.2, xgb__max_depth=8, xgb__min_child_weight=0, xgb__n_estimators=120, xgb__random_state=7777, score=-21896477818.156, total=   0.8s\n",
      "[CV] xgb__learning_rate=0.2, xgb__max_depth=8, xgb__min_child_weight=0, xgb__n_estimators=120, xgb__random_state=7777 \n",
      "[17:06:45] WARNING: src/objective/regression_obj.cu:152: reg:linear is now deprecated in favor of reg:squarederror.\n",
      "[CV]  xgb__learning_rate=0.2, xgb__max_depth=8, xgb__min_child_weight=0, xgb__n_estimators=120, xgb__random_state=7777, score=-16098614564.203, total=   0.8s\n",
      "[CV] xgb__learning_rate=0.2, xgb__max_depth=8, xgb__min_child_weight=0, xgb__n_estimators=120, xgb__random_state=7777 \n",
      "[17:06:46] WARNING: src/objective/regression_obj.cu:152: reg:linear is now deprecated in favor of reg:squarederror.\n",
      "[CV]  xgb__learning_rate=0.2, xgb__max_depth=8, xgb__min_child_weight=0, xgb__n_estimators=120, xgb__random_state=7777, score=-8676303186.644, total=   0.8s\n",
      "[CV] xgb__learning_rate=0.2, xgb__max_depth=8, xgb__min_child_weight=0, xgb__n_estimators=140, xgb__random_state=7777 \n",
      "[17:06:47] WARNING: src/objective/regression_obj.cu:152: reg:linear is now deprecated in favor of reg:squarederror.\n",
      "[CV]  xgb__learning_rate=0.2, xgb__max_depth=8, xgb__min_child_weight=0, xgb__n_estimators=140, xgb__random_state=7777, score=-21896942400.286, total=   0.9s\n",
      "[CV] xgb__learning_rate=0.2, xgb__max_depth=8, xgb__min_child_weight=0, xgb__n_estimators=140, xgb__random_state=7777 \n",
      "[17:06:48] WARNING: src/objective/regression_obj.cu:152: reg:linear is now deprecated in favor of reg:squarederror.\n",
      "[CV]  xgb__learning_rate=0.2, xgb__max_depth=8, xgb__min_child_weight=0, xgb__n_estimators=140, xgb__random_state=7777, score=-16095554729.859, total=   0.9s\n",
      "[CV] xgb__learning_rate=0.2, xgb__max_depth=8, xgb__min_child_weight=0, xgb__n_estimators=140, xgb__random_state=7777 \n",
      "[17:06:48] WARNING: src/objective/regression_obj.cu:152: reg:linear is now deprecated in favor of reg:squarederror.\n",
      "[CV]  xgb__learning_rate=0.2, xgb__max_depth=8, xgb__min_child_weight=0, xgb__n_estimators=140, xgb__random_state=7777, score=-8676340941.533, total=   0.9s\n",
      "[CV] xgb__learning_rate=0.2, xgb__max_depth=8, xgb__min_child_weight=5, xgb__n_estimators=100, xgb__random_state=7777 \n",
      "[17:06:49] WARNING: src/objective/regression_obj.cu:152: reg:linear is now deprecated in favor of reg:squarederror.\n",
      "[CV]  xgb__learning_rate=0.2, xgb__max_depth=8, xgb__min_child_weight=5, xgb__n_estimators=100, xgb__random_state=7777, score=-20481032026.681, total=   0.6s\n",
      "[CV] xgb__learning_rate=0.2, xgb__max_depth=8, xgb__min_child_weight=5, xgb__n_estimators=100, xgb__random_state=7777 \n",
      "[17:06:50] WARNING: src/objective/regression_obj.cu:152: reg:linear is now deprecated in favor of reg:squarederror.\n",
      "[CV]  xgb__learning_rate=0.2, xgb__max_depth=8, xgb__min_child_weight=5, xgb__n_estimators=100, xgb__random_state=7777, score=-14186580832.975, total=   0.6s\n",
      "[CV] xgb__learning_rate=0.2, xgb__max_depth=8, xgb__min_child_weight=5, xgb__n_estimators=100, xgb__random_state=7777 \n",
      "[17:06:51] WARNING: src/objective/regression_obj.cu:152: reg:linear is now deprecated in favor of reg:squarederror.\n",
      "[CV]  xgb__learning_rate=0.2, xgb__max_depth=8, xgb__min_child_weight=5, xgb__n_estimators=100, xgb__random_state=7777, score=-9490702761.411, total=   0.6s\n",
      "[CV] xgb__learning_rate=0.2, xgb__max_depth=8, xgb__min_child_weight=5, xgb__n_estimators=120, xgb__random_state=7777 \n",
      "[17:06:51] WARNING: src/objective/regression_obj.cu:152: reg:linear is now deprecated in favor of reg:squarederror.\n",
      "[CV]  xgb__learning_rate=0.2, xgb__max_depth=8, xgb__min_child_weight=5, xgb__n_estimators=120, xgb__random_state=7777, score=-20538772100.925, total=   0.7s\n",
      "[CV] xgb__learning_rate=0.2, xgb__max_depth=8, xgb__min_child_weight=5, xgb__n_estimators=120, xgb__random_state=7777 \n",
      "[17:06:52] WARNING: src/objective/regression_obj.cu:152: reg:linear is now deprecated in favor of reg:squarederror.\n",
      "[CV]  xgb__learning_rate=0.2, xgb__max_depth=8, xgb__min_child_weight=5, xgb__n_estimators=120, xgb__random_state=7777, score=-14228125023.217, total=   0.7s\n",
      "[CV] xgb__learning_rate=0.2, xgb__max_depth=8, xgb__min_child_weight=5, xgb__n_estimators=120, xgb__random_state=7777 \n",
      "[17:06:53] WARNING: src/objective/regression_obj.cu:152: reg:linear is now deprecated in favor of reg:squarederror.\n",
      "[CV]  xgb__learning_rate=0.2, xgb__max_depth=8, xgb__min_child_weight=5, xgb__n_estimators=120, xgb__random_state=7777, score=-9561995715.357, total=   0.7s\n",
      "[CV] xgb__learning_rate=0.2, xgb__max_depth=8, xgb__min_child_weight=5, xgb__n_estimators=140, xgb__random_state=7777 \n",
      "[17:06:53] WARNING: src/objective/regression_obj.cu:152: reg:linear is now deprecated in favor of reg:squarederror.\n",
      "[CV]  xgb__learning_rate=0.2, xgb__max_depth=8, xgb__min_child_weight=5, xgb__n_estimators=140, xgb__random_state=7777, score=-20596359826.323, total=   0.8s\n",
      "[CV] xgb__learning_rate=0.2, xgb__max_depth=8, xgb__min_child_weight=5, xgb__n_estimators=140, xgb__random_state=7777 \n",
      "[17:06:54] WARNING: src/objective/regression_obj.cu:152: reg:linear is now deprecated in favor of reg:squarederror.\n",
      "[CV]  xgb__learning_rate=0.2, xgb__max_depth=8, xgb__min_child_weight=5, xgb__n_estimators=140, xgb__random_state=7777, score=-14281772376.415, total=   0.8s\n",
      "[CV] xgb__learning_rate=0.2, xgb__max_depth=8, xgb__min_child_weight=5, xgb__n_estimators=140, xgb__random_state=7777 \n",
      "[17:06:55] WARNING: src/objective/regression_obj.cu:152: reg:linear is now deprecated in favor of reg:squarederror.\n",
      "[CV]  xgb__learning_rate=0.2, xgb__max_depth=8, xgb__min_child_weight=5, xgb__n_estimators=140, xgb__random_state=7777, score=-9543826868.356, total=   0.8s\n",
      "[CV] xgb__learning_rate=0.2, xgb__max_depth=8, xgb__min_child_weight=15, xgb__n_estimators=100, xgb__random_state=7777 \n",
      "[17:06:56] WARNING: src/objective/regression_obj.cu:152: reg:linear is now deprecated in favor of reg:squarederror.\n",
      "[CV]  xgb__learning_rate=0.2, xgb__max_depth=8, xgb__min_child_weight=15, xgb__n_estimators=100, xgb__random_state=7777, score=-22720931295.604, total=   0.6s\n",
      "[CV] xgb__learning_rate=0.2, xgb__max_depth=8, xgb__min_child_weight=15, xgb__n_estimators=100, xgb__random_state=7777 \n",
      "[17:06:57] WARNING: src/objective/regression_obj.cu:152: reg:linear is now deprecated in favor of reg:squarederror.\n",
      "[CV]  xgb__learning_rate=0.2, xgb__max_depth=8, xgb__min_child_weight=15, xgb__n_estimators=100, xgb__random_state=7777, score=-13142834053.392, total=   0.6s\n",
      "[CV] xgb__learning_rate=0.2, xgb__max_depth=8, xgb__min_child_weight=15, xgb__n_estimators=100, xgb__random_state=7777 \n",
      "[17:06:57] WARNING: src/objective/regression_obj.cu:152: reg:linear is now deprecated in favor of reg:squarederror.\n",
      "[CV]  xgb__learning_rate=0.2, xgb__max_depth=8, xgb__min_child_weight=15, xgb__n_estimators=100, xgb__random_state=7777, score=-8168836376.754, total=   0.6s\n",
      "[CV] xgb__learning_rate=0.2, xgb__max_depth=8, xgb__min_child_weight=15, xgb__n_estimators=120, xgb__random_state=7777 \n",
      "[17:06:58] WARNING: src/objective/regression_obj.cu:152: reg:linear is now deprecated in favor of reg:squarederror.\n",
      "[CV]  xgb__learning_rate=0.2, xgb__max_depth=8, xgb__min_child_weight=15, xgb__n_estimators=120, xgb__random_state=7777, score=-22332176930.582, total=   0.7s\n",
      "[CV] xgb__learning_rate=0.2, xgb__max_depth=8, xgb__min_child_weight=15, xgb__n_estimators=120, xgb__random_state=7777 \n",
      "[17:06:58] WARNING: src/objective/regression_obj.cu:152: reg:linear is now deprecated in favor of reg:squarederror.\n",
      "[CV]  xgb__learning_rate=0.2, xgb__max_depth=8, xgb__min_child_weight=15, xgb__n_estimators=120, xgb__random_state=7777, score=-13073887642.880, total=   0.7s\n",
      "[CV] xgb__learning_rate=0.2, xgb__max_depth=8, xgb__min_child_weight=15, xgb__n_estimators=120, xgb__random_state=7777 \n",
      "[17:06:59] WARNING: src/objective/regression_obj.cu:152: reg:linear is now deprecated in favor of reg:squarederror.\n",
      "[CV]  xgb__learning_rate=0.2, xgb__max_depth=8, xgb__min_child_weight=15, xgb__n_estimators=120, xgb__random_state=7777, score=-8006409836.486, total=   0.7s\n",
      "[CV] xgb__learning_rate=0.2, xgb__max_depth=8, xgb__min_child_weight=15, xgb__n_estimators=140, xgb__random_state=7777 \n",
      "[17:07:00] WARNING: src/objective/regression_obj.cu:152: reg:linear is now deprecated in favor of reg:squarederror.\n",
      "[CV]  xgb__learning_rate=0.2, xgb__max_depth=8, xgb__min_child_weight=15, xgb__n_estimators=140, xgb__random_state=7777, score=-22162733255.018, total=   0.8s\n",
      "[CV] xgb__learning_rate=0.2, xgb__max_depth=8, xgb__min_child_weight=15, xgb__n_estimators=140, xgb__random_state=7777 \n",
      "[17:07:01] WARNING: src/objective/regression_obj.cu:152: reg:linear is now deprecated in favor of reg:squarederror.\n",
      "[CV]  xgb__learning_rate=0.2, xgb__max_depth=8, xgb__min_child_weight=15, xgb__n_estimators=140, xgb__random_state=7777, score=-13331187963.696, total=   0.8s\n",
      "[CV] xgb__learning_rate=0.2, xgb__max_depth=8, xgb__min_child_weight=15, xgb__n_estimators=140, xgb__random_state=7777 \n",
      "[17:07:02] WARNING: src/objective/regression_obj.cu:152: reg:linear is now deprecated in favor of reg:squarederror.\n",
      "[CV]  xgb__learning_rate=0.2, xgb__max_depth=8, xgb__min_child_weight=15, xgb__n_estimators=140, xgb__random_state=7777, score=-7766296761.579, total=   0.9s\n",
      "[CV] xgb__learning_rate=0.2, xgb__max_depth=9, xgb__min_child_weight=0, xgb__n_estimators=100, xgb__random_state=7777 \n",
      "[17:07:02] WARNING: src/objective/regression_obj.cu:152: reg:linear is now deprecated in favor of reg:squarederror.\n",
      "[CV]  xgb__learning_rate=0.2, xgb__max_depth=9, xgb__min_child_weight=0, xgb__n_estimators=100, xgb__random_state=7777, score=-21938329632.513, total=   0.7s\n",
      "[CV] xgb__learning_rate=0.2, xgb__max_depth=9, xgb__min_child_weight=0, xgb__n_estimators=100, xgb__random_state=7777 \n",
      "[17:07:03] WARNING: src/objective/regression_obj.cu:152: reg:linear is now deprecated in favor of reg:squarederror.\n",
      "[CV]  xgb__learning_rate=0.2, xgb__max_depth=9, xgb__min_child_weight=0, xgb__n_estimators=100, xgb__random_state=7777, score=-19025448493.862, total=   0.7s\n",
      "[CV] xgb__learning_rate=0.2, xgb__max_depth=9, xgb__min_child_weight=0, xgb__n_estimators=100, xgb__random_state=7777 \n",
      "[17:07:04] WARNING: src/objective/regression_obj.cu:152: reg:linear is now deprecated in favor of reg:squarederror.\n",
      "[CV]  xgb__learning_rate=0.2, xgb__max_depth=9, xgb__min_child_weight=0, xgb__n_estimators=100, xgb__random_state=7777, score=-8774538596.680, total=   0.7s\n",
      "[CV] xgb__learning_rate=0.2, xgb__max_depth=9, xgb__min_child_weight=0, xgb__n_estimators=120, xgb__random_state=7777 \n",
      "[17:07:05] WARNING: src/objective/regression_obj.cu:152: reg:linear is now deprecated in favor of reg:squarederror.\n",
      "[CV]  xgb__learning_rate=0.2, xgb__max_depth=9, xgb__min_child_weight=0, xgb__n_estimators=120, xgb__random_state=7777, score=-21937700840.974, total=   0.8s\n",
      "[CV] xgb__learning_rate=0.2, xgb__max_depth=9, xgb__min_child_weight=0, xgb__n_estimators=120, xgb__random_state=7777 \n",
      "[17:07:05] WARNING: src/objective/regression_obj.cu:152: reg:linear is now deprecated in favor of reg:squarederror.\n",
      "[CV]  xgb__learning_rate=0.2, xgb__max_depth=9, xgb__min_child_weight=0, xgb__n_estimators=120, xgb__random_state=7777, score=-19025353827.361, total=   0.8s\n",
      "[CV] xgb__learning_rate=0.2, xgb__max_depth=9, xgb__min_child_weight=0, xgb__n_estimators=120, xgb__random_state=7777 \n",
      "[17:07:06] WARNING: src/objective/regression_obj.cu:152: reg:linear is now deprecated in favor of reg:squarederror.\n",
      "[CV]  xgb__learning_rate=0.2, xgb__max_depth=9, xgb__min_child_weight=0, xgb__n_estimators=120, xgb__random_state=7777, score=-8773622892.991, total=   0.8s\n",
      "[CV] xgb__learning_rate=0.2, xgb__max_depth=9, xgb__min_child_weight=0, xgb__n_estimators=140, xgb__random_state=7777 \n",
      "[17:07:07] WARNING: src/objective/regression_obj.cu:152: reg:linear is now deprecated in favor of reg:squarederror.\n",
      "[CV]  xgb__learning_rate=0.2, xgb__max_depth=9, xgb__min_child_weight=0, xgb__n_estimators=140, xgb__random_state=7777, score=-21937160100.412, total=   0.9s\n",
      "[CV] xgb__learning_rate=0.2, xgb__max_depth=9, xgb__min_child_weight=0, xgb__n_estimators=140, xgb__random_state=7777 \n",
      "[17:07:08] WARNING: src/objective/regression_obj.cu:152: reg:linear is now deprecated in favor of reg:squarederror.\n",
      "[CV]  xgb__learning_rate=0.2, xgb__max_depth=9, xgb__min_child_weight=0, xgb__n_estimators=140, xgb__random_state=7777, score=-19024529052.899, total=   0.9s\n",
      "[CV] xgb__learning_rate=0.2, xgb__max_depth=9, xgb__min_child_weight=0, xgb__n_estimators=140, xgb__random_state=7777 \n",
      "[17:07:09] WARNING: src/objective/regression_obj.cu:152: reg:linear is now deprecated in favor of reg:squarederror.\n",
      "[CV]  xgb__learning_rate=0.2, xgb__max_depth=9, xgb__min_child_weight=0, xgb__n_estimators=140, xgb__random_state=7777, score=-8773222549.761, total=   1.0s\n",
      "[CV] xgb__learning_rate=0.2, xgb__max_depth=9, xgb__min_child_weight=5, xgb__n_estimators=100, xgb__random_state=7777 \n",
      "[17:07:10] WARNING: src/objective/regression_obj.cu:152: reg:linear is now deprecated in favor of reg:squarederror.\n",
      "[CV]  xgb__learning_rate=0.2, xgb__max_depth=9, xgb__min_child_weight=5, xgb__n_estimators=100, xgb__random_state=7777, score=-21279926021.764, total=   0.7s\n",
      "[CV] xgb__learning_rate=0.2, xgb__max_depth=9, xgb__min_child_weight=5, xgb__n_estimators=100, xgb__random_state=7777 \n",
      "[17:07:11] WARNING: src/objective/regression_obj.cu:152: reg:linear is now deprecated in favor of reg:squarederror.\n",
      "[CV]  xgb__learning_rate=0.2, xgb__max_depth=9, xgb__min_child_weight=5, xgb__n_estimators=100, xgb__random_state=7777, score=-14738841984.418, total=   0.8s\n",
      "[CV] xgb__learning_rate=0.2, xgb__max_depth=9, xgb__min_child_weight=5, xgb__n_estimators=100, xgb__random_state=7777 \n",
      "[17:07:11] WARNING: src/objective/regression_obj.cu:152: reg:linear is now deprecated in favor of reg:squarederror.\n",
      "[CV]  xgb__learning_rate=0.2, xgb__max_depth=9, xgb__min_child_weight=5, xgb__n_estimators=100, xgb__random_state=7777, score=-10446313225.131, total=   0.8s\n",
      "[CV] xgb__learning_rate=0.2, xgb__max_depth=9, xgb__min_child_weight=5, xgb__n_estimators=120, xgb__random_state=7777 \n",
      "[17:07:12] WARNING: src/objective/regression_obj.cu:152: reg:linear is now deprecated in favor of reg:squarederror.\n",
      "[CV]  xgb__learning_rate=0.2, xgb__max_depth=9, xgb__min_child_weight=5, xgb__n_estimators=120, xgb__random_state=7777, score=-21387219624.668, total=   0.8s\n",
      "[CV] xgb__learning_rate=0.2, xgb__max_depth=9, xgb__min_child_weight=5, xgb__n_estimators=120, xgb__random_state=7777 \n",
      "[17:07:13] WARNING: src/objective/regression_obj.cu:152: reg:linear is now deprecated in favor of reg:squarederror.\n",
      "[CV]  xgb__learning_rate=0.2, xgb__max_depth=9, xgb__min_child_weight=5, xgb__n_estimators=120, xgb__random_state=7777, score=-14823789822.664, total=   0.8s\n",
      "[CV] xgb__learning_rate=0.2, xgb__max_depth=9, xgb__min_child_weight=5, xgb__n_estimators=120, xgb__random_state=7777 \n",
      "[17:07:14] WARNING: src/objective/regression_obj.cu:152: reg:linear is now deprecated in favor of reg:squarederror.\n",
      "[CV]  xgb__learning_rate=0.2, xgb__max_depth=9, xgb__min_child_weight=5, xgb__n_estimators=120, xgb__random_state=7777, score=-10413870354.337, total=   0.8s\n",
      "[CV] xgb__learning_rate=0.2, xgb__max_depth=9, xgb__min_child_weight=5, xgb__n_estimators=140, xgb__random_state=7777 \n",
      "[17:07:15] WARNING: src/objective/regression_obj.cu:152: reg:linear is now deprecated in favor of reg:squarederror.\n",
      "[CV]  xgb__learning_rate=0.2, xgb__max_depth=9, xgb__min_child_weight=5, xgb__n_estimators=140, xgb__random_state=7777, score=-21408651922.927, total=   0.9s\n",
      "[CV] xgb__learning_rate=0.2, xgb__max_depth=9, xgb__min_child_weight=5, xgb__n_estimators=140, xgb__random_state=7777 \n",
      "[17:07:15] WARNING: src/objective/regression_obj.cu:152: reg:linear is now deprecated in favor of reg:squarederror.\n",
      "[CV]  xgb__learning_rate=0.2, xgb__max_depth=9, xgb__min_child_weight=5, xgb__n_estimators=140, xgb__random_state=7777, score=-14791107244.729, total=   0.9s\n",
      "[CV] xgb__learning_rate=0.2, xgb__max_depth=9, xgb__min_child_weight=5, xgb__n_estimators=140, xgb__random_state=7777 \n",
      "[17:07:16] WARNING: src/objective/regression_obj.cu:152: reg:linear is now deprecated in favor of reg:squarederror.\n",
      "[CV]  xgb__learning_rate=0.2, xgb__max_depth=9, xgb__min_child_weight=5, xgb__n_estimators=140, xgb__random_state=7777, score=-10417976879.897, total=   0.9s\n",
      "[CV] xgb__learning_rate=0.2, xgb__max_depth=9, xgb__min_child_weight=15, xgb__n_estimators=100, xgb__random_state=7777 \n",
      "[17:07:17] WARNING: src/objective/regression_obj.cu:152: reg:linear is now deprecated in favor of reg:squarederror.\n",
      "[CV]  xgb__learning_rate=0.2, xgb__max_depth=9, xgb__min_child_weight=15, xgb__n_estimators=100, xgb__random_state=7777, score=-24167301551.201, total=   0.7s\n",
      "[CV] xgb__learning_rate=0.2, xgb__max_depth=9, xgb__min_child_weight=15, xgb__n_estimators=100, xgb__random_state=7777 \n",
      "[17:07:18] WARNING: src/objective/regression_obj.cu:152: reg:linear is now deprecated in favor of reg:squarederror.\n",
      "[CV]  xgb__learning_rate=0.2, xgb__max_depth=9, xgb__min_child_weight=15, xgb__n_estimators=100, xgb__random_state=7777, score=-13731881333.384, total=   0.7s\n",
      "[CV] xgb__learning_rate=0.2, xgb__max_depth=9, xgb__min_child_weight=15, xgb__n_estimators=100, xgb__random_state=7777 \n",
      "[17:07:19] WARNING: src/objective/regression_obj.cu:152: reg:linear is now deprecated in favor of reg:squarederror.\n",
      "[CV]  xgb__learning_rate=0.2, xgb__max_depth=9, xgb__min_child_weight=15, xgb__n_estimators=100, xgb__random_state=7777, score=-7793557738.406, total=   0.7s\n",
      "[CV] xgb__learning_rate=0.2, xgb__max_depth=9, xgb__min_child_weight=15, xgb__n_estimators=120, xgb__random_state=7777 \n",
      "[17:07:19] WARNING: src/objective/regression_obj.cu:152: reg:linear is now deprecated in favor of reg:squarederror.\n",
      "[CV]  xgb__learning_rate=0.2, xgb__max_depth=9, xgb__min_child_weight=15, xgb__n_estimators=120, xgb__random_state=7777, score=-23898587874.679, total=   0.8s\n",
      "[CV] xgb__learning_rate=0.2, xgb__max_depth=9, xgb__min_child_weight=15, xgb__n_estimators=120, xgb__random_state=7777 \n",
      "[17:07:20] WARNING: src/objective/regression_obj.cu:152: reg:linear is now deprecated in favor of reg:squarederror.\n",
      "[CV]  xgb__learning_rate=0.2, xgb__max_depth=9, xgb__min_child_weight=15, xgb__n_estimators=120, xgb__random_state=7777, score=-13648338887.465, total=   0.8s\n",
      "[CV] xgb__learning_rate=0.2, xgb__max_depth=9, xgb__min_child_weight=15, xgb__n_estimators=120, xgb__random_state=7777 \n",
      "[17:07:21] WARNING: src/objective/regression_obj.cu:152: reg:linear is now deprecated in favor of reg:squarederror.\n",
      "[CV]  xgb__learning_rate=0.2, xgb__max_depth=9, xgb__min_child_weight=15, xgb__n_estimators=120, xgb__random_state=7777, score=-7607453238.927, total=   0.8s\n",
      "[CV] xgb__learning_rate=0.2, xgb__max_depth=9, xgb__min_child_weight=15, xgb__n_estimators=140, xgb__random_state=7777 \n",
      "[17:07:21] WARNING: src/objective/regression_obj.cu:152: reg:linear is now deprecated in favor of reg:squarederror.\n",
      "[CV]  xgb__learning_rate=0.2, xgb__max_depth=9, xgb__min_child_weight=15, xgb__n_estimators=140, xgb__random_state=7777, score=-23636580627.569, total=   0.9s\n",
      "[CV] xgb__learning_rate=0.2, xgb__max_depth=9, xgb__min_child_weight=15, xgb__n_estimators=140, xgb__random_state=7777 \n",
      "[17:07:22] WARNING: src/objective/regression_obj.cu:152: reg:linear is now deprecated in favor of reg:squarederror.\n",
      "[CV]  xgb__learning_rate=0.2, xgb__max_depth=9, xgb__min_child_weight=15, xgb__n_estimators=140, xgb__random_state=7777, score=-13314021094.416, total=   0.9s\n",
      "[CV] xgb__learning_rate=0.2, xgb__max_depth=9, xgb__min_child_weight=15, xgb__n_estimators=140, xgb__random_state=7777 \n",
      "[17:07:23] WARNING: src/objective/regression_obj.cu:152: reg:linear is now deprecated in favor of reg:squarederror.\n",
      "[CV]  xgb__learning_rate=0.2, xgb__max_depth=9, xgb__min_child_weight=15, xgb__n_estimators=140, xgb__random_state=7777, score=-7520749179.250, total=   0.9s\n",
      "[17:07:24] WARNING: src/objective/regression_obj.cu:152: reg:linear is now deprecated in favor of reg:squarederror.\n"
     ]
    },
    {
     "name": "stderr",
     "output_type": "stream",
     "text": [
      "[Parallel(n_jobs=1)]: Done 162 out of 162 | elapsed:  2.2min finished\n"
     ]
    },
    {
     "data": {
      "text/plain": [
       "GridSearchCV(cv=3, error_score='raise-deprecating',\n",
       "             estimator=Pipeline(memory=None,\n",
       "                                steps=[('drop_id',\n",
       "                                        <my_class.drop_id object at 0x134b3b690>),\n",
       "                                       ('parse_area',\n",
       "                                        <my_class.parse_area_size object at 0x136792550>),\n",
       "                                       ('parse_room',\n",
       "                                        <my_class.parse_rooms object at 0x136792a50>),\n",
       "                                       ('parse_old',\n",
       "                                        <my_class.parse_how_old object at 0x136792990>),\n",
       "                                       ('str_label',\n",
       "                                        <my_class.structure_lab...\n",
       "                                                     seed=None, silent=None,\n",
       "                                                     subsample=1,\n",
       "                                                     verbosity=1))],\n",
       "                                verbose=False),\n",
       "             iid='warn', n_jobs=None,\n",
       "             param_grid={'xgb__learning_rate': [0.1, 0.2],\n",
       "                         'xgb__max_depth': [7, 8, 9],\n",
       "                         'xgb__min_child_weight': [0, 5, 15],\n",
       "                         'xgb__n_estimators': [100, 120, 140],\n",
       "                         'xgb__random_state': [7777]},\n",
       "             pre_dispatch='2*n_jobs', refit=True, return_train_score=False,\n",
       "             scoring='neg_mean_squared_error', verbose=3)"
      ]
     },
     "execution_count": 59,
     "metadata": {},
     "output_type": "execute_result"
    }
   ],
   "source": [
    "grid_params2={\n",
    "    \"xgb__n_estimators\":[100,120,140],\n",
    "    \"xgb__max_depth\":[7,8,9],\n",
    "    \"xgb__min_child_weight\":[0,5,15],\n",
    "    \"xgb__learning_rate\":[0.1,0.2],\n",
    "    \"xgb__random_state\":[7777]\n",
    "}\n",
    "GCV2 = GridSearchCV(\n",
    "    Pipeline(steps=rich_step),\n",
    "    grid_params2,\n",
    "    cv = 3,\n",
    "    scoring=\"neg_mean_squared_error\",\n",
    "    verbose=3\n",
    ")\n",
    "GCV2.fit(temp_x_rich,temp_y_rich)"
   ]
  },
  {
   "cell_type": "code",
   "execution_count": 810,
   "metadata": {},
   "outputs": [
    {
     "name": "stdout",
     "output_type": "stream",
     "text": [
      "650000.0\n",
      "301848.99189789325\n"
     ]
    }
   ],
   "source": [
    "crazy_pred = crazy[\"賃料\"].median()\n",
    "print(crazy_pred)\n",
    "pred = pd.DataFrame([crazy_pred for i in range(len(crazy.index))])\n",
    "print(np.sqrt(mean_squared_error(crazy[\"賃料\"],pred)))"
   ]
  },
  {
   "cell_type": "code",
   "execution_count": null,
   "metadata": {},
   "outputs": [],
   "source": []
  }
 ],
 "metadata": {
  "kernelspec": {
   "display_name": "Python 3",
   "language": "python",
   "name": "python3"
  },
  "language_info": {
   "codemirror_mode": {
    "name": "ipython",
    "version": 3
   },
   "file_extension": ".py",
   "mimetype": "text/x-python",
   "name": "python",
   "nbconvert_exporter": "python",
   "pygments_lexer": "ipython3",
   "version": "3.7.4"
  }
 },
 "nbformat": 4,
 "nbformat_minor": 4
}
