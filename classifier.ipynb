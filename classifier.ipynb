{
 "cells": [
  {
   "cell_type": "code",
   "execution_count": 22,
   "metadata": {},
   "outputs": [],
   "source": [
    "import sys\n",
    "sys.path.append(\"./\")\n",
    "from basic_feature import *\n",
    "from sklearn.preprocessing import OneHotEncoder,LabelEncoder\n",
    "from sklearn.pipeline import Pipeline\n",
    "from xgboost import XGBRegressor\n",
    "from sklearn.ensemble import RandomForestRegressor\n",
    "from sklearn.ensemble import RandomForestClassifier\n",
    "from sklearn.linear_model import LogisticRegression\n",
    "from sklearn.linear_model import Lo\n",
    "from sklearn.metrics import accuracy_score\n",
    "from sklearn.metrics import mean_absolute_error"
   ]
  },
  {
   "cell_type": "code",
   "execution_count": 23,
   "metadata": {},
   "outputs": [],
   "source": [
    "train = pd.read_csv(\"./train.csv\")\n",
    "train = train.dropna(subset=[\"賃料\"])\n",
    "train = train.drop(2092６)\n",
    "temp = train[\"賃料\"].values\n",
    "threshold = 200000\n",
    "is_rich_label = [0 for i in range(len(temp))]\n",
    "for i in range(len(temp)):\n",
    "    if temp[i] > threshold:\n",
    "        is_rich_label[i] = 1\n",
    "class_train = train.drop(\"賃料\",axis = 1)\n",
    "class_train = class_train.assign(target=is_rich_label)\n",
    "class_train.head(1)\n",
    "ct_x = class_train.drop(\"target\",axis = 1)\n",
    "ct_y = class_train[\"target\"]\n",
    "\n",
    "x_train,x_valid,y_train,y_valid = train_test_split(ct_x,ct_y,random_state=7778)"
   ]
  },
  {
   "cell_type": "code",
   "execution_count": 24,
   "metadata": {},
   "outputs": [],
   "source": [
    "pre_step = [\n",
    "            (\"drop_id\",drop_id()),\n",
    "            (\"parse_area\",parse_area_size()),\n",
    "            (\"parse_room\",parse_rooms()),\n",
    "            (\"parse_old\",parse_how_old()),\n",
    "            (\"height_enc\",height_encoder()),\n",
    "            (\"ex_dist\",extract_district()),\n",
    "            (\"label_dist\",district_encoder()),\n",
    "            (\"acc_ext\",access_extractor()),\n",
    "            (\"parking_encoder\",parking_encoder()),\n",
    "            (\"drop_unnecessary\",drop_unnecessary())\n",
    "]\n",
    "\n",
    "\n",
    "m1 = [\n",
    "    (\"pre\", Pipeline(steps = pre_step)),\n",
    "    (\"xgb\",xgb.XGBClassifier(max_depth=8,min_child_weight=0))\n",
    "]\n",
    "m2 = [\n",
    "    (\"pre\", Pipeline(steps = pre_step)),\n",
    "    (\"rfr\",RandomForestClassifier())\n",
    "]\n",
    "m3 = [\n",
    "    (\"pre\", Pipeline(steps = pre_step)),\n",
    "    (\"lgi\",LogisticRegression())\n",
    "]\n",
    "\n",
    "boost = Pipeline(steps=m1)\n",
    "forest = Pipeline(steps = m2)\n",
    "logistic = Pipeline(steps = m3)"
   ]
  },
  {
   "cell_type": "code",
   "execution_count": 25,
   "metadata": {},
   "outputs": [],
   "source": [
    "def score(model,x_valid,y_valid):\n",
    "    temp = model.predict(x_valid)\n",
    "    print(mean_absolute_error(temp,y_valid))"
   ]
  },
  {
   "cell_type": "code",
   "execution_count": 26,
   "metadata": {},
   "outputs": [
    {
     "name": "stderr",
     "output_type": "stream",
     "text": [
      "/Users/kakeru/PycharmProjects/main_env/lib/python3.7/site-packages/xgboost/core.py:587: FutureWarning: Series.base is deprecated and will be removed in a future version\n",
      "  if getattr(data, 'base', None) is not None and \\\n"
     ]
    },
    {
     "name": "stdout",
     "output_type": "stream",
     "text": [
      "[01:20:16] WARNING: src/objective/regression_obj.cu:152: reg:linear is now deprecated in favor of reg:squarederror.\n",
      "0.034228836169658605\n"
     ]
    }
   ],
   "source": [
    "boost.fit(x_train,y_train)\n",
    "score(boost,x_valid,y_valid)"
   ]
  },
  {
   "cell_type": "code",
   "execution_count": 27,
   "metadata": {},
   "outputs": [
    {
     "name": "stderr",
     "output_type": "stream",
     "text": [
      "/Users/kakeru/PycharmProjects/main_env/lib/python3.7/site-packages/sklearn/ensemble/forest.py:245: FutureWarning: The default value of n_estimators will change from 10 in version 0.20 to 100 in 0.22.\n",
      "  \"10 in version 0.20 to 100 in 0.22.\", FutureWarning)\n"
     ]
    },
    {
     "name": "stdout",
     "output_type": "stream",
     "text": [
      "0.030261820030503303\n"
     ]
    }
   ],
   "source": [
    "forest.fit(x_train,y_train)\n",
    "score(forest,x_valid,y_valid)"
   ]
  },
  {
   "cell_type": "code",
   "execution_count": 28,
   "metadata": {},
   "outputs": [
    {
     "name": "stderr",
     "output_type": "stream",
     "text": [
      "/Users/kakeru/PycharmProjects/main_env/lib/python3.7/site-packages/sklearn/linear_model/logistic.py:432: FutureWarning: Default solver will be changed to 'lbfgs' in 0.22. Specify a solver to silence this warning.\n",
      "  FutureWarning)\n"
     ]
    },
    {
     "name": "stdout",
     "output_type": "stream",
     "text": [
      "0.03126588713777326\n"
     ]
    }
   ],
   "source": [
    "logistic.fit(x_train,y_train)\n",
    "score(logistic,x_valid,y_valid)"
   ]
  },
  {
   "cell_type": "code",
   "execution_count": 75,
   "metadata": {},
   "outputs": [],
   "source": [
    "def ensemble(models,x_valid,y_valid):\n",
    "    p = []\n",
    "    predict = [0 for i in range(len(x_valid))]\n",
    "    hoge = [0 for i in range(len(x_valid))]\n",
    "    for m in models:\n",
    "        p.append(m.predict(x_valid))\n",
    "    for i in range(len(x_valid)):\n",
    "        temp = 0\n",
    "        for j in range(len(models)):\n",
    "            temp += p[j][i]/3\n",
    "        hoge[i] = temp\n",
    "        if temp > 0.9:\n",
    "            predict[i] = 1\n",
    "        else:\n",
    "            predict[i] = 0\n",
    "    predict = np.array(predict,dtype=np.int64)\n",
    "    print(accuracy_score(predict,y_valid))\n",
    "    return hoge"
   ]
  },
  {
   "cell_type": "code",
   "execution_count": 76,
   "metadata": {},
   "outputs": [
    {
     "name": "stdout",
     "output_type": "stream",
     "text": [
      "0.9641586171835282\n"
     ]
    }
   ],
   "source": [
    "hoge = ensemble([boost,forest,logistic],x_valid,y_valid)"
   ]
  },
  {
   "cell_type": "code",
   "execution_count": 62,
   "metadata": {},
   "outputs": [
    {
     "data": {
      "text/plain": [
       "<matplotlib.axes._subplots.AxesSubplot at 0x131404290>"
      ]
     },
     "execution_count": 62,
     "metadata": {},
     "output_type": "execute_result"
    },
    {
     "data": {
      "image/png": "[encoded data removed]",
      "text/plain": [
       "<Figure size 432x288 with 1 Axes>"
      ]
     },
     "metadata": {
      "needs_background": "light"
     },
     "output_type": "display_data"
    }
   ],
   "source": [
    "hoge = pd.Series(np.array(hoge))\n",
    "hoge.plot.box()"
   ]
  },
  {
   "cell_type": "code",
   "execution_count": 31,
   "metadata": {},
   "outputs": [
    {
     "name": "stdout",
     "output_type": "stream",
     "text": [
      "[0.0007144610087076823, -0.00025725364685058594, 0.0006190041700998942, 0.00018719832102457681, -0.00021771589914957681, 0.0007749895254770914, 7.243951161702474e-05, -0.00014358758926391602, 0.0003699461619059245, 2.7994314829508465e-05, -0.0003967682520548503, 0.6299558162689209, 0.00207476814587911, -4.09086545308431e-05, -0.0001777807871500651, 0.19175595641136167, 1.0226552486419678, 0.19264113505681354, -0.00039426485697428387, 0.000114897886912028]\n",
      "0.9806812404677173\n"
     ]
    }
   ],
   "source": [
    "ensemble([boost,forest,logistic],x_valid,y_valid)"
   ]
  },
  {
   "cell_type": "code",
   "execution_count": 115,
   "metadata": {},
   "outputs": [
    {
     "name": "stdout",
     "output_type": "stream",
     "text": [
      "0.9142094560244026\n"
     ]
    }
   ],
   "source": [
    "ensemble([forest],x_valid,y_valid)"
   ]
  },
  {
   "cell_type": "code",
   "execution_count": 116,
   "metadata": {},
   "outputs": [
    {
     "name": "stdout",
     "output_type": "stream",
     "text": [
      "0.9142094560244026\n"
     ]
    }
   ],
   "source": [
    "ensemble([logistic],x_valid,y_valid)"
   ]
  },
  {
   "cell_type": "code",
   "execution_count": 117,
   "metadata": {},
   "outputs": [
    {
     "name": "stdout",
     "output_type": "stream",
     "text": [
      "0.9142094560244026\n"
     ]
    }
   ],
   "source": [
    "ensemble([boost],x_valid,y_valid)"
   ]
  },
  {
   "cell_type": "code",
   "execution_count": null,
   "metadata": {},
   "outputs": [],
   "source": []
  }
 ],
 "metadata": {
  "kernelspec": {
   "display_name": "Python 3",
   "language": "python",
   "name": "python3"
  },
  "language_info": {
   "codemirror_mode": {
    "name": "ipython",
    "version": 3
   },
   "file_extension": ".py",
   "mimetype": "text/x-python",
   "name": "python",
   "nbconvert_exporter": "python",
   "pygments_lexer": "ipython3",
   "version": "3.7.4"
  }
 },
 "nbformat": 4,
 "nbformat_minor": 4
}
