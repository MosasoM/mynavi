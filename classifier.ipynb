{
 "cells": [
  {
   "cell_type": "code",
   "execution_count": 1,
   "metadata": {},
   "outputs": [
    {
     "name": "stderr",
     "output_type": "stream",
     "text": [
      "Using TensorFlow backend.\n"
     ]
    }
   ],
   "source": [
    "import sys\n",
    "sys.path.append(\"./\")\n",
    "from my_class import *\n",
    "from sklearn.preprocessing import OneHotEncoder,LabelEncoder\n",
    "from sklearn.pipeline import Pipeline\n",
    "from xgboost import XGBRegressor\n",
    "from sklearn.ensemble import RandomForestRegressor\n",
    "from sklearn.linear_model import LogisticRegression\n",
    "from sklearn.metrics import accuracy_score\n",
    "from sklearn.metrics import mean_absolute_error"
   ]
  },
  {
   "cell_type": "code",
   "execution_count": 2,
   "metadata": {},
   "outputs": [],
   "source": [
    "train = pd.read_csv(\"./train.csv\")\n",
    "train = train.dropna(subset=[\"賃料\"])\n",
    "train = train.drop(20926)\n",
    "temp = train[\"賃料\"].values\n",
    "threshold = 300000\n",
    "is_rich_label = [0 for i in range(len(temp))]\n",
    "for i in range(len(temp)):\n",
    "    if temp[i] > threshold:\n",
    "        is_rich_label[i] = 1\n",
    "class_train = train.drop(\"賃料\",axis = 1)\n",
    "class_train = class_train.assign(target=is_rich_label)\n",
    "class_train.head(1)\n",
    "ct_x = class_train.drop(\"target\",axis = 1)\n",
    "ct_y = class_train[\"target\"]\n",
    "\n",
    "x_train,x_valid,y_train,y_valid = train_test_split(ct_x,ct_y,random_state=7778)"
   ]
  },
  {
   "cell_type": "code",
   "execution_count": 3,
   "metadata": {},
   "outputs": [],
   "source": [
    "pre_step = [\n",
    "    (\"drop_id\",drop_id()),\n",
    "    (\"parse_area\",parse_area_size()),\n",
    "    (\"parse_room\",parse_rooms()),\n",
    "    (\"parse_old\",parse_how_old()),\n",
    "    (\"str_label\",structure_label_encoder()),\n",
    "    (\"height_enc\",height_encoder()),\n",
    "    (\"dir_enc\",direction_encoder()),\n",
    "    (\"ex_dist\",extract_district()),\n",
    "    (\"label_dist\",district_encoder()),\n",
    "    (\"acc_ext\",access_extractor()),\n",
    "    (\"train_enc\",train_encoder()),\n",
    "    (\"bath_encoder\",bath_encoder()),\n",
    "    (\"kit_encoder\",kitchin_encoder()),\n",
    "    (\"fac_encoder\",fac_encoder()),\n",
    "    (\"info_encoder\",info_encoder()),\n",
    "    (\"parking_encoder\",parking_encoder()),\n",
    "    (\"env_encoder\",env_encoder()),\n",
    "    (\"drop_unnecessary\",drop_unnecessary()),\n",
    "]\n",
    "\n",
    "\n",
    "m1 = [\n",
    "    (\"pre\", Pipeline(steps = pre_step)),\n",
    "    (\"xgb\",xgb.XGBRegressor(max_depth=8,min_child_weight=0))\n",
    "]\n",
    "m2 = [\n",
    "    (\"pre\", Pipeline(steps = pre_step)),\n",
    "    (\"rfr\",RandomForestRegressor())\n",
    "]\n",
    "m3 = [\n",
    "    (\"pre\", Pipeline(steps = pre_step)),\n",
    "    (\"lgi\",LogisticRegression())\n",
    "]\n",
    "\n",
    "boost = Pipeline(steps=m1)\n",
    "forest = Pipeline(steps = m2)\n",
    "logistic = Pipeline(steps = m3)"
   ]
  },
  {
   "cell_type": "code",
   "execution_count": 4,
   "metadata": {},
   "outputs": [],
   "source": [
    "def score(model,x_valid,y_valid):\n",
    "    temp = model.predict(x_valid)\n",
    "    print(mean_absolute_error(temp,y_valid))"
   ]
  },
  {
   "cell_type": "code",
   "execution_count": 5,
   "metadata": {},
   "outputs": [
    {
     "name": "stderr",
     "output_type": "stream",
     "text": [
      "/Users/kakeru/PycharmProjects/main_env/lib/python3.7/site-packages/xgboost/core.py:587: FutureWarning: Series.base is deprecated and will be removed in a future version\n",
      "  if getattr(data, 'base', None) is not None and \\\n"
     ]
    },
    {
     "name": "stdout",
     "output_type": "stream",
     "text": [
      "[15:20:59] WARNING: src/objective/regression_obj.cu:152: reg:linear is now deprecated in favor of reg:squarederror.\n",
      "0.011252230911098523\n"
     ]
    }
   ],
   "source": [
    "boost.fit(x_train,y_train)\n",
    "score(boost,x_valid,y_valid)"
   ]
  },
  {
   "cell_type": "code",
   "execution_count": 6,
   "metadata": {},
   "outputs": [
    {
     "name": "stderr",
     "output_type": "stream",
     "text": [
      "/Users/kakeru/PycharmProjects/main_env/lib/python3.7/site-packages/sklearn/ensemble/forest.py:245: FutureWarning: The default value of n_estimators will change from 10 in version 0.20 to 100 in 0.22.\n",
      "  \"10 in version 0.20 to 100 in 0.22.\", FutureWarning)\n"
     ]
    },
    {
     "name": "stdout",
     "output_type": "stream",
     "text": [
      "0.012608032536858159\n"
     ]
    }
   ],
   "source": [
    "forest.fit(x_train,y_train)\n",
    "score(forest,x_valid,y_valid)"
   ]
  },
  {
   "cell_type": "code",
   "execution_count": 7,
   "metadata": {},
   "outputs": [
    {
     "name": "stderr",
     "output_type": "stream",
     "text": [
      "/Users/kakeru/PycharmProjects/main_env/lib/python3.7/site-packages/sklearn/linear_model/logistic.py:432: FutureWarning: Default solver will be changed to 'lbfgs' in 0.22. Specify a solver to silence this warning.\n",
      "  FutureWarning)\n"
     ]
    },
    {
     "name": "stdout",
     "output_type": "stream",
     "text": [
      "0.009659379766141332\n"
     ]
    }
   ],
   "source": [
    "logistic.fit(x_train,y_train)\n",
    "score(logistic,x_valid,y_valid)"
   ]
  },
  {
   "cell_type": "code",
   "execution_count": null,
   "metadata": {},
   "outputs": [],
   "source": []
  },
  {
   "cell_type": "code",
   "execution_count": 8,
   "metadata": {},
   "outputs": [],
   "source": [
    "def ensemble(models,x_valid,y_valid):\n",
    "    p = []\n",
    "    predict = [0 for i in range(len(x_valid))]\n",
    "    for m in models:\n",
    "        p.append(m.predict(x_valid))\n",
    "    for i in range(len(x_valid)):\n",
    "        temp = 0\n",
    "        for j in range(len(models)):\n",
    "            temp += p[j][i]/3\n",
    "        if temp > 0.5:\n",
    "            predict[i] = 1\n",
    "        else:\n",
    "            predict[i] = 0\n",
    "    predict = np.array(predict,dtype=np.int64)\n",
    "    print(accuracy_score(predict,y_valid))"
   ]
  },
  {
   "cell_type": "code",
   "execution_count": 9,
   "metadata": {},
   "outputs": [
    {
     "name": "stdout",
     "output_type": "stream",
     "text": [
      "0.9931367564819522\n"
     ]
    }
   ],
   "source": [
    "ensemble([boost,forest,logistic],x_valid,y_valid)"
   ]
  },
  {
   "cell_type": "code",
   "execution_count": 10,
   "metadata": {},
   "outputs": [
    {
     "name": "stdout",
     "output_type": "stream",
     "text": [
      "0.9931367564819522\n"
     ]
    }
   ],
   "source": [
    "ensemble([boost,forest,logistic],x_valid,y_valid)"
   ]
  },
  {
   "cell_type": "code",
   "execution_count": 115,
   "metadata": {},
   "outputs": [
    {
     "name": "stdout",
     "output_type": "stream",
     "text": [
      "0.9142094560244026\n"
     ]
    }
   ],
   "source": [
    "ensemble([forest],x_valid,y_valid)"
   ]
  },
  {
   "cell_type": "code",
   "execution_count": 116,
   "metadata": {},
   "outputs": [
    {
     "name": "stdout",
     "output_type": "stream",
     "text": [
      "0.9142094560244026\n"
     ]
    }
   ],
   "source": [
    "ensemble([logistic],x_valid,y_valid)"
   ]
  },
  {
   "cell_type": "code",
   "execution_count": 117,
   "metadata": {},
   "outputs": [
    {
     "name": "stdout",
     "output_type": "stream",
     "text": [
      "0.9142094560244026\n"
     ]
    }
   ],
   "source": [
    "ensemble([boost],x_valid,y_valid)"
   ]
  },
  {
   "cell_type": "code",
   "execution_count": null,
   "metadata": {},
   "outputs": [],
   "source": []
  }
 ],
 "metadata": {
  "kernelspec": {
   "display_name": "Python 3",
   "language": "python",
   "name": "python3"
  },
  "language_info": {
   "codemirror_mode": {
    "name": "ipython",
    "version": 3
   },
   "file_extension": ".py",
   "mimetype": "text/x-python",
   "name": "python",
   "nbconvert_exporter": "python",
   "pygments_lexer": "ipython3",
   "version": "3.7.4"
  }
 },
 "nbformat": 4,
 "nbformat_minor": 4
}
